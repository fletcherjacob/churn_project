{
 "cells": [
  {
   "cell_type": "code",
   "execution_count": 102,
   "metadata": {},
   "outputs": [],
   "source": [
    "import pandas as pd\n",
    "import comet_ml\n",
    "\n",
    "\n",
    "from sklearn.model_selection import train_test_split, GridSearchCV\n",
    "from sklearn.ensemble import RandomForestClassifier\n",
    "from  decouple import Config,RepositoryEnv\n",
    "from sklearn.metrics import confusion_matrix, f1_score, precision_score, recall_score,ConfusionMatrixDisplay, classification_report\n",
    "from sklearn.preprocessing import MinMaxScaler\n",
    "\n",
    "\n",
    "config = Config(RepositoryEnv(\".env\"))"
   ]
  },
  {
   "cell_type": "code",
   "execution_count": 105,
   "metadata": {},
   "outputs": [
    {
     "name": "stderr",
     "output_type": "stream",
     "text": [
      "\u001b[1;38;5;214mCOMET WARNING:\u001b[0m To get all data logged automatically, import comet_ml before the following modules: sklearn.\n",
      "\u001b[1;38;5;214mCOMET WARNING:\u001b[0m As you are running in a Jupyter environment, you will need to call `experiment.end()` when finished to ensure all metrics and code are logged before exiting.\n",
      "\u001b[1;38;5;39mCOMET INFO:\u001b[0m Experiment is live on comet.com https://www.comet.com/dataspelunker/sparkify/1f63dba3e92b406d8a3e7894dc8772af\n",
      "\n"
     ]
    }
   ],
   "source": [
    "def iniate_comet():\n",
    "    experiment = comet_ml.Experiment(\n",
    "  api_key= config(\"COMET_API\"),\n",
    "  project_name=config(\"PROJECT_NAME\"),\n",
    "  workspace=config(\"WORKSPACE\")\n",
    ")\n",
    "    return experiment\n",
    "    \n",
    "experiment = iniate_comet()\n",
    "    "
   ]
  },
  {
   "cell_type": "code",
   "execution_count": 107,
   "metadata": {},
   "outputs": [],
   "source": [
    "\n",
    "def normalize_dataframe(df, columns_to_normalize=None):\n",
    "    if columns_to_normalize is None:\n",
    "        columns_to_normalize = df.select_dtypes(include=['float64', 'int64']).columns.tolist()\n",
    "\n",
    "    scaler = MinMaxScaler()\n",
    "    df[columns_to_normalize] = scaler.fit_transform(df[columns_to_normalize])\n",
    "\n",
    "    return df\n",
    "\n",
    "def plot_conf_matrix(y_test,preds):\n",
    "    cm = confusion_matrix(y_test,preds)\n",
    "    disp = ConfusionMatrixDisplay(confusion_matrix=cm)\n",
    "    disp.plot()"
   ]
  },
  {
   "cell_type": "code",
   "execution_count": 108,
   "metadata": {},
   "outputs": [
    {
     "name": "stdout",
     "output_type": "stream",
     "text": [
      "(22249, 41)\n"
     ]
    },
    {
     "data": {
      "text/plain": [
       "label\n",
       "0    17247\n",
       "1     5002\n",
       "Name: count, dtype: int64"
      ]
     },
     "execution_count": 108,
     "metadata": {},
     "output_type": "execute_result"
    }
   ],
   "source": [
    "\n",
    "# Read the CSV file into a DataFrame\n",
    "file_path = \"/Users/jacobfletcher/git/churn_project/data/processed_features_2024-01-17 22:27:23.554129.csv\"\n",
    "df = pd.read_csv(file_path)\n",
    "\n",
    "# Drop the 'Unnamed: 0' column\n",
    "df = df.drop(['Unnamed: 0'], axis=1)\n",
    "df = df.fillna(0)\n",
    "df = df.drop('userId', axis=1)\n",
    "print(df.shape)\n",
    "df['label'].value_counts()"
   ]
  },
  {
   "cell_type": "code",
   "execution_count": 109,
   "metadata": {},
   "outputs": [
    {
     "data": {
      "text/plain": [
       "Index(['label', 'count', 'avg_daily_listens', 'level_flag', 'pos_interactions',\n",
       "       'neg_interactions', 'unique_locations', 'distinct_artist', 'About',\n",
       "       'Add Friend', 'Add to Playlist', 'Downgrade', 'Error', 'Help', 'Home',\n",
       "       'Login', 'Logout', 'Register', 'Roll Advert', 'Save Settings',\n",
       "       'Settings', 'Submit Downgrade', 'Submit Registration', 'Submit Upgrade',\n",
       "       'Thumbs Down', 'Thumbs Up', 'Upgrade', 'device_iOS', 'device_Linux',\n",
       "       'device_Other', 'device_Ubuntu', 'device_Mac OS X', 'device_Windows',\n",
       "       'browser_Firefox', 'browser_Safari', 'browser_Other',\n",
       "       'browser_Chromium', 'browser_Google', 'browser_Mobile Safari',\n",
       "       'browser_IE', 'browser_Chrome'],\n",
       "      dtype='object')"
      ]
     },
     "execution_count": 109,
     "metadata": {},
     "output_type": "execute_result"
    }
   ],
   "source": [
    "df.columns"
   ]
  },
  {
   "cell_type": "code",
   "execution_count": 110,
   "metadata": {},
   "outputs": [],
   "source": [
    "\n",
    "# Split the DataFrame into training and testing sets\n",
    "X_train, X_test, y_train, y_test = train_test_split(df.drop('label', axis=1), df['label'], train_size=0.8)\n",
    "\n",
    "X_test = normalize_dataframe(X_test)\n",
    "X_train = normalize_dataframe(X_train)\n"
   ]
  },
  {
   "cell_type": "code",
   "execution_count": 111,
   "metadata": {},
   "outputs": [],
   "source": [
    "param_grid = {\n",
    "    'n_estimators': [50, 100, 200,300,350],\n",
    "    'max_depth': [None, 10, 20,25,30],\n",
    "    'min_samples_split': [1,2, 5, 10,15,20],\n",
    "}\n",
    "\n",
    "\n"
   ]
  },
  {
   "cell_type": "code",
   "execution_count": 112,
   "metadata": {},
   "outputs": [
    {
     "name": "stderr",
     "output_type": "stream",
     "text": [
      "/Users/jacobfletcher/anaconda3/envs/sparkify_churn/lib/python3.10/site-packages/sklearn/model_selection/_validation.py:425: FitFailedWarning: \n",
      "125 fits failed out of a total of 750.\n",
      "The score on these train-test partitions for these parameters will be set to nan.\n",
      "If these failures are not expected, you can try to debug them by setting error_score='raise'.\n",
      "\n",
      "Below are more details about the failures:\n",
      "--------------------------------------------------------------------------------\n",
      "125 fits failed with the following error:\n",
      "Traceback (most recent call last):\n",
      "  File \"/Users/jacobfletcher/anaconda3/envs/sparkify_churn/lib/python3.10/site-packages/sklearn/model_selection/_validation.py\", line 729, in _fit_and_score\n",
      "    estimator.fit(X_train, y_train, **fit_params)\n",
      "  File \"/Users/jacobfletcher/anaconda3/envs/sparkify_churn/lib/python3.10/site-packages/sklearn/base.py\", line 1145, in wrapper\n",
      "    estimator._validate_params()\n",
      "  File \"/Users/jacobfletcher/anaconda3/envs/sparkify_churn/lib/python3.10/site-packages/sklearn/base.py\", line 638, in _validate_params\n",
      "    validate_parameter_constraints(\n",
      "  File \"/Users/jacobfletcher/anaconda3/envs/sparkify_churn/lib/python3.10/site-packages/sklearn/utils/_param_validation.py\", line 96, in validate_parameter_constraints\n",
      "    raise InvalidParameterError(\n",
      "sklearn.utils._param_validation.InvalidParameterError: The 'min_samples_split' parameter of RandomForestClassifier must be an int in the range [2, inf) or a float in the range (0.0, 1.0]. Got 1 instead.\n",
      "\n",
      "  warnings.warn(some_fits_failed_message, FitFailedWarning)\n",
      "/Users/jacobfletcher/anaconda3/envs/sparkify_churn/lib/python3.10/site-packages/sklearn/model_selection/_search.py:979: UserWarning: One or more of the test scores are non-finite: [       nan        nan        nan        nan        nan 0.2151376\n",
      " 0.21201665 0.20435686 0.20939021 0.20926899 0.22215779 0.20688906\n",
      " 0.2010369  0.20062532 0.20425723 0.210778   0.20226071 0.20158992\n",
      " 0.19871872 0.19756816 0.2029502  0.19253493 0.1868835  0.18937929\n",
      " 0.18904503 0.18348548 0.1831737  0.1773817  0.17433431 0.17469093\n",
      "        nan        nan        nan        nan        nan 0.08499189\n",
      " 0.07837368 0.07163286 0.0729542  0.07158121 0.07997072 0.07457465\n",
      " 0.07150409 0.06937571 0.06983673 0.09046629 0.0786062  0.07512475\n",
      " 0.07277512 0.07105735 0.08581148 0.07560595 0.07445464 0.07306327\n",
      " 0.07263752 0.07598279 0.07346363 0.07260982 0.07314357 0.07263778\n",
      "        nan        nan        nan        nan        nan 0.20649871\n",
      " 0.19816526 0.19504988 0.19643903 0.19163714 0.21137774 0.19658771\n",
      " 0.20188826 0.19829714 0.19588514 0.20542419 0.19475654 0.18775507\n",
      " 0.18910631 0.19005973 0.19742692 0.1900813  0.17931149 0.18464193\n",
      " 0.1818505  0.17771613 0.17849924 0.17184699 0.17431776 0.17241729\n",
      "        nan        nan        nan        nan        nan 0.22429081\n",
      " 0.21582444 0.20697378 0.20102483 0.20309717 0.21613268 0.21230665\n",
      " 0.19813725 0.19566538 0.19493722 0.20815858 0.20669065 0.20242107\n",
      " 0.19621453 0.19394307 0.20122359 0.19249255 0.1885328  0.18857003\n",
      " 0.18550649 0.17824041 0.17424833 0.1754492  0.17724386 0.17781171\n",
      "        nan        nan        nan        nan        nan 0.21936334\n",
      " 0.20834338 0.19801071 0.19869862 0.20354555 0.21816182 0.20856746\n",
      " 0.20189419 0.20421082 0.20086568 0.20856791 0.20248981 0.20071118\n",
      " 0.20163683 0.19997364 0.19846325 0.19400134 0.18934844 0.1900392\n",
      " 0.19148288 0.18347296 0.18125959 0.1764806  0.17369725 0.1722978 ]\n",
      "  warnings.warn(\n"
     ]
    }
   ],
   "source": [
    "# Initialize the Random Forest Classifier\n",
    "rf_classifier = RandomForestClassifier(random_state=42)\n",
    "\n",
    "cv = 5\n",
    "scoring = \"f1\"\n",
    "\n",
    "\n",
    "# Create GridSearchCV\n",
    "grid_search = GridSearchCV(rf_classifier, param_grid=param_grid,scoring=scoring, cv=cv, n_jobs=-1)\n",
    "\n",
    "# Fit the grid search to the data\n",
    "grid_search.fit(X_train, y_train)\n",
    "\n",
    "# Get the best estimator from the grid search\n",
    "best_rf_classifier = grid_search.best_estimator_\n",
    "preds = best_rf_classifier.predict(X_test)"
   ]
  },
  {
   "cell_type": "code",
   "execution_count": 113,
   "metadata": {},
   "outputs": [
    {
     "name": "stdout",
     "output_type": "stream",
     "text": [
      "{'max_depth': 25, 'min_samples_split': 2, 'n_estimators': 50}\n",
      "              precision    recall  f1-score   support\n",
      "\n",
      "           0       0.97      0.79      0.87      4208\n",
      "           1       0.14      0.60      0.23       242\n",
      "\n",
      "    accuracy                           0.78      4450\n",
      "   macro avg       0.56      0.69      0.55      4450\n",
      "weighted avg       0.93      0.78      0.84      4450\n",
      "\n"
     ]
    }
   ],
   "source": [
    "best_params = grid_search.best_params_\n",
    "print(best_params)\n",
    "print(classification_report(preds,y_test))"
   ]
  },
  {
   "cell_type": "code",
   "execution_count": 114,
   "metadata": {},
   "outputs": [
    {
     "data": {
      "text/plain": [
       "<sklearn.metrics._plot.confusion_matrix.ConfusionMatrixDisplay at 0x31ddd7f40>"
      ]
     },
     "execution_count": 114,
     "metadata": {},
     "output_type": "execute_result"
    },
    {
     "data": {
      "image/png": "[encoded data removed]",
      "text/plain": [
       "<Figure size 640x480 with 2 Axes>"
      ]
     },
     "metadata": {},
     "output_type": "display_data"
    }
   ],
   "source": [
    "cm = confusion_matrix(preds,y_test)\n",
    "ConfusionMatrixDisplay(cm).plot()\n"
   ]
  },
  {
   "cell_type": "code",
   "execution_count": 115,
   "metadata": {},
   "outputs": [
    {
     "name": "stdout",
     "output_type": "stream",
     "text": [
      "{'f1': 0.2289348171701113, 'recall': 0.14173228346456693, 'precision': 0.5950413223140496}\n"
     ]
    }
   ],
   "source": [
    "f1 = f1_score(y_pred=preds, y_true=y_test)\n",
    "precision = precision_score(y_pred=preds, y_true=y_test)\n",
    "recall = recall_score(y_pred=preds, y_true=y_test)\n",
    "metrics = {\"f1\": f1, \"recall\": recall, \"precision\": precision}\n",
    "\n",
    "print(metrics)\n",
    "\n",
    "\n",
    "params = {\n",
    "    \"param_grid\": str(param_grid),\n",
    "    \"best_param\": best_params,\n",
    "    \"model_type\": \"Random Forrest\",\n",
    "    \"Cross Validation\": cv,\n",
    "    \"scoring\": scoring,\n",
    "    \"data_source\": file_path\n",
    "}"
   ]
  },
  {
   "cell_type": "code",
   "execution_count": 116,
   "metadata": {},
   "outputs": [],
   "source": [
    "\n",
    "experiment.log_metrics(metrics)\n",
    "experiment.log_parameters(params)\n",
    "experiment.log_confusion_matrix(\n",
    "    y_true = y_test.tolist(),\n",
    "    y_predicted = preds.tolist(),\n",
    "    step=0,\n",
    "    title=\"Confusion Matrix\",\n",
    "    file_name=\"confusion-matrix-%03d.json\" % 0,\n",
    ");\n"
   ]
  },
  {
   "cell_type": "code",
   "execution_count": 117,
   "metadata": {},
   "outputs": [
    {
     "name": "stderr",
     "output_type": "stream",
     "text": [
      "\u001b[1;38;5;39mCOMET INFO:\u001b[0m ---------------------------------------------------------------------------------------\n",
      "\u001b[1;38;5;39mCOMET INFO:\u001b[0m Comet.ml Experiment Summary\n",
      "\u001b[1;38;5;39mCOMET INFO:\u001b[0m ---------------------------------------------------------------------------------------\n",
      "\u001b[1;38;5;39mCOMET INFO:\u001b[0m   Data:\n",
      "\u001b[1;38;5;39mCOMET INFO:\u001b[0m     display_summary_level : 1\n",
      "\u001b[1;38;5;39mCOMET INFO:\u001b[0m     url                   : https://www.comet.com/dataspelunker/sparkify/1f63dba3e92b406d8a3e7894dc8772af\n",
      "\u001b[1;38;5;39mCOMET INFO:\u001b[0m   Metrics:\n",
      "\u001b[1;38;5;39mCOMET INFO:\u001b[0m     f1        : 0.2289348171701113\n",
      "\u001b[1;38;5;39mCOMET INFO:\u001b[0m     precision : 0.5950413223140496\n",
      "\u001b[1;38;5;39mCOMET INFO:\u001b[0m     recall    : 0.14173228346456693\n",
      "\u001b[1;38;5;39mCOMET INFO:\u001b[0m   Others:\n",
      "\u001b[1;38;5;39mCOMET INFO:\u001b[0m     hasNestedParams : True\n",
      "\u001b[1;38;5;39mCOMET INFO:\u001b[0m   Parameters:\n",
      "\u001b[1;38;5;39mCOMET INFO:\u001b[0m     Cross Validation             : 5\n",
      "\u001b[1;38;5;39mCOMET INFO:\u001b[0m     best_param|max_depth         : 25\n",
      "\u001b[1;38;5;39mCOMET INFO:\u001b[0m     best_param|min_samples_split : 2\n",
      "\u001b[1;38;5;39mCOMET INFO:\u001b[0m     best_param|n_estimators      : 50\n",
      "\u001b[1;38;5;39mCOMET INFO:\u001b[0m     data_source                  : /Users/jacobfletcher/git/churn_project/data/processed_features_2024-01-17 22:27:23.554129.csv\n",
      "\u001b[1;38;5;39mCOMET INFO:\u001b[0m     model_type                   : Random Forrest\n",
      "\u001b[1;38;5;39mCOMET INFO:\u001b[0m     param_grid                   : {'n_estimators': [50, 100, 200, 300, 350], 'max_depth': [None, 10, 20, 25, 30], 'min_samples_split': [1, 2, 5, 10, 15, 20]}\n",
      "\u001b[1;38;5;39mCOMET INFO:\u001b[0m     scoring                      : f1\n",
      "\u001b[1;38;5;39mCOMET INFO:\u001b[0m   Uploads:\n",
      "\u001b[1;38;5;39mCOMET INFO:\u001b[0m     conda-environment-definition : 1\n",
      "\u001b[1;38;5;39mCOMET INFO:\u001b[0m     conda-info                   : 1\n",
      "\u001b[1;38;5;39mCOMET INFO:\u001b[0m     conda-specification          : 1\n",
      "\u001b[1;38;5;39mCOMET INFO:\u001b[0m     confusion-matrix             : 1\n",
      "\u001b[1;38;5;39mCOMET INFO:\u001b[0m     environment details          : 1\n",
      "\u001b[1;38;5;39mCOMET INFO:\u001b[0m     filename                     : 1\n",
      "\u001b[1;38;5;39mCOMET INFO:\u001b[0m     git metadata                 : 1\n",
      "\u001b[1;38;5;39mCOMET INFO:\u001b[0m     git-patch (uncompressed)     : 1 (2.06 MB)\n",
      "\u001b[1;38;5;39mCOMET INFO:\u001b[0m     installed packages           : 1\n",
      "\u001b[1;38;5;39mCOMET INFO:\u001b[0m     notebook                     : 1\n",
      "\u001b[1;38;5;39mCOMET INFO:\u001b[0m     source_code                  : 1\n",
      "\u001b[1;38;5;39mCOMET INFO:\u001b[0m \n",
      "\u001b[1;38;5;214mCOMET WARNING:\u001b[0m To get all data logged automatically, import comet_ml before the following modules: sklearn.\n"
     ]
    }
   ],
   "source": [
    "\n",
    "experiment.end()"
   ]
  }
 ],
 "metadata": {
  "kernelspec": {
   "display_name": "sparkify_churn",
   "language": "python",
   "name": "python3"
  },
  "language_info": {
   "codemirror_mode": {
    "name": "ipython",
    "version": 3
   },
   "file_extension": ".py",
   "mimetype": "text/x-python",
   "name": "python",
   "nbconvert_exporter": "python",
   "pygments_lexer": "ipython3",
   "version": "3.10.13"
  }
 },
 "nbformat": 4,
 "nbformat_minor": 2
}
