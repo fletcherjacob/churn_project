{
 "cells": [
  {
   "cell_type": "code",
   "execution_count": 52,
   "metadata": {},
   "outputs": [],
   "source": [
    "import pandas as pd\n",
    "import numpy as np\n",
    "import matplotlib.pyplot as plt\n",
    "import seaborn as sns\n",
    "import networkx as nx\n",
    "import plotly.express as px\n",
    "\n",
    "\n",
    "# Used for exporting pandas tables \"pip install dataframe-image\"\n",
    "import dataframe_image as dfi\n",
    "\n",
    "import datetime\n",
    "\n",
    "import pyspark.pandas as ps\n",
    "from pyspark.sql import SparkSession, DataFrame\n",
    "from pyspark.sql.functions import col, from_unixtime, date_trunc, udf, lit\n",
    "from pyspark.sql.types import IntegerType, StringType\n",
    "from pyspark.sql import functions as F\n",
    "from pyspark.sql.window import Window"
   ]
  },
  {
   "cell_type": "code",
   "execution_count": 53,
   "metadata": {},
   "outputs": [],
   "source": [
    "try:\n",
    "    spark.stop()\n",
    "except NameError:\n",
    "    pass"
   ]
  },
  {
   "cell_type": "markdown",
   "metadata": {},
   "source": [
    "### Helper Functions\n",
    "\n",
    "Reusable Functions "
   ]
  },
  {
   "cell_type": "code",
   "execution_count": 54,
   "metadata": {},
   "outputs": [],
   "source": [
    "def save_df_image(df):\n",
    "    \"\"\"\n",
    "    Save DataFrame as an image with a colored table.\n",
    "\n",
    "    Parameters:\n",
    "    - df (pd.DataFrame): The DataFrame to be saved as an image.\n",
    "\n",
    "    Returns:\n",
    "    None\n",
    "    \"\"\"\n",
    "\n",
    "    # Create a figure and axis\n",
    "    fig, ax = plt.subplots(figsize=(8, 6))\n",
    "\n",
    "    # Hide the axes\n",
    "    ax.axis(\"off\")\n",
    "\n",
    "    # Plot the DataFrame as a table with alternating column colors\n",
    "    table = ax.table(\n",
    "        cellText=df.values,\n",
    "        colLabels=df.columns,\n",
    "        loc=\"center\",\n",
    "        cellLoc=\"center\",\n",
    "        colColours=[\"#6EC33C\", \"#913CC3\"] * len(df.columns),\n",
    "    )\n",
    "\n",
    "    # Adjust font size\n",
    "    table.auto_set_font_size(False)\n",
    "    table.set_fontsize(10)\n",
    "\n",
    "    # Save the figure as an image (e.g., PNG)\n",
    "    plt.savefig(\"table_image.png\", bbox_inches=\"tight\", pad_inches=0.5)\n",
    "\n",
    "\n",
    "def style_df(df):\n",
    "    # Set Colors\n",
    "    styles = [\n",
    "        {\n",
    "            \"selector\": \"th.col_heading\",\n",
    "            \"props\": [(\"background-color\", \"#14345a\"), (\"color\", \"white\")],\n",
    "        },\n",
    "        {\n",
    "            \"selector\": \"th.blank\",\n",
    "            \"props\": [(\"background-color\", \"#14345a\"), (\"color\", \"white\")],\n",
    "        },\n",
    "        {\n",
    "            \"selector\": \"tr:nth-child(even)\",\n",
    "            \"props\": [(\"background-color\", \"#002351\"), (\"color\", \"white\")],\n",
    "        },\n",
    "        {\n",
    "            \"selector\": \"tr:nth-child(odd)\",\n",
    "            \"props\": [(\"background-color\", \"#062c54\"), (\"color\", \"white\")],\n",
    "        },\n",
    "    ]\n",
    "\n",
    "    # Apply the styles to the DataFrame\n",
    "    styled_df = df.style.set_table_styles(styles)\n",
    "\n",
    "    return styled_df\n",
    "\n",
    "\n",
    "def flag_rows(df, column_name, check_list, flagged_column_name):\n",
    "    \"\"\"\n",
    "    Flag rows in a PySpark DataFrame based on whether the value in a specified column is in a given list.\n",
    "\n",
    "    Parameters:\n",
    "    - df (pyspark.sql.DataFrame): The PySpark DataFrame to be modified.\n",
    "    - column_name (str): The name of the column to check for values.\n",
    "    - check_list (list): The list of values to check against.\n",
    "    - flagged_column_name (str): The name of the new column to be created for the flags.\n",
    "\n",
    "    Returns:\n",
    "    pyspark.sql.DataFrame: The modified PySpark DataFrame with the new flagged column.\n",
    "\n",
    "    This function takes a PySpark DataFrame, a column name, a list of values, and a flagged column name. It then adds a new column to the DataFrame\n",
    "    that contains a flag (1 or 0) based on whether the values in the specified column are present in the given list.\n",
    "    \"\"\"\n",
    "\n",
    "    def check_list_udf(value):\n",
    "        return 1 if value in check_list else 0\n",
    "\n",
    "    check_list_udf = udf(check_list_udf, IntegerType())\n",
    "\n",
    "    df = df.withColumn(flagged_column_name, check_list_udf(df[column_name]))\n",
    "\n",
    "    return df"
   ]
  },
  {
   "cell_type": "code",
   "execution_count": 55,
   "metadata": {},
   "outputs": [],
   "source": [
    "# create a Spark session\n",
    "spark = SparkSession.builder.master(\"local[4]\").appName(\"Spark Churn\").getOrCreate()"
   ]
  },
  {
   "cell_type": "code",
   "execution_count": 56,
   "metadata": {},
   "outputs": [
    {
     "name": "stdout",
     "output_type": "stream",
     "text": [
      "root\n",
      " |-- artist: string (nullable = true)\n",
      " |-- auth: string (nullable = true)\n",
      " |-- firstName: string (nullable = true)\n",
      " |-- gender: string (nullable = true)\n",
      " |-- itemInSession: long (nullable = true)\n",
      " |-- lastName: string (nullable = true)\n",
      " |-- length: double (nullable = true)\n",
      " |-- level: string (nullable = true)\n",
      " |-- location: string (nullable = true)\n",
      " |-- method: string (nullable = true)\n",
      " |-- page: string (nullable = true)\n",
      " |-- registration: long (nullable = true)\n",
      " |-- sessionId: long (nullable = true)\n",
      " |-- song: string (nullable = true)\n",
      " |-- status: long (nullable = true)\n",
      " |-- ts: long (nullable = true)\n",
      " |-- userAgent: string (nullable = true)\n",
      " |-- userId: integer (nullable = true)\n",
      "\n"
     ]
    }
   ],
   "source": [
    "path = \"mini_sparkify_event_data.json\"\n",
    "psdf = spark.read.json(path)\n",
    "psdf.persist()\n",
    "\n",
    "# userId is a string and NULL values shows as empty strings not NULL\n",
    "psdf = psdf.withColumn(\"userId\", col(\"userId\").cast(\"int\"))\n",
    "psdf.printSchema()\n",
    "\n",
    "# Build Temp Table for Future sql queries\n",
    "psdf.createOrReplaceTempView(\"user_log\")"
   ]
  },
  {
   "cell_type": "code",
   "execution_count": 57,
   "metadata": {},
   "outputs": [
    {
     "name": "stdout",
     "output_type": "stream",
     "text": [
      "+--------------------+---------+---------+------+-------------+--------+---------+-----+--------------------+------+---------------+-------------+---------+--------------------+------+-------------+--------------------+------+\n",
      "|              artist|     auth|firstName|gender|itemInSession|lastName|   length|level|            location|method|           page| registration|sessionId|                song|status|           ts|           userAgent|userId|\n",
      "+--------------------+---------+---------+------+-------------+--------+---------+-----+--------------------+------+---------------+-------------+---------+--------------------+------+-------------+--------------------+------+\n",
      "|      Martha Tilston|Logged In|    Colin|     M|           50| Freeman|277.89016| paid|     Bakersfield, CA|   PUT|       NextSong|1538173362000|       29|           Rockpools|   200|1538352117000|Mozilla/5.0 (Wind...|    30|\n",
      "|    Five Iron Frenzy|Logged In|    Micah|     M|           79|    Long|236.09424| free|Boston-Cambridge-...|   PUT|       NextSong|1538331630000|        8|              Canada|   200|1538352180000|\"Mozilla/5.0 (Win...|     9|\n",
      "|        Adam Lambert|Logged In|    Colin|     M|           51| Freeman| 282.8273| paid|     Bakersfield, CA|   PUT|       NextSong|1538173362000|       29|   Time For Miracles|   200|1538352394000|Mozilla/5.0 (Wind...|    30|\n",
      "|              Enigma|Logged In|    Micah|     M|           80|    Long|262.71302| free|Boston-Cambridge-...|   PUT|       NextSong|1538331630000|        8|Knocking On Forbi...|   200|1538352416000|\"Mozilla/5.0 (Win...|     9|\n",
      "|           Daft Punk|Logged In|    Colin|     M|           52| Freeman|223.60771| paid|     Bakersfield, CA|   PUT|       NextSong|1538173362000|       29|Harder Better Fas...|   200|1538352676000|Mozilla/5.0 (Wind...|    30|\n",
      "|The All-American ...|Logged In|    Micah|     M|           81|    Long|208.29995| free|Boston-Cambridge-...|   PUT|       NextSong|1538331630000|        8|      Don't Leave Me|   200|1538352678000|\"Mozilla/5.0 (Win...|     9|\n",
      "|The Velvet Underg...|Logged In|    Micah|     M|           82|    Long|260.46649| free|Boston-Cambridge-...|   PUT|       NextSong|1538331630000|        8|         Run Run Run|   200|1538352886000|\"Mozilla/5.0 (Win...|     9|\n",
      "|        Starflyer 59|Logged In|    Colin|     M|           53| Freeman|185.44281| paid|     Bakersfield, CA|   PUT|       NextSong|1538173362000|       29|Passengers (Old A...|   200|1538352899000|Mozilla/5.0 (Wind...|    30|\n",
      "|                NULL|Logged In|    Colin|     M|           54| Freeman|     NULL| paid|     Bakersfield, CA|   PUT|Add to Playlist|1538173362000|       29|                NULL|   200|1538352905000|Mozilla/5.0 (Wind...|    30|\n",
      "|            Frumpies|Logged In|    Colin|     M|           55| Freeman|134.47791| paid|     Bakersfield, CA|   PUT|       NextSong|1538173362000|       29|          Fuck Kitty|   200|1538353084000|Mozilla/5.0 (Wind...|    30|\n",
      "|        Britt Nicole|Logged In|    Micah|     M|           83|    Long| 229.8771| free|Boston-Cambridge-...|   PUT|       NextSong|1538331630000|        8|   Walk On The Water|   200|1538353146000|\"Mozilla/5.0 (Win...|     9|\n",
      "|                NULL|Logged In|    Micah|     M|           84|    Long|     NULL| free|Boston-Cambridge-...|   GET|    Roll Advert|1538331630000|        8|                NULL|   200|1538353150000|\"Mozilla/5.0 (Win...|     9|\n",
      "|Edward Sharpe & T...|Logged In|    Colin|     M|           56| Freeman|223.58159| paid|     Bakersfield, CA|   PUT|       NextSong|1538173362000|       29|                Jade|   200|1538353218000|Mozilla/5.0 (Wind...|    30|\n",
      "|               Tesla|Logged In|    Micah|     M|           85|    Long|201.06404| free|Boston-Cambridge-...|   PUT|       NextSong|1538331630000|        8|      Gettin' Better|   200|1538353375000|\"Mozilla/5.0 (Win...|     9|\n",
      "|                NULL|Logged In|    Micah|     M|           86|    Long|     NULL| free|Boston-Cambridge-...|   PUT|      Thumbs Up|1538331630000|        8|                NULL|   307|1538353376000|\"Mozilla/5.0 (Win...|     9|\n",
      "|         Stan Mosley|Logged In|    Colin|     M|           57| Freeman|246.69995| paid|     Bakersfield, CA|   PUT|       NextSong|1538173362000|       29|   So-Called Friends|   200|1538353441000|Mozilla/5.0 (Wind...|    30|\n",
      "|Florence + The Ma...|Logged In|    Micah|     M|           87|    Long|168.64608| free|Boston-Cambridge-...|   PUT|       NextSong|1538331630000|        8| You've Got The Love|   200|1538353576000|\"Mozilla/5.0 (Win...|     9|\n",
      "|   Tokyo Police Club|Logged In|  Ashlynn|     F|            0|Williams| 166.1122| free|     Tallahassee, FL|   PUT|       NextSong|1537365219000|      217|Citizens Of Tomorrow|   200|1538353668000|\"Mozilla/5.0 (Mac...|    74|\n",
      "|             Orishas|Logged In|    Colin|     M|           58| Freeman|222.22322| paid|     Bakersfield, CA|   PUT|       NextSong|1538173362000|       29|           Represent|   200|1538353687000|Mozilla/5.0 (Wind...|    30|\n",
      "|             Ratatat|Logged In|    Micah|     M|           88|    Long|229.77261| free|Boston-Cambridge-...|   PUT|       NextSong|1538331630000|        8|              Swisha|   200|1538353744000|\"Mozilla/5.0 (Win...|     9|\n",
      "+--------------------+---------+---------+------+-------------+--------+---------+-----+--------------------+------+---------------+-------------+---------+--------------------+------+-------------+--------------------+------+\n",
      "only showing top 20 rows\n",
      "\n"
     ]
    }
   ],
   "source": [
    "psdf.show()"
   ]
  },
  {
   "cell_type": "code",
   "execution_count": 58,
   "metadata": {},
   "outputs": [],
   "source": [
    "# Seperate column types\n",
    "num_cols = [\n",
    "    psdf.dtypes[i][0] for i in range(len(psdf.columns)) if psdf.dtypes[i][1] != \"string\"\n",
    "]\n",
    "\n",
    "obj_cols = [\n",
    "    psdf.dtypes[i][0] for i in range(len(psdf.columns)) if psdf.dtypes[i][1] == \"string\"\n",
    "]"
   ]
  },
  {
   "cell_type": "markdown",
   "metadata": {},
   "source": [
    "## Explroing Null Values"
   ]
  },
  {
   "cell_type": "code",
   "execution_count": 59,
   "metadata": {},
   "outputs": [
    {
     "data": {
      "text/html": [
       "<style type=\"text/css\">\n",
       "#T_4d4af th.col_heading {\n",
       "  background-color: #14345a;\n",
       "  color: white;\n",
       "}\n",
       "#T_4d4af th.blank {\n",
       "  background-color: #14345a;\n",
       "  color: white;\n",
       "}\n",
       "#T_4d4af tr:nth-child(even) {\n",
       "  background-color: #002351;\n",
       "  color: white;\n",
       "}\n",
       "#T_4d4af tr:nth-child(odd) {\n",
       "  background-color: #062c54;\n",
       "  color: white;\n",
       "}\n",
       "</style>\n",
       "<table id=\"T_4d4af\">\n",
       "  <thead>\n",
       "    <tr>\n",
       "      <th class=\"blank level0\" >&nbsp;</th>\n",
       "      <th id=\"T_4d4af_level0_col0\" class=\"col_heading level0 col0\" >Column</th>\n",
       "      <th id=\"T_4d4af_level0_col1\" class=\"col_heading level0 col1\" >UniqueCount</th>\n",
       "      <th id=\"T_4d4af_level0_col2\" class=\"col_heading level0 col2\" >NullCount</th>\n",
       "      <th id=\"T_4d4af_level0_col3\" class=\"col_heading level0 col3\" >Type</th>\n",
       "    </tr>\n",
       "  </thead>\n",
       "  <tbody>\n",
       "    <tr>\n",
       "      <th id=\"T_4d4af_level0_row0\" class=\"row_heading level0 row0\" >3</th>\n",
       "      <td id=\"T_4d4af_row0_col0\" class=\"data row0 col0\" >gender</td>\n",
       "      <td id=\"T_4d4af_row0_col1\" class=\"data row0 col1\" >2</td>\n",
       "      <td id=\"T_4d4af_row0_col2\" class=\"data row0 col2\" >8346</td>\n",
       "      <td id=\"T_4d4af_row0_col3\" class=\"data row0 col3\" >object</td>\n",
       "    </tr>\n",
       "    <tr>\n",
       "      <th id=\"T_4d4af_level0_row1\" class=\"row_heading level0 row1\" >7</th>\n",
       "      <td id=\"T_4d4af_row1_col0\" class=\"data row1 col0\" >level</td>\n",
       "      <td id=\"T_4d4af_row1_col1\" class=\"data row1 col1\" >2</td>\n",
       "      <td id=\"T_4d4af_row1_col2\" class=\"data row1 col2\" >0</td>\n",
       "      <td id=\"T_4d4af_row1_col3\" class=\"data row1 col3\" >object</td>\n",
       "    </tr>\n",
       "    <tr>\n",
       "      <th id=\"T_4d4af_level0_row2\" class=\"row_heading level0 row2\" >9</th>\n",
       "      <td id=\"T_4d4af_row2_col0\" class=\"data row2 col0\" >method</td>\n",
       "      <td id=\"T_4d4af_row2_col1\" class=\"data row2 col1\" >2</td>\n",
       "      <td id=\"T_4d4af_row2_col2\" class=\"data row2 col2\" >0</td>\n",
       "      <td id=\"T_4d4af_row2_col3\" class=\"data row2 col3\" >object</td>\n",
       "    </tr>\n",
       "    <tr>\n",
       "      <th id=\"T_4d4af_level0_row3\" class=\"row_heading level0 row3\" >14</th>\n",
       "      <td id=\"T_4d4af_row3_col0\" class=\"data row3 col0\" >status</td>\n",
       "      <td id=\"T_4d4af_row3_col1\" class=\"data row3 col1\" >3</td>\n",
       "      <td id=\"T_4d4af_row3_col2\" class=\"data row3 col2\" >0</td>\n",
       "      <td id=\"T_4d4af_row3_col3\" class=\"data row3 col3\" >int64</td>\n",
       "    </tr>\n",
       "    <tr>\n",
       "      <th id=\"T_4d4af_level0_row4\" class=\"row_heading level0 row4\" >1</th>\n",
       "      <td id=\"T_4d4af_row4_col0\" class=\"data row4 col0\" >auth</td>\n",
       "      <td id=\"T_4d4af_row4_col1\" class=\"data row4 col1\" >4</td>\n",
       "      <td id=\"T_4d4af_row4_col2\" class=\"data row4 col2\" >0</td>\n",
       "      <td id=\"T_4d4af_row4_col3\" class=\"data row4 col3\" >object</td>\n",
       "    </tr>\n",
       "    <tr>\n",
       "      <th id=\"T_4d4af_level0_row5\" class=\"row_heading level0 row5\" >10</th>\n",
       "      <td id=\"T_4d4af_row5_col0\" class=\"data row5 col0\" >page</td>\n",
       "      <td id=\"T_4d4af_row5_col1\" class=\"data row5 col1\" >22</td>\n",
       "      <td id=\"T_4d4af_row5_col2\" class=\"data row5 col2\" >0</td>\n",
       "      <td id=\"T_4d4af_row5_col3\" class=\"data row5 col3\" >object</td>\n",
       "    </tr>\n",
       "    <tr>\n",
       "      <th id=\"T_4d4af_level0_row6\" class=\"row_heading level0 row6\" >16</th>\n",
       "      <td id=\"T_4d4af_row6_col0\" class=\"data row6 col0\" >userAgent</td>\n",
       "      <td id=\"T_4d4af_row6_col1\" class=\"data row6 col1\" >56</td>\n",
       "      <td id=\"T_4d4af_row6_col2\" class=\"data row6 col2\" >8346</td>\n",
       "      <td id=\"T_4d4af_row6_col3\" class=\"data row6 col3\" >object</td>\n",
       "    </tr>\n",
       "    <tr>\n",
       "      <th id=\"T_4d4af_level0_row7\" class=\"row_heading level0 row7\" >8</th>\n",
       "      <td id=\"T_4d4af_row7_col0\" class=\"data row7 col0\" >location</td>\n",
       "      <td id=\"T_4d4af_row7_col1\" class=\"data row7 col1\" >114</td>\n",
       "      <td id=\"T_4d4af_row7_col2\" class=\"data row7 col2\" >8346</td>\n",
       "      <td id=\"T_4d4af_row7_col3\" class=\"data row7 col3\" >object</td>\n",
       "    </tr>\n",
       "    <tr>\n",
       "      <th id=\"T_4d4af_level0_row8\" class=\"row_heading level0 row8\" >5</th>\n",
       "      <td id=\"T_4d4af_row8_col0\" class=\"data row8 col0\" >lastName</td>\n",
       "      <td id=\"T_4d4af_row8_col1\" class=\"data row8 col1\" >173</td>\n",
       "      <td id=\"T_4d4af_row8_col2\" class=\"data row8 col2\" >8346</td>\n",
       "      <td id=\"T_4d4af_row8_col3\" class=\"data row8 col3\" >object</td>\n",
       "    </tr>\n",
       "    <tr>\n",
       "      <th id=\"T_4d4af_level0_row9\" class=\"row_heading level0 row9\" >2</th>\n",
       "      <td id=\"T_4d4af_row9_col0\" class=\"data row9 col0\" >firstName</td>\n",
       "      <td id=\"T_4d4af_row9_col1\" class=\"data row9 col1\" >189</td>\n",
       "      <td id=\"T_4d4af_row9_col2\" class=\"data row9 col2\" >8346</td>\n",
       "      <td id=\"T_4d4af_row9_col3\" class=\"data row9 col3\" >object</td>\n",
       "    </tr>\n",
       "    <tr>\n",
       "      <th id=\"T_4d4af_level0_row10\" class=\"row_heading level0 row10\" >11</th>\n",
       "      <td id=\"T_4d4af_row10_col0\" class=\"data row10 col0\" >registration</td>\n",
       "      <td id=\"T_4d4af_row10_col1\" class=\"data row10 col1\" >225</td>\n",
       "      <td id=\"T_4d4af_row10_col2\" class=\"data row10 col2\" >8346</td>\n",
       "      <td id=\"T_4d4af_row10_col3\" class=\"data row10 col3\" >float64</td>\n",
       "    </tr>\n",
       "    <tr>\n",
       "      <th id=\"T_4d4af_level0_row11\" class=\"row_heading level0 row11\" >17</th>\n",
       "      <td id=\"T_4d4af_row11_col0\" class=\"data row11 col0\" >userId</td>\n",
       "      <td id=\"T_4d4af_row11_col1\" class=\"data row11 col1\" >225</td>\n",
       "      <td id=\"T_4d4af_row11_col2\" class=\"data row11 col2\" >8346</td>\n",
       "      <td id=\"T_4d4af_row11_col3\" class=\"data row11 col3\" >float64</td>\n",
       "    </tr>\n",
       "    <tr>\n",
       "      <th id=\"T_4d4af_level0_row12\" class=\"row_heading level0 row12\" >4</th>\n",
       "      <td id=\"T_4d4af_row12_col0\" class=\"data row12 col0\" >itemInSession</td>\n",
       "      <td id=\"T_4d4af_row12_col1\" class=\"data row12 col1\" >1322</td>\n",
       "      <td id=\"T_4d4af_row12_col2\" class=\"data row12 col2\" >0</td>\n",
       "      <td id=\"T_4d4af_row12_col3\" class=\"data row12 col3\" >int64</td>\n",
       "    </tr>\n",
       "    <tr>\n",
       "      <th id=\"T_4d4af_level0_row13\" class=\"row_heading level0 row13\" >12</th>\n",
       "      <td id=\"T_4d4af_row13_col0\" class=\"data row13 col0\" >sessionId</td>\n",
       "      <td id=\"T_4d4af_row13_col1\" class=\"data row13 col1\" >2354</td>\n",
       "      <td id=\"T_4d4af_row13_col2\" class=\"data row13 col2\" >0</td>\n",
       "      <td id=\"T_4d4af_row13_col3\" class=\"data row13 col3\" >int64</td>\n",
       "    </tr>\n",
       "    <tr>\n",
       "      <th id=\"T_4d4af_level0_row14\" class=\"row_heading level0 row14\" >6</th>\n",
       "      <td id=\"T_4d4af_row14_col0\" class=\"data row14 col0\" >length</td>\n",
       "      <td id=\"T_4d4af_row14_col1\" class=\"data row14 col1\" >14865</td>\n",
       "      <td id=\"T_4d4af_row14_col2\" class=\"data row14 col2\" >58392</td>\n",
       "      <td id=\"T_4d4af_row14_col3\" class=\"data row14 col3\" >float64</td>\n",
       "    </tr>\n",
       "    <tr>\n",
       "      <th id=\"T_4d4af_level0_row15\" class=\"row_heading level0 row15\" >0</th>\n",
       "      <td id=\"T_4d4af_row15_col0\" class=\"data row15 col0\" >artist</td>\n",
       "      <td id=\"T_4d4af_row15_col1\" class=\"data row15 col1\" >17655</td>\n",
       "      <td id=\"T_4d4af_row15_col2\" class=\"data row15 col2\" >58392</td>\n",
       "      <td id=\"T_4d4af_row15_col3\" class=\"data row15 col3\" >object</td>\n",
       "    </tr>\n",
       "    <tr>\n",
       "      <th id=\"T_4d4af_level0_row16\" class=\"row_heading level0 row16\" >13</th>\n",
       "      <td id=\"T_4d4af_row16_col0\" class=\"data row16 col0\" >song</td>\n",
       "      <td id=\"T_4d4af_row16_col1\" class=\"data row16 col1\" >58480</td>\n",
       "      <td id=\"T_4d4af_row16_col2\" class=\"data row16 col2\" >58392</td>\n",
       "      <td id=\"T_4d4af_row16_col3\" class=\"data row16 col3\" >object</td>\n",
       "    </tr>\n",
       "    <tr>\n",
       "      <th id=\"T_4d4af_level0_row17\" class=\"row_heading level0 row17\" >15</th>\n",
       "      <td id=\"T_4d4af_row17_col0\" class=\"data row17 col0\" >ts</td>\n",
       "      <td id=\"T_4d4af_row17_col1\" class=\"data row17 col1\" >277447</td>\n",
       "      <td id=\"T_4d4af_row17_col2\" class=\"data row17 col2\" >0</td>\n",
       "      <td id=\"T_4d4af_row17_col3\" class=\"data row17 col3\" >int64</td>\n",
       "    </tr>\n",
       "  </tbody>\n",
       "</table>\n"
      ],
      "text/plain": [
       "<pandas.io.formats.style.Styler at 0x175e641c0>"
      ]
     },
     "execution_count": 59,
     "metadata": {},
     "output_type": "execute_result"
    }
   ],
   "source": [
    "def unique_nulls_count(df):\n",
    "    if isinstance(df, DataFrame):\n",
    "        summary_counts = [\n",
    "            {\n",
    "                \"Column\": c,\n",
    "                \"UniqueCount\": df[[c]].distinct().count(),\n",
    "                \"NullCount\": df[[c]].filter(col(c).isNull()).count(),\n",
    "                \"Type\": df[[c]].dtypes[0][1],\n",
    "            }\n",
    "            for c in df.columns\n",
    "        ]\n",
    "    if isinstance(df, pd.DataFrame):\n",
    "        summary_counts = [\n",
    "            {\n",
    "                \"Column\": c,\n",
    "                \"UniqueCount\": df[c].nunique(),\n",
    "                \"NullCount\": df[c].isnull().sum(),\n",
    "                \"Type\": df[c].dtype,\n",
    "            }\n",
    "            for c in df.columns\n",
    "        ]\n",
    "\n",
    "    # Create a Pandas DataFrame\n",
    "    return pd.DataFrame(summary_counts).sort_values(\"UniqueCount\")\n",
    "\n",
    "\n",
    "# columns_with_nulls = [summary_counts_df.iloc[i][0] for i in range(summary_counts_df.shape[0]) if summary_counts_df.iloc[i][2] > 0]\n",
    "summary_counts_df = unique_nulls_count(psdf.toPandas())\n",
    "style_df(summary_counts_df.iloc[:9]).export_png(\"summary_counts(part1).png\")\n",
    "style_df(summary_counts_df.iloc[9:]).export_png(\"summary_counts(part2).png\")\n",
    "style_df(summary_counts_df)"
   ]
  },
  {
   "cell_type": "code",
   "execution_count": 60,
   "metadata": {},
   "outputs": [
    {
     "data": {
      "image/png": "[encoded data removed]",
      "text/plain": [
       "<Figure size 640x480 with 1 Axes>"
      ]
     },
     "metadata": {},
     "output_type": "display_data"
    }
   ],
   "source": [
    "def null_combination_check(df):\n",
    "    \"\"\"\n",
    "    Identify columns with null values and their related columns in a DataFrame.\n",
    "\n",
    "    Parameters:\n",
    "    - df (pyspark.sql.DataFrame or pd.DataFrame): The input DataFrame.\n",
    "\n",
    "    Returns:\n",
    "    dict: A dictionary where keys are columns with null values, and values are lists of related columns.\n",
    "    \"\"\"\n",
    "    if isinstance(df, DataFrame):\n",
    "        df = df.toPandas()\n",
    "\n",
    "    null_relations = {}\n",
    "    for column in df.columns:\n",
    "        rows_with_nulls = df[df[column].isnull()]\n",
    "        related_columns = rows_with_nulls.columns[\n",
    "            rows_with_nulls.isnull().any()\n",
    "        ].tolist()\n",
    "\n",
    "        null_relations[column] = related_columns\n",
    "\n",
    "    return null_relations\n",
    "\n",
    "\n",
    "def null_graph(relationships, ignore_no_relations=False):\n",
    "    \"\"\"\n",
    "    Visualize relationships between entities as a directed graph using NetworkX and Matplotlib.\n",
    "\n",
    "    Parameters:\n",
    "    - relationships (dict): A dictionary representing relationships between entities. Each key is an entity,\n",
    "      and the corresponding value is a list of related entities.\n",
    "    - ignore_no_relations (bool): If True, only entities with at least one relation will be included in the graph.\n",
    "      If False (default), all entities and their relations will be considered.\n",
    "\n",
    "    Returns:\n",
    "    None\n",
    "\n",
    "    This function takes a dictionary of relationships and creates a directed graph using NetworkX.\n",
    "    Nodes in the graph represent entities, and directed edges represent relationships between entities.\n",
    "    The graph is visualized using Matplotlib.\n",
    "    \"\"\"\n",
    "\n",
    "    G = nx.DiGraph()\n",
    "\n",
    "    # Add nodes and edges based on relationships\n",
    "    for entity, related_entities in relationships.items():\n",
    "        if ignore_no_relations and len(related_entities) == 0:\n",
    "            # passes empty entities in loop\n",
    "            continue\n",
    "\n",
    "        G.add_node(entity)\n",
    "        for related_entity in related_entities:\n",
    "            G.add_edge(entity, related_entity)\n",
    "\n",
    "    # Visualization\n",
    "    pos = nx.kamada_kawai_layout(G)\n",
    "    nx.draw(\n",
    "        G,\n",
    "        pos,\n",
    "        with_labels=True,\n",
    "        node_size=700,\n",
    "        node_color=\"skyblue\",\n",
    "        font_size=12,\n",
    "        font_color=\"black\",\n",
    "        arrowsize=10,\n",
    "        edge_color=\"#EEC9BC\",\n",
    "    )\n",
    "    plt.title(\"Null Features Network\")\n",
    "    plt.show()\n",
    "\n",
    "\n",
    "null_graph(null_combination_check(psdf), ignore_no_relations=False)"
   ]
  },
  {
   "cell_type": "code",
   "execution_count": 61,
   "metadata": {},
   "outputs": [
    {
     "name": "stderr",
     "output_type": "stream",
     "text": [
      "/var/folders/zp/9kxj13m57_v23k2hkwd8vz600000gn/T/ipykernel_15847/1063085435.py:28: UserWarning:\n",
      "\n",
      "FigureCanvasAgg is non-interactive, and thus cannot be shown\n",
      "\n"
     ]
    },
    {
     "data": {
      "image/png": "[encoded data removed]",
      "text/plain": [
       "<Figure size 800x600 with 1 Axes>"
      ]
     },
     "metadata": {},
     "output_type": "display_data"
    }
   ],
   "source": [
    "def binary_null_map(df):\n",
    "    \"\"\"\n",
    "    Visualize the binary map of null values in a DataFrame using a heatmap.\n",
    "\n",
    "    Parameters:\n",
    "    - df (pyspark.sql.DataFrame or pd.DataFrame): The input DataFrame.\n",
    "\n",
    "    Returns:\n",
    "    None\n",
    "    \"\"\"\n",
    "\n",
    "    if isinstance(df, DataFrame):\n",
    "        df = df.toPandas()\n",
    "\n",
    "    fig, ax = plt.subplots(figsize=(8, 6))\n",
    "    sns.heatmap(\n",
    "        df.isnull(),\n",
    "        cbar=False,\n",
    "        yticklabels=False,\n",
    "        cmap=[\"#6EC33C\", \"#913CC3\"],\n",
    "        ax=ax,\n",
    "    )\n",
    "\n",
    "    ax.set_xlabel(\"Features\")\n",
    "    ax.set_ylabel(\"Samples\")\n",
    "    ax.set_title(\"Binary Map of Null Values\")\n",
    "\n",
    "    fig.show()\n",
    "\n",
    "\n",
    "binary_null_map(psdf)"
   ]
  },
  {
   "cell_type": "markdown",
   "metadata": {},
   "source": [
    "# Exploring Features"
   ]
  },
  {
   "cell_type": "markdown",
   "metadata": {},
   "source": [
    "## Flag Cancelled Users"
   ]
  },
  {
   "cell_type": "code",
   "execution_count": 62,
   "metadata": {},
   "outputs": [
    {
     "name": "stdout",
     "output_type": "stream",
     "text": [
      "23.01% Users Churned\n"
     ]
    }
   ],
   "source": [
    "cancelled_user_list = (\n",
    "    psdf[[\"userId\"]]\n",
    "    .filter(col(\"page\").isin([\"Cancellation Confirmation\"]))\n",
    "    .distinct()\n",
    "    .toPandas()\n",
    "    .userId.tolist()\n",
    ")\n",
    "# cancelled_user_list = psdf.rdd.map(lambda x: x.userId).collect()\n",
    "\n",
    "psdf = flag_rows(psdf, \"userId\", cancelled_user_list, \"cancel_flag\")\n",
    "\n",
    "\n",
    "# Check that the amount of 'Cancel COnfirmations' are equal to that of the amount of unique userIds that were flagged\n",
    "assert (\n",
    "    psdf[[\"page\"]].filter(col(\"page\") == \"Cancellation Confirmation\").count()\n",
    "    == psdf.filter(col(\"cancel_flag\") == 1).groupBy(\"userId\").count().count()\n",
    ")\n",
    "\n",
    "churn_user_count = (\n",
    "    psdf.filter(col(\"cancel_flag\") == 1).groupBy(\"userId\").count().count()\n",
    ")\n",
    "unique_user_count = psdf.select(\"userId\").distinct().count()\n",
    "\n",
    "print(f\"{round(churn_user_count /unique_user_count,4)*100}% Users Churned\")"
   ]
  },
  {
   "cell_type": "markdown",
   "metadata": {},
   "source": [
    "## Churn By Gender"
   ]
  },
  {
   "cell_type": "code",
   "execution_count": 63,
   "metadata": {},
   "outputs": [
    {
     "data": {
      "image/png": "[encoded data removed]",
      "text/plain": [
       "<Figure size 662.236x600 with 1 Axes>"
      ]
     },
     "metadata": {},
     "output_type": "display_data"
    },
    {
     "name": "stdout",
     "output_type": "stream",
     "text": [
      "  Gender  cancel_flag  count\n",
      "0      M        False     89\n",
      "1      F        False     84\n",
      "2      M         True     32\n",
      "3      F         True     20\n"
     ]
    }
   ],
   "source": [
    "churn_by_gender = (\n",
    "    psdf.dropDuplicates([\"userId\"]).select(\"Gender\", \"cancel_flag\").toPandas().dropna()\n",
    ")\n",
    "churn_by_gender = churn_by_gender.value_counts().reset_index()\n",
    "churn_by_gender[\"cancel_flag\"] = churn_by_gender[\"cancel_flag\"].astype(bool)\n",
    "\n",
    "\n",
    "chart = sns.catplot(\n",
    "    kind=\"bar\",\n",
    "    data=churn_by_gender,\n",
    "    x=\"cancel_flag\",\n",
    "    y=\"count\",\n",
    "    hue=\"Gender\",\n",
    "    errorbar=\"sd\",\n",
    "    palette=\"husl\",\n",
    "    alpha=0.6,\n",
    "    height=6,\n",
    ")\n",
    "\n",
    "chart.despine(left=False)\n",
    "plt.grid(axis=\"y\")\n",
    "plt.show()\n",
    "\n",
    "\n",
    "print(churn_by_gender)"
   ]
  },
  {
   "cell_type": "markdown",
   "metadata": {},
   "source": [
    "## Churn By Location"
   ]
  },
  {
   "cell_type": "code",
   "execution_count": 64,
   "metadata": {},
   "outputs": [],
   "source": [
    "user_by_state = (\n",
    "    psdf.dropDuplicates([\"userId\"])\n",
    "    .select([\"location\", \"cancel_flag\"])\n",
    "    .toPandas()\n",
    "    .dropna()\n",
    ")\n",
    "user_by_state[\"state\"] = user_by_state[\"location\"].str[-2:]\n",
    "user_by_state.drop(columns=\"location\", inplace=True)\n",
    "user_by_state = user_by_state.value_counts().reset_index()\n",
    "\n",
    "\n",
    "user_by_state[[\"state\", \"count\"]].sort_values(by=\"count\", ascending=False).head()\n",
    "\n",
    "\n",
    "def state_heat(df, state_col=\"state\", value_col=\"count\", title=None):\n",
    "    # Two Column DataFRam 1 column with states, the next stae value\n",
    "\n",
    "    states = df[state_col].tolist()\n",
    "    user_counts = df[value_col].to_list()\n",
    "\n",
    "    fig = px.choropleth(\n",
    "        locations=states,\n",
    "        locationmode=\"USA-states\",\n",
    "        color=user_counts,\n",
    "        scope=\"usa\",\n",
    "        title=title,\n",
    "    )\n",
    "\n",
    "    fig.show()\n",
    "\n",
    "\n",
    "cancel_filter = user_by_state[\"cancel_flag\"] == 1\n",
    "noncancel_filter = user_by_state[\"cancel_flag\"] == 0"
   ]
  },
  {
   "cell_type": "code",
   "execution_count": 65,
   "metadata": {},
   "outputs": [
    {
     "data": {
      "application/vnd.plotly.v1+json": {
       "config": {
        "plotlyServerURL": "https://plot.ly"
       },
       "data": [
        {
         "coloraxis": "coloraxis",
         "geo": "geo",
         "hovertemplate": "locations=%{location}<br>color=%{z}<extra></extra>",
         "locationmode": "USA-states",
         "locations": [
          "CA",
          "PA",
          "TX",
          "FL",
          "WI",
          "IL",
          "NH",
          "NC",
          "CT",
          "SC",
          "CA",
          "PA",
          "IN",
          "WV",
          "AZ",
          "WA",
          "AL",
          "MD",
          "NY",
          "GA",
          "VA",
          "FL",
          "NV",
          "MI",
          "MD",
          "NJ",
          "TX",
          "AL",
          "KY",
          "MS",
          "CO",
          "CO",
          "IA",
          "AZ",
          "AR",
          "AK",
          "OH",
          "WA",
          "MA",
          "MI",
          "NC",
          "SC",
          "MT",
          "OR",
          "MO",
          "NY",
          "WI",
          "UT",
          "LA",
          "KS",
          "IN",
          "IL",
          "TN",
          "OK",
          "OH",
          "MT",
          "MS",
          "LA",
          "KY",
          "KS",
          "ID",
          "WV"
         ],
         "name": "",
         "type": "choropleth",
         "z": [
          27,
          13,
          13,
          11,
          9,
          8,
          7,
          7,
          7,
          7,
          6,
          5,
          5,
          5,
          5,
          4,
          4,
          4,
          4,
          4,
          3,
          3,
          3,
          3,
          3,
          3,
          3,
          2,
          2,
          2,
          2,
          2,
          2,
          2,
          2,
          2,
          2,
          2,
          2,
          2,
          2,
          1,
          1,
          1,
          1,
          1,
          1,
          1,
          1,
          1,
          1,
          1,
          1,
          1,
          1,
          1,
          1,
          1,
          1,
          1,
          1,
          1
         ]
        }
       ],
       "layout": {
        "coloraxis": {
         "colorbar": {
          "title": {
           "text": "color"
          }
         },
         "colorscale": [
          [
           0,
           "#0d0887"
          ],
          [
           0.1111111111111111,
           "#46039f"
          ],
          [
           0.2222222222222222,
           "#7201a8"
          ],
          [
           0.3333333333333333,
           "#9c179e"
          ],
          [
           0.4444444444444444,
           "#bd3786"
          ],
          [
           0.5555555555555556,
           "#d8576b"
          ],
          [
           0.6666666666666666,
           "#ed7953"
          ],
          [
           0.7777777777777778,
           "#fb9f3a"
          ],
          [
           0.8888888888888888,
           "#fdca26"
          ],
          [
           1,
           "#f0f921"
          ]
         ]
        },
        "geo": {
         "center": {},
         "domain": {
          "x": [
           0,
           1
          ],
          "y": [
           0,
           1
          ]
         },
         "scope": "usa"
        },
        "legend": {
         "tracegroupgap": 0
        },
        "template": {
         "data": {
          "bar": [
           {
            "error_x": {
             "color": "#2a3f5f"
            },
            "error_y": {
             "color": "#2a3f5f"
            },
            "marker": {
             "line": {
              "color": "#E5ECF6",
              "width": 0.5
             },
             "pattern": {
              "fillmode": "overlay",
              "size": 10,
              "solidity": 0.2
             }
            },
            "type": "bar"
           }
          ],
          "barpolar": [
           {
            "marker": {
             "line": {
              "color": "#E5ECF6",
              "width": 0.5
             },
             "pattern": {
              "fillmode": "overlay",
              "size": 10,
              "solidity": 0.2
             }
            },
            "type": "barpolar"
           }
          ],
          "carpet": [
           {
            "aaxis": {
             "endlinecolor": "#2a3f5f",
             "gridcolor": "white",
             "linecolor": "white",
             "minorgridcolor": "white",
             "startlinecolor": "#2a3f5f"
            },
            "baxis": {
             "endlinecolor": "#2a3f5f",
             "gridcolor": "white",
             "linecolor": "white",
             "minorgridcolor": "white",
             "startlinecolor": "#2a3f5f"
            },
            "type": "carpet"
           }
          ],
          "choropleth": [
           {
            "colorbar": {
             "outlinewidth": 0,
             "ticks": ""
            },
            "type": "choropleth"
           }
          ],
          "contour": [
           {
            "colorbar": {
             "outlinewidth": 0,
             "ticks": ""
            },
            "colorscale": [
             [
              0,
              "#0d0887"
             ],
             [
              0.1111111111111111,
              "#46039f"
             ],
             [
              0.2222222222222222,
              "#7201a8"
             ],
             [
              0.3333333333333333,
              "#9c179e"
             ],
             [
              0.4444444444444444,
              "#bd3786"
             ],
             [
              0.5555555555555556,
              "#d8576b"
             ],
             [
              0.6666666666666666,
              "#ed7953"
             ],
             [
              0.7777777777777778,
              "#fb9f3a"
             ],
             [
              0.8888888888888888,
              "#fdca26"
             ],
             [
              1,
              "#f0f921"
             ]
            ],
            "type": "contour"
           }
          ],
          "contourcarpet": [
           {
            "colorbar": {
             "outlinewidth": 0,
             "ticks": ""
            },
            "type": "contourcarpet"
           }
          ],
          "heatmap": [
           {
            "colorbar": {
             "outlinewidth": 0,
             "ticks": ""
            },
            "colorscale": [
             [
              0,
              "#0d0887"
             ],
             [
              0.1111111111111111,
              "#46039f"
             ],
             [
              0.2222222222222222,
              "#7201a8"
             ],
             [
              0.3333333333333333,
              "#9c179e"
             ],
             [
              0.4444444444444444,
              "#bd3786"
             ],
             [
              0.5555555555555556,
              "#d8576b"
             ],
             [
              0.6666666666666666,
              "#ed7953"
             ],
             [
              0.7777777777777778,
              "#fb9f3a"
             ],
             [
              0.8888888888888888,
              "#fdca26"
             ],
             [
              1,
              "#f0f921"
             ]
            ],
            "type": "heatmap"
           }
          ],
          "heatmapgl": [
           {
            "colorbar": {
             "outlinewidth": 0,
             "ticks": ""
            },
            "colorscale": [
             [
              0,
              "#0d0887"
             ],
             [
              0.1111111111111111,
              "#46039f"
             ],
             [
              0.2222222222222222,
              "#7201a8"
             ],
             [
              0.3333333333333333,
              "#9c179e"
             ],
             [
              0.4444444444444444,
              "#bd3786"
             ],
             [
              0.5555555555555556,
              "#d8576b"
             ],
             [
              0.6666666666666666,
              "#ed7953"
             ],
             [
              0.7777777777777778,
              "#fb9f3a"
             ],
             [
              0.8888888888888888,
              "#fdca26"
             ],
             [
              1,
              "#f0f921"
             ]
            ],
            "type": "heatmapgl"
           }
          ],
          "histogram": [
           {
            "marker": {
             "pattern": {
              "fillmode": "overlay",
              "size": 10,
              "solidity": 0.2
             }
            },
            "type": "histogram"
           }
          ],
          "histogram2d": [
           {
            "colorbar": {
             "outlinewidth": 0,
             "ticks": ""
            },
            "colorscale": [
             [
              0,
              "#0d0887"
             ],
             [
              0.1111111111111111,
              "#46039f"
             ],
             [
              0.2222222222222222,
              "#7201a8"
             ],
             [
              0.3333333333333333,
              "#9c179e"
             ],
             [
              0.4444444444444444,
              "#bd3786"
             ],
             [
              0.5555555555555556,
              "#d8576b"
             ],
             [
              0.6666666666666666,
              "#ed7953"
             ],
             [
              0.7777777777777778,
              "#fb9f3a"
             ],
             [
              0.8888888888888888,
              "#fdca26"
             ],
             [
              1,
              "#f0f921"
             ]
            ],
            "type": "histogram2d"
           }
          ],
          "histogram2dcontour": [
           {
            "colorbar": {
             "outlinewidth": 0,
             "ticks": ""
            },
            "colorscale": [
             [
              0,
              "#0d0887"
             ],
             [
              0.1111111111111111,
              "#46039f"
             ],
             [
              0.2222222222222222,
              "#7201a8"
             ],
             [
              0.3333333333333333,
              "#9c179e"
             ],
             [
              0.4444444444444444,
              "#bd3786"
             ],
             [
              0.5555555555555556,
              "#d8576b"
             ],
             [
              0.6666666666666666,
              "#ed7953"
             ],
             [
              0.7777777777777778,
              "#fb9f3a"
             ],
             [
              0.8888888888888888,
              "#fdca26"
             ],
             [
              1,
              "#f0f921"
             ]
            ],
            "type": "histogram2dcontour"
           }
          ],
          "mesh3d": [
           {
            "colorbar": {
             "outlinewidth": 0,
             "ticks": ""
            },
            "type": "mesh3d"
           }
          ],
          "parcoords": [
           {
            "line": {
             "colorbar": {
              "outlinewidth": 0,
              "ticks": ""
             }
            },
            "type": "parcoords"
           }
          ],
          "pie": [
           {
            "automargin": true,
            "type": "pie"
           }
          ],
          "scatter": [
           {
            "fillpattern": {
             "fillmode": "overlay",
             "size": 10,
             "solidity": 0.2
            },
            "type": "scatter"
           }
          ],
          "scatter3d": [
           {
            "line": {
             "colorbar": {
              "outlinewidth": 0,
              "ticks": ""
             }
            },
            "marker": {
             "colorbar": {
              "outlinewidth": 0,
              "ticks": ""
             }
            },
            "type": "scatter3d"
           }
          ],
          "scattercarpet": [
           {
            "marker": {
             "colorbar": {
              "outlinewidth": 0,
              "ticks": ""
             }
            },
            "type": "scattercarpet"
           }
          ],
          "scattergeo": [
           {
            "marker": {
             "colorbar": {
              "outlinewidth": 0,
              "ticks": ""
             }
            },
            "type": "scattergeo"
           }
          ],
          "scattergl": [
           {
            "marker": {
             "colorbar": {
              "outlinewidth": 0,
              "ticks": ""
             }
            },
            "type": "scattergl"
           }
          ],
          "scattermapbox": [
           {
            "marker": {
             "colorbar": {
              "outlinewidth": 0,
              "ticks": ""
             }
            },
            "type": "scattermapbox"
           }
          ],
          "scatterpolar": [
           {
            "marker": {
             "colorbar": {
              "outlinewidth": 0,
              "ticks": ""
             }
            },
            "type": "scatterpolar"
           }
          ],
          "scatterpolargl": [
           {
            "marker": {
             "colorbar": {
              "outlinewidth": 0,
              "ticks": ""
             }
            },
            "type": "scatterpolargl"
           }
          ],
          "scatterternary": [
           {
            "marker": {
             "colorbar": {
              "outlinewidth": 0,
              "ticks": ""
             }
            },
            "type": "scatterternary"
           }
          ],
          "surface": [
           {
            "colorbar": {
             "outlinewidth": 0,
             "ticks": ""
            },
            "colorscale": [
             [
              0,
              "#0d0887"
             ],
             [
              0.1111111111111111,
              "#46039f"
             ],
             [
              0.2222222222222222,
              "#7201a8"
             ],
             [
              0.3333333333333333,
              "#9c179e"
             ],
             [
              0.4444444444444444,
              "#bd3786"
             ],
             [
              0.5555555555555556,
              "#d8576b"
             ],
             [
              0.6666666666666666,
              "#ed7953"
             ],
             [
              0.7777777777777778,
              "#fb9f3a"
             ],
             [
              0.8888888888888888,
              "#fdca26"
             ],
             [
              1,
              "#f0f921"
             ]
            ],
            "type": "surface"
           }
          ],
          "table": [
           {
            "cells": {
             "fill": {
              "color": "#EBF0F8"
             },
             "line": {
              "color": "white"
             }
            },
            "header": {
             "fill": {
              "color": "#C8D4E3"
             },
             "line": {
              "color": "white"
             }
            },
            "type": "table"
           }
          ]
         },
         "layout": {
          "annotationdefaults": {
           "arrowcolor": "#2a3f5f",
           "arrowhead": 0,
           "arrowwidth": 1
          },
          "autotypenumbers": "strict",
          "coloraxis": {
           "colorbar": {
            "outlinewidth": 0,
            "ticks": ""
           }
          },
          "colorscale": {
           "diverging": [
            [
             0,
             "#8e0152"
            ],
            [
             0.1,
             "#c51b7d"
            ],
            [
             0.2,
             "#de77ae"
            ],
            [
             0.3,
             "#f1b6da"
            ],
            [
             0.4,
             "#fde0ef"
            ],
            [
             0.5,
             "#f7f7f7"
            ],
            [
             0.6,
             "#e6f5d0"
            ],
            [
             0.7,
             "#b8e186"
            ],
            [
             0.8,
             "#7fbc41"
            ],
            [
             0.9,
             "#4d9221"
            ],
            [
             1,
             "#276419"
            ]
           ],
           "sequential": [
            [
             0,
             "#0d0887"
            ],
            [
             0.1111111111111111,
             "#46039f"
            ],
            [
             0.2222222222222222,
             "#7201a8"
            ],
            [
             0.3333333333333333,
             "#9c179e"
            ],
            [
             0.4444444444444444,
             "#bd3786"
            ],
            [
             0.5555555555555556,
             "#d8576b"
            ],
            [
             0.6666666666666666,
             "#ed7953"
            ],
            [
             0.7777777777777778,
             "#fb9f3a"
            ],
            [
             0.8888888888888888,
             "#fdca26"
            ],
            [
             1,
             "#f0f921"
            ]
           ],
           "sequentialminus": [
            [
             0,
             "#0d0887"
            ],
            [
             0.1111111111111111,
             "#46039f"
            ],
            [
             0.2222222222222222,
             "#7201a8"
            ],
            [
             0.3333333333333333,
             "#9c179e"
            ],
            [
             0.4444444444444444,
             "#bd3786"
            ],
            [
             0.5555555555555556,
             "#d8576b"
            ],
            [
             0.6666666666666666,
             "#ed7953"
            ],
            [
             0.7777777777777778,
             "#fb9f3a"
            ],
            [
             0.8888888888888888,
             "#fdca26"
            ],
            [
             1,
             "#f0f921"
            ]
           ]
          },
          "colorway": [
           "#636efa",
           "#EF553B",
           "#00cc96",
           "#ab63fa",
           "#FFA15A",
           "#19d3f3",
           "#FF6692",
           "#B6E880",
           "#FF97FF",
           "#FECB52"
          ],
          "font": {
           "color": "#2a3f5f"
          },
          "geo": {
           "bgcolor": "white",
           "lakecolor": "white",
           "landcolor": "#E5ECF6",
           "showlakes": true,
           "showland": true,
           "subunitcolor": "white"
          },
          "hoverlabel": {
           "align": "left"
          },
          "hovermode": "closest",
          "mapbox": {
           "style": "light"
          },
          "paper_bgcolor": "white",
          "plot_bgcolor": "#E5ECF6",
          "polar": {
           "angularaxis": {
            "gridcolor": "white",
            "linecolor": "white",
            "ticks": ""
           },
           "bgcolor": "#E5ECF6",
           "radialaxis": {
            "gridcolor": "white",
            "linecolor": "white",
            "ticks": ""
           }
          },
          "scene": {
           "xaxis": {
            "backgroundcolor": "#E5ECF6",
            "gridcolor": "white",
            "gridwidth": 2,
            "linecolor": "white",
            "showbackground": true,
            "ticks": "",
            "zerolinecolor": "white"
           },
           "yaxis": {
            "backgroundcolor": "#E5ECF6",
            "gridcolor": "white",
            "gridwidth": 2,
            "linecolor": "white",
            "showbackground": true,
            "ticks": "",
            "zerolinecolor": "white"
           },
           "zaxis": {
            "backgroundcolor": "#E5ECF6",
            "gridcolor": "white",
            "gridwidth": 2,
            "linecolor": "white",
            "showbackground": true,
            "ticks": "",
            "zerolinecolor": "white"
           }
          },
          "shapedefaults": {
           "line": {
            "color": "#2a3f5f"
           }
          },
          "ternary": {
           "aaxis": {
            "gridcolor": "white",
            "linecolor": "white",
            "ticks": ""
           },
           "baxis": {
            "gridcolor": "white",
            "linecolor": "white",
            "ticks": ""
           },
           "bgcolor": "#E5ECF6",
           "caxis": {
            "gridcolor": "white",
            "linecolor": "white",
            "ticks": ""
           }
          },
          "title": {
           "x": 0.05
          },
          "xaxis": {
           "automargin": true,
           "gridcolor": "white",
           "linecolor": "white",
           "ticks": "",
           "title": {
            "standoff": 15
           },
           "zerolinecolor": "white",
           "zerolinewidth": 2
          },
          "yaxis": {
           "automargin": true,
           "gridcolor": "white",
           "linecolor": "white",
           "ticks": "",
           "title": {
            "standoff": 15
           },
           "zerolinecolor": "white",
           "zerolinewidth": 2
          }
         }
        },
        "title": {
         "text": "Users By State"
        }
       }
      }
     },
     "metadata": {},
     "output_type": "display_data"
    }
   ],
   "source": [
    "state_heat(user_by_state, title=\"Users By State\")"
   ]
  },
  {
   "cell_type": "code",
   "execution_count": 66,
   "metadata": {},
   "outputs": [
    {
     "data": {
      "application/vnd.plotly.v1+json": {
       "config": {
        "plotlyServerURL": "https://plot.ly"
       },
       "data": [
        {
         "coloraxis": "coloraxis",
         "geo": "geo",
         "hovertemplate": "locations=%{location}<br>color=%{z}<extra></extra>",
         "locationmode": "USA-states",
         "locations": [
          "CA",
          "PA",
          "FL",
          "MI",
          "MD",
          "TX",
          "AL",
          "KY",
          "MS",
          "CO",
          "AZ",
          "AR",
          "OH",
          "WA",
          "NC",
          "SC",
          "MT",
          "OR",
          "MO",
          "NY",
          "WI",
          "LA",
          "KS",
          "IN",
          "IL",
          "WV"
         ],
         "name": "",
         "type": "choropleth",
         "z": [
          6,
          5,
          3,
          3,
          3,
          3,
          2,
          2,
          2,
          2,
          2,
          2,
          2,
          2,
          2,
          1,
          1,
          1,
          1,
          1,
          1,
          1,
          1,
          1,
          1,
          1
         ]
        }
       ],
       "layout": {
        "coloraxis": {
         "colorbar": {
          "title": {
           "text": "color"
          }
         },
         "colorscale": [
          [
           0,
           "#0d0887"
          ],
          [
           0.1111111111111111,
           "#46039f"
          ],
          [
           0.2222222222222222,
           "#7201a8"
          ],
          [
           0.3333333333333333,
           "#9c179e"
          ],
          [
           0.4444444444444444,
           "#bd3786"
          ],
          [
           0.5555555555555556,
           "#d8576b"
          ],
          [
           0.6666666666666666,
           "#ed7953"
          ],
          [
           0.7777777777777778,
           "#fb9f3a"
          ],
          [
           0.8888888888888888,
           "#fdca26"
          ],
          [
           1,
           "#f0f921"
          ]
         ]
        },
        "geo": {
         "center": {},
         "domain": {
          "x": [
           0,
           1
          ],
          "y": [
           0,
           1
          ]
         },
         "scope": "usa"
        },
        "legend": {
         "tracegroupgap": 0
        },
        "template": {
         "data": {
          "bar": [
           {
            "error_x": {
             "color": "#2a3f5f"
            },
            "error_y": {
             "color": "#2a3f5f"
            },
            "marker": {
             "line": {
              "color": "#E5ECF6",
              "width": 0.5
             },
             "pattern": {
              "fillmode": "overlay",
              "size": 10,
              "solidity": 0.2
             }
            },
            "type": "bar"
           }
          ],
          "barpolar": [
           {
            "marker": {
             "line": {
              "color": "#E5ECF6",
              "width": 0.5
             },
             "pattern": {
              "fillmode": "overlay",
              "size": 10,
              "solidity": 0.2
             }
            },
            "type": "barpolar"
           }
          ],
          "carpet": [
           {
            "aaxis": {
             "endlinecolor": "#2a3f5f",
             "gridcolor": "white",
             "linecolor": "white",
             "minorgridcolor": "white",
             "startlinecolor": "#2a3f5f"
            },
            "baxis": {
             "endlinecolor": "#2a3f5f",
             "gridcolor": "white",
             "linecolor": "white",
             "minorgridcolor": "white",
             "startlinecolor": "#2a3f5f"
            },
            "type": "carpet"
           }
          ],
          "choropleth": [
           {
            "colorbar": {
             "outlinewidth": 0,
             "ticks": ""
            },
            "type": "choropleth"
           }
          ],
          "contour": [
           {
            "colorbar": {
             "outlinewidth": 0,
             "ticks": ""
            },
            "colorscale": [
             [
              0,
              "#0d0887"
             ],
             [
              0.1111111111111111,
              "#46039f"
             ],
             [
              0.2222222222222222,
              "#7201a8"
             ],
             [
              0.3333333333333333,
              "#9c179e"
             ],
             [
              0.4444444444444444,
              "#bd3786"
             ],
             [
              0.5555555555555556,
              "#d8576b"
             ],
             [
              0.6666666666666666,
              "#ed7953"
             ],
             [
              0.7777777777777778,
              "#fb9f3a"
             ],
             [
              0.8888888888888888,
              "#fdca26"
             ],
             [
              1,
              "#f0f921"
             ]
            ],
            "type": "contour"
           }
          ],
          "contourcarpet": [
           {
            "colorbar": {
             "outlinewidth": 0,
             "ticks": ""
            },
            "type": "contourcarpet"
           }
          ],
          "heatmap": [
           {
            "colorbar": {
             "outlinewidth": 0,
             "ticks": ""
            },
            "colorscale": [
             [
              0,
              "#0d0887"
             ],
             [
              0.1111111111111111,
              "#46039f"
             ],
             [
              0.2222222222222222,
              "#7201a8"
             ],
             [
              0.3333333333333333,
              "#9c179e"
             ],
             [
              0.4444444444444444,
              "#bd3786"
             ],
             [
              0.5555555555555556,
              "#d8576b"
             ],
             [
              0.6666666666666666,
              "#ed7953"
             ],
             [
              0.7777777777777778,
              "#fb9f3a"
             ],
             [
              0.8888888888888888,
              "#fdca26"
             ],
             [
              1,
              "#f0f921"
             ]
            ],
            "type": "heatmap"
           }
          ],
          "heatmapgl": [
           {
            "colorbar": {
             "outlinewidth": 0,
             "ticks": ""
            },
            "colorscale": [
             [
              0,
              "#0d0887"
             ],
             [
              0.1111111111111111,
              "#46039f"
             ],
             [
              0.2222222222222222,
              "#7201a8"
             ],
             [
              0.3333333333333333,
              "#9c179e"
             ],
             [
              0.4444444444444444,
              "#bd3786"
             ],
             [
              0.5555555555555556,
              "#d8576b"
             ],
             [
              0.6666666666666666,
              "#ed7953"
             ],
             [
              0.7777777777777778,
              "#fb9f3a"
             ],
             [
              0.8888888888888888,
              "#fdca26"
             ],
             [
              1,
              "#f0f921"
             ]
            ],
            "type": "heatmapgl"
           }
          ],
          "histogram": [
           {
            "marker": {
             "pattern": {
              "fillmode": "overlay",
              "size": 10,
              "solidity": 0.2
             }
            },
            "type": "histogram"
           }
          ],
          "histogram2d": [
           {
            "colorbar": {
             "outlinewidth": 0,
             "ticks": ""
            },
            "colorscale": [
             [
              0,
              "#0d0887"
             ],
             [
              0.1111111111111111,
              "#46039f"
             ],
             [
              0.2222222222222222,
              "#7201a8"
             ],
             [
              0.3333333333333333,
              "#9c179e"
             ],
             [
              0.4444444444444444,
              "#bd3786"
             ],
             [
              0.5555555555555556,
              "#d8576b"
             ],
             [
              0.6666666666666666,
              "#ed7953"
             ],
             [
              0.7777777777777778,
              "#fb9f3a"
             ],
             [
              0.8888888888888888,
              "#fdca26"
             ],
             [
              1,
              "#f0f921"
             ]
            ],
            "type": "histogram2d"
           }
          ],
          "histogram2dcontour": [
           {
            "colorbar": {
             "outlinewidth": 0,
             "ticks": ""
            },
            "colorscale": [
             [
              0,
              "#0d0887"
             ],
             [
              0.1111111111111111,
              "#46039f"
             ],
             [
              0.2222222222222222,
              "#7201a8"
             ],
             [
              0.3333333333333333,
              "#9c179e"
             ],
             [
              0.4444444444444444,
              "#bd3786"
             ],
             [
              0.5555555555555556,
              "#d8576b"
             ],
             [
              0.6666666666666666,
              "#ed7953"
             ],
             [
              0.7777777777777778,
              "#fb9f3a"
             ],
             [
              0.8888888888888888,
              "#fdca26"
             ],
             [
              1,
              "#f0f921"
             ]
            ],
            "type": "histogram2dcontour"
           }
          ],
          "mesh3d": [
           {
            "colorbar": {
             "outlinewidth": 0,
             "ticks": ""
            },
            "type": "mesh3d"
           }
          ],
          "parcoords": [
           {
            "line": {
             "colorbar": {
              "outlinewidth": 0,
              "ticks": ""
             }
            },
            "type": "parcoords"
           }
          ],
          "pie": [
           {
            "automargin": true,
            "type": "pie"
           }
          ],
          "scatter": [
           {
            "fillpattern": {
             "fillmode": "overlay",
             "size": 10,
             "solidity": 0.2
            },
            "type": "scatter"
           }
          ],
          "scatter3d": [
           {
            "line": {
             "colorbar": {
              "outlinewidth": 0,
              "ticks": ""
             }
            },
            "marker": {
             "colorbar": {
              "outlinewidth": 0,
              "ticks": ""
             }
            },
            "type": "scatter3d"
           }
          ],
          "scattercarpet": [
           {
            "marker": {
             "colorbar": {
              "outlinewidth": 0,
              "ticks": ""
             }
            },
            "type": "scattercarpet"
           }
          ],
          "scattergeo": [
           {
            "marker": {
             "colorbar": {
              "outlinewidth": 0,
              "ticks": ""
             }
            },
            "type": "scattergeo"
           }
          ],
          "scattergl": [
           {
            "marker": {
             "colorbar": {
              "outlinewidth": 0,
              "ticks": ""
             }
            },
            "type": "scattergl"
           }
          ],
          "scattermapbox": [
           {
            "marker": {
             "colorbar": {
              "outlinewidth": 0,
              "ticks": ""
             }
            },
            "type": "scattermapbox"
           }
          ],
          "scatterpolar": [
           {
            "marker": {
             "colorbar": {
              "outlinewidth": 0,
              "ticks": ""
             }
            },
            "type": "scatterpolar"
           }
          ],
          "scatterpolargl": [
           {
            "marker": {
             "colorbar": {
              "outlinewidth": 0,
              "ticks": ""
             }
            },
            "type": "scatterpolargl"
           }
          ],
          "scatterternary": [
           {
            "marker": {
             "colorbar": {
              "outlinewidth": 0,
              "ticks": ""
             }
            },
            "type": "scatterternary"
           }
          ],
          "surface": [
           {
            "colorbar": {
             "outlinewidth": 0,
             "ticks": ""
            },
            "colorscale": [
             [
              0,
              "#0d0887"
             ],
             [
              0.1111111111111111,
              "#46039f"
             ],
             [
              0.2222222222222222,
              "#7201a8"
             ],
             [
              0.3333333333333333,
              "#9c179e"
             ],
             [
              0.4444444444444444,
              "#bd3786"
             ],
             [
              0.5555555555555556,
              "#d8576b"
             ],
             [
              0.6666666666666666,
              "#ed7953"
             ],
             [
              0.7777777777777778,
              "#fb9f3a"
             ],
             [
              0.8888888888888888,
              "#fdca26"
             ],
             [
              1,
              "#f0f921"
             ]
            ],
            "type": "surface"
           }
          ],
          "table": [
           {
            "cells": {
             "fill": {
              "color": "#EBF0F8"
             },
             "line": {
              "color": "white"
             }
            },
            "header": {
             "fill": {
              "color": "#C8D4E3"
             },
             "line": {
              "color": "white"
             }
            },
            "type": "table"
           }
          ]
         },
         "layout": {
          "annotationdefaults": {
           "arrowcolor": "#2a3f5f",
           "arrowhead": 0,
           "arrowwidth": 1
          },
          "autotypenumbers": "strict",
          "coloraxis": {
           "colorbar": {
            "outlinewidth": 0,
            "ticks": ""
           }
          },
          "colorscale": {
           "diverging": [
            [
             0,
             "#8e0152"
            ],
            [
             0.1,
             "#c51b7d"
            ],
            [
             0.2,
             "#de77ae"
            ],
            [
             0.3,
             "#f1b6da"
            ],
            [
             0.4,
             "#fde0ef"
            ],
            [
             0.5,
             "#f7f7f7"
            ],
            [
             0.6,
             "#e6f5d0"
            ],
            [
             0.7,
             "#b8e186"
            ],
            [
             0.8,
             "#7fbc41"
            ],
            [
             0.9,
             "#4d9221"
            ],
            [
             1,
             "#276419"
            ]
           ],
           "sequential": [
            [
             0,
             "#0d0887"
            ],
            [
             0.1111111111111111,
             "#46039f"
            ],
            [
             0.2222222222222222,
             "#7201a8"
            ],
            [
             0.3333333333333333,
             "#9c179e"
            ],
            [
             0.4444444444444444,
             "#bd3786"
            ],
            [
             0.5555555555555556,
             "#d8576b"
            ],
            [
             0.6666666666666666,
             "#ed7953"
            ],
            [
             0.7777777777777778,
             "#fb9f3a"
            ],
            [
             0.8888888888888888,
             "#fdca26"
            ],
            [
             1,
             "#f0f921"
            ]
           ],
           "sequentialminus": [
            [
             0,
             "#0d0887"
            ],
            [
             0.1111111111111111,
             "#46039f"
            ],
            [
             0.2222222222222222,
             "#7201a8"
            ],
            [
             0.3333333333333333,
             "#9c179e"
            ],
            [
             0.4444444444444444,
             "#bd3786"
            ],
            [
             0.5555555555555556,
             "#d8576b"
            ],
            [
             0.6666666666666666,
             "#ed7953"
            ],
            [
             0.7777777777777778,
             "#fb9f3a"
            ],
            [
             0.8888888888888888,
             "#fdca26"
            ],
            [
             1,
             "#f0f921"
            ]
           ]
          },
          "colorway": [
           "#636efa",
           "#EF553B",
           "#00cc96",
           "#ab63fa",
           "#FFA15A",
           "#19d3f3",
           "#FF6692",
           "#B6E880",
           "#FF97FF",
           "#FECB52"
          ],
          "font": {
           "color": "#2a3f5f"
          },
          "geo": {
           "bgcolor": "white",
           "lakecolor": "white",
           "landcolor": "#E5ECF6",
           "showlakes": true,
           "showland": true,
           "subunitcolor": "white"
          },
          "hoverlabel": {
           "align": "left"
          },
          "hovermode": "closest",
          "mapbox": {
           "style": "light"
          },
          "paper_bgcolor": "white",
          "plot_bgcolor": "#E5ECF6",
          "polar": {
           "angularaxis": {
            "gridcolor": "white",
            "linecolor": "white",
            "ticks": ""
           },
           "bgcolor": "#E5ECF6",
           "radialaxis": {
            "gridcolor": "white",
            "linecolor": "white",
            "ticks": ""
           }
          },
          "scene": {
           "xaxis": {
            "backgroundcolor": "#E5ECF6",
            "gridcolor": "white",
            "gridwidth": 2,
            "linecolor": "white",
            "showbackground": true,
            "ticks": "",
            "zerolinecolor": "white"
           },
           "yaxis": {
            "backgroundcolor": "#E5ECF6",
            "gridcolor": "white",
            "gridwidth": 2,
            "linecolor": "white",
            "showbackground": true,
            "ticks": "",
            "zerolinecolor": "white"
           },
           "zaxis": {
            "backgroundcolor": "#E5ECF6",
            "gridcolor": "white",
            "gridwidth": 2,
            "linecolor": "white",
            "showbackground": true,
            "ticks": "",
            "zerolinecolor": "white"
           }
          },
          "shapedefaults": {
           "line": {
            "color": "#2a3f5f"
           }
          },
          "ternary": {
           "aaxis": {
            "gridcolor": "white",
            "linecolor": "white",
            "ticks": ""
           },
           "baxis": {
            "gridcolor": "white",
            "linecolor": "white",
            "ticks": ""
           },
           "bgcolor": "#E5ECF6",
           "caxis": {
            "gridcolor": "white",
            "linecolor": "white",
            "ticks": ""
           }
          },
          "title": {
           "x": 0.05
          },
          "xaxis": {
           "automargin": true,
           "gridcolor": "white",
           "linecolor": "white",
           "ticks": "",
           "title": {
            "standoff": 15
           },
           "zerolinecolor": "white",
           "zerolinewidth": 2
          },
          "yaxis": {
           "automargin": true,
           "gridcolor": "white",
           "linecolor": "white",
           "ticks": "",
           "title": {
            "standoff": 15
           },
           "zerolinecolor": "white",
           "zerolinewidth": 2
          }
         }
        },
        "title": {
         "text": "Cancelled Users By State"
        }
       }
      }
     },
     "metadata": {},
     "output_type": "display_data"
    }
   ],
   "source": [
    "state_heat(user_by_state[cancel_filter], title=\"Cancelled Users By State\")"
   ]
  },
  {
   "cell_type": "code",
   "execution_count": 67,
   "metadata": {},
   "outputs": [
    {
     "data": {
      "application/vnd.plotly.v1+json": {
       "config": {
        "plotlyServerURL": "https://plot.ly"
       },
       "data": [
        {
         "coloraxis": "coloraxis",
         "geo": "geo",
         "hovertemplate": "locations=%{location}<br>color=%{z}<extra></extra>",
         "locationmode": "USA-states",
         "locations": [
          "CA",
          "PA",
          "TX",
          "FL",
          "WI",
          "IL",
          "NH",
          "NC",
          "CT",
          "SC",
          "IN",
          "WV",
          "AZ",
          "WA",
          "AL",
          "MD",
          "NY",
          "GA",
          "VA",
          "NV",
          "NJ",
          "CO",
          "IA",
          "AK",
          "MA",
          "MI",
          "UT",
          "TN",
          "OK",
          "OH",
          "MT",
          "MS",
          "LA",
          "KY",
          "KS",
          "ID"
         ],
         "name": "",
         "type": "choropleth",
         "z": [
          27,
          13,
          13,
          11,
          9,
          8,
          7,
          7,
          7,
          7,
          5,
          5,
          5,
          4,
          4,
          4,
          4,
          4,
          3,
          3,
          3,
          2,
          2,
          2,
          2,
          2,
          1,
          1,
          1,
          1,
          1,
          1,
          1,
          1,
          1,
          1
         ]
        }
       ],
       "layout": {
        "coloraxis": {
         "colorbar": {
          "title": {
           "text": "color"
          }
         },
         "colorscale": [
          [
           0,
           "#0d0887"
          ],
          [
           0.1111111111111111,
           "#46039f"
          ],
          [
           0.2222222222222222,
           "#7201a8"
          ],
          [
           0.3333333333333333,
           "#9c179e"
          ],
          [
           0.4444444444444444,
           "#bd3786"
          ],
          [
           0.5555555555555556,
           "#d8576b"
          ],
          [
           0.6666666666666666,
           "#ed7953"
          ],
          [
           0.7777777777777778,
           "#fb9f3a"
          ],
          [
           0.8888888888888888,
           "#fdca26"
          ],
          [
           1,
           "#f0f921"
          ]
         ]
        },
        "geo": {
         "center": {},
         "domain": {
          "x": [
           0,
           1
          ],
          "y": [
           0,
           1
          ]
         },
         "scope": "usa"
        },
        "legend": {
         "tracegroupgap": 0
        },
        "template": {
         "data": {
          "bar": [
           {
            "error_x": {
             "color": "#2a3f5f"
            },
            "error_y": {
             "color": "#2a3f5f"
            },
            "marker": {
             "line": {
              "color": "#E5ECF6",
              "width": 0.5
             },
             "pattern": {
              "fillmode": "overlay",
              "size": 10,
              "solidity": 0.2
             }
            },
            "type": "bar"
           }
          ],
          "barpolar": [
           {
            "marker": {
             "line": {
              "color": "#E5ECF6",
              "width": 0.5
             },
             "pattern": {
              "fillmode": "overlay",
              "size": 10,
              "solidity": 0.2
             }
            },
            "type": "barpolar"
           }
          ],
          "carpet": [
           {
            "aaxis": {
             "endlinecolor": "#2a3f5f",
             "gridcolor": "white",
             "linecolor": "white",
             "minorgridcolor": "white",
             "startlinecolor": "#2a3f5f"
            },
            "baxis": {
             "endlinecolor": "#2a3f5f",
             "gridcolor": "white",
             "linecolor": "white",
             "minorgridcolor": "white",
             "startlinecolor": "#2a3f5f"
            },
            "type": "carpet"
           }
          ],
          "choropleth": [
           {
            "colorbar": {
             "outlinewidth": 0,
             "ticks": ""
            },
            "type": "choropleth"
           }
          ],
          "contour": [
           {
            "colorbar": {
             "outlinewidth": 0,
             "ticks": ""
            },
            "colorscale": [
             [
              0,
              "#0d0887"
             ],
             [
              0.1111111111111111,
              "#46039f"
             ],
             [
              0.2222222222222222,
              "#7201a8"
             ],
             [
              0.3333333333333333,
              "#9c179e"
             ],
             [
              0.4444444444444444,
              "#bd3786"
             ],
             [
              0.5555555555555556,
              "#d8576b"
             ],
             [
              0.6666666666666666,
              "#ed7953"
             ],
             [
              0.7777777777777778,
              "#fb9f3a"
             ],
             [
              0.8888888888888888,
              "#fdca26"
             ],
             [
              1,
              "#f0f921"
             ]
            ],
            "type": "contour"
           }
          ],
          "contourcarpet": [
           {
            "colorbar": {
             "outlinewidth": 0,
             "ticks": ""
            },
            "type": "contourcarpet"
           }
          ],
          "heatmap": [
           {
            "colorbar": {
             "outlinewidth": 0,
             "ticks": ""
            },
            "colorscale": [
             [
              0,
              "#0d0887"
             ],
             [
              0.1111111111111111,
              "#46039f"
             ],
             [
              0.2222222222222222,
              "#7201a8"
             ],
             [
              0.3333333333333333,
              "#9c179e"
             ],
             [
              0.4444444444444444,
              "#bd3786"
             ],
             [
              0.5555555555555556,
              "#d8576b"
             ],
             [
              0.6666666666666666,
              "#ed7953"
             ],
             [
              0.7777777777777778,
              "#fb9f3a"
             ],
             [
              0.8888888888888888,
              "#fdca26"
             ],
             [
              1,
              "#f0f921"
             ]
            ],
            "type": "heatmap"
           }
          ],
          "heatmapgl": [
           {
            "colorbar": {
             "outlinewidth": 0,
             "ticks": ""
            },
            "colorscale": [
             [
              0,
              "#0d0887"
             ],
             [
              0.1111111111111111,
              "#46039f"
             ],
             [
              0.2222222222222222,
              "#7201a8"
             ],
             [
              0.3333333333333333,
              "#9c179e"
             ],
             [
              0.4444444444444444,
              "#bd3786"
             ],
             [
              0.5555555555555556,
              "#d8576b"
             ],
             [
              0.6666666666666666,
              "#ed7953"
             ],
             [
              0.7777777777777778,
              "#fb9f3a"
             ],
             [
              0.8888888888888888,
              "#fdca26"
             ],
             [
              1,
              "#f0f921"
             ]
            ],
            "type": "heatmapgl"
           }
          ],
          "histogram": [
           {
            "marker": {
             "pattern": {
              "fillmode": "overlay",
              "size": 10,
              "solidity": 0.2
             }
            },
            "type": "histogram"
           }
          ],
          "histogram2d": [
           {
            "colorbar": {
             "outlinewidth": 0,
             "ticks": ""
            },
            "colorscale": [
             [
              0,
              "#0d0887"
             ],
             [
              0.1111111111111111,
              "#46039f"
             ],
             [
              0.2222222222222222,
              "#7201a8"
             ],
             [
              0.3333333333333333,
              "#9c179e"
             ],
             [
              0.4444444444444444,
              "#bd3786"
             ],
             [
              0.5555555555555556,
              "#d8576b"
             ],
             [
              0.6666666666666666,
              "#ed7953"
             ],
             [
              0.7777777777777778,
              "#fb9f3a"
             ],
             [
              0.8888888888888888,
              "#fdca26"
             ],
             [
              1,
              "#f0f921"
             ]
            ],
            "type": "histogram2d"
           }
          ],
          "histogram2dcontour": [
           {
            "colorbar": {
             "outlinewidth": 0,
             "ticks": ""
            },
            "colorscale": [
             [
              0,
              "#0d0887"
             ],
             [
              0.1111111111111111,
              "#46039f"
             ],
             [
              0.2222222222222222,
              "#7201a8"
             ],
             [
              0.3333333333333333,
              "#9c179e"
             ],
             [
              0.4444444444444444,
              "#bd3786"
             ],
             [
              0.5555555555555556,
              "#d8576b"
             ],
             [
              0.6666666666666666,
              "#ed7953"
             ],
             [
              0.7777777777777778,
              "#fb9f3a"
             ],
             [
              0.8888888888888888,
              "#fdca26"
             ],
             [
              1,
              "#f0f921"
             ]
            ],
            "type": "histogram2dcontour"
           }
          ],
          "mesh3d": [
           {
            "colorbar": {
             "outlinewidth": 0,
             "ticks": ""
            },
            "type": "mesh3d"
           }
          ],
          "parcoords": [
           {
            "line": {
             "colorbar": {
              "outlinewidth": 0,
              "ticks": ""
             }
            },
            "type": "parcoords"
           }
          ],
          "pie": [
           {
            "automargin": true,
            "type": "pie"
           }
          ],
          "scatter": [
           {
            "fillpattern": {
             "fillmode": "overlay",
             "size": 10,
             "solidity": 0.2
            },
            "type": "scatter"
           }
          ],
          "scatter3d": [
           {
            "line": {
             "colorbar": {
              "outlinewidth": 0,
              "ticks": ""
             }
            },
            "marker": {
             "colorbar": {
              "outlinewidth": 0,
              "ticks": ""
             }
            },
            "type": "scatter3d"
           }
          ],
          "scattercarpet": [
           {
            "marker": {
             "colorbar": {
              "outlinewidth": 0,
              "ticks": ""
             }
            },
            "type": "scattercarpet"
           }
          ],
          "scattergeo": [
           {
            "marker": {
             "colorbar": {
              "outlinewidth": 0,
              "ticks": ""
             }
            },
            "type": "scattergeo"
           }
          ],
          "scattergl": [
           {
            "marker": {
             "colorbar": {
              "outlinewidth": 0,
              "ticks": ""
             }
            },
            "type": "scattergl"
           }
          ],
          "scattermapbox": [
           {
            "marker": {
             "colorbar": {
              "outlinewidth": 0,
              "ticks": ""
             }
            },
            "type": "scattermapbox"
           }
          ],
          "scatterpolar": [
           {
            "marker": {
             "colorbar": {
              "outlinewidth": 0,
              "ticks": ""
             }
            },
            "type": "scatterpolar"
           }
          ],
          "scatterpolargl": [
           {
            "marker": {
             "colorbar": {
              "outlinewidth": 0,
              "ticks": ""
             }
            },
            "type": "scatterpolargl"
           }
          ],
          "scatterternary": [
           {
            "marker": {
             "colorbar": {
              "outlinewidth": 0,
              "ticks": ""
             }
            },
            "type": "scatterternary"
           }
          ],
          "surface": [
           {
            "colorbar": {
             "outlinewidth": 0,
             "ticks": ""
            },
            "colorscale": [
             [
              0,
              "#0d0887"
             ],
             [
              0.1111111111111111,
              "#46039f"
             ],
             [
              0.2222222222222222,
              "#7201a8"
             ],
             [
              0.3333333333333333,
              "#9c179e"
             ],
             [
              0.4444444444444444,
              "#bd3786"
             ],
             [
              0.5555555555555556,
              "#d8576b"
             ],
             [
              0.6666666666666666,
              "#ed7953"
             ],
             [
              0.7777777777777778,
              "#fb9f3a"
             ],
             [
              0.8888888888888888,
              "#fdca26"
             ],
             [
              1,
              "#f0f921"
             ]
            ],
            "type": "surface"
           }
          ],
          "table": [
           {
            "cells": {
             "fill": {
              "color": "#EBF0F8"
             },
             "line": {
              "color": "white"
             }
            },
            "header": {
             "fill": {
              "color": "#C8D4E3"
             },
             "line": {
              "color": "white"
             }
            },
            "type": "table"
           }
          ]
         },
         "layout": {
          "annotationdefaults": {
           "arrowcolor": "#2a3f5f",
           "arrowhead": 0,
           "arrowwidth": 1
          },
          "autotypenumbers": "strict",
          "coloraxis": {
           "colorbar": {
            "outlinewidth": 0,
            "ticks": ""
           }
          },
          "colorscale": {
           "diverging": [
            [
             0,
             "#8e0152"
            ],
            [
             0.1,
             "#c51b7d"
            ],
            [
             0.2,
             "#de77ae"
            ],
            [
             0.3,
             "#f1b6da"
            ],
            [
             0.4,
             "#fde0ef"
            ],
            [
             0.5,
             "#f7f7f7"
            ],
            [
             0.6,
             "#e6f5d0"
            ],
            [
             0.7,
             "#b8e186"
            ],
            [
             0.8,
             "#7fbc41"
            ],
            [
             0.9,
             "#4d9221"
            ],
            [
             1,
             "#276419"
            ]
           ],
           "sequential": [
            [
             0,
             "#0d0887"
            ],
            [
             0.1111111111111111,
             "#46039f"
            ],
            [
             0.2222222222222222,
             "#7201a8"
            ],
            [
             0.3333333333333333,
             "#9c179e"
            ],
            [
             0.4444444444444444,
             "#bd3786"
            ],
            [
             0.5555555555555556,
             "#d8576b"
            ],
            [
             0.6666666666666666,
             "#ed7953"
            ],
            [
             0.7777777777777778,
             "#fb9f3a"
            ],
            [
             0.8888888888888888,
             "#fdca26"
            ],
            [
             1,
             "#f0f921"
            ]
           ],
           "sequentialminus": [
            [
             0,
             "#0d0887"
            ],
            [
             0.1111111111111111,
             "#46039f"
            ],
            [
             0.2222222222222222,
             "#7201a8"
            ],
            [
             0.3333333333333333,
             "#9c179e"
            ],
            [
             0.4444444444444444,
             "#bd3786"
            ],
            [
             0.5555555555555556,
             "#d8576b"
            ],
            [
             0.6666666666666666,
             "#ed7953"
            ],
            [
             0.7777777777777778,
             "#fb9f3a"
            ],
            [
             0.8888888888888888,
             "#fdca26"
            ],
            [
             1,
             "#f0f921"
            ]
           ]
          },
          "colorway": [
           "#636efa",
           "#EF553B",
           "#00cc96",
           "#ab63fa",
           "#FFA15A",
           "#19d3f3",
           "#FF6692",
           "#B6E880",
           "#FF97FF",
           "#FECB52"
          ],
          "font": {
           "color": "#2a3f5f"
          },
          "geo": {
           "bgcolor": "white",
           "lakecolor": "white",
           "landcolor": "#E5ECF6",
           "showlakes": true,
           "showland": true,
           "subunitcolor": "white"
          },
          "hoverlabel": {
           "align": "left"
          },
          "hovermode": "closest",
          "mapbox": {
           "style": "light"
          },
          "paper_bgcolor": "white",
          "plot_bgcolor": "#E5ECF6",
          "polar": {
           "angularaxis": {
            "gridcolor": "white",
            "linecolor": "white",
            "ticks": ""
           },
           "bgcolor": "#E5ECF6",
           "radialaxis": {
            "gridcolor": "white",
            "linecolor": "white",
            "ticks": ""
           }
          },
          "scene": {
           "xaxis": {
            "backgroundcolor": "#E5ECF6",
            "gridcolor": "white",
            "gridwidth": 2,
            "linecolor": "white",
            "showbackground": true,
            "ticks": "",
            "zerolinecolor": "white"
           },
           "yaxis": {
            "backgroundcolor": "#E5ECF6",
            "gridcolor": "white",
            "gridwidth": 2,
            "linecolor": "white",
            "showbackground": true,
            "ticks": "",
            "zerolinecolor": "white"
           },
           "zaxis": {
            "backgroundcolor": "#E5ECF6",
            "gridcolor": "white",
            "gridwidth": 2,
            "linecolor": "white",
            "showbackground": true,
            "ticks": "",
            "zerolinecolor": "white"
           }
          },
          "shapedefaults": {
           "line": {
            "color": "#2a3f5f"
           }
          },
          "ternary": {
           "aaxis": {
            "gridcolor": "white",
            "linecolor": "white",
            "ticks": ""
           },
           "baxis": {
            "gridcolor": "white",
            "linecolor": "white",
            "ticks": ""
           },
           "bgcolor": "#E5ECF6",
           "caxis": {
            "gridcolor": "white",
            "linecolor": "white",
            "ticks": ""
           }
          },
          "title": {
           "x": 0.05
          },
          "xaxis": {
           "automargin": true,
           "gridcolor": "white",
           "linecolor": "white",
           "ticks": "",
           "title": {
            "standoff": 15
           },
           "zerolinecolor": "white",
           "zerolinewidth": 2
          },
          "yaxis": {
           "automargin": true,
           "gridcolor": "white",
           "linecolor": "white",
           "ticks": "",
           "title": {
            "standoff": 15
           },
           "zerolinecolor": "white",
           "zerolinewidth": 2
          }
         }
        },
        "title": {
         "text": "Non-Cancelled Users by State"
        }
       }
      }
     },
     "metadata": {},
     "output_type": "display_data"
    }
   ],
   "source": [
    "state_heat(user_by_state[noncancel_filter], title=\"Non-Cancelled Users by State\")"
   ]
  },
  {
   "cell_type": "markdown",
   "metadata": {},
   "source": [
    "user_by_state"
   ]
  },
  {
   "cell_type": "code",
   "execution_count": 68,
   "metadata": {},
   "outputs": [
    {
     "data": {
      "text/html": [
       "<div>\n",
       "<style scoped>\n",
       "    .dataframe tbody tr th:only-of-type {\n",
       "        vertical-align: middle;\n",
       "    }\n",
       "\n",
       "    .dataframe tbody tr th {\n",
       "        vertical-align: top;\n",
       "    }\n",
       "\n",
       "    .dataframe thead th {\n",
       "        text-align: right;\n",
       "    }\n",
       "</style>\n",
       "<table border=\"1\" class=\"dataframe\">\n",
       "  <thead>\n",
       "    <tr style=\"text-align: right;\">\n",
       "      <th></th>\n",
       "      <th>total_count</th>\n",
       "      <th>cancellation_count</th>\n",
       "      <th>churn_percentage</th>\n",
       "    </tr>\n",
       "  </thead>\n",
       "  <tbody>\n",
       "    <tr>\n",
       "      <th>count</th>\n",
       "      <td>39.000000</td>\n",
       "      <td>39.000000</td>\n",
       "      <td>39.000000</td>\n",
       "    </tr>\n",
       "    <tr>\n",
       "      <th>mean</th>\n",
       "      <td>5.769231</td>\n",
       "      <td>1.333333</td>\n",
       "      <td>2.564103</td>\n",
       "    </tr>\n",
       "    <tr>\n",
       "      <th>std</th>\n",
       "      <td>6.076103</td>\n",
       "      <td>1.401753</td>\n",
       "      <td>2.695679</td>\n",
       "    </tr>\n",
       "    <tr>\n",
       "      <th>min</th>\n",
       "      <td>1.000000</td>\n",
       "      <td>0.000000</td>\n",
       "      <td>0.000000</td>\n",
       "    </tr>\n",
       "    <tr>\n",
       "      <th>25%</th>\n",
       "      <td>2.000000</td>\n",
       "      <td>0.000000</td>\n",
       "      <td>0.000000</td>\n",
       "    </tr>\n",
       "    <tr>\n",
       "      <th>50%</th>\n",
       "      <td>4.000000</td>\n",
       "      <td>1.000000</td>\n",
       "      <td>1.923077</td>\n",
       "    </tr>\n",
       "    <tr>\n",
       "      <th>75%</th>\n",
       "      <td>7.000000</td>\n",
       "      <td>2.000000</td>\n",
       "      <td>3.846154</td>\n",
       "    </tr>\n",
       "    <tr>\n",
       "      <th>max</th>\n",
       "      <td>33.000000</td>\n",
       "      <td>6.000000</td>\n",
       "      <td>11.538462</td>\n",
       "    </tr>\n",
       "  </tbody>\n",
       "</table>\n",
       "</div>"
      ],
      "text/plain": [
       "       total_count  cancellation_count  churn_percentage\n",
       "count    39.000000           39.000000         39.000000\n",
       "mean      5.769231            1.333333          2.564103\n",
       "std       6.076103            1.401753          2.695679\n",
       "min       1.000000            0.000000          0.000000\n",
       "25%       2.000000            0.000000          0.000000\n",
       "50%       4.000000            1.000000          1.923077\n",
       "75%       7.000000            2.000000          3.846154\n",
       "max      33.000000            6.000000         11.538462"
      ]
     },
     "execution_count": 68,
     "metadata": {},
     "output_type": "execute_result"
    }
   ],
   "source": [
    "# Calculate Churn Pecentage By State\n",
    "def churn_by_state(df):\n",
    "    grouped_df = df.groupby(\"state\")[\"count\"].agg(\n",
    "        total_count=\"sum\",\n",
    "        cancellation_count=lambda x: (x * df.loc[x.index, \"cancel_flag\"]).sum(),\n",
    "    )\n",
    "    grouped_df[\"churn_percentage\"] = (\n",
    "        grouped_df[\"cancellation_count\"] / grouped_df[\"cancellation_count\"].sum()\n",
    "    ) * 100\n",
    "    return grouped_df\n",
    "\n",
    "\n",
    "churn_by_state_df = churn_by_state(user_by_state)\n",
    "\n",
    "churn_by_state_df.sort_values(\"churn_percentage\", ascending=False).describe()"
   ]
  },
  {
   "cell_type": "code",
   "execution_count": 69,
   "metadata": {},
   "outputs": [
    {
     "data": {
      "application/vnd.plotly.v1+json": {
       "config": {
        "plotlyServerURL": "https://plot.ly"
       },
       "data": [
        {
         "coloraxis": "coloraxis",
         "geo": "geo",
         "hovertemplate": "locations=%{location}<br>color=%{z}<extra></extra>",
         "locationmode": "USA-states",
         "locations": [
          "AK",
          "AL",
          "AR",
          "AZ",
          "CA",
          "CO",
          "CT",
          "FL",
          "GA",
          "IA",
          "ID",
          "IL",
          "IN",
          "KS",
          "KY",
          "LA",
          "MA",
          "MD",
          "MI",
          "MO",
          "MS",
          "MT",
          "NC",
          "NH",
          "NJ",
          "NV",
          "NY",
          "OH",
          "OK",
          "OR",
          "PA",
          "SC",
          "TN",
          "TX",
          "UT",
          "VA",
          "WA",
          "WI",
          "WV"
         ],
         "name": "",
         "type": "choropleth",
         "z": [
          0,
          3.8461538461538463,
          3.8461538461538463,
          3.8461538461538463,
          11.538461538461538,
          3.8461538461538463,
          0,
          5.769230769230769,
          0,
          0,
          0,
          1.9230769230769231,
          1.9230769230769231,
          1.9230769230769231,
          3.8461538461538463,
          1.9230769230769231,
          0,
          5.769230769230769,
          5.769230769230769,
          1.9230769230769231,
          3.8461538461538463,
          1.9230769230769231,
          3.8461538461538463,
          0,
          0,
          0,
          1.9230769230769231,
          3.8461538461538463,
          0,
          1.9230769230769231,
          9.615384615384617,
          1.9230769230769231,
          0,
          5.769230769230769,
          0,
          0,
          3.8461538461538463,
          1.9230769230769231,
          1.9230769230769231
         ]
        }
       ],
       "layout": {
        "coloraxis": {
         "colorbar": {
          "title": {
           "text": "color"
          }
         },
         "colorscale": [
          [
           0,
           "#0d0887"
          ],
          [
           0.1111111111111111,
           "#46039f"
          ],
          [
           0.2222222222222222,
           "#7201a8"
          ],
          [
           0.3333333333333333,
           "#9c179e"
          ],
          [
           0.4444444444444444,
           "#bd3786"
          ],
          [
           0.5555555555555556,
           "#d8576b"
          ],
          [
           0.6666666666666666,
           "#ed7953"
          ],
          [
           0.7777777777777778,
           "#fb9f3a"
          ],
          [
           0.8888888888888888,
           "#fdca26"
          ],
          [
           1,
           "#f0f921"
          ]
         ]
        },
        "geo": {
         "center": {},
         "domain": {
          "x": [
           0,
           1
          ],
          "y": [
           0,
           1
          ]
         },
         "scope": "usa"
        },
        "legend": {
         "tracegroupgap": 0
        },
        "template": {
         "data": {
          "bar": [
           {
            "error_x": {
             "color": "#2a3f5f"
            },
            "error_y": {
             "color": "#2a3f5f"
            },
            "marker": {
             "line": {
              "color": "#E5ECF6",
              "width": 0.5
             },
             "pattern": {
              "fillmode": "overlay",
              "size": 10,
              "solidity": 0.2
             }
            },
            "type": "bar"
           }
          ],
          "barpolar": [
           {
            "marker": {
             "line": {
              "color": "#E5ECF6",
              "width": 0.5
             },
             "pattern": {
              "fillmode": "overlay",
              "size": 10,
              "solidity": 0.2
             }
            },
            "type": "barpolar"
           }
          ],
          "carpet": [
           {
            "aaxis": {
             "endlinecolor": "#2a3f5f",
             "gridcolor": "white",
             "linecolor": "white",
             "minorgridcolor": "white",
             "startlinecolor": "#2a3f5f"
            },
            "baxis": {
             "endlinecolor": "#2a3f5f",
             "gridcolor": "white",
             "linecolor": "white",
             "minorgridcolor": "white",
             "startlinecolor": "#2a3f5f"
            },
            "type": "carpet"
           }
          ],
          "choropleth": [
           {
            "colorbar": {
             "outlinewidth": 0,
             "ticks": ""
            },
            "type": "choropleth"
           }
          ],
          "contour": [
           {
            "colorbar": {
             "outlinewidth": 0,
             "ticks": ""
            },
            "colorscale": [
             [
              0,
              "#0d0887"
             ],
             [
              0.1111111111111111,
              "#46039f"
             ],
             [
              0.2222222222222222,
              "#7201a8"
             ],
             [
              0.3333333333333333,
              "#9c179e"
             ],
             [
              0.4444444444444444,
              "#bd3786"
             ],
             [
              0.5555555555555556,
              "#d8576b"
             ],
             [
              0.6666666666666666,
              "#ed7953"
             ],
             [
              0.7777777777777778,
              "#fb9f3a"
             ],
             [
              0.8888888888888888,
              "#fdca26"
             ],
             [
              1,
              "#f0f921"
             ]
            ],
            "type": "contour"
           }
          ],
          "contourcarpet": [
           {
            "colorbar": {
             "outlinewidth": 0,
             "ticks": ""
            },
            "type": "contourcarpet"
           }
          ],
          "heatmap": [
           {
            "colorbar": {
             "outlinewidth": 0,
             "ticks": ""
            },
            "colorscale": [
             [
              0,
              "#0d0887"
             ],
             [
              0.1111111111111111,
              "#46039f"
             ],
             [
              0.2222222222222222,
              "#7201a8"
             ],
             [
              0.3333333333333333,
              "#9c179e"
             ],
             [
              0.4444444444444444,
              "#bd3786"
             ],
             [
              0.5555555555555556,
              "#d8576b"
             ],
             [
              0.6666666666666666,
              "#ed7953"
             ],
             [
              0.7777777777777778,
              "#fb9f3a"
             ],
             [
              0.8888888888888888,
              "#fdca26"
             ],
             [
              1,
              "#f0f921"
             ]
            ],
            "type": "heatmap"
           }
          ],
          "heatmapgl": [
           {
            "colorbar": {
             "outlinewidth": 0,
             "ticks": ""
            },
            "colorscale": [
             [
              0,
              "#0d0887"
             ],
             [
              0.1111111111111111,
              "#46039f"
             ],
             [
              0.2222222222222222,
              "#7201a8"
             ],
             [
              0.3333333333333333,
              "#9c179e"
             ],
             [
              0.4444444444444444,
              "#bd3786"
             ],
             [
              0.5555555555555556,
              "#d8576b"
             ],
             [
              0.6666666666666666,
              "#ed7953"
             ],
             [
              0.7777777777777778,
              "#fb9f3a"
             ],
             [
              0.8888888888888888,
              "#fdca26"
             ],
             [
              1,
              "#f0f921"
             ]
            ],
            "type": "heatmapgl"
           }
          ],
          "histogram": [
           {
            "marker": {
             "pattern": {
              "fillmode": "overlay",
              "size": 10,
              "solidity": 0.2
             }
            },
            "type": "histogram"
           }
          ],
          "histogram2d": [
           {
            "colorbar": {
             "outlinewidth": 0,
             "ticks": ""
            },
            "colorscale": [
             [
              0,
              "#0d0887"
             ],
             [
              0.1111111111111111,
              "#46039f"
             ],
             [
              0.2222222222222222,
              "#7201a8"
             ],
             [
              0.3333333333333333,
              "#9c179e"
             ],
             [
              0.4444444444444444,
              "#bd3786"
             ],
             [
              0.5555555555555556,
              "#d8576b"
             ],
             [
              0.6666666666666666,
              "#ed7953"
             ],
             [
              0.7777777777777778,
              "#fb9f3a"
             ],
             [
              0.8888888888888888,
              "#fdca26"
             ],
             [
              1,
              "#f0f921"
             ]
            ],
            "type": "histogram2d"
           }
          ],
          "histogram2dcontour": [
           {
            "colorbar": {
             "outlinewidth": 0,
             "ticks": ""
            },
            "colorscale": [
             [
              0,
              "#0d0887"
             ],
             [
              0.1111111111111111,
              "#46039f"
             ],
             [
              0.2222222222222222,
              "#7201a8"
             ],
             [
              0.3333333333333333,
              "#9c179e"
             ],
             [
              0.4444444444444444,
              "#bd3786"
             ],
             [
              0.5555555555555556,
              "#d8576b"
             ],
             [
              0.6666666666666666,
              "#ed7953"
             ],
             [
              0.7777777777777778,
              "#fb9f3a"
             ],
             [
              0.8888888888888888,
              "#fdca26"
             ],
             [
              1,
              "#f0f921"
             ]
            ],
            "type": "histogram2dcontour"
           }
          ],
          "mesh3d": [
           {
            "colorbar": {
             "outlinewidth": 0,
             "ticks": ""
            },
            "type": "mesh3d"
           }
          ],
          "parcoords": [
           {
            "line": {
             "colorbar": {
              "outlinewidth": 0,
              "ticks": ""
             }
            },
            "type": "parcoords"
           }
          ],
          "pie": [
           {
            "automargin": true,
            "type": "pie"
           }
          ],
          "scatter": [
           {
            "fillpattern": {
             "fillmode": "overlay",
             "size": 10,
             "solidity": 0.2
            },
            "type": "scatter"
           }
          ],
          "scatter3d": [
           {
            "line": {
             "colorbar": {
              "outlinewidth": 0,
              "ticks": ""
             }
            },
            "marker": {
             "colorbar": {
              "outlinewidth": 0,
              "ticks": ""
             }
            },
            "type": "scatter3d"
           }
          ],
          "scattercarpet": [
           {
            "marker": {
             "colorbar": {
              "outlinewidth": 0,
              "ticks": ""
             }
            },
            "type": "scattercarpet"
           }
          ],
          "scattergeo": [
           {
            "marker": {
             "colorbar": {
              "outlinewidth": 0,
              "ticks": ""
             }
            },
            "type": "scattergeo"
           }
          ],
          "scattergl": [
           {
            "marker": {
             "colorbar": {
              "outlinewidth": 0,
              "ticks": ""
             }
            },
            "type": "scattergl"
           }
          ],
          "scattermapbox": [
           {
            "marker": {
             "colorbar": {
              "outlinewidth": 0,
              "ticks": ""
             }
            },
            "type": "scattermapbox"
           }
          ],
          "scatterpolar": [
           {
            "marker": {
             "colorbar": {
              "outlinewidth": 0,
              "ticks": ""
             }
            },
            "type": "scatterpolar"
           }
          ],
          "scatterpolargl": [
           {
            "marker": {
             "colorbar": {
              "outlinewidth": 0,
              "ticks": ""
             }
            },
            "type": "scatterpolargl"
           }
          ],
          "scatterternary": [
           {
            "marker": {
             "colorbar": {
              "outlinewidth": 0,
              "ticks": ""
             }
            },
            "type": "scatterternary"
           }
          ],
          "surface": [
           {
            "colorbar": {
             "outlinewidth": 0,
             "ticks": ""
            },
            "colorscale": [
             [
              0,
              "#0d0887"
             ],
             [
              0.1111111111111111,
              "#46039f"
             ],
             [
              0.2222222222222222,
              "#7201a8"
             ],
             [
              0.3333333333333333,
              "#9c179e"
             ],
             [
              0.4444444444444444,
              "#bd3786"
             ],
             [
              0.5555555555555556,
              "#d8576b"
             ],
             [
              0.6666666666666666,
              "#ed7953"
             ],
             [
              0.7777777777777778,
              "#fb9f3a"
             ],
             [
              0.8888888888888888,
              "#fdca26"
             ],
             [
              1,
              "#f0f921"
             ]
            ],
            "type": "surface"
           }
          ],
          "table": [
           {
            "cells": {
             "fill": {
              "color": "#EBF0F8"
             },
             "line": {
              "color": "white"
             }
            },
            "header": {
             "fill": {
              "color": "#C8D4E3"
             },
             "line": {
              "color": "white"
             }
            },
            "type": "table"
           }
          ]
         },
         "layout": {
          "annotationdefaults": {
           "arrowcolor": "#2a3f5f",
           "arrowhead": 0,
           "arrowwidth": 1
          },
          "autotypenumbers": "strict",
          "coloraxis": {
           "colorbar": {
            "outlinewidth": 0,
            "ticks": ""
           }
          },
          "colorscale": {
           "diverging": [
            [
             0,
             "#8e0152"
            ],
            [
             0.1,
             "#c51b7d"
            ],
            [
             0.2,
             "#de77ae"
            ],
            [
             0.3,
             "#f1b6da"
            ],
            [
             0.4,
             "#fde0ef"
            ],
            [
             0.5,
             "#f7f7f7"
            ],
            [
             0.6,
             "#e6f5d0"
            ],
            [
             0.7,
             "#b8e186"
            ],
            [
             0.8,
             "#7fbc41"
            ],
            [
             0.9,
             "#4d9221"
            ],
            [
             1,
             "#276419"
            ]
           ],
           "sequential": [
            [
             0,
             "#0d0887"
            ],
            [
             0.1111111111111111,
             "#46039f"
            ],
            [
             0.2222222222222222,
             "#7201a8"
            ],
            [
             0.3333333333333333,
             "#9c179e"
            ],
            [
             0.4444444444444444,
             "#bd3786"
            ],
            [
             0.5555555555555556,
             "#d8576b"
            ],
            [
             0.6666666666666666,
             "#ed7953"
            ],
            [
             0.7777777777777778,
             "#fb9f3a"
            ],
            [
             0.8888888888888888,
             "#fdca26"
            ],
            [
             1,
             "#f0f921"
            ]
           ],
           "sequentialminus": [
            [
             0,
             "#0d0887"
            ],
            [
             0.1111111111111111,
             "#46039f"
            ],
            [
             0.2222222222222222,
             "#7201a8"
            ],
            [
             0.3333333333333333,
             "#9c179e"
            ],
            [
             0.4444444444444444,
             "#bd3786"
            ],
            [
             0.5555555555555556,
             "#d8576b"
            ],
            [
             0.6666666666666666,
             "#ed7953"
            ],
            [
             0.7777777777777778,
             "#fb9f3a"
            ],
            [
             0.8888888888888888,
             "#fdca26"
            ],
            [
             1,
             "#f0f921"
            ]
           ]
          },
          "colorway": [
           "#636efa",
           "#EF553B",
           "#00cc96",
           "#ab63fa",
           "#FFA15A",
           "#19d3f3",
           "#FF6692",
           "#B6E880",
           "#FF97FF",
           "#FECB52"
          ],
          "font": {
           "color": "#2a3f5f"
          },
          "geo": {
           "bgcolor": "white",
           "lakecolor": "white",
           "landcolor": "#E5ECF6",
           "showlakes": true,
           "showland": true,
           "subunitcolor": "white"
          },
          "hoverlabel": {
           "align": "left"
          },
          "hovermode": "closest",
          "mapbox": {
           "style": "light"
          },
          "paper_bgcolor": "white",
          "plot_bgcolor": "#E5ECF6",
          "polar": {
           "angularaxis": {
            "gridcolor": "white",
            "linecolor": "white",
            "ticks": ""
           },
           "bgcolor": "#E5ECF6",
           "radialaxis": {
            "gridcolor": "white",
            "linecolor": "white",
            "ticks": ""
           }
          },
          "scene": {
           "xaxis": {
            "backgroundcolor": "#E5ECF6",
            "gridcolor": "white",
            "gridwidth": 2,
            "linecolor": "white",
            "showbackground": true,
            "ticks": "",
            "zerolinecolor": "white"
           },
           "yaxis": {
            "backgroundcolor": "#E5ECF6",
            "gridcolor": "white",
            "gridwidth": 2,
            "linecolor": "white",
            "showbackground": true,
            "ticks": "",
            "zerolinecolor": "white"
           },
           "zaxis": {
            "backgroundcolor": "#E5ECF6",
            "gridcolor": "white",
            "gridwidth": 2,
            "linecolor": "white",
            "showbackground": true,
            "ticks": "",
            "zerolinecolor": "white"
           }
          },
          "shapedefaults": {
           "line": {
            "color": "#2a3f5f"
           }
          },
          "ternary": {
           "aaxis": {
            "gridcolor": "white",
            "linecolor": "white",
            "ticks": ""
           },
           "baxis": {
            "gridcolor": "white",
            "linecolor": "white",
            "ticks": ""
           },
           "bgcolor": "#E5ECF6",
           "caxis": {
            "gridcolor": "white",
            "linecolor": "white",
            "ticks": ""
           }
          },
          "title": {
           "x": 0.05
          },
          "xaxis": {
           "automargin": true,
           "gridcolor": "white",
           "linecolor": "white",
           "ticks": "",
           "title": {
            "standoff": 15
           },
           "zerolinecolor": "white",
           "zerolinewidth": 2
          },
          "yaxis": {
           "automargin": true,
           "gridcolor": "white",
           "linecolor": "white",
           "ticks": "",
           "title": {
            "standoff": 15
           },
           "zerolinecolor": "white",
           "zerolinewidth": 2
          }
         }
        },
        "title": {
         "text": "Churn Percentage By State"
        }
       }
      }
     },
     "metadata": {},
     "output_type": "display_data"
    }
   ],
   "source": [
    "state_heat(\n",
    "    churn_by_state_df.reset_index(),\n",
    "    value_col=\"churn_percentage\",\n",
    "    title=\"Churn Percentage By State\",\n",
    ")"
   ]
  },
  {
   "cell_type": "code",
   "execution_count": 70,
   "metadata": {},
   "outputs": [],
   "source": [
    "assert (\n",
    "    user_by_state[[\"state\", \"count\"]].groupby(\"state\").sum()[\"count\"].tolist()\n",
    "    == churn_by_state(user_by_state)[\"total_count\"].tolist()\n",
    ")"
   ]
  },
  {
   "cell_type": "markdown",
   "metadata": {},
   "source": [
    "## Pages"
   ]
  },
  {
   "cell_type": "code",
   "execution_count": 71,
   "metadata": {},
   "outputs": [
    {
     "data": {
      "text/html": [
       "<div>\n",
       "<style scoped>\n",
       "    .dataframe tbody tr th:only-of-type {\n",
       "        vertical-align: middle;\n",
       "    }\n",
       "\n",
       "    .dataframe tbody tr th {\n",
       "        vertical-align: top;\n",
       "    }\n",
       "\n",
       "    .dataframe thead th {\n",
       "        text-align: right;\n",
       "    }\n",
       "</style>\n",
       "<table border=\"1\" class=\"dataframe\">\n",
       "  <thead>\n",
       "    <tr style=\"text-align: right;\">\n",
       "      <th></th>\n",
       "      <th>page</th>\n",
       "      <th>cancelled</th>\n",
       "      <th>not_cancelled</th>\n",
       "      <th>total</th>\n",
       "      <th>percentage_from_cancelled</th>\n",
       "    </tr>\n",
       "  </thead>\n",
       "  <tbody>\n",
       "    <tr>\n",
       "      <th>0</th>\n",
       "      <td>NextSong</td>\n",
       "      <td>36394</td>\n",
       "      <td>191714</td>\n",
       "      <td>228108</td>\n",
       "      <td>0.159547</td>\n",
       "    </tr>\n",
       "    <tr>\n",
       "      <th>1</th>\n",
       "      <td>Thumbs Up</td>\n",
       "      <td>1859</td>\n",
       "      <td>10692</td>\n",
       "      <td>12551</td>\n",
       "      <td>0.148116</td>\n",
       "    </tr>\n",
       "    <tr>\n",
       "      <th>2</th>\n",
       "      <td>Home</td>\n",
       "      <td>1672</td>\n",
       "      <td>12785</td>\n",
       "      <td>14457</td>\n",
       "      <td>0.115653</td>\n",
       "    </tr>\n",
       "    <tr>\n",
       "      <th>3</th>\n",
       "      <td>Add to Playlist</td>\n",
       "      <td>1038</td>\n",
       "      <td>5488</td>\n",
       "      <td>6526</td>\n",
       "      <td>0.159056</td>\n",
       "    </tr>\n",
       "    <tr>\n",
       "      <th>4</th>\n",
       "      <td>Roll Advert</td>\n",
       "      <td>967</td>\n",
       "      <td>2966</td>\n",
       "      <td>3933</td>\n",
       "      <td>0.245868</td>\n",
       "    </tr>\n",
       "    <tr>\n",
       "      <th>5</th>\n",
       "      <td>Add Friend</td>\n",
       "      <td>636</td>\n",
       "      <td>3641</td>\n",
       "      <td>4277</td>\n",
       "      <td>0.148702</td>\n",
       "    </tr>\n",
       "    <tr>\n",
       "      <th>6</th>\n",
       "      <td>Logout</td>\n",
       "      <td>553</td>\n",
       "      <td>2673</td>\n",
       "      <td>3226</td>\n",
       "      <td>0.171420</td>\n",
       "    </tr>\n",
       "    <tr>\n",
       "      <th>7</th>\n",
       "      <td>Thumbs Down</td>\n",
       "      <td>496</td>\n",
       "      <td>2050</td>\n",
       "      <td>2546</td>\n",
       "      <td>0.194815</td>\n",
       "    </tr>\n",
       "    <tr>\n",
       "      <th>8</th>\n",
       "      <td>Downgrade</td>\n",
       "      <td>337</td>\n",
       "      <td>1718</td>\n",
       "      <td>2055</td>\n",
       "      <td>0.163990</td>\n",
       "    </tr>\n",
       "    <tr>\n",
       "      <th>9</th>\n",
       "      <td>Settings</td>\n",
       "      <td>270</td>\n",
       "      <td>1244</td>\n",
       "      <td>1514</td>\n",
       "      <td>0.178336</td>\n",
       "    </tr>\n",
       "    <tr>\n",
       "      <th>10</th>\n",
       "      <td>Help</td>\n",
       "      <td>239</td>\n",
       "      <td>1487</td>\n",
       "      <td>1726</td>\n",
       "      <td>0.138470</td>\n",
       "    </tr>\n",
       "    <tr>\n",
       "      <th>11</th>\n",
       "      <td>Upgrade</td>\n",
       "      <td>112</td>\n",
       "      <td>387</td>\n",
       "      <td>499</td>\n",
       "      <td>0.224449</td>\n",
       "    </tr>\n",
       "    <tr>\n",
       "      <th>12</th>\n",
       "      <td>Save Settings</td>\n",
       "      <td>58</td>\n",
       "      <td>252</td>\n",
       "      <td>310</td>\n",
       "      <td>0.187097</td>\n",
       "    </tr>\n",
       "    <tr>\n",
       "      <th>13</th>\n",
       "      <td>About</td>\n",
       "      <td>56</td>\n",
       "      <td>868</td>\n",
       "      <td>924</td>\n",
       "      <td>0.060606</td>\n",
       "    </tr>\n",
       "    <tr>\n",
       "      <th>14</th>\n",
       "      <td>Error</td>\n",
       "      <td>32</td>\n",
       "      <td>226</td>\n",
       "      <td>258</td>\n",
       "      <td>0.124031</td>\n",
       "    </tr>\n",
       "    <tr>\n",
       "      <th>15</th>\n",
       "      <td>Submit Upgrade</td>\n",
       "      <td>32</td>\n",
       "      <td>127</td>\n",
       "      <td>159</td>\n",
       "      <td>0.201258</td>\n",
       "    </tr>\n",
       "    <tr>\n",
       "      <th>16</th>\n",
       "      <td>Submit Downgrade</td>\n",
       "      <td>9</td>\n",
       "      <td>54</td>\n",
       "      <td>63</td>\n",
       "      <td>0.142857</td>\n",
       "    </tr>\n",
       "  </tbody>\n",
       "</table>\n",
       "</div>"
      ],
      "text/plain": [
       "                page  cancelled  not_cancelled   total  \\\n",
       "0           NextSong      36394         191714  228108   \n",
       "1          Thumbs Up       1859          10692   12551   \n",
       "2               Home       1672          12785   14457   \n",
       "3    Add to Playlist       1038           5488    6526   \n",
       "4        Roll Advert        967           2966    3933   \n",
       "5         Add Friend        636           3641    4277   \n",
       "6             Logout        553           2673    3226   \n",
       "7        Thumbs Down        496           2050    2546   \n",
       "8          Downgrade        337           1718    2055   \n",
       "9           Settings        270           1244    1514   \n",
       "10              Help        239           1487    1726   \n",
       "11           Upgrade        112            387     499   \n",
       "12     Save Settings         58            252     310   \n",
       "13             About         56            868     924   \n",
       "14             Error         32            226     258   \n",
       "15    Submit Upgrade         32            127     159   \n",
       "16  Submit Downgrade          9             54      63   \n",
       "\n",
       "    percentage_from_cancelled  \n",
       "0                    0.159547  \n",
       "1                    0.148116  \n",
       "2                    0.115653  \n",
       "3                    0.159056  \n",
       "4                    0.245868  \n",
       "5                    0.148702  \n",
       "6                    0.171420  \n",
       "7                    0.194815  \n",
       "8                    0.163990  \n",
       "9                    0.178336  \n",
       "10                   0.138470  \n",
       "11                   0.224449  \n",
       "12                   0.187097  \n",
       "13                   0.060606  \n",
       "14                   0.124031  \n",
       "15                   0.201258  \n",
       "16                   0.142857  "
      ]
     },
     "execution_count": 71,
     "metadata": {},
     "output_type": "execute_result"
    }
   ],
   "source": [
    "cancel_pages_df = (\n",
    "    psdf.filter(col(\"cancel_flag\") == 1)\n",
    "    .groupBy(\"page\")\n",
    "    .count()\n",
    "    .orderBy(col(\"count\").desc())\n",
    "    .toPandas()\n",
    ")\n",
    "\n",
    "non_cancel_pages_df = (\n",
    "    psdf.filter(col(\"cancel_flag\") == 0)\n",
    "    .groupBy(\"page\")\n",
    "    .count()\n",
    "    .orderBy(col(\"count\").desc())\n",
    "    .toPandas()\n",
    ")\n",
    "\n",
    "\n",
    "pages_df = pd.merge(cancel_pages_df, non_cancel_pages_df, on=\"page\")\n",
    "\n",
    "pages_df.rename(\n",
    "    columns={\"count_x\": \"cancelled\", \"count_y\": \"not_cancelled\"}, inplace=True\n",
    ")\n",
    "\n",
    "\n",
    "pages_df[\"total\"] = pages_df[\"cancelled\"] + pages_df[\"not_cancelled\"]\n",
    "pages_df[\"percentage_from_cancelled\"] = pages_df[\"cancelled\"] / pages_df[\"total\"]\n",
    "\n",
    "pages_df"
   ]
  },
  {
   "cell_type": "code",
   "execution_count": 72,
   "metadata": {},
   "outputs": [
    {
     "data": {
      "image/png": "[encoded data removed]",
      "text/plain": [
       "<Figure size 689.486x600 with 1 Axes>"
      ]
     },
     "metadata": {},
     "output_type": "display_data"
    }
   ],
   "source": [
    "sum_user_page_counts = (\n",
    "    psdf.dropna(subset=\"userId\")\n",
    "    .select([\"page\", \"cancel_flag\", \"userId\", \"level\"])\n",
    "    .toPandas()\n",
    ")\n",
    "\n",
    "sum_user_page_counts_df = (\n",
    "    sum_user_page_counts.groupby([\"cancel_flag\", \"userId\", \"level\"])\n",
    "    .agg(sum_page_visits=(\"page\", \"count\"))\n",
    "    .reset_index()\n",
    ")\n",
    "\n",
    "avg_user_page_counts = (\n",
    "    sum_user_page_counts_df.groupby([\"cancel_flag\", \"level\"])\n",
    "    .agg(mean_page_visits=(\"sum_page_visits\", \"mean\"))\n",
    "    .reset_index()\n",
    ")\n",
    "\n",
    "avg_user_page_counts\n",
    "chart = sns.catplot(\n",
    "    kind=\"bar\",\n",
    "    data=avg_user_page_counts,\n",
    "    x=\"level\",\n",
    "    y=\"mean_page_visits\",\n",
    "    hue=\"cancel_flag\",\n",
    "    errorbar=\"sd\",\n",
    "    palette=\"husl\",\n",
    "    alpha=0.6,\n",
    "    height=6,\n",
    ")\n",
    "\n",
    "chart.despine(left=False)\n",
    "plt.grid(axis=\"y\")\n",
    "plt.title(\"Total Page Visits by Cancelled User \")\n",
    "plt.show()"
   ]
  },
  {
   "cell_type": "code",
   "execution_count": 73,
   "metadata": {},
   "outputs": [
    {
     "data": {
      "image/png": "[encoded data removed]",
      "text/plain": [
       "<Figure size 689.486x600 with 1 Axes>"
      ]
     },
     "metadata": {},
     "output_type": "display_data"
    }
   ],
   "source": [
    "sum_user_page_counts = (\n",
    "    psdf.dropna(subset=\"userId\")\n",
    "    .filter(col(\"page\") == \"NextSong\")\n",
    "    .select([\"page\", \"cancel_flag\", \"userId\", \"level\"])\n",
    "    .toPandas()\n",
    ")\n",
    "\n",
    "sum_user_page_counts_df = (\n",
    "    sum_user_page_counts.groupby([\"cancel_flag\", \"userId\", \"level\"])\n",
    "    .agg(sum_page_visits=(\"page\", \"count\"))\n",
    "    .reset_index()\n",
    ")\n",
    "\n",
    "avg_user_page_counts = (\n",
    "    sum_user_page_counts_df.groupby([\"cancel_flag\", \"level\"])\n",
    "    .agg(mean_page_visits=(\"sum_page_visits\", \"mean\"))\n",
    "    .reset_index()\n",
    ")\n",
    "\n",
    "avg_user_page_counts\n",
    "chart = sns.catplot(\n",
    "    kind=\"bar\",\n",
    "    data=avg_user_page_counts,\n",
    "    x=\"level\",\n",
    "    y=\"mean_page_visits\",\n",
    "    hue=\"cancel_flag\",\n",
    "    errorbar=\"sd\",\n",
    "    palette=\"husl\",\n",
    "    alpha=0.6,\n",
    "    height=6,\n",
    ")\n",
    "\n",
    "chart.despine(left=False)\n",
    "plt.grid(axis=\"y\")\n",
    "plt.title(\"Total Page Visits by Cancelled User \")\n",
    "plt.show()"
   ]
  },
  {
   "cell_type": "code",
   "execution_count": 74,
   "metadata": {},
   "outputs": [
    {
     "data": {
      "image/png": "[encoded data removed]",
      "text/plain": [
       "<Figure size 689.486x600 with 1 Axes>"
      ]
     },
     "metadata": {},
     "output_type": "display_data"
    }
   ],
   "source": [
    "thumbs = [\"Thumbs Up\", \"Thumbs Down\"]\n",
    "sum_user_thumbs = (\n",
    "    psdf.dropna(subset=\"userId\")\n",
    "    .filter(col(\"page\").isin(thumbs))\n",
    "    .select([\"page\", \"cancel_flag\", \"userId\", \"level\"])\n",
    "    .toPandas()\n",
    ")\n",
    "\n",
    "sum_user_thumbs_counts = (\n",
    "    sum_user_thumbs.groupby([\"cancel_flag\", \"userId\", \"level\"])\n",
    "    .agg(sum_thumbs_interactions=(\"page\", \"count\"))\n",
    "    .reset_index()\n",
    ")\n",
    "\n",
    "avg_user_thumbs_counts = (\n",
    "    sum_user_thumbs_counts.groupby([\"cancel_flag\", \"level\"])\n",
    "    .agg(mean_thumbs_interactions=(\"sum_thumbs_interactions\", \"mean\"))\n",
    "    .reset_index()\n",
    ")\n",
    "\n",
    "chart = sns.catplot(\n",
    "    kind=\"bar\",\n",
    "    data=avg_user_thumbs_counts,\n",
    "    x=\"level\",\n",
    "    y=\"mean_thumbs_interactions\",\n",
    "    hue=\"cancel_flag\",\n",
    "    errorbar=\"sd\",\n",
    "    palette=\"husl\",\n",
    "    alpha=0.6,\n",
    "    height=6,\n",
    ")\n",
    "\n",
    "chart.despine(left=False)\n",
    "plt.grid(axis=\"y\")\n",
    "plt.title(\"Total Page Visits by Cancelled User \")\n",
    "plt.show()"
   ]
  },
  {
   "cell_type": "code",
   "execution_count": 75,
   "metadata": {},
   "outputs": [
    {
     "data": {
      "text/html": [
       "<div>\n",
       "<style scoped>\n",
       "    .dataframe tbody tr th:only-of-type {\n",
       "        vertical-align: middle;\n",
       "    }\n",
       "\n",
       "    .dataframe tbody tr th {\n",
       "        vertical-align: top;\n",
       "    }\n",
       "\n",
       "    .dataframe thead th {\n",
       "        text-align: right;\n",
       "    }\n",
       "</style>\n",
       "<table border=\"1\" class=\"dataframe\">\n",
       "  <thead>\n",
       "    <tr style=\"text-align: right;\">\n",
       "      <th></th>\n",
       "      <th>cancel_flag</th>\n",
       "      <th>level</th>\n",
       "      <th>mean_thumbs_interactions</th>\n",
       "    </tr>\n",
       "  </thead>\n",
       "  <tbody>\n",
       "    <tr>\n",
       "      <th>0</th>\n",
       "      <td>0</td>\n",
       "      <td>free</td>\n",
       "      <td>16.0</td>\n",
       "    </tr>\n",
       "    <tr>\n",
       "      <th>1</th>\n",
       "      <td>0</td>\n",
       "      <td>paid</td>\n",
       "      <td>83.0</td>\n",
       "    </tr>\n",
       "    <tr>\n",
       "      <th>2</th>\n",
       "      <td>1</td>\n",
       "      <td>free</td>\n",
       "      <td>16.0</td>\n",
       "    </tr>\n",
       "    <tr>\n",
       "      <th>3</th>\n",
       "      <td>1</td>\n",
       "      <td>paid</td>\n",
       "      <td>47.0</td>\n",
       "    </tr>\n",
       "  </tbody>\n",
       "</table>\n",
       "</div>"
      ],
      "text/plain": [
       "   cancel_flag level  mean_thumbs_interactions\n",
       "0            0  free                      16.0\n",
       "1            0  paid                      83.0\n",
       "2            1  free                      16.0\n",
       "3            1  paid                      47.0"
      ]
     },
     "execution_count": 75,
     "metadata": {},
     "output_type": "execute_result"
    }
   ],
   "source": [
    "round(avg_user_thumbs_counts)"
   ]
  },
  {
   "cell_type": "markdown",
   "metadata": {},
   "source": [
    "### Unique Counts of Upgrades/Downgrades\n"
   ]
  },
  {
   "cell_type": "code",
   "execution_count": 76,
   "metadata": {},
   "outputs": [
    {
     "data": {
      "text/html": [
       "<style type=\"text/css\">\n",
       "#T_cf435 th.col_heading {\n",
       "  background-color: #14345a;\n",
       "  color: white;\n",
       "}\n",
       "#T_cf435 th.blank {\n",
       "  background-color: #14345a;\n",
       "  color: white;\n",
       "}\n",
       "#T_cf435 tr:nth-child(even) {\n",
       "  background-color: #002351;\n",
       "  color: white;\n",
       "}\n",
       "#T_cf435 tr:nth-child(odd) {\n",
       "  background-color: #062c54;\n",
       "  color: white;\n",
       "}\n",
       "</style>\n",
       "<table id=\"T_cf435\">\n",
       "  <thead>\n",
       "    <tr>\n",
       "      <th class=\"blank level0\" >&nbsp;</th>\n",
       "      <th id=\"T_cf435_level0_col0\" class=\"col_heading level0 col0\" >page</th>\n",
       "      <th id=\"T_cf435_level0_col1\" class=\"col_heading level0 col1\" >count</th>\n",
       "    </tr>\n",
       "  </thead>\n",
       "  <tbody>\n",
       "    <tr>\n",
       "      <th id=\"T_cf435_level0_row0\" class=\"row_heading level0 row0\" >0</th>\n",
       "      <td id=\"T_cf435_row0_col0\" class=\"data row0 col0\" >Downgrade</td>\n",
       "      <td id=\"T_cf435_row0_col1\" class=\"data row0 col1\" >2055</td>\n",
       "    </tr>\n",
       "    <tr>\n",
       "      <th id=\"T_cf435_level0_row1\" class=\"row_heading level0 row1\" >1</th>\n",
       "      <td id=\"T_cf435_row1_col0\" class=\"data row1 col0\" >Upgrade</td>\n",
       "      <td id=\"T_cf435_row1_col1\" class=\"data row1 col1\" >499</td>\n",
       "    </tr>\n",
       "    <tr>\n",
       "      <th id=\"T_cf435_level0_row2\" class=\"row_heading level0 row2\" >2</th>\n",
       "      <td id=\"T_cf435_row2_col0\" class=\"data row2 col0\" >Submit Upgrade</td>\n",
       "      <td id=\"T_cf435_row2_col1\" class=\"data row2 col1\" >159</td>\n",
       "    </tr>\n",
       "    <tr>\n",
       "      <th id=\"T_cf435_level0_row3\" class=\"row_heading level0 row3\" >3</th>\n",
       "      <td id=\"T_cf435_row3_col0\" class=\"data row3 col0\" >Submit Downgrade</td>\n",
       "      <td id=\"T_cf435_row3_col1\" class=\"data row3 col1\" >63</td>\n",
       "    </tr>\n",
       "    <tr>\n",
       "      <th id=\"T_cf435_level0_row4\" class=\"row_heading level0 row4\" >4</th>\n",
       "      <td id=\"T_cf435_row4_col0\" class=\"data row4 col0\" >Cancel</td>\n",
       "      <td id=\"T_cf435_row4_col1\" class=\"data row4 col1\" >52</td>\n",
       "    </tr>\n",
       "    <tr>\n",
       "      <th id=\"T_cf435_level0_row5\" class=\"row_heading level0 row5\" >5</th>\n",
       "      <td id=\"T_cf435_row5_col0\" class=\"data row5 col0\" >Cancellation Confirmation</td>\n",
       "      <td id=\"T_cf435_row5_col1\" class=\"data row5 col1\" >52</td>\n",
       "    </tr>\n",
       "  </tbody>\n",
       "</table>\n"
      ],
      "text/plain": [
       "<pandas.io.formats.style.Styler at 0x2df6800d0>"
      ]
     },
     "execution_count": 76,
     "metadata": {},
     "output_type": "execute_result"
    }
   ],
   "source": [
    "service_change = [\n",
    "    \"Downgrade\",\n",
    "    \"Upgrade\",\n",
    "    \"Submit Upgrade\",\n",
    "    \"Submit Downgrade\",\n",
    "    \"Cancel\",\n",
    "    \"Cancellation Confirmation\",\n",
    "]\n",
    "\n",
    "\n",
    "service_change_df = style_df(\n",
    "    psdf[[\"page\", \"cancel_flag\"]]\n",
    "    .filter(col(\"page\").isin(service_change))\n",
    "    .groupBy(\"page\")\n",
    "    .count()\n",
    "    .sort(\"count\", ascending=False)\n",
    "    .toPandas()\n",
    ")\n",
    "\n",
    "service_change_df.export_png(\"service_change.png\")\n",
    "service_change_df"
   ]
  },
  {
   "cell_type": "code",
   "execution_count": 77,
   "metadata": {},
   "outputs": [
    {
     "name": "stdout",
     "output_type": "stream",
     "text": [
      "page    Cancel  Cancellation Confirmation  Downgrade  Submit Downgrade\n",
      "userId                                                                \n",
      "2          0.0                        0.0       13.0               0.0\n",
      "3          1.0                        1.0        2.0               0.0\n",
      "4          0.0                        0.0       21.0               0.0\n",
      "6          0.0                        0.0       41.0               0.0\n",
      "9          0.0                        0.0       32.0               1.0\n",
      "...        ...                        ...        ...               ...\n",
      "300020     0.0                        0.0        1.0               0.0\n",
      "300021     0.0                        0.0       17.0               1.0\n",
      "300022     0.0                        0.0        1.0               0.0\n",
      "300023     0.0                        0.0       12.0               1.0\n",
      "300025     0.0                        0.0        7.0               0.0\n",
      "\n",
      "[171 rows x 4 columns]\n"
     ]
    }
   ],
   "source": [
    "service_change = [\n",
    "    \"Downgrade\",\n",
    "    \"Submit Downgrade\",\n",
    "    \"Cancel\",\n",
    "    \"Cancellation Confirmation\",\n",
    "]\n",
    "\n",
    "\n",
    "service_change_df = (\n",
    "    psdf[[\"page\", \"userId\", \"cancel_flag\"]]\n",
    "    .filter(col(\"page\").isin(service_change))\n",
    "    .toPandas()\n",
    ")\n",
    "\n",
    "service_change_df = service_change_df.groupby(\"userId\").value_counts().reset_index()\n",
    "\n",
    "service_change_df = service_change_df.pivot(\n",
    "    index=\"userId\", columns=\"page\", values=\"count\"\n",
    ").fillna(value=0)\n",
    "\n",
    "\n",
    "# service_change_df[service_change_df['Cancellation Confirmation'] > 0].sum()\n",
    "\n",
    "print(service_change_df)"
   ]
  },
  {
   "cell_type": "code",
   "execution_count": 78,
   "metadata": {},
   "outputs": [
    {
     "data": {
      "text/html": [
       "<div>\n",
       "<style scoped>\n",
       "    .dataframe tbody tr th:only-of-type {\n",
       "        vertical-align: middle;\n",
       "    }\n",
       "\n",
       "    .dataframe tbody tr th {\n",
       "        vertical-align: top;\n",
       "    }\n",
       "\n",
       "    .dataframe thead th {\n",
       "        text-align: right;\n",
       "    }\n",
       "</style>\n",
       "<table border=\"1\" class=\"dataframe\">\n",
       "  <thead>\n",
       "    <tr style=\"text-align: right;\">\n",
       "      <th>page</th>\n",
       "      <th>Cancel</th>\n",
       "      <th>Cancellation Confirmation</th>\n",
       "      <th>Downgrade</th>\n",
       "      <th>Submit Downgrade</th>\n",
       "    </tr>\n",
       "    <tr>\n",
       "      <th>userId</th>\n",
       "      <th></th>\n",
       "      <th></th>\n",
       "      <th></th>\n",
       "      <th></th>\n",
       "    </tr>\n",
       "  </thead>\n",
       "  <tbody>\n",
       "    <tr>\n",
       "      <th>92</th>\n",
       "      <td>0.0</td>\n",
       "      <td>0.0</td>\n",
       "      <td>68.0</td>\n",
       "      <td>1.0</td>\n",
       "    </tr>\n",
       "    <tr>\n",
       "      <th>54</th>\n",
       "      <td>1.0</td>\n",
       "      <td>1.0</td>\n",
       "      <td>39.0</td>\n",
       "      <td>1.0</td>\n",
       "    </tr>\n",
       "    <tr>\n",
       "      <th>9</th>\n",
       "      <td>0.0</td>\n",
       "      <td>0.0</td>\n",
       "      <td>32.0</td>\n",
       "      <td>1.0</td>\n",
       "    </tr>\n",
       "    <tr>\n",
       "      <th>300011</th>\n",
       "      <td>0.0</td>\n",
       "      <td>0.0</td>\n",
       "      <td>32.0</td>\n",
       "      <td>1.0</td>\n",
       "    </tr>\n",
       "    <tr>\n",
       "      <th>74</th>\n",
       "      <td>0.0</td>\n",
       "      <td>0.0</td>\n",
       "      <td>31.0</td>\n",
       "      <td>1.0</td>\n",
       "    </tr>\n",
       "    <tr>\n",
       "      <th>100</th>\n",
       "      <td>0.0</td>\n",
       "      <td>0.0</td>\n",
       "      <td>30.0</td>\n",
       "      <td>1.0</td>\n",
       "    </tr>\n",
       "    <tr>\n",
       "      <th>81</th>\n",
       "      <td>0.0</td>\n",
       "      <td>0.0</td>\n",
       "      <td>26.0</td>\n",
       "      <td>1.0</td>\n",
       "    </tr>\n",
       "    <tr>\n",
       "      <th>300015</th>\n",
       "      <td>0.0</td>\n",
       "      <td>0.0</td>\n",
       "      <td>22.0</td>\n",
       "      <td>1.0</td>\n",
       "    </tr>\n",
       "    <tr>\n",
       "      <th>96</th>\n",
       "      <td>0.0</td>\n",
       "      <td>0.0</td>\n",
       "      <td>20.0</td>\n",
       "      <td>1.0</td>\n",
       "    </tr>\n",
       "    <tr>\n",
       "      <th>300021</th>\n",
       "      <td>0.0</td>\n",
       "      <td>0.0</td>\n",
       "      <td>17.0</td>\n",
       "      <td>1.0</td>\n",
       "    </tr>\n",
       "    <tr>\n",
       "      <th>95</th>\n",
       "      <td>0.0</td>\n",
       "      <td>0.0</td>\n",
       "      <td>15.0</td>\n",
       "      <td>1.0</td>\n",
       "    </tr>\n",
       "    <tr>\n",
       "      <th>49</th>\n",
       "      <td>0.0</td>\n",
       "      <td>0.0</td>\n",
       "      <td>14.0</td>\n",
       "      <td>1.0</td>\n",
       "    </tr>\n",
       "    <tr>\n",
       "      <th>103</th>\n",
       "      <td>1.0</td>\n",
       "      <td>1.0</td>\n",
       "      <td>13.0</td>\n",
       "      <td>1.0</td>\n",
       "    </tr>\n",
       "    <tr>\n",
       "      <th>109</th>\n",
       "      <td>0.0</td>\n",
       "      <td>0.0</td>\n",
       "      <td>12.0</td>\n",
       "      <td>1.0</td>\n",
       "    </tr>\n",
       "    <tr>\n",
       "      <th>300023</th>\n",
       "      <td>0.0</td>\n",
       "      <td>0.0</td>\n",
       "      <td>12.0</td>\n",
       "      <td>1.0</td>\n",
       "    </tr>\n",
       "    <tr>\n",
       "      <th>25</th>\n",
       "      <td>0.0</td>\n",
       "      <td>0.0</td>\n",
       "      <td>11.0</td>\n",
       "      <td>1.0</td>\n",
       "    </tr>\n",
       "    <tr>\n",
       "      <th>200025</th>\n",
       "      <td>0.0</td>\n",
       "      <td>0.0</td>\n",
       "      <td>11.0</td>\n",
       "      <td>1.0</td>\n",
       "    </tr>\n",
       "    <tr>\n",
       "      <th>100008</th>\n",
       "      <td>0.0</td>\n",
       "      <td>0.0</td>\n",
       "      <td>10.0</td>\n",
       "      <td>1.0</td>\n",
       "    </tr>\n",
       "    <tr>\n",
       "      <th>200011</th>\n",
       "      <td>1.0</td>\n",
       "      <td>1.0</td>\n",
       "      <td>10.0</td>\n",
       "      <td>1.0</td>\n",
       "    </tr>\n",
       "    <tr>\n",
       "      <th>59</th>\n",
       "      <td>0.0</td>\n",
       "      <td>0.0</td>\n",
       "      <td>9.0</td>\n",
       "      <td>1.0</td>\n",
       "    </tr>\n",
       "    <tr>\n",
       "      <th>77</th>\n",
       "      <td>0.0</td>\n",
       "      <td>0.0</td>\n",
       "      <td>9.0</td>\n",
       "      <td>1.0</td>\n",
       "    </tr>\n",
       "    <tr>\n",
       "      <th>38</th>\n",
       "      <td>0.0</td>\n",
       "      <td>0.0</td>\n",
       "      <td>9.0</td>\n",
       "      <td>1.0</td>\n",
       "    </tr>\n",
       "    <tr>\n",
       "      <th>300002</th>\n",
       "      <td>0.0</td>\n",
       "      <td>0.0</td>\n",
       "      <td>8.0</td>\n",
       "      <td>1.0</td>\n",
       "    </tr>\n",
       "    <tr>\n",
       "      <th>100016</th>\n",
       "      <td>0.0</td>\n",
       "      <td>0.0</td>\n",
       "      <td>6.0</td>\n",
       "      <td>1.0</td>\n",
       "    </tr>\n",
       "    <tr>\n",
       "      <th>200019</th>\n",
       "      <td>0.0</td>\n",
       "      <td>0.0</td>\n",
       "      <td>6.0</td>\n",
       "      <td>1.0</td>\n",
       "    </tr>\n",
       "    <tr>\n",
       "      <th>200020</th>\n",
       "      <td>1.0</td>\n",
       "      <td>1.0</td>\n",
       "      <td>6.0</td>\n",
       "      <td>1.0</td>\n",
       "    </tr>\n",
       "    <tr>\n",
       "      <th>30</th>\n",
       "      <td>0.0</td>\n",
       "      <td>0.0</td>\n",
       "      <td>6.0</td>\n",
       "      <td>1.0</td>\n",
       "    </tr>\n",
       "    <tr>\n",
       "      <th>100009</th>\n",
       "      <td>1.0</td>\n",
       "      <td>1.0</td>\n",
       "      <td>5.0</td>\n",
       "      <td>1.0</td>\n",
       "    </tr>\n",
       "    <tr>\n",
       "      <th>100015</th>\n",
       "      <td>1.0</td>\n",
       "      <td>1.0</td>\n",
       "      <td>5.0</td>\n",
       "      <td>1.0</td>\n",
       "    </tr>\n",
       "    <tr>\n",
       "      <th>141</th>\n",
       "      <td>0.0</td>\n",
       "      <td>0.0</td>\n",
       "      <td>5.0</td>\n",
       "      <td>1.0</td>\n",
       "    </tr>\n",
       "    <tr>\n",
       "      <th>200009</th>\n",
       "      <td>0.0</td>\n",
       "      <td>0.0</td>\n",
       "      <td>5.0</td>\n",
       "      <td>1.0</td>\n",
       "    </tr>\n",
       "    <tr>\n",
       "      <th>11</th>\n",
       "      <td>0.0</td>\n",
       "      <td>0.0</td>\n",
       "      <td>5.0</td>\n",
       "      <td>1.0</td>\n",
       "    </tr>\n",
       "    <tr>\n",
       "      <th>24</th>\n",
       "      <td>0.0</td>\n",
       "      <td>0.0</td>\n",
       "      <td>5.0</td>\n",
       "      <td>1.0</td>\n",
       "    </tr>\n",
       "    <tr>\n",
       "      <th>12</th>\n",
       "      <td>1.0</td>\n",
       "      <td>1.0</td>\n",
       "      <td>5.0</td>\n",
       "      <td>1.0</td>\n",
       "    </tr>\n",
       "    <tr>\n",
       "      <th>100025</th>\n",
       "      <td>1.0</td>\n",
       "      <td>1.0</td>\n",
       "      <td>5.0</td>\n",
       "      <td>1.0</td>\n",
       "    </tr>\n",
       "    <tr>\n",
       "      <th>100012</th>\n",
       "      <td>1.0</td>\n",
       "      <td>1.0</td>\n",
       "      <td>4.0</td>\n",
       "      <td>1.0</td>\n",
       "    </tr>\n",
       "    <tr>\n",
       "      <th>300004</th>\n",
       "      <td>0.0</td>\n",
       "      <td>0.0</td>\n",
       "      <td>1.0</td>\n",
       "      <td>1.0</td>\n",
       "    </tr>\n",
       "  </tbody>\n",
       "</table>\n",
       "</div>"
      ],
      "text/plain": [
       "page    Cancel  Cancellation Confirmation  Downgrade  Submit Downgrade\n",
       "userId                                                                \n",
       "92         0.0                        0.0       68.0               1.0\n",
       "54         1.0                        1.0       39.0               1.0\n",
       "9          0.0                        0.0       32.0               1.0\n",
       "300011     0.0                        0.0       32.0               1.0\n",
       "74         0.0                        0.0       31.0               1.0\n",
       "100        0.0                        0.0       30.0               1.0\n",
       "81         0.0                        0.0       26.0               1.0\n",
       "300015     0.0                        0.0       22.0               1.0\n",
       "96         0.0                        0.0       20.0               1.0\n",
       "300021     0.0                        0.0       17.0               1.0\n",
       "95         0.0                        0.0       15.0               1.0\n",
       "49         0.0                        0.0       14.0               1.0\n",
       "103        1.0                        1.0       13.0               1.0\n",
       "109        0.0                        0.0       12.0               1.0\n",
       "300023     0.0                        0.0       12.0               1.0\n",
       "25         0.0                        0.0       11.0               1.0\n",
       "200025     0.0                        0.0       11.0               1.0\n",
       "100008     0.0                        0.0       10.0               1.0\n",
       "200011     1.0                        1.0       10.0               1.0\n",
       "59         0.0                        0.0        9.0               1.0\n",
       "77         0.0                        0.0        9.0               1.0\n",
       "38         0.0                        0.0        9.0               1.0\n",
       "300002     0.0                        0.0        8.0               1.0\n",
       "100016     0.0                        0.0        6.0               1.0\n",
       "200019     0.0                        0.0        6.0               1.0\n",
       "200020     1.0                        1.0        6.0               1.0\n",
       "30         0.0                        0.0        6.0               1.0\n",
       "100009     1.0                        1.0        5.0               1.0\n",
       "100015     1.0                        1.0        5.0               1.0\n",
       "141        0.0                        0.0        5.0               1.0\n",
       "200009     0.0                        0.0        5.0               1.0\n",
       "11         0.0                        0.0        5.0               1.0\n",
       "24         0.0                        0.0        5.0               1.0\n",
       "12         1.0                        1.0        5.0               1.0\n",
       "100025     1.0                        1.0        5.0               1.0\n",
       "100012     1.0                        1.0        4.0               1.0\n",
       "300004     0.0                        0.0        1.0               1.0"
      ]
     },
     "execution_count": 78,
     "metadata": {},
     "output_type": "execute_result"
    }
   ],
   "source": [
    "service_change_df[service_change_df[\"Submit Downgrade\"] == 1].sort_values(\n",
    "    \"Downgrade\", ascending=False\n",
    ")"
   ]
  },
  {
   "cell_type": "code",
   "execution_count": 79,
   "metadata": {},
   "outputs": [
    {
     "data": {
      "text/html": [
       "<div>\n",
       "<style scoped>\n",
       "    .dataframe tbody tr th:only-of-type {\n",
       "        vertical-align: middle;\n",
       "    }\n",
       "\n",
       "    .dataframe tbody tr th {\n",
       "        vertical-align: top;\n",
       "    }\n",
       "\n",
       "    .dataframe thead th {\n",
       "        text-align: right;\n",
       "    }\n",
       "</style>\n",
       "<table border=\"1\" class=\"dataframe\">\n",
       "  <thead>\n",
       "    <tr style=\"text-align: right;\">\n",
       "      <th>page</th>\n",
       "      <th>Cancel</th>\n",
       "      <th>Cancellation Confirmation</th>\n",
       "      <th>Downgrade</th>\n",
       "      <th>Submit Downgrade</th>\n",
       "    </tr>\n",
       "    <tr>\n",
       "      <th>userId</th>\n",
       "      <th></th>\n",
       "      <th></th>\n",
       "      <th></th>\n",
       "      <th></th>\n",
       "    </tr>\n",
       "  </thead>\n",
       "  <tbody>\n",
       "    <tr>\n",
       "      <th>2</th>\n",
       "      <td>0.0</td>\n",
       "      <td>0.0</td>\n",
       "      <td>13.0</td>\n",
       "      <td>0.0</td>\n",
       "    </tr>\n",
       "    <tr>\n",
       "      <th>3</th>\n",
       "      <td>1.0</td>\n",
       "      <td>1.0</td>\n",
       "      <td>2.0</td>\n",
       "      <td>0.0</td>\n",
       "    </tr>\n",
       "    <tr>\n",
       "      <th>4</th>\n",
       "      <td>0.0</td>\n",
       "      <td>0.0</td>\n",
       "      <td>21.0</td>\n",
       "      <td>0.0</td>\n",
       "    </tr>\n",
       "    <tr>\n",
       "      <th>6</th>\n",
       "      <td>0.0</td>\n",
       "      <td>0.0</td>\n",
       "      <td>41.0</td>\n",
       "      <td>0.0</td>\n",
       "    </tr>\n",
       "    <tr>\n",
       "      <th>9</th>\n",
       "      <td>0.0</td>\n",
       "      <td>0.0</td>\n",
       "      <td>32.0</td>\n",
       "      <td>1.0</td>\n",
       "    </tr>\n",
       "    <tr>\n",
       "      <th>...</th>\n",
       "      <td>...</td>\n",
       "      <td>...</td>\n",
       "      <td>...</td>\n",
       "      <td>...</td>\n",
       "    </tr>\n",
       "    <tr>\n",
       "      <th>300020</th>\n",
       "      <td>0.0</td>\n",
       "      <td>0.0</td>\n",
       "      <td>1.0</td>\n",
       "      <td>0.0</td>\n",
       "    </tr>\n",
       "    <tr>\n",
       "      <th>300021</th>\n",
       "      <td>0.0</td>\n",
       "      <td>0.0</td>\n",
       "      <td>17.0</td>\n",
       "      <td>1.0</td>\n",
       "    </tr>\n",
       "    <tr>\n",
       "      <th>300022</th>\n",
       "      <td>0.0</td>\n",
       "      <td>0.0</td>\n",
       "      <td>1.0</td>\n",
       "      <td>0.0</td>\n",
       "    </tr>\n",
       "    <tr>\n",
       "      <th>300023</th>\n",
       "      <td>0.0</td>\n",
       "      <td>0.0</td>\n",
       "      <td>12.0</td>\n",
       "      <td>1.0</td>\n",
       "    </tr>\n",
       "    <tr>\n",
       "      <th>300025</th>\n",
       "      <td>0.0</td>\n",
       "      <td>0.0</td>\n",
       "      <td>7.0</td>\n",
       "      <td>0.0</td>\n",
       "    </tr>\n",
       "  </tbody>\n",
       "</table>\n",
       "<p>171 rows × 4 columns</p>\n",
       "</div>"
      ],
      "text/plain": [
       "page    Cancel  Cancellation Confirmation  Downgrade  Submit Downgrade\n",
       "userId                                                                \n",
       "2          0.0                        0.0       13.0               0.0\n",
       "3          1.0                        1.0        2.0               0.0\n",
       "4          0.0                        0.0       21.0               0.0\n",
       "6          0.0                        0.0       41.0               0.0\n",
       "9          0.0                        0.0       32.0               1.0\n",
       "...        ...                        ...        ...               ...\n",
       "300020     0.0                        0.0        1.0               0.0\n",
       "300021     0.0                        0.0       17.0               1.0\n",
       "300022     0.0                        0.0        1.0               0.0\n",
       "300023     0.0                        0.0       12.0               1.0\n",
       "300025     0.0                        0.0        7.0               0.0\n",
       "\n",
       "[171 rows x 4 columns]"
      ]
     },
     "execution_count": 79,
     "metadata": {},
     "output_type": "execute_result"
    }
   ],
   "source": [
    "service_change_df"
   ]
  },
  {
   "cell_type": "code",
   "execution_count": 80,
   "metadata": {},
   "outputs": [
    {
     "data": {
      "application/vnd.plotly.v1+json": {
       "config": {
        "plotlyServerURL": "https://plot.ly"
       },
       "data": [
        {
         "hovertemplate": "numbers=%{x}<br>stages=%{y}<extra></extra>",
         "legendgroup": "",
         "marker": {
          "color": "#636efa"
         },
         "name": "",
         "orientation": "h",
         "showlegend": false,
         "type": "funnel",
         "x": [
          2055,
          63,
          52,
          52
         ],
         "xaxis": "x",
         "y": [
          "Downgrade",
          "Submit Downgrade",
          "Cancel",
          "Cancellation Confirmation"
         ],
         "yaxis": "y"
        }
       ],
       "layout": {
        "legend": {
         "tracegroupgap": 0
        },
        "margin": {
         "t": 60
        },
        "template": {
         "data": {
          "bar": [
           {
            "error_x": {
             "color": "#2a3f5f"
            },
            "error_y": {
             "color": "#2a3f5f"
            },
            "marker": {
             "line": {
              "color": "#E5ECF6",
              "width": 0.5
             },
             "pattern": {
              "fillmode": "overlay",
              "size": 10,
              "solidity": 0.2
             }
            },
            "type": "bar"
           }
          ],
          "barpolar": [
           {
            "marker": {
             "line": {
              "color": "#E5ECF6",
              "width": 0.5
             },
             "pattern": {
              "fillmode": "overlay",
              "size": 10,
              "solidity": 0.2
             }
            },
            "type": "barpolar"
           }
          ],
          "carpet": [
           {
            "aaxis": {
             "endlinecolor": "#2a3f5f",
             "gridcolor": "white",
             "linecolor": "white",
             "minorgridcolor": "white",
             "startlinecolor": "#2a3f5f"
            },
            "baxis": {
             "endlinecolor": "#2a3f5f",
             "gridcolor": "white",
             "linecolor": "white",
             "minorgridcolor": "white",
             "startlinecolor": "#2a3f5f"
            },
            "type": "carpet"
           }
          ],
          "choropleth": [
           {
            "colorbar": {
             "outlinewidth": 0,
             "ticks": ""
            },
            "type": "choropleth"
           }
          ],
          "contour": [
           {
            "colorbar": {
             "outlinewidth": 0,
             "ticks": ""
            },
            "colorscale": [
             [
              0,
              "#0d0887"
             ],
             [
              0.1111111111111111,
              "#46039f"
             ],
             [
              0.2222222222222222,
              "#7201a8"
             ],
             [
              0.3333333333333333,
              "#9c179e"
             ],
             [
              0.4444444444444444,
              "#bd3786"
             ],
             [
              0.5555555555555556,
              "#d8576b"
             ],
             [
              0.6666666666666666,
              "#ed7953"
             ],
             [
              0.7777777777777778,
              "#fb9f3a"
             ],
             [
              0.8888888888888888,
              "#fdca26"
             ],
             [
              1,
              "#f0f921"
             ]
            ],
            "type": "contour"
           }
          ],
          "contourcarpet": [
           {
            "colorbar": {
             "outlinewidth": 0,
             "ticks": ""
            },
            "type": "contourcarpet"
           }
          ],
          "heatmap": [
           {
            "colorbar": {
             "outlinewidth": 0,
             "ticks": ""
            },
            "colorscale": [
             [
              0,
              "#0d0887"
             ],
             [
              0.1111111111111111,
              "#46039f"
             ],
             [
              0.2222222222222222,
              "#7201a8"
             ],
             [
              0.3333333333333333,
              "#9c179e"
             ],
             [
              0.4444444444444444,
              "#bd3786"
             ],
             [
              0.5555555555555556,
              "#d8576b"
             ],
             [
              0.6666666666666666,
              "#ed7953"
             ],
             [
              0.7777777777777778,
              "#fb9f3a"
             ],
             [
              0.8888888888888888,
              "#fdca26"
             ],
             [
              1,
              "#f0f921"
             ]
            ],
            "type": "heatmap"
           }
          ],
          "heatmapgl": [
           {
            "colorbar": {
             "outlinewidth": 0,
             "ticks": ""
            },
            "colorscale": [
             [
              0,
              "#0d0887"
             ],
             [
              0.1111111111111111,
              "#46039f"
             ],
             [
              0.2222222222222222,
              "#7201a8"
             ],
             [
              0.3333333333333333,
              "#9c179e"
             ],
             [
              0.4444444444444444,
              "#bd3786"
             ],
             [
              0.5555555555555556,
              "#d8576b"
             ],
             [
              0.6666666666666666,
              "#ed7953"
             ],
             [
              0.7777777777777778,
              "#fb9f3a"
             ],
             [
              0.8888888888888888,
              "#fdca26"
             ],
             [
              1,
              "#f0f921"
             ]
            ],
            "type": "heatmapgl"
           }
          ],
          "histogram": [
           {
            "marker": {
             "pattern": {
              "fillmode": "overlay",
              "size": 10,
              "solidity": 0.2
             }
            },
            "type": "histogram"
           }
          ],
          "histogram2d": [
           {
            "colorbar": {
             "outlinewidth": 0,
             "ticks": ""
            },
            "colorscale": [
             [
              0,
              "#0d0887"
             ],
             [
              0.1111111111111111,
              "#46039f"
             ],
             [
              0.2222222222222222,
              "#7201a8"
             ],
             [
              0.3333333333333333,
              "#9c179e"
             ],
             [
              0.4444444444444444,
              "#bd3786"
             ],
             [
              0.5555555555555556,
              "#d8576b"
             ],
             [
              0.6666666666666666,
              "#ed7953"
             ],
             [
              0.7777777777777778,
              "#fb9f3a"
             ],
             [
              0.8888888888888888,
              "#fdca26"
             ],
             [
              1,
              "#f0f921"
             ]
            ],
            "type": "histogram2d"
           }
          ],
          "histogram2dcontour": [
           {
            "colorbar": {
             "outlinewidth": 0,
             "ticks": ""
            },
            "colorscale": [
             [
              0,
              "#0d0887"
             ],
             [
              0.1111111111111111,
              "#46039f"
             ],
             [
              0.2222222222222222,
              "#7201a8"
             ],
             [
              0.3333333333333333,
              "#9c179e"
             ],
             [
              0.4444444444444444,
              "#bd3786"
             ],
             [
              0.5555555555555556,
              "#d8576b"
             ],
             [
              0.6666666666666666,
              "#ed7953"
             ],
             [
              0.7777777777777778,
              "#fb9f3a"
             ],
             [
              0.8888888888888888,
              "#fdca26"
             ],
             [
              1,
              "#f0f921"
             ]
            ],
            "type": "histogram2dcontour"
           }
          ],
          "mesh3d": [
           {
            "colorbar": {
             "outlinewidth": 0,
             "ticks": ""
            },
            "type": "mesh3d"
           }
          ],
          "parcoords": [
           {
            "line": {
             "colorbar": {
              "outlinewidth": 0,
              "ticks": ""
             }
            },
            "type": "parcoords"
           }
          ],
          "pie": [
           {
            "automargin": true,
            "type": "pie"
           }
          ],
          "scatter": [
           {
            "fillpattern": {
             "fillmode": "overlay",
             "size": 10,
             "solidity": 0.2
            },
            "type": "scatter"
           }
          ],
          "scatter3d": [
           {
            "line": {
             "colorbar": {
              "outlinewidth": 0,
              "ticks": ""
             }
            },
            "marker": {
             "colorbar": {
              "outlinewidth": 0,
              "ticks": ""
             }
            },
            "type": "scatter3d"
           }
          ],
          "scattercarpet": [
           {
            "marker": {
             "colorbar": {
              "outlinewidth": 0,
              "ticks": ""
             }
            },
            "type": "scattercarpet"
           }
          ],
          "scattergeo": [
           {
            "marker": {
             "colorbar": {
              "outlinewidth": 0,
              "ticks": ""
             }
            },
            "type": "scattergeo"
           }
          ],
          "scattergl": [
           {
            "marker": {
             "colorbar": {
              "outlinewidth": 0,
              "ticks": ""
             }
            },
            "type": "scattergl"
           }
          ],
          "scattermapbox": [
           {
            "marker": {
             "colorbar": {
              "outlinewidth": 0,
              "ticks": ""
             }
            },
            "type": "scattermapbox"
           }
          ],
          "scatterpolar": [
           {
            "marker": {
             "colorbar": {
              "outlinewidth": 0,
              "ticks": ""
             }
            },
            "type": "scatterpolar"
           }
          ],
          "scatterpolargl": [
           {
            "marker": {
             "colorbar": {
              "outlinewidth": 0,
              "ticks": ""
             }
            },
            "type": "scatterpolargl"
           }
          ],
          "scatterternary": [
           {
            "marker": {
             "colorbar": {
              "outlinewidth": 0,
              "ticks": ""
             }
            },
            "type": "scatterternary"
           }
          ],
          "surface": [
           {
            "colorbar": {
             "outlinewidth": 0,
             "ticks": ""
            },
            "colorscale": [
             [
              0,
              "#0d0887"
             ],
             [
              0.1111111111111111,
              "#46039f"
             ],
             [
              0.2222222222222222,
              "#7201a8"
             ],
             [
              0.3333333333333333,
              "#9c179e"
             ],
             [
              0.4444444444444444,
              "#bd3786"
             ],
             [
              0.5555555555555556,
              "#d8576b"
             ],
             [
              0.6666666666666666,
              "#ed7953"
             ],
             [
              0.7777777777777778,
              "#fb9f3a"
             ],
             [
              0.8888888888888888,
              "#fdca26"
             ],
             [
              1,
              "#f0f921"
             ]
            ],
            "type": "surface"
           }
          ],
          "table": [
           {
            "cells": {
             "fill": {
              "color": "#EBF0F8"
             },
             "line": {
              "color": "white"
             }
            },
            "header": {
             "fill": {
              "color": "#C8D4E3"
             },
             "line": {
              "color": "white"
             }
            },
            "type": "table"
           }
          ]
         },
         "layout": {
          "annotationdefaults": {
           "arrowcolor": "#2a3f5f",
           "arrowhead": 0,
           "arrowwidth": 1
          },
          "autotypenumbers": "strict",
          "coloraxis": {
           "colorbar": {
            "outlinewidth": 0,
            "ticks": ""
           }
          },
          "colorscale": {
           "diverging": [
            [
             0,
             "#8e0152"
            ],
            [
             0.1,
             "#c51b7d"
            ],
            [
             0.2,
             "#de77ae"
            ],
            [
             0.3,
             "#f1b6da"
            ],
            [
             0.4,
             "#fde0ef"
            ],
            [
             0.5,
             "#f7f7f7"
            ],
            [
             0.6,
             "#e6f5d0"
            ],
            [
             0.7,
             "#b8e186"
            ],
            [
             0.8,
             "#7fbc41"
            ],
            [
             0.9,
             "#4d9221"
            ],
            [
             1,
             "#276419"
            ]
           ],
           "sequential": [
            [
             0,
             "#0d0887"
            ],
            [
             0.1111111111111111,
             "#46039f"
            ],
            [
             0.2222222222222222,
             "#7201a8"
            ],
            [
             0.3333333333333333,
             "#9c179e"
            ],
            [
             0.4444444444444444,
             "#bd3786"
            ],
            [
             0.5555555555555556,
             "#d8576b"
            ],
            [
             0.6666666666666666,
             "#ed7953"
            ],
            [
             0.7777777777777778,
             "#fb9f3a"
            ],
            [
             0.8888888888888888,
             "#fdca26"
            ],
            [
             1,
             "#f0f921"
            ]
           ],
           "sequentialminus": [
            [
             0,
             "#0d0887"
            ],
            [
             0.1111111111111111,
             "#46039f"
            ],
            [
             0.2222222222222222,
             "#7201a8"
            ],
            [
             0.3333333333333333,
             "#9c179e"
            ],
            [
             0.4444444444444444,
             "#bd3786"
            ],
            [
             0.5555555555555556,
             "#d8576b"
            ],
            [
             0.6666666666666666,
             "#ed7953"
            ],
            [
             0.7777777777777778,
             "#fb9f3a"
            ],
            [
             0.8888888888888888,
             "#fdca26"
            ],
            [
             1,
             "#f0f921"
            ]
           ]
          },
          "colorway": [
           "#636efa",
           "#EF553B",
           "#00cc96",
           "#ab63fa",
           "#FFA15A",
           "#19d3f3",
           "#FF6692",
           "#B6E880",
           "#FF97FF",
           "#FECB52"
          ],
          "font": {
           "color": "#2a3f5f"
          },
          "geo": {
           "bgcolor": "white",
           "lakecolor": "white",
           "landcolor": "#E5ECF6",
           "showlakes": true,
           "showland": true,
           "subunitcolor": "white"
          },
          "hoverlabel": {
           "align": "left"
          },
          "hovermode": "closest",
          "mapbox": {
           "style": "light"
          },
          "paper_bgcolor": "white",
          "plot_bgcolor": "#E5ECF6",
          "polar": {
           "angularaxis": {
            "gridcolor": "white",
            "linecolor": "white",
            "ticks": ""
           },
           "bgcolor": "#E5ECF6",
           "radialaxis": {
            "gridcolor": "white",
            "linecolor": "white",
            "ticks": ""
           }
          },
          "scene": {
           "xaxis": {
            "backgroundcolor": "#E5ECF6",
            "gridcolor": "white",
            "gridwidth": 2,
            "linecolor": "white",
            "showbackground": true,
            "ticks": "",
            "zerolinecolor": "white"
           },
           "yaxis": {
            "backgroundcolor": "#E5ECF6",
            "gridcolor": "white",
            "gridwidth": 2,
            "linecolor": "white",
            "showbackground": true,
            "ticks": "",
            "zerolinecolor": "white"
           },
           "zaxis": {
            "backgroundcolor": "#E5ECF6",
            "gridcolor": "white",
            "gridwidth": 2,
            "linecolor": "white",
            "showbackground": true,
            "ticks": "",
            "zerolinecolor": "white"
           }
          },
          "shapedefaults": {
           "line": {
            "color": "#2a3f5f"
           }
          },
          "ternary": {
           "aaxis": {
            "gridcolor": "white",
            "linecolor": "white",
            "ticks": ""
           },
           "baxis": {
            "gridcolor": "white",
            "linecolor": "white",
            "ticks": ""
           },
           "bgcolor": "#E5ECF6",
           "caxis": {
            "gridcolor": "white",
            "linecolor": "white",
            "ticks": ""
           }
          },
          "title": {
           "x": 0.05
          },
          "xaxis": {
           "automargin": true,
           "gridcolor": "white",
           "linecolor": "white",
           "ticks": "",
           "title": {
            "standoff": 15
           },
           "zerolinecolor": "white",
           "zerolinewidth": 2
          },
          "yaxis": {
           "automargin": true,
           "gridcolor": "white",
           "linecolor": "white",
           "ticks": "",
           "title": {
            "standoff": 15
           },
           "zerolinecolor": "white",
           "zerolinewidth": 2
          }
         }
        },
        "xaxis": {
         "anchor": "y",
         "domain": [
          0,
          1
         ],
         "title": {
          "text": "numbers"
         }
        },
        "yaxis": {
         "anchor": "x",
         "domain": [
          0,
          1
         ],
         "title": {
          "text": "stages"
         }
        }
       }
      }
     },
     "metadata": {},
     "output_type": "display_data"
    },
    {
     "data": {
      "text/html": [
       "<div>\n",
       "<style scoped>\n",
       "    .dataframe tbody tr th:only-of-type {\n",
       "        vertical-align: middle;\n",
       "    }\n",
       "\n",
       "    .dataframe tbody tr th {\n",
       "        vertical-align: top;\n",
       "    }\n",
       "\n",
       "    .dataframe thead th {\n",
       "        text-align: right;\n",
       "    }\n",
       "</style>\n",
       "<table border=\"1\" class=\"dataframe\">\n",
       "  <thead>\n",
       "    <tr style=\"text-align: right;\">\n",
       "      <th>page</th>\n",
       "      <th>Cancel</th>\n",
       "      <th>Cancellation Confirmation</th>\n",
       "      <th>Downgrade</th>\n",
       "      <th>Submit Downgrade</th>\n",
       "    </tr>\n",
       "    <tr>\n",
       "      <th>userId</th>\n",
       "      <th></th>\n",
       "      <th></th>\n",
       "      <th></th>\n",
       "      <th></th>\n",
       "    </tr>\n",
       "  </thead>\n",
       "  <tbody>\n",
       "    <tr>\n",
       "      <th>2</th>\n",
       "      <td>0.0</td>\n",
       "      <td>0.0</td>\n",
       "      <td>13.0</td>\n",
       "      <td>0.0</td>\n",
       "    </tr>\n",
       "    <tr>\n",
       "      <th>3</th>\n",
       "      <td>1.0</td>\n",
       "      <td>1.0</td>\n",
       "      <td>2.0</td>\n",
       "      <td>0.0</td>\n",
       "    </tr>\n",
       "    <tr>\n",
       "      <th>4</th>\n",
       "      <td>0.0</td>\n",
       "      <td>0.0</td>\n",
       "      <td>21.0</td>\n",
       "      <td>0.0</td>\n",
       "    </tr>\n",
       "    <tr>\n",
       "      <th>6</th>\n",
       "      <td>0.0</td>\n",
       "      <td>0.0</td>\n",
       "      <td>41.0</td>\n",
       "      <td>0.0</td>\n",
       "    </tr>\n",
       "    <tr>\n",
       "      <th>9</th>\n",
       "      <td>0.0</td>\n",
       "      <td>0.0</td>\n",
       "      <td>32.0</td>\n",
       "      <td>1.0</td>\n",
       "    </tr>\n",
       "    <tr>\n",
       "      <th>...</th>\n",
       "      <td>...</td>\n",
       "      <td>...</td>\n",
       "      <td>...</td>\n",
       "      <td>...</td>\n",
       "    </tr>\n",
       "    <tr>\n",
       "      <th>300020</th>\n",
       "      <td>0.0</td>\n",
       "      <td>0.0</td>\n",
       "      <td>1.0</td>\n",
       "      <td>0.0</td>\n",
       "    </tr>\n",
       "    <tr>\n",
       "      <th>300021</th>\n",
       "      <td>0.0</td>\n",
       "      <td>0.0</td>\n",
       "      <td>17.0</td>\n",
       "      <td>1.0</td>\n",
       "    </tr>\n",
       "    <tr>\n",
       "      <th>300022</th>\n",
       "      <td>0.0</td>\n",
       "      <td>0.0</td>\n",
       "      <td>1.0</td>\n",
       "      <td>0.0</td>\n",
       "    </tr>\n",
       "    <tr>\n",
       "      <th>300023</th>\n",
       "      <td>0.0</td>\n",
       "      <td>0.0</td>\n",
       "      <td>12.0</td>\n",
       "      <td>1.0</td>\n",
       "    </tr>\n",
       "    <tr>\n",
       "      <th>300025</th>\n",
       "      <td>0.0</td>\n",
       "      <td>0.0</td>\n",
       "      <td>7.0</td>\n",
       "      <td>0.0</td>\n",
       "    </tr>\n",
       "  </tbody>\n",
       "</table>\n",
       "<p>171 rows × 4 columns</p>\n",
       "</div>"
      ],
      "text/plain": [
       "page    Cancel  Cancellation Confirmation  Downgrade  Submit Downgrade\n",
       "userId                                                                \n",
       "2          0.0                        0.0       13.0               0.0\n",
       "3          1.0                        1.0        2.0               0.0\n",
       "4          0.0                        0.0       21.0               0.0\n",
       "6          0.0                        0.0       41.0               0.0\n",
       "9          0.0                        0.0       32.0               1.0\n",
       "...        ...                        ...        ...               ...\n",
       "300020     0.0                        0.0        1.0               0.0\n",
       "300021     0.0                        0.0       17.0               1.0\n",
       "300022     0.0                        0.0        1.0               0.0\n",
       "300023     0.0                        0.0       12.0               1.0\n",
       "300025     0.0                        0.0        7.0               0.0\n",
       "\n",
       "[171 rows x 4 columns]"
      ]
     },
     "execution_count": 80,
     "metadata": {},
     "output_type": "execute_result"
    }
   ],
   "source": [
    "service_change = [\n",
    "    \"Downgrade\",\n",
    "    \"Submit Downgrade\",\n",
    "    \"Cancel\",\n",
    "    \"Cancellation Confirmation\",\n",
    "]\n",
    "\n",
    "service_change_df = psdf.select(\"page\").distinct().toPandas()\n",
    "service_change_s = service_change_df.squeeze().tolist()\n",
    "\n",
    "service_change_df = (\n",
    "    psdf[[\"page\", \"userId\"]].filter((col(\"page\").isin(service_change))).toPandas()\n",
    ")\n",
    "\n",
    "\n",
    "service_change_df = service_change_df.groupby(\"userId\").value_counts().reset_index()\n",
    "\n",
    "service_change_df = service_change_df.pivot(\n",
    "    index=\"userId\", columns=\"page\", values=\"count\"\n",
    ").fillna(value=0)\n",
    "\n",
    "service_funnel = service_change_df.sum().sort_values(ascending=False)\n",
    "data = dict(stages=service_funnel.keys(), numbers=service_funnel.values)\n",
    "fig = px.funnel(data, x=\"numbers\", y=\"stages\")\n",
    "fig.show()\n",
    "\n",
    "service_change_df"
   ]
  },
  {
   "cell_type": "code",
   "execution_count": 81,
   "metadata": {},
   "outputs": [
    {
     "data": {
      "image/png": "[encoded data removed]",
      "text/plain": [
       "<Figure size 800x600 with 2 Axes>"
      ]
     },
     "metadata": {},
     "output_type": "display_data"
    }
   ],
   "source": [
    "# Heatmap to show correlation between pages\n",
    "plt.figure(figsize=(8, 6))\n",
    "sns.heatmap(\n",
    "    service_change_df.corr(), annot=True, cmap=\"coolwarm\", fmt=\".2f\", linewidths=0.5\n",
    ")\n",
    "plt.title(\"Downgrade/Cancel Page Correalations\")\n",
    "plt.show()"
   ]
  },
  {
   "cell_type": "code",
   "execution_count": 82,
   "metadata": {},
   "outputs": [
    {
     "data": {
      "text/html": [
       "<div>\n",
       "<style scoped>\n",
       "    .dataframe tbody tr th:only-of-type {\n",
       "        vertical-align: middle;\n",
       "    }\n",
       "\n",
       "    .dataframe tbody tr th {\n",
       "        vertical-align: top;\n",
       "    }\n",
       "\n",
       "    .dataframe thead th {\n",
       "        text-align: right;\n",
       "    }\n",
       "</style>\n",
       "<table border=\"1\" class=\"dataframe\">\n",
       "  <thead>\n",
       "    <tr style=\"text-align: right;\">\n",
       "      <th></th>\n",
       "      <th>song_plays</th>\n",
       "      <th>count</th>\n",
       "    </tr>\n",
       "  </thead>\n",
       "  <tbody>\n",
       "    <tr>\n",
       "      <th>0</th>\n",
       "      <td>1</td>\n",
       "      <td>5809</td>\n",
       "    </tr>\n",
       "    <tr>\n",
       "      <th>1</th>\n",
       "      <td>2</td>\n",
       "      <td>2616</td>\n",
       "    </tr>\n",
       "    <tr>\n",
       "      <th>2</th>\n",
       "      <td>3</td>\n",
       "      <td>1651</td>\n",
       "    </tr>\n",
       "    <tr>\n",
       "      <th>3</th>\n",
       "      <td>4</td>\n",
       "      <td>1075</td>\n",
       "    </tr>\n",
       "    <tr>\n",
       "      <th>4</th>\n",
       "      <td>5</td>\n",
       "      <td>757</td>\n",
       "    </tr>\n",
       "    <tr>\n",
       "      <th>...</th>\n",
       "      <td>...</td>\n",
       "      <td>...</td>\n",
       "    </tr>\n",
       "    <tr>\n",
       "      <th>67</th>\n",
       "      <td>83</td>\n",
       "      <td>11</td>\n",
       "    </tr>\n",
       "    <tr>\n",
       "      <th>68</th>\n",
       "      <td>103</td>\n",
       "      <td>11</td>\n",
       "    </tr>\n",
       "    <tr>\n",
       "      <th>69</th>\n",
       "      <td>73</td>\n",
       "      <td>11</td>\n",
       "    </tr>\n",
       "    <tr>\n",
       "      <th>70</th>\n",
       "      <td>75</td>\n",
       "      <td>11</td>\n",
       "    </tr>\n",
       "    <tr>\n",
       "      <th>71</th>\n",
       "      <td>68</td>\n",
       "      <td>11</td>\n",
       "    </tr>\n",
       "  </tbody>\n",
       "</table>\n",
       "<p>72 rows × 2 columns</p>\n",
       "</div>"
      ],
      "text/plain": [
       "    song_plays  count\n",
       "0            1   5809\n",
       "1            2   2616\n",
       "2            3   1651\n",
       "3            4   1075\n",
       "4            5    757\n",
       "..         ...    ...\n",
       "67          83     11\n",
       "68         103     11\n",
       "69          73     11\n",
       "70          75     11\n",
       "71          68     11\n",
       "\n",
       "[72 rows x 2 columns]"
      ]
     },
     "execution_count": 82,
     "metadata": {},
     "output_type": "execute_result"
    }
   ],
   "source": [
    "temp_df = psdf[[\"artist\"]].toPandas().dropna().value_counts().reset_index()\n",
    "\n",
    "\n",
    "temp_df = temp_df.rename(columns={\"count\": \"song_plays\"})\n",
    "\n",
    "\n",
    "temp_df = temp_df[\"song_plays\"].value_counts().reset_index()\n",
    "temp_df = temp_df[temp_df[\"count\"] > 10]\n",
    "\n",
    "temp_df"
   ]
  },
  {
   "cell_type": "markdown",
   "metadata": {},
   "source": []
  },
  {
   "cell_type": "markdown",
   "metadata": {},
   "source": [
    "## Song Plays Per"
   ]
  },
  {
   "cell_type": "code",
   "execution_count": 83,
   "metadata": {},
   "outputs": [],
   "source": [
    "def get_hour(value):\n",
    "    return int(datetime.datetime.fromtimestamp(value / 1000.0).hour)\n",
    "\n",
    "\n",
    "def get_day_of_week(value):\n",
    "    return datetime.datetime.fromtimestamp(value / 1000.0).strftime(\"%A\")\n",
    "\n",
    "\n",
    "get_hour_udf = udf(get_hour, IntegerType())\n",
    "get_day_of_week_udf = udf(get_day_of_week, StringType())\n",
    "\n",
    "psdf = psdf.withColumn(\"hour_of_day\", get_hour_udf(\"ts\"))\n",
    "psdf = psdf.withColumn(\"day_of_week\", get_day_of_week_udf(\"ts\"))"
   ]
  },
  {
   "cell_type": "code",
   "execution_count": 84,
   "metadata": {},
   "outputs": [
    {
     "name": "stderr",
     "output_type": "stream",
     "text": [
      "                                                                                \r"
     ]
    }
   ],
   "source": [
    "times_df = (\n",
    "    psdf.dropna(subset=\"userId\")\n",
    "    .filter(col(\"page\") == \"NextSong\")\n",
    "    .select([\"hour_of_day\", \"day_of_week\", \"userId\", \"cancel_flag\"])\n",
    "    .toPandas()\n",
    ")"
   ]
  },
  {
   "cell_type": "code",
   "execution_count": 85,
   "metadata": {},
   "outputs": [
    {
     "data": {
      "image/png": "[encoded data removed]",
      "text/plain": [
       "<Figure size 640x480 with 1 Axes>"
      ]
     },
     "metadata": {},
     "output_type": "display_data"
    }
   ],
   "source": [
    "sum_day_counts_df = (\n",
    "    times_df.groupby([\"cancel_flag\", \"userId\", \"day_of_week\"])\n",
    "    .agg(sum_page_visits=(\"day_of_week\", \"count\"))\n",
    "    .reset_index()\n",
    ")\n",
    "\n",
    "\n",
    "avg_user_day_song_counts = (\n",
    "    sum_day_counts_df.groupby([\"cancel_flag\", \"day_of_week\"])\n",
    "    .agg(mean_song_listens=(\"sum_page_visits\", \"mean\"))\n",
    "    .reset_index()\n",
    ")\n",
    "\n",
    "weekday_order = [\n",
    "    \"Monday\",\n",
    "    \"Tuesday\",\n",
    "    \"Wednesday\",\n",
    "    \"Thursday\",\n",
    "    \"Friday\",\n",
    "    \"Saturday\",\n",
    "    \"Sunday\",\n",
    "]\n",
    "pd.Categorical(\n",
    "    avg_user_day_song_counts[\"day_of_week\"], categories=weekday_order, ordered=True\n",
    ")\n",
    "\n",
    "\n",
    "sns.barplot(\n",
    "    data=avg_user_day_song_counts,\n",
    "    y=\"mean_song_listens\",\n",
    "    x=\"day_of_week\",\n",
    "    hue=\"cancel_flag\",\n",
    ")\n",
    "plt.show()"
   ]
  },
  {
   "cell_type": "code",
   "execution_count": 86,
   "metadata": {},
   "outputs": [
    {
     "data": {
      "text/html": [
       "<div>\n",
       "<style scoped>\n",
       "    .dataframe tbody tr th:only-of-type {\n",
       "        vertical-align: middle;\n",
       "    }\n",
       "\n",
       "    .dataframe tbody tr th {\n",
       "        vertical-align: top;\n",
       "    }\n",
       "\n",
       "    .dataframe thead th {\n",
       "        text-align: right;\n",
       "    }\n",
       "</style>\n",
       "<table border=\"1\" class=\"dataframe\">\n",
       "  <thead>\n",
       "    <tr style=\"text-align: right;\">\n",
       "      <th></th>\n",
       "      <th>cancel_flag</th>\n",
       "      <th>userId</th>\n",
       "      <th>hour_of_day</th>\n",
       "      <th>sum_hourly_plays</th>\n",
       "    </tr>\n",
       "  </thead>\n",
       "  <tbody>\n",
       "    <tr>\n",
       "      <th>0</th>\n",
       "      <td>0</td>\n",
       "      <td>2</td>\n",
       "      <td>0</td>\n",
       "      <td>32</td>\n",
       "    </tr>\n",
       "    <tr>\n",
       "      <th>1</th>\n",
       "      <td>0</td>\n",
       "      <td>2</td>\n",
       "      <td>1</td>\n",
       "      <td>44</td>\n",
       "    </tr>\n",
       "    <tr>\n",
       "      <th>2</th>\n",
       "      <td>0</td>\n",
       "      <td>2</td>\n",
       "      <td>2</td>\n",
       "      <td>28</td>\n",
       "    </tr>\n",
       "    <tr>\n",
       "      <th>3</th>\n",
       "      <td>0</td>\n",
       "      <td>2</td>\n",
       "      <td>3</td>\n",
       "      <td>27</td>\n",
       "    </tr>\n",
       "    <tr>\n",
       "      <th>4</th>\n",
       "      <td>0</td>\n",
       "      <td>2</td>\n",
       "      <td>4</td>\n",
       "      <td>25</td>\n",
       "    </tr>\n",
       "    <tr>\n",
       "      <th>...</th>\n",
       "      <td>...</td>\n",
       "      <td>...</td>\n",
       "      <td>...</td>\n",
       "      <td>...</td>\n",
       "    </tr>\n",
       "    <tr>\n",
       "      <th>4263</th>\n",
       "      <td>1</td>\n",
       "      <td>300007</td>\n",
       "      <td>18</td>\n",
       "      <td>16</td>\n",
       "    </tr>\n",
       "    <tr>\n",
       "      <th>4264</th>\n",
       "      <td>1</td>\n",
       "      <td>300007</td>\n",
       "      <td>19</td>\n",
       "      <td>14</td>\n",
       "    </tr>\n",
       "    <tr>\n",
       "      <th>4265</th>\n",
       "      <td>1</td>\n",
       "      <td>300007</td>\n",
       "      <td>20</td>\n",
       "      <td>14</td>\n",
       "    </tr>\n",
       "    <tr>\n",
       "      <th>4266</th>\n",
       "      <td>1</td>\n",
       "      <td>300007</td>\n",
       "      <td>21</td>\n",
       "      <td>13</td>\n",
       "    </tr>\n",
       "    <tr>\n",
       "      <th>4267</th>\n",
       "      <td>1</td>\n",
       "      <td>300007</td>\n",
       "      <td>22</td>\n",
       "      <td>3</td>\n",
       "    </tr>\n",
       "  </tbody>\n",
       "</table>\n",
       "<p>4268 rows × 4 columns</p>\n",
       "</div>"
      ],
      "text/plain": [
       "      cancel_flag  userId  hour_of_day  sum_hourly_plays\n",
       "0               0       2            0                32\n",
       "1               0       2            1                44\n",
       "2               0       2            2                28\n",
       "3               0       2            3                27\n",
       "4               0       2            4                25\n",
       "...           ...     ...          ...               ...\n",
       "4263            1  300007           18                16\n",
       "4264            1  300007           19                14\n",
       "4265            1  300007           20                14\n",
       "4266            1  300007           21                13\n",
       "4267            1  300007           22                 3\n",
       "\n",
       "[4268 rows x 4 columns]"
      ]
     },
     "execution_count": 86,
     "metadata": {},
     "output_type": "execute_result"
    }
   ],
   "source": [
    "times_df.groupby([\"cancel_flag\", \"userId\", \"hour_of_day\"]).agg(\n",
    "    sum_hourly_plays=(\"hour_of_day\", \"count\")\n",
    ").reset_index()"
   ]
  },
  {
   "cell_type": "code",
   "execution_count": 87,
   "metadata": {},
   "outputs": [
    {
     "data": {
      "text/html": [
       "<div>\n",
       "<style scoped>\n",
       "    .dataframe tbody tr th:only-of-type {\n",
       "        vertical-align: middle;\n",
       "    }\n",
       "\n",
       "    .dataframe tbody tr th {\n",
       "        vertical-align: top;\n",
       "    }\n",
       "\n",
       "    .dataframe thead th {\n",
       "        text-align: right;\n",
       "    }\n",
       "</style>\n",
       "<table border=\"1\" class=\"dataframe\">\n",
       "  <thead>\n",
       "    <tr style=\"text-align: right;\">\n",
       "      <th></th>\n",
       "      <th>cancel_flag</th>\n",
       "      <th>userId</th>\n",
       "      <th>hour_of_day</th>\n",
       "      <th>sum_hourly_plays</th>\n",
       "    </tr>\n",
       "  </thead>\n",
       "  <tbody>\n",
       "    <tr>\n",
       "      <th>0</th>\n",
       "      <td>0</td>\n",
       "      <td>2</td>\n",
       "      <td>0</td>\n",
       "      <td>32</td>\n",
       "    </tr>\n",
       "    <tr>\n",
       "      <th>1</th>\n",
       "      <td>0</td>\n",
       "      <td>2</td>\n",
       "      <td>1</td>\n",
       "      <td>44</td>\n",
       "    </tr>\n",
       "    <tr>\n",
       "      <th>2</th>\n",
       "      <td>0</td>\n",
       "      <td>2</td>\n",
       "      <td>2</td>\n",
       "      <td>28</td>\n",
       "    </tr>\n",
       "    <tr>\n",
       "      <th>3</th>\n",
       "      <td>0</td>\n",
       "      <td>2</td>\n",
       "      <td>3</td>\n",
       "      <td>27</td>\n",
       "    </tr>\n",
       "    <tr>\n",
       "      <th>4</th>\n",
       "      <td>0</td>\n",
       "      <td>2</td>\n",
       "      <td>4</td>\n",
       "      <td>25</td>\n",
       "    </tr>\n",
       "    <tr>\n",
       "      <th>...</th>\n",
       "      <td>...</td>\n",
       "      <td>...</td>\n",
       "      <td>...</td>\n",
       "      <td>...</td>\n",
       "    </tr>\n",
       "    <tr>\n",
       "      <th>4263</th>\n",
       "      <td>1</td>\n",
       "      <td>300007</td>\n",
       "      <td>18</td>\n",
       "      <td>16</td>\n",
       "    </tr>\n",
       "    <tr>\n",
       "      <th>4264</th>\n",
       "      <td>1</td>\n",
       "      <td>300007</td>\n",
       "      <td>19</td>\n",
       "      <td>14</td>\n",
       "    </tr>\n",
       "    <tr>\n",
       "      <th>4265</th>\n",
       "      <td>1</td>\n",
       "      <td>300007</td>\n",
       "      <td>20</td>\n",
       "      <td>14</td>\n",
       "    </tr>\n",
       "    <tr>\n",
       "      <th>4266</th>\n",
       "      <td>1</td>\n",
       "      <td>300007</td>\n",
       "      <td>21</td>\n",
       "      <td>13</td>\n",
       "    </tr>\n",
       "    <tr>\n",
       "      <th>4267</th>\n",
       "      <td>1</td>\n",
       "      <td>300007</td>\n",
       "      <td>22</td>\n",
       "      <td>3</td>\n",
       "    </tr>\n",
       "  </tbody>\n",
       "</table>\n",
       "<p>4268 rows × 4 columns</p>\n",
       "</div>"
      ],
      "text/plain": [
       "      cancel_flag  userId  hour_of_day  sum_hourly_plays\n",
       "0               0       2            0                32\n",
       "1               0       2            1                44\n",
       "2               0       2            2                28\n",
       "3               0       2            3                27\n",
       "4               0       2            4                25\n",
       "...           ...     ...          ...               ...\n",
       "4263            1  300007           18                16\n",
       "4264            1  300007           19                14\n",
       "4265            1  300007           20                14\n",
       "4266            1  300007           21                13\n",
       "4267            1  300007           22                 3\n",
       "\n",
       "[4268 rows x 4 columns]"
      ]
     },
     "execution_count": 87,
     "metadata": {},
     "output_type": "execute_result"
    }
   ],
   "source": [
    "(\n",
    "    times_df.groupby([\"cancel_flag\", \"userId\", \"hour_of_day\"])\n",
    "    .agg(sum_hourly_plays=(\"hour_of_day\", \"count\"))\n",
    "    .reset_index()\n",
    ")"
   ]
  },
  {
   "cell_type": "code",
   "execution_count": 88,
   "metadata": {},
   "outputs": [
    {
     "data": {
      "text/plain": [
       "<Axes: xlabel='hour_of_day', ylabel='mean_hourly_listens'>"
      ]
     },
     "execution_count": 88,
     "metadata": {},
     "output_type": "execute_result"
    },
    {
     "data": {
      "image/png": "[encoded data removed]",
      "text/plain": [
       "<Figure size 640x480 with 1 Axes>"
      ]
     },
     "metadata": {},
     "output_type": "display_data"
    }
   ],
   "source": [
    "sum_user_hourly_listens = (\n",
    "    times_df.groupby([\"cancel_flag\", \"userId\", \"hour_of_day\"])\n",
    "    .agg(sum_hourly_listens=(\"hour_of_day\", \"count\"))\n",
    "    .reset_index()\n",
    ")\n",
    "\n",
    "\n",
    "avg_user_hourly_listens = (\n",
    "    sum_user_hourly_listens.groupby([\"cancel_flag\", \"hour_of_day\"])\n",
    "    .agg(mean_hourly_listens=(\"sum_hourly_listens\", \"mean\"))\n",
    "    .reset_index()\n",
    ")\n",
    "\n",
    "\n",
    "sns.barplot(\n",
    "    data=avg_user_hourly_listens,\n",
    "    y=\"mean_hourly_listens\",\n",
    "    x=\"hour_of_day\",\n",
    "    hue=\"cancel_flag\",\n",
    ")"
   ]
  },
  {
   "cell_type": "code",
   "execution_count": 89,
   "metadata": {},
   "outputs": [
    {
     "name": "stderr",
     "output_type": "stream",
     "text": [
      "                                                                                \r"
     ]
    },
    {
     "data": {
      "text/plain": [
       "<seaborn.axisgrid.FacetGrid at 0x2dce609d0>"
      ]
     },
     "execution_count": 89,
     "metadata": {},
     "output_type": "execute_result"
    },
    {
     "data": {
      "image/png": "[encoded data removed]",
      "text/plain": [
       "<Figure size 639.75x500 with 1 Axes>"
      ]
     },
     "metadata": {},
     "output_type": "display_data"
    }
   ],
   "source": [
    "song_listens = (\n",
    "    psdf.dropna(subset=\"artist\")\n",
    "    .filter(col(\"page\") == \"NextSong\")\n",
    "    .select([\"hour_of_day\", \"day_of_week\", \"cancel_flag\"])\n",
    "    .toPandas()\n",
    "    .value_counts()\n",
    "    .reset_index()\n",
    ")\n",
    "\n",
    "avg_user_hourly_listens_by_day = (\n",
    "    song_listens.groupby([\"day_of_week\", \"hour_of_day\"])\n",
    "    .agg(mean_hourly_listens=(\"count\", \"mean\"))\n",
    "    .reset_index()\n",
    ")\n",
    "\n",
    "\n",
    "sns.relplot(\n",
    "    data=song_listens,\n",
    "    y=\"count\",\n",
    "    x=\"hour_of_day\",\n",
    "    hue=\"day_of_week\",\n",
    "    kind=\"scatter\",\n",
    "    style=\"cancel_flag\",  # You can explore other kinds like 'line' or 'lineplot'\n",
    ")"
   ]
  },
  {
   "cell_type": "code",
   "execution_count": 90,
   "metadata": {},
   "outputs": [
    {
     "name": "stdout",
     "output_type": "stream",
     "text": [
      "+------+-----+\n",
      "|userId|count|\n",
      "+------+-----+\n",
      "|   148|  398|\n",
      "|   137|  154|\n",
      "|    85| 3616|\n",
      "|    65| 2113|\n",
      "|    53| 1746|\n",
      "|   133|   32|\n",
      "|    78|  254|\n",
      "|    34|   53|\n",
      "|   101| 1797|\n",
      "|   126| 2577|\n",
      "|   115| 1737|\n",
      "|    81| 1974|\n",
      "|    28| 1457|\n",
      "|    76|  212|\n",
      "|    27|  220|\n",
      "|    26|  255|\n",
      "|    44|  429|\n",
      "|   103| 1073|\n",
      "|    12|  867|\n",
      "|    91| 2580|\n",
      "+------+-----+\n",
      "only showing top 20 rows\n",
      "\n"
     ]
    }
   ],
   "source": [
    "songs_listened = psdf.filter(col(\"artist\").isNotNull()).groupBy(col(\"userId\")).count()\n",
    "\n",
    "songs_listened.show()"
   ]
  },
  {
   "cell_type": "markdown",
   "metadata": {},
   "source": [
    "## Page Interactions\n"
   ]
  },
  {
   "cell_type": "code",
   "execution_count": 91,
   "metadata": {},
   "outputs": [
    {
     "data": {
      "text/html": [
       "<div>\n",
       "<style scoped>\n",
       "    .dataframe tbody tr th:only-of-type {\n",
       "        vertical-align: middle;\n",
       "    }\n",
       "\n",
       "    .dataframe tbody tr th {\n",
       "        vertical-align: top;\n",
       "    }\n",
       "\n",
       "    .dataframe thead th {\n",
       "        text-align: right;\n",
       "    }\n",
       "</style>\n",
       "<table border=\"1\" class=\"dataframe\">\n",
       "  <thead>\n",
       "    <tr style=\"text-align: right;\">\n",
       "      <th></th>\n",
       "      <th>userId</th>\n",
       "      <th>count</th>\n",
       "    </tr>\n",
       "  </thead>\n",
       "  <tbody>\n",
       "    <tr>\n",
       "      <th>0</th>\n",
       "      <td>39</td>\n",
       "      <td>819</td>\n",
       "    </tr>\n",
       "    <tr>\n",
       "      <th>1</th>\n",
       "      <td>300011</td>\n",
       "      <td>717</td>\n",
       "    </tr>\n",
       "    <tr>\n",
       "      <th>2</th>\n",
       "      <td>92</td>\n",
       "      <td>655</td>\n",
       "    </tr>\n",
       "    <tr>\n",
       "      <th>3</th>\n",
       "      <td>140</td>\n",
       "      <td>643</td>\n",
       "    </tr>\n",
       "    <tr>\n",
       "      <th>4</th>\n",
       "      <td>300021</td>\n",
       "      <td>568</td>\n",
       "    </tr>\n",
       "    <tr>\n",
       "      <th>...</th>\n",
       "      <td>...</td>\n",
       "      <td>...</td>\n",
       "    </tr>\n",
       "    <tr>\n",
       "      <th>216</th>\n",
       "      <td>100024</td>\n",
       "      <td>5</td>\n",
       "    </tr>\n",
       "    <tr>\n",
       "      <th>217</th>\n",
       "      <td>100017</td>\n",
       "      <td>4</td>\n",
       "    </tr>\n",
       "    <tr>\n",
       "      <th>218</th>\n",
       "      <td>100011</td>\n",
       "      <td>3</td>\n",
       "    </tr>\n",
       "    <tr>\n",
       "      <th>219</th>\n",
       "      <td>200007</td>\n",
       "      <td>3</td>\n",
       "    </tr>\n",
       "    <tr>\n",
       "      <th>220</th>\n",
       "      <td>300003</td>\n",
       "      <td>3</td>\n",
       "    </tr>\n",
       "  </tbody>\n",
       "</table>\n",
       "<p>221 rows × 2 columns</p>\n",
       "</div>"
      ],
      "text/plain": [
       "     userId  count\n",
       "0        39    819\n",
       "1    300011    717\n",
       "2        92    655\n",
       "3       140    643\n",
       "4    300021    568\n",
       "..      ...    ...\n",
       "216  100024      5\n",
       "217  100017      4\n",
       "218  100011      3\n",
       "219  200007      3\n",
       "220  300003      3\n",
       "\n",
       "[221 rows x 2 columns]"
      ]
     },
     "execution_count": 91,
     "metadata": {},
     "output_type": "execute_result"
    }
   ],
   "source": [
    "page_interactions = [\"Thumbs Up\", \"Add to Playlist\", \"Thumbs Down\", \"Add Friend\"]\n",
    "\n",
    "psdf[[\"userId\"]].filter(\n",
    "    col(\"page\").isin(page_interactions) & ~col(\"userID\").isNull()\n",
    ").toPandas().value_counts().reset_index()"
   ]
  },
  {
   "cell_type": "code",
   "execution_count": 92,
   "metadata": {},
   "outputs": [
    {
     "data": {
      "text/html": [
       "<div>\n",
       "<style scoped>\n",
       "    .dataframe tbody tr th:only-of-type {\n",
       "        vertical-align: middle;\n",
       "    }\n",
       "\n",
       "    .dataframe tbody tr th {\n",
       "        vertical-align: top;\n",
       "    }\n",
       "\n",
       "    .dataframe thead th {\n",
       "        text-align: right;\n",
       "    }\n",
       "</style>\n",
       "<table border=\"1\" class=\"dataframe\">\n",
       "  <thead>\n",
       "    <tr style=\"text-align: right;\">\n",
       "      <th></th>\n",
       "      <th>userId</th>\n",
       "      <th>count</th>\n",
       "    </tr>\n",
       "  </thead>\n",
       "  <tbody>\n",
       "    <tr>\n",
       "      <th>0</th>\n",
       "      <td>39</td>\n",
       "      <td>53</td>\n",
       "    </tr>\n",
       "    <tr>\n",
       "      <th>1</th>\n",
       "      <td>92</td>\n",
       "      <td>43</td>\n",
       "    </tr>\n",
       "    <tr>\n",
       "      <th>2</th>\n",
       "      <td>140</td>\n",
       "      <td>41</td>\n",
       "    </tr>\n",
       "    <tr>\n",
       "      <th>3</th>\n",
       "      <td>300017</td>\n",
       "      <td>32</td>\n",
       "    </tr>\n",
       "    <tr>\n",
       "      <th>4</th>\n",
       "      <td>300011</td>\n",
       "      <td>32</td>\n",
       "    </tr>\n",
       "    <tr>\n",
       "      <th>...</th>\n",
       "      <td>...</td>\n",
       "      <td>...</td>\n",
       "    </tr>\n",
       "    <tr>\n",
       "      <th>192</th>\n",
       "      <td>47</td>\n",
       "      <td>1</td>\n",
       "    </tr>\n",
       "    <tr>\n",
       "      <th>193</th>\n",
       "      <td>100019</td>\n",
       "      <td>1</td>\n",
       "    </tr>\n",
       "    <tr>\n",
       "      <th>194</th>\n",
       "      <td>123</td>\n",
       "      <td>1</td>\n",
       "    </tr>\n",
       "    <tr>\n",
       "      <th>195</th>\n",
       "      <td>57</td>\n",
       "      <td>1</td>\n",
       "    </tr>\n",
       "    <tr>\n",
       "      <th>196</th>\n",
       "      <td>151</td>\n",
       "      <td>1</td>\n",
       "    </tr>\n",
       "  </tbody>\n",
       "</table>\n",
       "<p>197 rows × 2 columns</p>\n",
       "</div>"
      ],
      "text/plain": [
       "     userId  count\n",
       "0        39     53\n",
       "1        92     43\n",
       "2       140     41\n",
       "3    300017     32\n",
       "4    300011     32\n",
       "..      ...    ...\n",
       "192      47      1\n",
       "193  100019      1\n",
       "194     123      1\n",
       "195      57      1\n",
       "196     151      1\n",
       "\n",
       "[197 rows x 2 columns]"
      ]
     },
     "execution_count": 92,
     "metadata": {},
     "output_type": "execute_result"
    }
   ],
   "source": [
    "page_issues = [\"Help\", \"Error\"]\n",
    "\n",
    "psdf[[\"userId\"]].filter(\n",
    "    col(\"page\").isin(page_issues) & ~col(\"userID\").isNull()\n",
    ").toPandas().value_counts().reset_index()"
   ]
  },
  {
   "cell_type": "markdown",
   "metadata": {},
   "source": [
    "# Feature Engineering"
   ]
  },
  {
   "cell_type": "markdown",
   "metadata": {},
   "source": [
    "### Approach\n",
    "<b>Features To Build </b>\n",
    "- Total Songs Listened To\n",
    "- App Page Interactions\n",
    "    - Thumbs Up\n",
    "    - Thumbs Down\n",
    "    - Add Friend\n",
    "    - Add to playlist\n",
    "- Help Page Interactions/Error Page Interactions\n",
    "\n",
    "\n",
    "<b> Key Points </b>\n",
    "- The Feature dataframe will be created based on the userId\n",
    "- Transformations will need to maximize Pyspark capabilities"
   ]
  },
  {
   "cell_type": "code",
   "execution_count": 93,
   "metadata": {},
   "outputs": [],
   "source": [
    "# since our focus is on users that are on the platform\n",
    "clean_psdf = psdf.dropna(subset=\"userId\")\n",
    "clean_psdf.createOrReplaceTempView(\"cleaned_user_log\")\n",
    "\n",
    "\n",
    "unique_user_count = clean_psdf[[\"userId\"]].distinct()"
   ]
  },
  {
   "cell_type": "markdown",
   "metadata": {},
   "source": [
    "## Build Features"
   ]
  },
  {
   "cell_type": "markdown",
   "metadata": {},
   "source": [
    "### Song Counts"
   ]
  },
  {
   "cell_type": "code",
   "execution_count": 94,
   "metadata": {},
   "outputs": [],
   "source": [
    "song_counts = (\n",
    "    clean_psdf[[\"userId\", \"artist\"]].dropna(subset=\"artist\").groupBy(\"userId\").count()\n",
    ")\n",
    "song_counts = song_counts.withColumnRenamed(\"count\", \"song_counts\")\n",
    "assert song_counts.count() == unique_user_count.count()"
   ]
  },
  {
   "cell_type": "markdown",
   "metadata": {},
   "source": [
    "### Mean Song Listened To"
   ]
  },
  {
   "cell_type": "code",
   "execution_count": 95,
   "metadata": {},
   "outputs": [],
   "source": [
    "song_listened_mean = (\n",
    "    clean_psdf[[\"userId\", \"artist\"]].dropna(subset=\"artist\").groupBy(\"userId\").mean()\n",
    ")\n",
    "song_listened_mean = song_listened_mean.withColumnRenamed(\"avg(userId)\", \"song_mean\")\n",
    "\n",
    "\n",
    "assert song_listened_mean.count() == unique_user_count.count()"
   ]
  },
  {
   "cell_type": "markdown",
   "metadata": {},
   "source": [
    "### Distinct Artist"
   ]
  },
  {
   "cell_type": "code",
   "execution_count": 96,
   "metadata": {},
   "outputs": [],
   "source": [
    "distinct_artist = (\n",
    "    clean_psdf.filter(clean_psdf[\"artist\"].isNotNull())\n",
    "    .groupBy(\"userId\")\n",
    "    .agg(F.countDistinct(\"artist\").alias(\"distinct_artist\"))\n",
    ")"
   ]
  },
  {
   "cell_type": "markdown",
   "metadata": {},
   "source": [
    "### User Level"
   ]
  },
  {
   "cell_type": "code",
   "execution_count": 97,
   "metadata": {},
   "outputs": [],
   "source": [
    "user_level = (\n",
    "    clean_psdf[[\"userId\", \"level\", \"ts\"]]\n",
    "    .orderBy(\"ts\", ascending=False)\n",
    "    .dropDuplicates(subset=[\"userId\"])\n",
    "    .select(\"userId\", \"level\")\n",
    ")\n",
    "\n",
    "level_flag_udf = udf(lambda x: 1 if x == \"paid\" else 0, IntegerType())\n",
    "\n",
    "# one-hot encode\n",
    "user_level = user_level.withColumn(\n",
    "    \"level_flag\", level_flag_udf(user_level[\"level\"])\n",
    ").select(\"userId\", \"level_flag\")\n",
    "\n",
    "\n",
    "assert user_level.count() == unique_user_count.count()"
   ]
  },
  {
   "cell_type": "markdown",
   "metadata": {},
   "source": [
    "### Positive App Usage"
   ]
  },
  {
   "cell_type": "code",
   "execution_count": 98,
   "metadata": {},
   "outputs": [
    {
     "name": "stdout",
     "output_type": "stream",
     "text": [
      "+------+----------------+\n",
      "|userId|pos_interactions|\n",
      "+------+----------------+\n",
      "|   148|              38|\n",
      "|   137|              17|\n",
      "|    85|             288|\n",
      "|    65|             181|\n",
      "|    53|             110|\n",
      "|   133|               3|\n",
      "|    78|              16|\n",
      "|    34|               2|\n",
      "|   101|             131|\n",
      "|   126|             189|\n",
      "|   115|             155|\n",
      "|    81|             131|\n",
      "|    28|             121|\n",
      "|    76|              18|\n",
      "|    27|              17|\n",
      "|    26|              19|\n",
      "|    44|              35|\n",
      "|   103|              86|\n",
      "|    12|              64|\n",
      "|    91|             190|\n",
      "+------+----------------+\n",
      "only showing top 20 rows\n",
      "\n"
     ]
    }
   ],
   "source": [
    "positive_usage_list = [\"Thumbs Up\", \"Thumbs Down\", \"Add Friend\", \"Add to playlist\"]\n",
    "\n",
    "positive_usage = (\n",
    "    clean_psdf[[\"userId\", \"page\"]]\n",
    "    .filter(col(\"page\").isin(positive_usage_list))\n",
    "    .groupBy(\"userId\")\n",
    "    .count()\n",
    ")\n",
    "\n",
    "positive_usage = positive_usage.withColumnRenamed(\"count\", \"pos_interactions\")\n",
    "\n",
    "if positive_usage.count() != unique_user_count.count():\n",
    "    missing_users = unique_user_count[[\"userId\"]].exceptAll(positive_usage[[\"userId\"]])\n",
    "    missing_users_df = missing_users[[\"userId\"]].withColumn(\"pos_interactions\", lit(0))\n",
    "    positive_usage = positive_usage.union(missing_users_df)\n",
    "\n",
    "positive_usage.show()"
   ]
  },
  {
   "cell_type": "markdown",
   "metadata": {},
   "source": [
    "### Negative Interactions"
   ]
  },
  {
   "cell_type": "code",
   "execution_count": 99,
   "metadata": {},
   "outputs": [],
   "source": [
    "neg_interactions_list = [\"Error\", \"Help\"]\n",
    "\n",
    "neg_interactions = (\n",
    "    clean_psdf[[\"userId\", \"page\"]]\n",
    "    .filter(col(\"page\").isin(neg_interactions_list))\n",
    "    .groupBy(\"userId\")\n",
    "    .count()\n",
    ")\n",
    "\n",
    "neg_interactions = neg_interactions.withColumnRenamed(\"count\", \"neg_interactions\")\n",
    "\n",
    "if neg_interactions.count() != unique_user_count.count():\n",
    "    missing_users = unique_user_count[[\"userId\"]].exceptAll(\n",
    "        neg_interactions[[\"userId\"]]\n",
    "    )\n",
    "    missing_users_df = missing_users[[\"userId\"]].withColumn(\"neg_interactions\", lit(0))\n",
    "    neg_interactions = neg_interactions.union(missing_users_df)"
   ]
  },
  {
   "cell_type": "markdown",
   "metadata": {},
   "source": [
    "### Unique Locations"
   ]
  },
  {
   "cell_type": "code",
   "execution_count": 100,
   "metadata": {},
   "outputs": [],
   "source": [
    "unique_locations = (\n",
    "    clean_psdf.filter(clean_psdf[\"location\"].isNotNull())\n",
    "    .groupBy(\"userId\")\n",
    "    .agg(F.countDistinct(\"location\").alias(\"unique_locations\"))\n",
    ")"
   ]
  },
  {
   "cell_type": "markdown",
   "metadata": {},
   "source": [
    "### Page Counts"
   ]
  },
  {
   "cell_type": "code",
   "execution_count": 102,
   "metadata": {},
   "outputs": [
    {
     "data": {
      "image/png": "[encoded data removed]",
      "text/plain": [
       "<Figure size 640x480 with 2 Axes>"
      ]
     },
     "metadata": {},
     "output_type": "display_data"
    }
   ],
   "source": [
    "page_filter = [\"Cancel\", \"Cancellation Confirmation\", \"NextSong\"]\n",
    "page_count_df = (\n",
    "    clean_psdf[[\"userId\", \"page\"]]\n",
    "    .filter(~col(\"page\").isin(page_filter))\n",
    "    .toPandas()\n",
    "    .groupby(\"userId\")\n",
    "    .value_counts()\n",
    "    .reset_index()\n",
    "    .pivot(columns=\"page\", values=\"count\", index=\"userId\")\n",
    "    .fillna(int(0))\n",
    ")\n",
    "\n",
    "\n",
    "page_count_corr = page_count_df.corr()\n",
    "\n",
    "sns.heatmap(\n",
    "    page_count_corr,\n",
    "    annot=False,\n",
    "    cmap=\"coolwarm\",\n",
    "    fmt=\".2f\",\n",
    "    linewidths=0.5,\n",
    ")\n",
    "\n",
    "page_count = spark.createDataFrame(page_count_df.reset_index())"
   ]
  },
  {
   "cell_type": "markdown",
   "metadata": {},
   "source": [
    "### Label"
   ]
  },
  {
   "cell_type": "code",
   "execution_count": 103,
   "metadata": {},
   "outputs": [
    {
     "name": "stdout",
     "output_type": "stream",
     "text": [
      "+------+--------------------+\n",
      "|userId|                page|\n",
      "+------+--------------------+\n",
      "|   143|Cancellation Conf...|\n",
      "|    18|              Cancel|\n",
      "|    12|              Cancel|\n",
      "|   122|Cancellation Conf...|\n",
      "|   143|              Cancel|\n",
      "|   105|              Cancel|\n",
      "|   125|              Cancel|\n",
      "|   121|Cancellation Conf...|\n",
      "|    32|              Cancel|\n",
      "|    51|              Cancel|\n",
      "|   105|Cancellation Conf...|\n",
      "|    87|              Cancel|\n",
      "|   129|Cancellation Conf...|\n",
      "|   101|Cancellation Conf...|\n",
      "|   122|              Cancel|\n",
      "|   101|              Cancel|\n",
      "|    32|Cancellation Conf...|\n",
      "|    51|Cancellation Conf...|\n",
      "|    87|Cancellation Conf...|\n",
      "|    18|Cancellation Conf...|\n",
      "+------+--------------------+\n",
      "only showing top 20 rows\n",
      "\n"
     ]
    }
   ],
   "source": [
    "clean_psdf[[\"userId\", \"page\"]].filter(\n",
    "    col(\"page\").isin([\"Cancellation Confirmation\", \"Cancel\"])\n",
    ").distinct().show()"
   ]
  },
  {
   "cell_type": "code",
   "execution_count": 104,
   "metadata": {},
   "outputs": [],
   "source": [
    "cancelled_user_list = (\n",
    "    clean_psdf[[\"userId\", \"page\"]]\n",
    "    .filter(col(\"page\").isin([\"Cancellation Confirmation\", \"Cancel\"]))\n",
    "    .distinct()\n",
    "    .toPandas()\n",
    "    .userId.tolist()\n",
    ")\n",
    "\n",
    "\n",
    "labels_df = (\n",
    "    flag_rows(clean_psdf, \"userId\", cancelled_user_list, \"label\").select(\n",
    "        \"userId\", \"label\"\n",
    "    )\n",
    "    # .select(\"userId\", \"label\")\n",
    "    # .distinct()\n",
    ")"
   ]
  },
  {
   "cell_type": "code",
   "execution_count": 109,
   "metadata": {},
   "outputs": [],
   "source": [
    "dfs = [\n",
    "    song_counts,\n",
    "    song_listened_mean,\n",
    "    user_level,\n",
    "    positive_usage,\n",
    "    neg_interactions,\n",
    "    unique_locations,\n",
    "    distinct_artist,\n",
    "    page_count,\n",
    "]\n",
    "\n",
    "joined_features = labels_df\n",
    "for df in dfs:\n",
    "    joined_features = joined_features.join(df, \"userId\", \"outer\")"
   ]
  },
  {
   "cell_type": "markdown",
   "metadata": {},
   "source": [
    "### Export Features For Model Testing"
   ]
  },
  {
   "cell_type": "code",
   "execution_count": 116,
   "metadata": {},
   "outputs": [
    {
     "name": "stderr",
     "output_type": "stream",
     "text": [
      "                                                                                \r"
     ]
    }
   ],
   "source": [
    "joined_features.dropDuplicates().drop(\"userId\").toPandas().to_csv(\n",
    "    \"selected_features.csv\"\n",
    ")"
   ]
  },
  {
   "cell_type": "markdown",
   "metadata": {},
   "source": [
    "## Feature Selection\n"
   ]
  },
  {
   "cell_type": "markdown",
   "metadata": {},
   "source": [
    "### Feature Correalations"
   ]
  },
  {
   "cell_type": "code",
   "execution_count": null,
   "metadata": {},
   "outputs": [],
   "source": [
    "joined_features_df = joined_features.toPandas().drop(labels=\"userId\", axis=1)\n",
    "joined_features_df = joined_features_df.drop(\n",
    "    labels=[\"song_counts\", \"unique_locations\"], axis=1\n",
    ")\n",
    "\n",
    "\n",
    "joined_features_df\n",
    "plt.figure(figsize=(8, 6))\n",
    "sns.heatmap(\n",
    "    joined_features_df.corr(), annot=False, cmap=\"coolwarm\", fmt=\".2f\", linewidths=0.5\n",
    ")\n",
    "plt.title(\"Extracted Feature Correalations\")\n",
    "plt.show()"
   ]
  },
  {
   "cell_type": "code",
   "execution_count": null,
   "metadata": {},
   "outputs": [],
   "source": []
  }
 ],
 "metadata": {
  "kernelspec": {
   "display_name": "sparkify_churn",
   "language": "python",
   "name": "python3"
  },
  "language_info": {
   "codemirror_mode": {
    "name": "ipython",
    "version": 3
   },
   "file_extension": ".py",
   "mimetype": "text/x-python",
   "name": "python",
   "nbconvert_exporter": "python",
   "pygments_lexer": "ipython3",
   "version": "3.10.13"
  }
 },
 "nbformat": 4,
 "nbformat_minor": 2
}
