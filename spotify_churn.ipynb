{
 "cells": [
  {
   "cell_type": "code",
   "execution_count": 258,
   "metadata": {},
   "outputs": [],
   "source": [
    "import pandas as pd\n",
    "import numpy as np\n",
    "import matplotlib.pyplot as plt\n",
    "import seaborn as sns\n",
    "import networkx as nx\n",
    "\n",
    "# Used for exporting pandas tables \"pip install dataframe-image\"\n",
    "import dataframe_image as dfi\n",
    "\n",
    "import datetime\n",
    "\n",
    "import pyspark.pandas as ps\n",
    "from pyspark.sql import SparkSession, DataFrame\n",
    "from pyspark.sql.functions import col, from_unixtime, date_trunc\n",
    "import pyspark.sql.functions as F"
   ]
  },
  {
   "cell_type": "code",
   "execution_count": 259,
   "metadata": {},
   "outputs": [],
   "source": [
    "try:\n",
    "    spark.stop()\n",
    "except NameError:\n",
    "    pass"
   ]
  },
  {
   "cell_type": "markdown",
   "metadata": {},
   "source": [
    "### Helper Functions\n",
    "\n",
    "Reusable Functions "
   ]
  },
  {
   "cell_type": "code",
   "execution_count": 260,
   "metadata": {},
   "outputs": [],
   "source": [
    "def save_df_image(df):\n",
    "    \"\"\"\n",
    "    Save DataFrame as an image with a colored table.\n",
    "\n",
    "    Parameters:\n",
    "    - df (pd.DataFrame): The DataFrame to be saved as an image.\n",
    "\n",
    "    Returns:\n",
    "    None\n",
    "    \"\"\"\n",
    "\n",
    "    # Create a figure and axis\n",
    "    fig, ax = plt.subplots(figsize=(8, 6))\n",
    "\n",
    "    # Hide the axes\n",
    "    ax.axis(\"off\")\n",
    "\n",
    "    # Plot the DataFrame as a table with alternating column colors\n",
    "    table = ax.table(\n",
    "        cellText=df.values,\n",
    "        colLabels=df.columns,\n",
    "        loc=\"center\",\n",
    "        cellLoc=\"center\",\n",
    "        colColours=[\"#6EC33C\", \"#913CC3\"] * len(df.columns),\n",
    "    )\n",
    "\n",
    "    # Adjust font size\n",
    "    table.auto_set_font_size(False)\n",
    "    table.set_fontsize(10)\n",
    "\n",
    "    # Save the figure as an image (e.g., PNG)\n",
    "    plt.savefig(\"table_image.png\", bbox_inches=\"tight\", pad_inches=0.5)\n",
    "\n",
    "\n",
    "def style_df(df):\n",
    "    # Set Colors\n",
    "    styles = [\n",
    "        {\n",
    "            \"selector\": \"th.col_heading\",\n",
    "            \"props\": [(\"background-color\", \"#14345a\"), (\"color\", \"white\")],\n",
    "        },\n",
    "        {\n",
    "            \"selector\": \"th.blank\",\n",
    "            \"props\": [(\"background-color\", \"#14345a\"), (\"color\", \"white\")],\n",
    "        },\n",
    "        {\n",
    "            \"selector\": \"tr:nth-child(even)\",\n",
    "            \"props\": [(\"background-color\", \"#002351\"), (\"color\", \"white\")],\n",
    "        },\n",
    "        {\n",
    "            \"selector\": \"tr:nth-child(odd)\",\n",
    "            \"props\": [(\"background-color\", \"#062c54\"), (\"color\", \"white\")],\n",
    "        },\n",
    "    ]\n",
    "\n",
    "    # Apply the styles to the DataFrame\n",
    "    styled_df = df.style.set_table_styles(styles)\n",
    "\n",
    "    return styled_df\n",
    "\n",
    "\n",
    "def flag_rows(df, column_name, check_list, flagged_column_name):\n",
    "    \"\"\"\n",
    "    Flag rows in a PySpark DataFrame based on whether the value in a specified column is in a given list.\n",
    "\n",
    "    Parameters:\n",
    "    - df (pyspark.sql.DataFrame): The PySpark DataFrame to be modified.\n",
    "    - column_name (str): The name of the column to check for values.\n",
    "    - check_list (list): The list of values to check against.\n",
    "    - flagged_column_name (str): The name of the new column to be created for the flags.\n",
    "\n",
    "    Returns:\n",
    "    pyspark.sql.DataFrame: The modified PySpark DataFrame with the new flagged column.\n",
    "\n",
    "    This function takes a PySpark DataFrame, a column name, a list of values, and a flagged column name. It then adds a new column to the DataFrame\n",
    "    that contains a flag (1 or 0) based on whether the values in the specified column are present in the given list.\n",
    "    \"\"\"\n",
    "\n",
    "    def check_list_udf(value):\n",
    "        return 1 if value in check_list else 0\n",
    "\n",
    "    check_list_udf = udf(check_list_udf, IntegerType())\n",
    "\n",
    "    df = df.withColumn(flagged_column_name, check_list_udf(df[column_name]))\n",
    "\n",
    "    return df"
   ]
  },
  {
   "cell_type": "code",
   "execution_count": 261,
   "metadata": {},
   "outputs": [],
   "source": [
    "# create a Spark session\n",
    "spark = SparkSession.builder.master(\"local[4]\").appName(\"Spark Churn\").getOrCreate()"
   ]
  },
  {
   "cell_type": "code",
   "execution_count": 262,
   "metadata": {},
   "outputs": [
    {
     "name": "stdout",
     "output_type": "stream",
     "text": [
      "root\n",
      " |-- artist: string (nullable = true)\n",
      " |-- auth: string (nullable = true)\n",
      " |-- firstName: string (nullable = true)\n",
      " |-- gender: string (nullable = true)\n",
      " |-- itemInSession: long (nullable = true)\n",
      " |-- lastName: string (nullable = true)\n",
      " |-- length: double (nullable = true)\n",
      " |-- level: string (nullable = true)\n",
      " |-- location: string (nullable = true)\n",
      " |-- method: string (nullable = true)\n",
      " |-- page: string (nullable = true)\n",
      " |-- registration: long (nullable = true)\n",
      " |-- sessionId: long (nullable = true)\n",
      " |-- song: string (nullable = true)\n",
      " |-- status: long (nullable = true)\n",
      " |-- ts: long (nullable = true)\n",
      " |-- userAgent: string (nullable = true)\n",
      " |-- userId: integer (nullable = true)\n",
      "\n"
     ]
    },
    {
     "name": "stderr",
     "output_type": "stream",
     "text": [
      "                                                                                \r"
     ]
    }
   ],
   "source": [
    "path = \"mini_sparkify_event_data.json\"\n",
    "psdf = spark.read.json(path)\n",
    "psdf.persist()\n",
    "\n",
    "# userId is a string and NULL values shows as empty strings not NULL\n",
    "psdf = psdf.withColumn(\"userId\", col(\"userId\").cast(\"int\"))\n",
    "psdf.printSchema()\n",
    "\n",
    "# Build Temp Table for Future sql queries\n",
    "psdf.createOrReplaceTempView(\"user_log\")"
   ]
  },
  {
   "cell_type": "code",
   "execution_count": null,
   "metadata": {},
   "outputs": [],
   "source": []
  },
  {
   "cell_type": "code",
   "execution_count": 263,
   "metadata": {},
   "outputs": [
    {
     "name": "stdout",
     "output_type": "stream",
     "text": [
      "+--------------------+---------+---------+------+-------------+--------+---------+-----+--------------------+------+---------------+-------------+---------+--------------------+------+-------------+--------------------+------+\n",
      "|              artist|     auth|firstName|gender|itemInSession|lastName|   length|level|            location|method|           page| registration|sessionId|                song|status|           ts|           userAgent|userId|\n",
      "+--------------------+---------+---------+------+-------------+--------+---------+-----+--------------------+------+---------------+-------------+---------+--------------------+------+-------------+--------------------+------+\n",
      "|      Martha Tilston|Logged In|    Colin|     M|           50| Freeman|277.89016| paid|     Bakersfield, CA|   PUT|       NextSong|1538173362000|       29|           Rockpools|   200|1538352117000|Mozilla/5.0 (Wind...|    30|\n",
      "|    Five Iron Frenzy|Logged In|    Micah|     M|           79|    Long|236.09424| free|Boston-Cambridge-...|   PUT|       NextSong|1538331630000|        8|              Canada|   200|1538352180000|\"Mozilla/5.0 (Win...|     9|\n",
      "|        Adam Lambert|Logged In|    Colin|     M|           51| Freeman| 282.8273| paid|     Bakersfield, CA|   PUT|       NextSong|1538173362000|       29|   Time For Miracles|   200|1538352394000|Mozilla/5.0 (Wind...|    30|\n",
      "|              Enigma|Logged In|    Micah|     M|           80|    Long|262.71302| free|Boston-Cambridge-...|   PUT|       NextSong|1538331630000|        8|Knocking On Forbi...|   200|1538352416000|\"Mozilla/5.0 (Win...|     9|\n",
      "|           Daft Punk|Logged In|    Colin|     M|           52| Freeman|223.60771| paid|     Bakersfield, CA|   PUT|       NextSong|1538173362000|       29|Harder Better Fas...|   200|1538352676000|Mozilla/5.0 (Wind...|    30|\n",
      "|The All-American ...|Logged In|    Micah|     M|           81|    Long|208.29995| free|Boston-Cambridge-...|   PUT|       NextSong|1538331630000|        8|      Don't Leave Me|   200|1538352678000|\"Mozilla/5.0 (Win...|     9|\n",
      "|The Velvet Underg...|Logged In|    Micah|     M|           82|    Long|260.46649| free|Boston-Cambridge-...|   PUT|       NextSong|1538331630000|        8|         Run Run Run|   200|1538352886000|\"Mozilla/5.0 (Win...|     9|\n",
      "|        Starflyer 59|Logged In|    Colin|     M|           53| Freeman|185.44281| paid|     Bakersfield, CA|   PUT|       NextSong|1538173362000|       29|Passengers (Old A...|   200|1538352899000|Mozilla/5.0 (Wind...|    30|\n",
      "|                NULL|Logged In|    Colin|     M|           54| Freeman|     NULL| paid|     Bakersfield, CA|   PUT|Add to Playlist|1538173362000|       29|                NULL|   200|1538352905000|Mozilla/5.0 (Wind...|    30|\n",
      "|            Frumpies|Logged In|    Colin|     M|           55| Freeman|134.47791| paid|     Bakersfield, CA|   PUT|       NextSong|1538173362000|       29|          Fuck Kitty|   200|1538353084000|Mozilla/5.0 (Wind...|    30|\n",
      "|        Britt Nicole|Logged In|    Micah|     M|           83|    Long| 229.8771| free|Boston-Cambridge-...|   PUT|       NextSong|1538331630000|        8|   Walk On The Water|   200|1538353146000|\"Mozilla/5.0 (Win...|     9|\n",
      "|                NULL|Logged In|    Micah|     M|           84|    Long|     NULL| free|Boston-Cambridge-...|   GET|    Roll Advert|1538331630000|        8|                NULL|   200|1538353150000|\"Mozilla/5.0 (Win...|     9|\n",
      "|Edward Sharpe & T...|Logged In|    Colin|     M|           56| Freeman|223.58159| paid|     Bakersfield, CA|   PUT|       NextSong|1538173362000|       29|                Jade|   200|1538353218000|Mozilla/5.0 (Wind...|    30|\n",
      "|               Tesla|Logged In|    Micah|     M|           85|    Long|201.06404| free|Boston-Cambridge-...|   PUT|       NextSong|1538331630000|        8|      Gettin' Better|   200|1538353375000|\"Mozilla/5.0 (Win...|     9|\n",
      "|                NULL|Logged In|    Micah|     M|           86|    Long|     NULL| free|Boston-Cambridge-...|   PUT|      Thumbs Up|1538331630000|        8|                NULL|   307|1538353376000|\"Mozilla/5.0 (Win...|     9|\n",
      "|         Stan Mosley|Logged In|    Colin|     M|           57| Freeman|246.69995| paid|     Bakersfield, CA|   PUT|       NextSong|1538173362000|       29|   So-Called Friends|   200|1538353441000|Mozilla/5.0 (Wind...|    30|\n",
      "|Florence + The Ma...|Logged In|    Micah|     M|           87|    Long|168.64608| free|Boston-Cambridge-...|   PUT|       NextSong|1538331630000|        8| You've Got The Love|   200|1538353576000|\"Mozilla/5.0 (Win...|     9|\n",
      "|   Tokyo Police Club|Logged In|  Ashlynn|     F|            0|Williams| 166.1122| free|     Tallahassee, FL|   PUT|       NextSong|1537365219000|      217|Citizens Of Tomorrow|   200|1538353668000|\"Mozilla/5.0 (Mac...|    74|\n",
      "|             Orishas|Logged In|    Colin|     M|           58| Freeman|222.22322| paid|     Bakersfield, CA|   PUT|       NextSong|1538173362000|       29|           Represent|   200|1538353687000|Mozilla/5.0 (Wind...|    30|\n",
      "|             Ratatat|Logged In|    Micah|     M|           88|    Long|229.77261| free|Boston-Cambridge-...|   PUT|       NextSong|1538331630000|        8|              Swisha|   200|1538353744000|\"Mozilla/5.0 (Win...|     9|\n",
      "+--------------------+---------+---------+------+-------------+--------+---------+-----+--------------------+------+---------------+-------------+---------+--------------------+------+-------------+--------------------+------+\n",
      "only showing top 20 rows\n",
      "\n"
     ]
    }
   ],
   "source": [
    "psdf.show()"
   ]
  },
  {
   "cell_type": "code",
   "execution_count": 264,
   "metadata": {},
   "outputs": [],
   "source": [
    "# Seperate column types\n",
    "num_cols = [\n",
    "    psdf.dtypes[i][0] for i in range(len(psdf.columns)) if psdf.dtypes[i][1] != \"string\"\n",
    "]\n",
    "\n",
    "obj_cols = [\n",
    "    psdf.dtypes[i][0] for i in range(len(psdf.columns)) if psdf.dtypes[i][1] == \"string\"\n",
    "]"
   ]
  },
  {
   "cell_type": "markdown",
   "metadata": {},
   "source": [
    "## Counting Nulls"
   ]
  },
  {
   "cell_type": "code",
   "execution_count": 265,
   "metadata": {},
   "outputs": [],
   "source": [
    "summary_counts = [\n",
    "    {\n",
    "        \"Column\": c,\n",
    "        \"UniqueCount\": psdf[[c]].distinct().count(),\n",
    "        \"NullCount\": psdf[[c]].filter(col(c).isNull()).count(),\n",
    "        \"Type\": psdf[[c]].dtypes[0][1],\n",
    "    }\n",
    "    for c in psdf.columns\n",
    "]\n",
    "# Create a Pandas DataFrame\n",
    "summary_counts_df = pd.DataFrame(summary_counts).sort_values(\"UniqueCount\")\n",
    "\n",
    "# columns_with_nulls = [summary_counts_df.iloc[i][0] for i in range(summary_counts_df.shape[0]) if summary_counts_df.iloc[i][2] > 0]\n",
    "print(summary_counts_df.shape[0])\n",
    "style_df(summary_counts_df.iloc[:9]).export_png(\"summary_counts(part1).png\")\n",
    "style_df(summary_counts_df.iloc[9:]).export_png(\"summary_counts(part2).png\")\n",
    "style_df(summary_counts_df)"
   ]
  },
  {
   "cell_type": "code",
   "execution_count": null,
   "metadata": {},
   "outputs": [
    {
     "name": "stderr",
     "output_type": "stream",
     "text": [
      "/var/folders/zp/9kxj13m57_v23k2hkwd8vz600000gn/T/ipykernel_84397/2824313066.py:28: UserWarning:\n",
      "\n",
      "FigureCanvasAgg is non-interactive, and thus cannot be shown\n",
      "\n"
     ]
    },
    {
     "data": {
      "image/png": "[encoded data removed]",
      "text/plain": [
       "<Figure size 800x600 with 1 Axes>"
      ]
     },
     "metadata": {},
     "output_type": "display_data"
    }
   ],
   "source": [
    "def binary_null_map(df):\n",
    "    \"\"\"\n",
    "    Visualize the binary map of null values in a DataFrame using a heatmap.\n",
    "\n",
    "    Parameters:\n",
    "    - df (pyspark.sql.DataFrame or pd.DataFrame): The input DataFrame.\n",
    "\n",
    "    Returns:\n",
    "    None\n",
    "    \"\"\"\n",
    "\n",
    "    if isinstance(df, DataFrame):\n",
    "        df = df.toPandas()\n",
    "\n",
    "    fig, ax = plt.subplots(figsize=(8, 6))\n",
    "    sns.heatmap(\n",
    "        df.isnull(),\n",
    "        cbar=False,\n",
    "        yticklabels=False,\n",
    "        cmap=[\"#6EC33C\", \"#913CC3\"],\n",
    "        ax=ax,\n",
    "    )\n",
    "\n",
    "    ax.set_xlabel(\"Features\")\n",
    "    ax.set_ylabel(\"Samples\")\n",
    "    ax.set_title(\"Binary Map of Null Values\")\n",
    "\n",
    "    fig.show()\n",
    "\n",
    "\n",
    "binary_null_map(psdf)"
   ]
  },
  {
   "cell_type": "code",
   "execution_count": null,
   "metadata": {},
   "outputs": [
    {
     "name": "stderr",
     "output_type": "stream",
     "text": [
      "                                                                                \r"
     ]
    },
    {
     "data": {
      "image/png": "[encoded data removed]",
      "text/plain": [
       "<Figure size 640x480 with 1 Axes>"
      ]
     },
     "metadata": {},
     "output_type": "display_data"
    }
   ],
   "source": [
    "def null_combination_check(df):\n",
    "    \"\"\"\n",
    "    Identify columns with null values and their related columns in a DataFrame.\n",
    "\n",
    "    Parameters:\n",
    "    - df (pyspark.sql.DataFrame or pd.DataFrame): The input DataFrame.\n",
    "\n",
    "    Returns:\n",
    "    dict: A dictionary where keys are columns with null values, and values are lists of related columns.\n",
    "    \"\"\"\n",
    "    if isinstance(df, DataFrame):\n",
    "        df = df.toPandas()\n",
    "\n",
    "    null_relations = {}\n",
    "    for column in df.columns:\n",
    "        rows_with_nulls = df[df[column].isnull()]\n",
    "        related_columns = rows_with_nulls.columns[\n",
    "            rows_with_nulls.isnull().any()\n",
    "        ].tolist()\n",
    "\n",
    "        null_relations[column] = related_columns\n",
    "\n",
    "    return null_relations\n",
    "\n",
    "def null_graph(relationships, ignore_no_relations=False):\n",
    "    \"\"\"\n",
    "    Visualize relationships between entities as a directed graph using NetworkX and Matplotlib.\n",
    "\n",
    "    Parameters:\n",
    "    - relationships (dict): A dictionary representing relationships between entities. Each key is an entity,\n",
    "      and the corresponding value is a list of related entities.\n",
    "    - ignore_no_relations (bool): If True, only entities with at least one relation will be included in the graph.\n",
    "      If False (default), all entities and their relations will be considered.\n",
    "\n",
    "    Returns:\n",
    "    None\n",
    "\n",
    "    This function takes a dictionary of relationships and creates a directed graph using NetworkX.\n",
    "    Nodes in the graph represent entities, and directed edges represent relationships between entities.\n",
    "    The graph is visualized using Matplotlib.\n",
    "    \"\"\"\n",
    "\n",
    "    G = nx.DiGraph()\n",
    "    \n",
    "    # Add nodes and edges based on relationships\n",
    "    for entity, related_entities in relationships.items():\n",
    "       \n",
    "        if ignore_no_relations and len(related_entities) == 0:\n",
    "            #passes empty entities in loop\n",
    "            continue\n",
    "\n",
    "        G.add_node(entity)\n",
    "        for related_entity in related_entities:\n",
    "            G.add_edge(entity, related_entity)\n",
    "\n",
    "    # Visualization\n",
    "    pos = nx.kamada_kawai_layout(G)\n",
    "    nx.draw(\n",
    "        G,\n",
    "        pos,\n",
    "        with_labels=True,\n",
    "        node_size=700,\n",
    "        node_color=\"skyblue\",\n",
    "        font_size=12,\n",
    "        font_color=\"black\",\n",
    "        arrowsize=10,\n",
    "        edge_color=\"#EEC9BC\",\n",
    "    )\n",
    "    plt.show()\n",
    "\n",
    "\n",
    "null_graph(null_combination_check(psdf), ignore_no_relations=True)"
   ]
  },
  {
   "cell_type": "markdown",
   "metadata": {},
   "source": [
    "# Exploring Features"
   ]
  },
  {
   "cell_type": "markdown",
   "metadata": {},
   "source": [
    "## Flag Cancelled Users"
   ]
  },
  {
   "cell_type": "code",
   "execution_count": null,
   "metadata": {},
   "outputs": [
    {
     "data": {
      "text/plain": [
       "52"
      ]
     },
     "execution_count": 97,
     "metadata": {},
     "output_type": "execute_result"
    }
   ],
   "source": [
    "cancelled_user_list = (\n",
    "    psdf[[\"userId\"]]\n",
    "    .filter(col(\"page\").isin([\"Cancellation Confirmation\"]))\n",
    "    .distinct()\n",
    "    .toPandas()\n",
    "    .userId.tolist()\n",
    ")\n",
    "\n",
    "\n",
    "def flag_rows(df, column_name, check_list, flagged_column_name):\n",
    "    def check_list_udf(value):\n",
    "        return 1 if value in check_list else 0\n",
    "\n",
    "    check_list_udf = udf(check_list_udf, IntegerType())\n",
    "\n",
    "    df = df.withColumn(flagged_column_name, check_list_udf(df[column_name]))\n",
    "\n",
    "    return df\n",
    "\n",
    "\n",
    "psdf = flag_rows(psdf, \"userId\", cancelled_user_list, \"cancel_flag\")\n",
    "\n",
    "\n",
    "psdf.filter(col(\"cancel_flag\") == 1).groupBy(\"userId\").count().count()"
   ]
  },
  {
   "cell_type": "markdown",
   "metadata": {},
   "source": [
    "## Pages"
   ]
  },
  {
   "cell_type": "code",
   "execution_count": null,
   "metadata": {},
   "outputs": [
    {
     "data": {
      "text/html": [
       "<div>\n",
       "<style scoped>\n",
       "    .dataframe tbody tr th:only-of-type {\n",
       "        vertical-align: middle;\n",
       "    }\n",
       "\n",
       "    .dataframe tbody tr th {\n",
       "        vertical-align: top;\n",
       "    }\n",
       "\n",
       "    .dataframe thead th {\n",
       "        text-align: right;\n",
       "    }\n",
       "</style>\n",
       "<table border=\"1\" class=\"dataframe\">\n",
       "  <thead>\n",
       "    <tr style=\"text-align: right;\">\n",
       "      <th></th>\n",
       "      <th>page</th>\n",
       "      <th>count</th>\n",
       "    </tr>\n",
       "  </thead>\n",
       "  <tbody>\n",
       "    <tr>\n",
       "      <th>0</th>\n",
       "      <td>NextSong</td>\n",
       "      <td>228108</td>\n",
       "    </tr>\n",
       "    <tr>\n",
       "      <th>1</th>\n",
       "      <td>Home</td>\n",
       "      <td>14457</td>\n",
       "    </tr>\n",
       "    <tr>\n",
       "      <th>2</th>\n",
       "      <td>Thumbs Up</td>\n",
       "      <td>12551</td>\n",
       "    </tr>\n",
       "    <tr>\n",
       "      <th>3</th>\n",
       "      <td>Add to Playlist</td>\n",
       "      <td>6526</td>\n",
       "    </tr>\n",
       "    <tr>\n",
       "      <th>4</th>\n",
       "      <td>Add Friend</td>\n",
       "      <td>4277</td>\n",
       "    </tr>\n",
       "    <tr>\n",
       "      <th>5</th>\n",
       "      <td>Roll Advert</td>\n",
       "      <td>3933</td>\n",
       "    </tr>\n",
       "    <tr>\n",
       "      <th>6</th>\n",
       "      <td>Login</td>\n",
       "      <td>3241</td>\n",
       "    </tr>\n",
       "    <tr>\n",
       "      <th>7</th>\n",
       "      <td>Logout</td>\n",
       "      <td>3226</td>\n",
       "    </tr>\n",
       "    <tr>\n",
       "      <th>8</th>\n",
       "      <td>Thumbs Down</td>\n",
       "      <td>2546</td>\n",
       "    </tr>\n",
       "    <tr>\n",
       "      <th>9</th>\n",
       "      <td>Downgrade</td>\n",
       "      <td>2055</td>\n",
       "    </tr>\n",
       "    <tr>\n",
       "      <th>10</th>\n",
       "      <td>Help</td>\n",
       "      <td>1726</td>\n",
       "    </tr>\n",
       "    <tr>\n",
       "      <th>11</th>\n",
       "      <td>Settings</td>\n",
       "      <td>1514</td>\n",
       "    </tr>\n",
       "    <tr>\n",
       "      <th>12</th>\n",
       "      <td>About</td>\n",
       "      <td>924</td>\n",
       "    </tr>\n",
       "    <tr>\n",
       "      <th>13</th>\n",
       "      <td>Upgrade</td>\n",
       "      <td>499</td>\n",
       "    </tr>\n",
       "    <tr>\n",
       "      <th>14</th>\n",
       "      <td>Save Settings</td>\n",
       "      <td>310</td>\n",
       "    </tr>\n",
       "    <tr>\n",
       "      <th>15</th>\n",
       "      <td>Error</td>\n",
       "      <td>258</td>\n",
       "    </tr>\n",
       "    <tr>\n",
       "      <th>16</th>\n",
       "      <td>Submit Upgrade</td>\n",
       "      <td>159</td>\n",
       "    </tr>\n",
       "    <tr>\n",
       "      <th>17</th>\n",
       "      <td>Submit Downgrade</td>\n",
       "      <td>63</td>\n",
       "    </tr>\n",
       "    <tr>\n",
       "      <th>18</th>\n",
       "      <td>Cancel</td>\n",
       "      <td>52</td>\n",
       "    </tr>\n",
       "    <tr>\n",
       "      <th>19</th>\n",
       "      <td>Cancellation Confirmation</td>\n",
       "      <td>52</td>\n",
       "    </tr>\n",
       "    <tr>\n",
       "      <th>20</th>\n",
       "      <td>Register</td>\n",
       "      <td>18</td>\n",
       "    </tr>\n",
       "    <tr>\n",
       "      <th>21</th>\n",
       "      <td>Submit Registration</td>\n",
       "      <td>5</td>\n",
       "    </tr>\n",
       "  </tbody>\n",
       "</table>\n",
       "</div>"
      ],
      "text/plain": [
       "                         page   count\n",
       "0                    NextSong  228108\n",
       "1                        Home   14457\n",
       "2                   Thumbs Up   12551\n",
       "3             Add to Playlist    6526\n",
       "4                  Add Friend    4277\n",
       "5                 Roll Advert    3933\n",
       "6                       Login    3241\n",
       "7                      Logout    3226\n",
       "8                 Thumbs Down    2546\n",
       "9                   Downgrade    2055\n",
       "10                       Help    1726\n",
       "11                   Settings    1514\n",
       "12                      About     924\n",
       "13                    Upgrade     499\n",
       "14              Save Settings     310\n",
       "15                      Error     258\n",
       "16             Submit Upgrade     159\n",
       "17           Submit Downgrade      63\n",
       "18                     Cancel      52\n",
       "19  Cancellation Confirmation      52\n",
       "20                   Register      18\n",
       "21        Submit Registration       5"
      ]
     },
     "execution_count": 36,
     "metadata": {},
     "output_type": "execute_result"
    }
   ],
   "source": [
    "psdf.groupBy(\"page\").count().orderBy(col(\"count\").desc()).toPandas()"
   ]
  },
  {
   "cell_type": "code",
   "execution_count": null,
   "metadata": {},
   "outputs": [
    {
     "data": {
      "text/html": [
       "<div>\n",
       "<style scoped>\n",
       "    .dataframe tbody tr th:only-of-type {\n",
       "        vertical-align: middle;\n",
       "    }\n",
       "\n",
       "    .dataframe tbody tr th {\n",
       "        vertical-align: top;\n",
       "    }\n",
       "\n",
       "    .dataframe thead th {\n",
       "        text-align: right;\n",
       "    }\n",
       "</style>\n",
       "<table border=\"1\" class=\"dataframe\">\n",
       "  <thead>\n",
       "    <tr style=\"text-align: right;\">\n",
       "      <th></th>\n",
       "      <th>page</th>\n",
       "      <th>count</th>\n",
       "    </tr>\n",
       "  </thead>\n",
       "  <tbody>\n",
       "    <tr>\n",
       "      <th>0</th>\n",
       "      <td>Home</td>\n",
       "      <td>4375</td>\n",
       "    </tr>\n",
       "    <tr>\n",
       "      <th>1</th>\n",
       "      <td>Login</td>\n",
       "      <td>3241</td>\n",
       "    </tr>\n",
       "    <tr>\n",
       "      <th>2</th>\n",
       "      <td>About</td>\n",
       "      <td>429</td>\n",
       "    </tr>\n",
       "    <tr>\n",
       "      <th>3</th>\n",
       "      <td>Help</td>\n",
       "      <td>272</td>\n",
       "    </tr>\n",
       "    <tr>\n",
       "      <th>4</th>\n",
       "      <td>Register</td>\n",
       "      <td>18</td>\n",
       "    </tr>\n",
       "    <tr>\n",
       "      <th>5</th>\n",
       "      <td>Error</td>\n",
       "      <td>6</td>\n",
       "    </tr>\n",
       "    <tr>\n",
       "      <th>6</th>\n",
       "      <td>Submit Registration</td>\n",
       "      <td>5</td>\n",
       "    </tr>\n",
       "  </tbody>\n",
       "</table>\n",
       "</div>"
      ],
      "text/plain": [
       "                  page  count\n",
       "0                 Home   4375\n",
       "1                Login   3241\n",
       "2                About    429\n",
       "3                 Help    272\n",
       "4             Register     18\n",
       "5                Error      6\n",
       "6  Submit Registration      5"
      ]
     },
     "execution_count": 11,
     "metadata": {},
     "output_type": "execute_result"
    }
   ],
   "source": [
    "null_user = psdf.filter(col(\"userId\").isNull())\n",
    "null_user.groupBy(\"page\").count().orderBy(col(\"count\").desc()).toPandas()"
   ]
  },
  {
   "cell_type": "code",
   "execution_count": null,
   "metadata": {},
   "outputs": [
    {
     "data": {
      "text/plain": [
       "['NextSong',\n",
       " 'Thumbs Up',\n",
       " 'Home',\n",
       " 'Add to Playlist',\n",
       " 'Add Friend',\n",
       " 'Roll Advert',\n",
       " 'Logout',\n",
       " 'Thumbs Down',\n",
       " 'Downgrade',\n",
       " 'Settings',\n",
       " 'Help',\n",
       " 'Upgrade',\n",
       " 'About',\n",
       " 'Save Settings',\n",
       " 'Error',\n",
       " 'Submit Upgrade',\n",
       " 'Submit Downgrade',\n",
       " 'Cancel',\n",
       " 'Cancellation Confirmation']"
      ]
     },
     "execution_count": 12,
     "metadata": {},
     "output_type": "execute_result"
    }
   ],
   "source": [
    "temp_df = (\n",
    "    psdf.na.drop(subset=[\"userAgent\"])\n",
    "    .groupBy(\"page\")\n",
    "    .count()\n",
    "    .orderBy(col(\"count\").desc())\n",
    "    .toPandas()\n",
    ")\n",
    "\n",
    "temp_df.page.to_list()"
   ]
  },
  {
   "cell_type": "code",
   "execution_count": null,
   "metadata": {},
   "outputs": [
    {
     "data": {
      "text/plain": [
       "<Axes: xlabel='page'>"
      ]
     },
     "execution_count": 13,
     "metadata": {},
     "output_type": "execute_result"
    },
    {
     "data": {
      "image/png": "[encoded data removed]",
      "text/plain": [
       "<Figure size 640x480 with 1 Axes>"
      ]
     },
     "metadata": {},
     "output_type": "display_data"
    }
   ],
   "source": [
    "page_df = psdf[[\"page\"]].toPandas()\n",
    "page_df.value_counts().plot(kind=\"bar\")"
   ]
  },
  {
   "cell_type": "markdown",
   "metadata": {},
   "source": [
    "### Unique Counts of Upgrades/Downgrades\n"
   ]
  },
  {
   "cell_type": "code",
   "execution_count": null,
   "metadata": {},
   "outputs": [
    {
     "data": {
      "text/html": [
       "<style type=\"text/css\">\n",
       "#T_4bec2 th.col_heading {\n",
       "  background-color: #14345a;\n",
       "  color: white;\n",
       "}\n",
       "#T_4bec2 th.blank {\n",
       "  background-color: #14345a;\n",
       "  color: white;\n",
       "}\n",
       "#T_4bec2 tr:nth-child(even) {\n",
       "  background-color: #002351;\n",
       "  color: white;\n",
       "}\n",
       "#T_4bec2 tr:nth-child(odd) {\n",
       "  background-color: #062c54;\n",
       "  color: white;\n",
       "}\n",
       "</style>\n",
       "<table id=\"T_4bec2\">\n",
       "  <thead>\n",
       "    <tr>\n",
       "      <th class=\"blank level0\" >&nbsp;</th>\n",
       "      <th id=\"T_4bec2_level0_col0\" class=\"col_heading level0 col0\" >page</th>\n",
       "      <th id=\"T_4bec2_level0_col1\" class=\"col_heading level0 col1\" >count</th>\n",
       "    </tr>\n",
       "  </thead>\n",
       "  <tbody>\n",
       "    <tr>\n",
       "      <th id=\"T_4bec2_level0_row0\" class=\"row_heading level0 row0\" >0</th>\n",
       "      <td id=\"T_4bec2_row0_col0\" class=\"data row0 col0\" >Downgrade</td>\n",
       "      <td id=\"T_4bec2_row0_col1\" class=\"data row0 col1\" >2055</td>\n",
       "    </tr>\n",
       "    <tr>\n",
       "      <th id=\"T_4bec2_level0_row1\" class=\"row_heading level0 row1\" >1</th>\n",
       "      <td id=\"T_4bec2_row1_col0\" class=\"data row1 col0\" >Upgrade</td>\n",
       "      <td id=\"T_4bec2_row1_col1\" class=\"data row1 col1\" >499</td>\n",
       "    </tr>\n",
       "    <tr>\n",
       "      <th id=\"T_4bec2_level0_row2\" class=\"row_heading level0 row2\" >2</th>\n",
       "      <td id=\"T_4bec2_row2_col0\" class=\"data row2 col0\" >Submit Upgrade</td>\n",
       "      <td id=\"T_4bec2_row2_col1\" class=\"data row2 col1\" >159</td>\n",
       "    </tr>\n",
       "    <tr>\n",
       "      <th id=\"T_4bec2_level0_row3\" class=\"row_heading level0 row3\" >3</th>\n",
       "      <td id=\"T_4bec2_row3_col0\" class=\"data row3 col0\" >Submit Downgrade</td>\n",
       "      <td id=\"T_4bec2_row3_col1\" class=\"data row3 col1\" >63</td>\n",
       "    </tr>\n",
       "    <tr>\n",
       "      <th id=\"T_4bec2_level0_row4\" class=\"row_heading level0 row4\" >4</th>\n",
       "      <td id=\"T_4bec2_row4_col0\" class=\"data row4 col0\" >Cancel</td>\n",
       "      <td id=\"T_4bec2_row4_col1\" class=\"data row4 col1\" >52</td>\n",
       "    </tr>\n",
       "    <tr>\n",
       "      <th id=\"T_4bec2_level0_row5\" class=\"row_heading level0 row5\" >5</th>\n",
       "      <td id=\"T_4bec2_row5_col0\" class=\"data row5 col0\" >Cancellation Confirmation</td>\n",
       "      <td id=\"T_4bec2_row5_col1\" class=\"data row5 col1\" >52</td>\n",
       "    </tr>\n",
       "  </tbody>\n",
       "</table>\n"
      ],
      "text/plain": [
       "<pandas.io.formats.style.Styler at 0x2e6abce20>"
      ]
     },
     "execution_count": 67,
     "metadata": {},
     "output_type": "execute_result"
    }
   ],
   "source": [
    "service_change = [\n",
    "    \"Downgrade\",\n",
    "    \"Upgrade\",\n",
    "    \"Submit Upgrade\",\n",
    "    \"Submit Downgrade\",\n",
    "    \"Cancel\",\n",
    "    \"Cancellation Confirmation\",\n",
    "]\n",
    "\n",
    "\n",
    "service_change_df = style_df(\n",
    "    psdf[[\"page\", \"cancel_flag\"]]\n",
    "    .filter(col(\"page\").isin(service_change))\n",
    "    .groupBy(\"page\")\n",
    "    .count()\n",
    "    .sort(\"count\", ascending=False)\n",
    "    .toPandas()\n",
    ")\n",
    "\n",
    "service_change_df.export_png(\"service_change.png\")\n",
    "service_change_df"
   ]
  },
  {
   "cell_type": "code",
   "execution_count": null,
   "metadata": {},
   "outputs": [
    {
     "name": "stdout",
     "output_type": "stream",
     "text": [
      "page    Cancel  Cancellation Confirmation  Downgrade  Submit Downgrade\n",
      "userId                                                                \n",
      "2          0.0                        0.0       13.0               0.0\n",
      "3          1.0                        1.0        2.0               0.0\n",
      "4          0.0                        0.0       21.0               0.0\n",
      "6          0.0                        0.0       41.0               0.0\n",
      "9          0.0                        0.0       32.0               1.0\n",
      "...        ...                        ...        ...               ...\n",
      "300020     0.0                        0.0        1.0               0.0\n",
      "300021     0.0                        0.0       17.0               1.0\n",
      "300022     0.0                        0.0        1.0               0.0\n",
      "300023     0.0                        0.0       12.0               1.0\n",
      "300025     0.0                        0.0        7.0               0.0\n",
      "\n",
      "[171 rows x 4 columns]\n"
     ]
    }
   ],
   "source": [
    "service_change = [\n",
    "    \"Downgrade\",\n",
    "    \"Submit Downgrade\",\n",
    "    \"Cancel\",\n",
    "    \"Cancellation Confirmation\",\n",
    "]\n",
    "\n",
    "\n",
    "service_change_df = (\n",
    "    psdf[[\"page\", \"userId\", \"cancel_flag\"]]\n",
    "    .filter(col(\"page\").isin(service_change))\n",
    "    .toPandas()\n",
    ")\n",
    "\n",
    "service_change_df = service_change_df.groupby(\"userId\").value_counts().reset_index()\n",
    "\n",
    "service_change_df = service_change_df.pivot(\n",
    "    index=\"userId\", columns=\"page\", values=\"count\"\n",
    ").fillna(value=0)\n",
    "\n",
    "\n",
    "# service_change_df[service_change_df['Cancellation Confirmation'] > 0].sum()\n",
    "\n",
    "print(service_change_df)"
   ]
  },
  {
   "cell_type": "code",
   "execution_count": null,
   "metadata": {},
   "outputs": [
    {
     "data": {
      "text/html": [
       "<div>\n",
       "<style scoped>\n",
       "    .dataframe tbody tr th:only-of-type {\n",
       "        vertical-align: middle;\n",
       "    }\n",
       "\n",
       "    .dataframe tbody tr th {\n",
       "        vertical-align: top;\n",
       "    }\n",
       "\n",
       "    .dataframe thead th {\n",
       "        text-align: right;\n",
       "    }\n",
       "</style>\n",
       "<table border=\"1\" class=\"dataframe\">\n",
       "  <thead>\n",
       "    <tr style=\"text-align: right;\">\n",
       "      <th>page</th>\n",
       "      <th>Cancel</th>\n",
       "      <th>Cancellation Confirmation</th>\n",
       "      <th>Downgrade</th>\n",
       "      <th>Submit Downgrade</th>\n",
       "    </tr>\n",
       "    <tr>\n",
       "      <th>userId</th>\n",
       "      <th></th>\n",
       "      <th></th>\n",
       "      <th></th>\n",
       "      <th></th>\n",
       "    </tr>\n",
       "  </thead>\n",
       "  <tbody>\n",
       "    <tr>\n",
       "      <th>92</th>\n",
       "      <td>0.0</td>\n",
       "      <td>0.0</td>\n",
       "      <td>68.0</td>\n",
       "      <td>1.0</td>\n",
       "    </tr>\n",
       "    <tr>\n",
       "      <th>54</th>\n",
       "      <td>1.0</td>\n",
       "      <td>1.0</td>\n",
       "      <td>39.0</td>\n",
       "      <td>1.0</td>\n",
       "    </tr>\n",
       "    <tr>\n",
       "      <th>9</th>\n",
       "      <td>0.0</td>\n",
       "      <td>0.0</td>\n",
       "      <td>32.0</td>\n",
       "      <td>1.0</td>\n",
       "    </tr>\n",
       "    <tr>\n",
       "      <th>300011</th>\n",
       "      <td>0.0</td>\n",
       "      <td>0.0</td>\n",
       "      <td>32.0</td>\n",
       "      <td>1.0</td>\n",
       "    </tr>\n",
       "    <tr>\n",
       "      <th>74</th>\n",
       "      <td>0.0</td>\n",
       "      <td>0.0</td>\n",
       "      <td>31.0</td>\n",
       "      <td>1.0</td>\n",
       "    </tr>\n",
       "    <tr>\n",
       "      <th>100</th>\n",
       "      <td>0.0</td>\n",
       "      <td>0.0</td>\n",
       "      <td>30.0</td>\n",
       "      <td>1.0</td>\n",
       "    </tr>\n",
       "    <tr>\n",
       "      <th>81</th>\n",
       "      <td>0.0</td>\n",
       "      <td>0.0</td>\n",
       "      <td>26.0</td>\n",
       "      <td>1.0</td>\n",
       "    </tr>\n",
       "    <tr>\n",
       "      <th>300015</th>\n",
       "      <td>0.0</td>\n",
       "      <td>0.0</td>\n",
       "      <td>22.0</td>\n",
       "      <td>1.0</td>\n",
       "    </tr>\n",
       "    <tr>\n",
       "      <th>96</th>\n",
       "      <td>0.0</td>\n",
       "      <td>0.0</td>\n",
       "      <td>20.0</td>\n",
       "      <td>1.0</td>\n",
       "    </tr>\n",
       "    <tr>\n",
       "      <th>300021</th>\n",
       "      <td>0.0</td>\n",
       "      <td>0.0</td>\n",
       "      <td>17.0</td>\n",
       "      <td>1.0</td>\n",
       "    </tr>\n",
       "    <tr>\n",
       "      <th>95</th>\n",
       "      <td>0.0</td>\n",
       "      <td>0.0</td>\n",
       "      <td>15.0</td>\n",
       "      <td>1.0</td>\n",
       "    </tr>\n",
       "    <tr>\n",
       "      <th>49</th>\n",
       "      <td>0.0</td>\n",
       "      <td>0.0</td>\n",
       "      <td>14.0</td>\n",
       "      <td>1.0</td>\n",
       "    </tr>\n",
       "    <tr>\n",
       "      <th>103</th>\n",
       "      <td>1.0</td>\n",
       "      <td>1.0</td>\n",
       "      <td>13.0</td>\n",
       "      <td>1.0</td>\n",
       "    </tr>\n",
       "    <tr>\n",
       "      <th>109</th>\n",
       "      <td>0.0</td>\n",
       "      <td>0.0</td>\n",
       "      <td>12.0</td>\n",
       "      <td>1.0</td>\n",
       "    </tr>\n",
       "    <tr>\n",
       "      <th>300023</th>\n",
       "      <td>0.0</td>\n",
       "      <td>0.0</td>\n",
       "      <td>12.0</td>\n",
       "      <td>1.0</td>\n",
       "    </tr>\n",
       "    <tr>\n",
       "      <th>25</th>\n",
       "      <td>0.0</td>\n",
       "      <td>0.0</td>\n",
       "      <td>11.0</td>\n",
       "      <td>1.0</td>\n",
       "    </tr>\n",
       "    <tr>\n",
       "      <th>200025</th>\n",
       "      <td>0.0</td>\n",
       "      <td>0.0</td>\n",
       "      <td>11.0</td>\n",
       "      <td>1.0</td>\n",
       "    </tr>\n",
       "    <tr>\n",
       "      <th>100008</th>\n",
       "      <td>0.0</td>\n",
       "      <td>0.0</td>\n",
       "      <td>10.0</td>\n",
       "      <td>1.0</td>\n",
       "    </tr>\n",
       "    <tr>\n",
       "      <th>200011</th>\n",
       "      <td>1.0</td>\n",
       "      <td>1.0</td>\n",
       "      <td>10.0</td>\n",
       "      <td>1.0</td>\n",
       "    </tr>\n",
       "    <tr>\n",
       "      <th>59</th>\n",
       "      <td>0.0</td>\n",
       "      <td>0.0</td>\n",
       "      <td>9.0</td>\n",
       "      <td>1.0</td>\n",
       "    </tr>\n",
       "    <tr>\n",
       "      <th>77</th>\n",
       "      <td>0.0</td>\n",
       "      <td>0.0</td>\n",
       "      <td>9.0</td>\n",
       "      <td>1.0</td>\n",
       "    </tr>\n",
       "    <tr>\n",
       "      <th>38</th>\n",
       "      <td>0.0</td>\n",
       "      <td>0.0</td>\n",
       "      <td>9.0</td>\n",
       "      <td>1.0</td>\n",
       "    </tr>\n",
       "    <tr>\n",
       "      <th>300002</th>\n",
       "      <td>0.0</td>\n",
       "      <td>0.0</td>\n",
       "      <td>8.0</td>\n",
       "      <td>1.0</td>\n",
       "    </tr>\n",
       "    <tr>\n",
       "      <th>100016</th>\n",
       "      <td>0.0</td>\n",
       "      <td>0.0</td>\n",
       "      <td>6.0</td>\n",
       "      <td>1.0</td>\n",
       "    </tr>\n",
       "    <tr>\n",
       "      <th>200019</th>\n",
       "      <td>0.0</td>\n",
       "      <td>0.0</td>\n",
       "      <td>6.0</td>\n",
       "      <td>1.0</td>\n",
       "    </tr>\n",
       "    <tr>\n",
       "      <th>200020</th>\n",
       "      <td>1.0</td>\n",
       "      <td>1.0</td>\n",
       "      <td>6.0</td>\n",
       "      <td>1.0</td>\n",
       "    </tr>\n",
       "    <tr>\n",
       "      <th>30</th>\n",
       "      <td>0.0</td>\n",
       "      <td>0.0</td>\n",
       "      <td>6.0</td>\n",
       "      <td>1.0</td>\n",
       "    </tr>\n",
       "    <tr>\n",
       "      <th>100009</th>\n",
       "      <td>1.0</td>\n",
       "      <td>1.0</td>\n",
       "      <td>5.0</td>\n",
       "      <td>1.0</td>\n",
       "    </tr>\n",
       "    <tr>\n",
       "      <th>100015</th>\n",
       "      <td>1.0</td>\n",
       "      <td>1.0</td>\n",
       "      <td>5.0</td>\n",
       "      <td>1.0</td>\n",
       "    </tr>\n",
       "    <tr>\n",
       "      <th>141</th>\n",
       "      <td>0.0</td>\n",
       "      <td>0.0</td>\n",
       "      <td>5.0</td>\n",
       "      <td>1.0</td>\n",
       "    </tr>\n",
       "    <tr>\n",
       "      <th>200009</th>\n",
       "      <td>0.0</td>\n",
       "      <td>0.0</td>\n",
       "      <td>5.0</td>\n",
       "      <td>1.0</td>\n",
       "    </tr>\n",
       "    <tr>\n",
       "      <th>11</th>\n",
       "      <td>0.0</td>\n",
       "      <td>0.0</td>\n",
       "      <td>5.0</td>\n",
       "      <td>1.0</td>\n",
       "    </tr>\n",
       "    <tr>\n",
       "      <th>24</th>\n",
       "      <td>0.0</td>\n",
       "      <td>0.0</td>\n",
       "      <td>5.0</td>\n",
       "      <td>1.0</td>\n",
       "    </tr>\n",
       "    <tr>\n",
       "      <th>12</th>\n",
       "      <td>1.0</td>\n",
       "      <td>1.0</td>\n",
       "      <td>5.0</td>\n",
       "      <td>1.0</td>\n",
       "    </tr>\n",
       "    <tr>\n",
       "      <th>100025</th>\n",
       "      <td>1.0</td>\n",
       "      <td>1.0</td>\n",
       "      <td>5.0</td>\n",
       "      <td>1.0</td>\n",
       "    </tr>\n",
       "    <tr>\n",
       "      <th>100012</th>\n",
       "      <td>1.0</td>\n",
       "      <td>1.0</td>\n",
       "      <td>4.0</td>\n",
       "      <td>1.0</td>\n",
       "    </tr>\n",
       "    <tr>\n",
       "      <th>300004</th>\n",
       "      <td>0.0</td>\n",
       "      <td>0.0</td>\n",
       "      <td>1.0</td>\n",
       "      <td>1.0</td>\n",
       "    </tr>\n",
       "  </tbody>\n",
       "</table>\n",
       "</div>"
      ],
      "text/plain": [
       "page    Cancel  Cancellation Confirmation  Downgrade  Submit Downgrade\n",
       "userId                                                                \n",
       "92         0.0                        0.0       68.0               1.0\n",
       "54         1.0                        1.0       39.0               1.0\n",
       "9          0.0                        0.0       32.0               1.0\n",
       "300011     0.0                        0.0       32.0               1.0\n",
       "74         0.0                        0.0       31.0               1.0\n",
       "100        0.0                        0.0       30.0               1.0\n",
       "81         0.0                        0.0       26.0               1.0\n",
       "300015     0.0                        0.0       22.0               1.0\n",
       "96         0.0                        0.0       20.0               1.0\n",
       "300021     0.0                        0.0       17.0               1.0\n",
       "95         0.0                        0.0       15.0               1.0\n",
       "49         0.0                        0.0       14.0               1.0\n",
       "103        1.0                        1.0       13.0               1.0\n",
       "109        0.0                        0.0       12.0               1.0\n",
       "300023     0.0                        0.0       12.0               1.0\n",
       "25         0.0                        0.0       11.0               1.0\n",
       "200025     0.0                        0.0       11.0               1.0\n",
       "100008     0.0                        0.0       10.0               1.0\n",
       "200011     1.0                        1.0       10.0               1.0\n",
       "59         0.0                        0.0        9.0               1.0\n",
       "77         0.0                        0.0        9.0               1.0\n",
       "38         0.0                        0.0        9.0               1.0\n",
       "300002     0.0                        0.0        8.0               1.0\n",
       "100016     0.0                        0.0        6.0               1.0\n",
       "200019     0.0                        0.0        6.0               1.0\n",
       "200020     1.0                        1.0        6.0               1.0\n",
       "30         0.0                        0.0        6.0               1.0\n",
       "100009     1.0                        1.0        5.0               1.0\n",
       "100015     1.0                        1.0        5.0               1.0\n",
       "141        0.0                        0.0        5.0               1.0\n",
       "200009     0.0                        0.0        5.0               1.0\n",
       "11         0.0                        0.0        5.0               1.0\n",
       "24         0.0                        0.0        5.0               1.0\n",
       "12         1.0                        1.0        5.0               1.0\n",
       "100025     1.0                        1.0        5.0               1.0\n",
       "100012     1.0                        1.0        4.0               1.0\n",
       "300004     0.0                        0.0        1.0               1.0"
      ]
     },
     "execution_count": 64,
     "metadata": {},
     "output_type": "execute_result"
    }
   ],
   "source": [
    "service_change_df[service_change_df[\"Submit Downgrade\"] == 1].sort_values(\n",
    "    \"Downgrade\", ascending=False\n",
    ")"
   ]
  },
  {
   "cell_type": "code",
   "execution_count": null,
   "metadata": {},
   "outputs": [
    {
     "data": {
      "text/html": [
       "<div>\n",
       "<style scoped>\n",
       "    .dataframe tbody tr th:only-of-type {\n",
       "        vertical-align: middle;\n",
       "    }\n",
       "\n",
       "    .dataframe tbody tr th {\n",
       "        vertical-align: top;\n",
       "    }\n",
       "\n",
       "    .dataframe thead th {\n",
       "        text-align: right;\n",
       "    }\n",
       "</style>\n",
       "<table border=\"1\" class=\"dataframe\">\n",
       "  <thead>\n",
       "    <tr style=\"text-align: right;\">\n",
       "      <th>page</th>\n",
       "      <th>Cancel</th>\n",
       "      <th>Cancellation Confirmation</th>\n",
       "      <th>Downgrade</th>\n",
       "      <th>Submit Downgrade</th>\n",
       "    </tr>\n",
       "    <tr>\n",
       "      <th>userId</th>\n",
       "      <th></th>\n",
       "      <th></th>\n",
       "      <th></th>\n",
       "      <th></th>\n",
       "    </tr>\n",
       "  </thead>\n",
       "  <tbody>\n",
       "    <tr>\n",
       "      <th>2</th>\n",
       "      <td>0.0</td>\n",
       "      <td>0.0</td>\n",
       "      <td>13.0</td>\n",
       "      <td>0.0</td>\n",
       "    </tr>\n",
       "    <tr>\n",
       "      <th>3</th>\n",
       "      <td>1.0</td>\n",
       "      <td>1.0</td>\n",
       "      <td>2.0</td>\n",
       "      <td>0.0</td>\n",
       "    </tr>\n",
       "    <tr>\n",
       "      <th>4</th>\n",
       "      <td>0.0</td>\n",
       "      <td>0.0</td>\n",
       "      <td>21.0</td>\n",
       "      <td>0.0</td>\n",
       "    </tr>\n",
       "    <tr>\n",
       "      <th>6</th>\n",
       "      <td>0.0</td>\n",
       "      <td>0.0</td>\n",
       "      <td>41.0</td>\n",
       "      <td>0.0</td>\n",
       "    </tr>\n",
       "    <tr>\n",
       "      <th>9</th>\n",
       "      <td>0.0</td>\n",
       "      <td>0.0</td>\n",
       "      <td>32.0</td>\n",
       "      <td>1.0</td>\n",
       "    </tr>\n",
       "    <tr>\n",
       "      <th>...</th>\n",
       "      <td>...</td>\n",
       "      <td>...</td>\n",
       "      <td>...</td>\n",
       "      <td>...</td>\n",
       "    </tr>\n",
       "    <tr>\n",
       "      <th>300020</th>\n",
       "      <td>0.0</td>\n",
       "      <td>0.0</td>\n",
       "      <td>1.0</td>\n",
       "      <td>0.0</td>\n",
       "    </tr>\n",
       "    <tr>\n",
       "      <th>300021</th>\n",
       "      <td>0.0</td>\n",
       "      <td>0.0</td>\n",
       "      <td>17.0</td>\n",
       "      <td>1.0</td>\n",
       "    </tr>\n",
       "    <tr>\n",
       "      <th>300022</th>\n",
       "      <td>0.0</td>\n",
       "      <td>0.0</td>\n",
       "      <td>1.0</td>\n",
       "      <td>0.0</td>\n",
       "    </tr>\n",
       "    <tr>\n",
       "      <th>300023</th>\n",
       "      <td>0.0</td>\n",
       "      <td>0.0</td>\n",
       "      <td>12.0</td>\n",
       "      <td>1.0</td>\n",
       "    </tr>\n",
       "    <tr>\n",
       "      <th>300025</th>\n",
       "      <td>0.0</td>\n",
       "      <td>0.0</td>\n",
       "      <td>7.0</td>\n",
       "      <td>0.0</td>\n",
       "    </tr>\n",
       "  </tbody>\n",
       "</table>\n",
       "<p>171 rows × 4 columns</p>\n",
       "</div>"
      ],
      "text/plain": [
       "page    Cancel  Cancellation Confirmation  Downgrade  Submit Downgrade\n",
       "userId                                                                \n",
       "2          0.0                        0.0       13.0               0.0\n",
       "3          1.0                        1.0        2.0               0.0\n",
       "4          0.0                        0.0       21.0               0.0\n",
       "6          0.0                        0.0       41.0               0.0\n",
       "9          0.0                        0.0       32.0               1.0\n",
       "...        ...                        ...        ...               ...\n",
       "300020     0.0                        0.0        1.0               0.0\n",
       "300021     0.0                        0.0       17.0               1.0\n",
       "300022     0.0                        0.0        1.0               0.0\n",
       "300023     0.0                        0.0       12.0               1.0\n",
       "300025     0.0                        0.0        7.0               0.0\n",
       "\n",
       "[171 rows x 4 columns]"
      ]
     },
     "execution_count": 69,
     "metadata": {},
     "output_type": "execute_result"
    }
   ],
   "source": [
    "service_change_df"
   ]
  },
  {
   "cell_type": "code",
   "execution_count": null,
   "metadata": {},
   "outputs": [
    {
     "data": {
      "application/vnd.plotly.v1+json": {
       "config": {
        "plotlyServerURL": "https://plot.ly"
       },
       "data": [
        {
         "hovertemplate": "numbers=%{x}<br>stages=%{y}<extra></extra>",
         "legendgroup": "",
         "marker": {
          "color": "#636efa"
         },
         "name": "",
         "orientation": "h",
         "showlegend": false,
         "type": "funnel",
         "x": [
          2055,
          63,
          52,
          52
         ],
         "xaxis": "x",
         "y": [
          "Downgrade",
          "Submit Downgrade",
          "Cancel",
          "Cancellation Confirmation"
         ],
         "yaxis": "y"
        }
       ],
       "layout": {
        "legend": {
         "tracegroupgap": 0
        },
        "margin": {
         "t": 60
        },
        "template": {
         "data": {
          "bar": [
           {
            "error_x": {
             "color": "#2a3f5f"
            },
            "error_y": {
             "color": "#2a3f5f"
            },
            "marker": {
             "line": {
              "color": "#E5ECF6",
              "width": 0.5
             },
             "pattern": {
              "fillmode": "overlay",
              "size": 10,
              "solidity": 0.2
             }
            },
            "type": "bar"
           }
          ],
          "barpolar": [
           {
            "marker": {
             "line": {
              "color": "#E5ECF6",
              "width": 0.5
             },
             "pattern": {
              "fillmode": "overlay",
              "size": 10,
              "solidity": 0.2
             }
            },
            "type": "barpolar"
           }
          ],
          "carpet": [
           {
            "aaxis": {
             "endlinecolor": "#2a3f5f",
             "gridcolor": "white",
             "linecolor": "white",
             "minorgridcolor": "white",
             "startlinecolor": "#2a3f5f"
            },
            "baxis": {
             "endlinecolor": "#2a3f5f",
             "gridcolor": "white",
             "linecolor": "white",
             "minorgridcolor": "white",
             "startlinecolor": "#2a3f5f"
            },
            "type": "carpet"
           }
          ],
          "choropleth": [
           {
            "colorbar": {
             "outlinewidth": 0,
             "ticks": ""
            },
            "type": "choropleth"
           }
          ],
          "contour": [
           {
            "colorbar": {
             "outlinewidth": 0,
             "ticks": ""
            },
            "colorscale": [
             [
              0,
              "#0d0887"
             ],
             [
              0.1111111111111111,
              "#46039f"
             ],
             [
              0.2222222222222222,
              "#7201a8"
             ],
             [
              0.3333333333333333,
              "#9c179e"
             ],
             [
              0.4444444444444444,
              "#bd3786"
             ],
             [
              0.5555555555555556,
              "#d8576b"
             ],
             [
              0.6666666666666666,
              "#ed7953"
             ],
             [
              0.7777777777777778,
              "#fb9f3a"
             ],
             [
              0.8888888888888888,
              "#fdca26"
             ],
             [
              1,
              "#f0f921"
             ]
            ],
            "type": "contour"
           }
          ],
          "contourcarpet": [
           {
            "colorbar": {
             "outlinewidth": 0,
             "ticks": ""
            },
            "type": "contourcarpet"
           }
          ],
          "heatmap": [
           {
            "colorbar": {
             "outlinewidth": 0,
             "ticks": ""
            },
            "colorscale": [
             [
              0,
              "#0d0887"
             ],
             [
              0.1111111111111111,
              "#46039f"
             ],
             [
              0.2222222222222222,
              "#7201a8"
             ],
             [
              0.3333333333333333,
              "#9c179e"
             ],
             [
              0.4444444444444444,
              "#bd3786"
             ],
             [
              0.5555555555555556,
              "#d8576b"
             ],
             [
              0.6666666666666666,
              "#ed7953"
             ],
             [
              0.7777777777777778,
              "#fb9f3a"
             ],
             [
              0.8888888888888888,
              "#fdca26"
             ],
             [
              1,
              "#f0f921"
             ]
            ],
            "type": "heatmap"
           }
          ],
          "heatmapgl": [
           {
            "colorbar": {
             "outlinewidth": 0,
             "ticks": ""
            },
            "colorscale": [
             [
              0,
              "#0d0887"
             ],
             [
              0.1111111111111111,
              "#46039f"
             ],
             [
              0.2222222222222222,
              "#7201a8"
             ],
             [
              0.3333333333333333,
              "#9c179e"
             ],
             [
              0.4444444444444444,
              "#bd3786"
             ],
             [
              0.5555555555555556,
              "#d8576b"
             ],
             [
              0.6666666666666666,
              "#ed7953"
             ],
             [
              0.7777777777777778,
              "#fb9f3a"
             ],
             [
              0.8888888888888888,
              "#fdca26"
             ],
             [
              1,
              "#f0f921"
             ]
            ],
            "type": "heatmapgl"
           }
          ],
          "histogram": [
           {
            "marker": {
             "pattern": {
              "fillmode": "overlay",
              "size": 10,
              "solidity": 0.2
             }
            },
            "type": "histogram"
           }
          ],
          "histogram2d": [
           {
            "colorbar": {
             "outlinewidth": 0,
             "ticks": ""
            },
            "colorscale": [
             [
              0,
              "#0d0887"
             ],
             [
              0.1111111111111111,
              "#46039f"
             ],
             [
              0.2222222222222222,
              "#7201a8"
             ],
             [
              0.3333333333333333,
              "#9c179e"
             ],
             [
              0.4444444444444444,
              "#bd3786"
             ],
             [
              0.5555555555555556,
              "#d8576b"
             ],
             [
              0.6666666666666666,
              "#ed7953"
             ],
             [
              0.7777777777777778,
              "#fb9f3a"
             ],
             [
              0.8888888888888888,
              "#fdca26"
             ],
             [
              1,
              "#f0f921"
             ]
            ],
            "type": "histogram2d"
           }
          ],
          "histogram2dcontour": [
           {
            "colorbar": {
             "outlinewidth": 0,
             "ticks": ""
            },
            "colorscale": [
             [
              0,
              "#0d0887"
             ],
             [
              0.1111111111111111,
              "#46039f"
             ],
             [
              0.2222222222222222,
              "#7201a8"
             ],
             [
              0.3333333333333333,
              "#9c179e"
             ],
             [
              0.4444444444444444,
              "#bd3786"
             ],
             [
              0.5555555555555556,
              "#d8576b"
             ],
             [
              0.6666666666666666,
              "#ed7953"
             ],
             [
              0.7777777777777778,
              "#fb9f3a"
             ],
             [
              0.8888888888888888,
              "#fdca26"
             ],
             [
              1,
              "#f0f921"
             ]
            ],
            "type": "histogram2dcontour"
           }
          ],
          "mesh3d": [
           {
            "colorbar": {
             "outlinewidth": 0,
             "ticks": ""
            },
            "type": "mesh3d"
           }
          ],
          "parcoords": [
           {
            "line": {
             "colorbar": {
              "outlinewidth": 0,
              "ticks": ""
             }
            },
            "type": "parcoords"
           }
          ],
          "pie": [
           {
            "automargin": true,
            "type": "pie"
           }
          ],
          "scatter": [
           {
            "fillpattern": {
             "fillmode": "overlay",
             "size": 10,
             "solidity": 0.2
            },
            "type": "scatter"
           }
          ],
          "scatter3d": [
           {
            "line": {
             "colorbar": {
              "outlinewidth": 0,
              "ticks": ""
             }
            },
            "marker": {
             "colorbar": {
              "outlinewidth": 0,
              "ticks": ""
             }
            },
            "type": "scatter3d"
           }
          ],
          "scattercarpet": [
           {
            "marker": {
             "colorbar": {
              "outlinewidth": 0,
              "ticks": ""
             }
            },
            "type": "scattercarpet"
           }
          ],
          "scattergeo": [
           {
            "marker": {
             "colorbar": {
              "outlinewidth": 0,
              "ticks": ""
             }
            },
            "type": "scattergeo"
           }
          ],
          "scattergl": [
           {
            "marker": {
             "colorbar": {
              "outlinewidth": 0,
              "ticks": ""
             }
            },
            "type": "scattergl"
           }
          ],
          "scattermapbox": [
           {
            "marker": {
             "colorbar": {
              "outlinewidth": 0,
              "ticks": ""
             }
            },
            "type": "scattermapbox"
           }
          ],
          "scatterpolar": [
           {
            "marker": {
             "colorbar": {
              "outlinewidth": 0,
              "ticks": ""
             }
            },
            "type": "scatterpolar"
           }
          ],
          "scatterpolargl": [
           {
            "marker": {
             "colorbar": {
              "outlinewidth": 0,
              "ticks": ""
             }
            },
            "type": "scatterpolargl"
           }
          ],
          "scatterternary": [
           {
            "marker": {
             "colorbar": {
              "outlinewidth": 0,
              "ticks": ""
             }
            },
            "type": "scatterternary"
           }
          ],
          "surface": [
           {
            "colorbar": {
             "outlinewidth": 0,
             "ticks": ""
            },
            "colorscale": [
             [
              0,
              "#0d0887"
             ],
             [
              0.1111111111111111,
              "#46039f"
             ],
             [
              0.2222222222222222,
              "#7201a8"
             ],
             [
              0.3333333333333333,
              "#9c179e"
             ],
             [
              0.4444444444444444,
              "#bd3786"
             ],
             [
              0.5555555555555556,
              "#d8576b"
             ],
             [
              0.6666666666666666,
              "#ed7953"
             ],
             [
              0.7777777777777778,
              "#fb9f3a"
             ],
             [
              0.8888888888888888,
              "#fdca26"
             ],
             [
              1,
              "#f0f921"
             ]
            ],
            "type": "surface"
           }
          ],
          "table": [
           {
            "cells": {
             "fill": {
              "color": "#EBF0F8"
             },
             "line": {
              "color": "white"
             }
            },
            "header": {
             "fill": {
              "color": "#C8D4E3"
             },
             "line": {
              "color": "white"
             }
            },
            "type": "table"
           }
          ]
         },
         "layout": {
          "annotationdefaults": {
           "arrowcolor": "#2a3f5f",
           "arrowhead": 0,
           "arrowwidth": 1
          },
          "autotypenumbers": "strict",
          "coloraxis": {
           "colorbar": {
            "outlinewidth": 0,
            "ticks": ""
           }
          },
          "colorscale": {
           "diverging": [
            [
             0,
             "#8e0152"
            ],
            [
             0.1,
             "#c51b7d"
            ],
            [
             0.2,
             "#de77ae"
            ],
            [
             0.3,
             "#f1b6da"
            ],
            [
             0.4,
             "#fde0ef"
            ],
            [
             0.5,
             "#f7f7f7"
            ],
            [
             0.6,
             "#e6f5d0"
            ],
            [
             0.7,
             "#b8e186"
            ],
            [
             0.8,
             "#7fbc41"
            ],
            [
             0.9,
             "#4d9221"
            ],
            [
             1,
             "#276419"
            ]
           ],
           "sequential": [
            [
             0,
             "#0d0887"
            ],
            [
             0.1111111111111111,
             "#46039f"
            ],
            [
             0.2222222222222222,
             "#7201a8"
            ],
            [
             0.3333333333333333,
             "#9c179e"
            ],
            [
             0.4444444444444444,
             "#bd3786"
            ],
            [
             0.5555555555555556,
             "#d8576b"
            ],
            [
             0.6666666666666666,
             "#ed7953"
            ],
            [
             0.7777777777777778,
             "#fb9f3a"
            ],
            [
             0.8888888888888888,
             "#fdca26"
            ],
            [
             1,
             "#f0f921"
            ]
           ],
           "sequentialminus": [
            [
             0,
             "#0d0887"
            ],
            [
             0.1111111111111111,
             "#46039f"
            ],
            [
             0.2222222222222222,
             "#7201a8"
            ],
            [
             0.3333333333333333,
             "#9c179e"
            ],
            [
             0.4444444444444444,
             "#bd3786"
            ],
            [
             0.5555555555555556,
             "#d8576b"
            ],
            [
             0.6666666666666666,
             "#ed7953"
            ],
            [
             0.7777777777777778,
             "#fb9f3a"
            ],
            [
             0.8888888888888888,
             "#fdca26"
            ],
            [
             1,
             "#f0f921"
            ]
           ]
          },
          "colorway": [
           "#636efa",
           "#EF553B",
           "#00cc96",
           "#ab63fa",
           "#FFA15A",
           "#19d3f3",
           "#FF6692",
           "#B6E880",
           "#FF97FF",
           "#FECB52"
          ],
          "font": {
           "color": "#2a3f5f"
          },
          "geo": {
           "bgcolor": "white",
           "lakecolor": "white",
           "landcolor": "#E5ECF6",
           "showlakes": true,
           "showland": true,
           "subunitcolor": "white"
          },
          "hoverlabel": {
           "align": "left"
          },
          "hovermode": "closest",
          "mapbox": {
           "style": "light"
          },
          "paper_bgcolor": "white",
          "plot_bgcolor": "#E5ECF6",
          "polar": {
           "angularaxis": {
            "gridcolor": "white",
            "linecolor": "white",
            "ticks": ""
           },
           "bgcolor": "#E5ECF6",
           "radialaxis": {
            "gridcolor": "white",
            "linecolor": "white",
            "ticks": ""
           }
          },
          "scene": {
           "xaxis": {
            "backgroundcolor": "#E5ECF6",
            "gridcolor": "white",
            "gridwidth": 2,
            "linecolor": "white",
            "showbackground": true,
            "ticks": "",
            "zerolinecolor": "white"
           },
           "yaxis": {
            "backgroundcolor": "#E5ECF6",
            "gridcolor": "white",
            "gridwidth": 2,
            "linecolor": "white",
            "showbackground": true,
            "ticks": "",
            "zerolinecolor": "white"
           },
           "zaxis": {
            "backgroundcolor": "#E5ECF6",
            "gridcolor": "white",
            "gridwidth": 2,
            "linecolor": "white",
            "showbackground": true,
            "ticks": "",
            "zerolinecolor": "white"
           }
          },
          "shapedefaults": {
           "line": {
            "color": "#2a3f5f"
           }
          },
          "ternary": {
           "aaxis": {
            "gridcolor": "white",
            "linecolor": "white",
            "ticks": ""
           },
           "baxis": {
            "gridcolor": "white",
            "linecolor": "white",
            "ticks": ""
           },
           "bgcolor": "#E5ECF6",
           "caxis": {
            "gridcolor": "white",
            "linecolor": "white",
            "ticks": ""
           }
          },
          "title": {
           "x": 0.05
          },
          "xaxis": {
           "automargin": true,
           "gridcolor": "white",
           "linecolor": "white",
           "ticks": "",
           "title": {
            "standoff": 15
           },
           "zerolinecolor": "white",
           "zerolinewidth": 2
          },
          "yaxis": {
           "automargin": true,
           "gridcolor": "white",
           "linecolor": "white",
           "ticks": "",
           "title": {
            "standoff": 15
           },
           "zerolinecolor": "white",
           "zerolinewidth": 2
          }
         }
        },
        "xaxis": {
         "anchor": "y",
         "domain": [
          0,
          1
         ],
         "title": {
          "text": "numbers"
         }
        },
        "yaxis": {
         "anchor": "x",
         "domain": [
          0,
          1
         ],
         "title": {
          "text": "stages"
         }
        }
       }
      }
     },
     "metadata": {},
     "output_type": "display_data"
    },
    {
     "data": {
      "text/html": [
       "<div>\n",
       "<style scoped>\n",
       "    .dataframe tbody tr th:only-of-type {\n",
       "        vertical-align: middle;\n",
       "    }\n",
       "\n",
       "    .dataframe tbody tr th {\n",
       "        vertical-align: top;\n",
       "    }\n",
       "\n",
       "    .dataframe thead th {\n",
       "        text-align: right;\n",
       "    }\n",
       "</style>\n",
       "<table border=\"1\" class=\"dataframe\">\n",
       "  <thead>\n",
       "    <tr style=\"text-align: right;\">\n",
       "      <th>page</th>\n",
       "      <th>Cancel</th>\n",
       "      <th>Cancellation Confirmation</th>\n",
       "      <th>Downgrade</th>\n",
       "      <th>Submit Downgrade</th>\n",
       "    </tr>\n",
       "    <tr>\n",
       "      <th>userId</th>\n",
       "      <th></th>\n",
       "      <th></th>\n",
       "      <th></th>\n",
       "      <th></th>\n",
       "    </tr>\n",
       "  </thead>\n",
       "  <tbody>\n",
       "    <tr>\n",
       "      <th>2</th>\n",
       "      <td>0.0</td>\n",
       "      <td>0.0</td>\n",
       "      <td>13.0</td>\n",
       "      <td>0.0</td>\n",
       "    </tr>\n",
       "    <tr>\n",
       "      <th>3</th>\n",
       "      <td>1.0</td>\n",
       "      <td>1.0</td>\n",
       "      <td>2.0</td>\n",
       "      <td>0.0</td>\n",
       "    </tr>\n",
       "    <tr>\n",
       "      <th>4</th>\n",
       "      <td>0.0</td>\n",
       "      <td>0.0</td>\n",
       "      <td>21.0</td>\n",
       "      <td>0.0</td>\n",
       "    </tr>\n",
       "    <tr>\n",
       "      <th>6</th>\n",
       "      <td>0.0</td>\n",
       "      <td>0.0</td>\n",
       "      <td>41.0</td>\n",
       "      <td>0.0</td>\n",
       "    </tr>\n",
       "    <tr>\n",
       "      <th>9</th>\n",
       "      <td>0.0</td>\n",
       "      <td>0.0</td>\n",
       "      <td>32.0</td>\n",
       "      <td>1.0</td>\n",
       "    </tr>\n",
       "    <tr>\n",
       "      <th>...</th>\n",
       "      <td>...</td>\n",
       "      <td>...</td>\n",
       "      <td>...</td>\n",
       "      <td>...</td>\n",
       "    </tr>\n",
       "    <tr>\n",
       "      <th>300020</th>\n",
       "      <td>0.0</td>\n",
       "      <td>0.0</td>\n",
       "      <td>1.0</td>\n",
       "      <td>0.0</td>\n",
       "    </tr>\n",
       "    <tr>\n",
       "      <th>300021</th>\n",
       "      <td>0.0</td>\n",
       "      <td>0.0</td>\n",
       "      <td>17.0</td>\n",
       "      <td>1.0</td>\n",
       "    </tr>\n",
       "    <tr>\n",
       "      <th>300022</th>\n",
       "      <td>0.0</td>\n",
       "      <td>0.0</td>\n",
       "      <td>1.0</td>\n",
       "      <td>0.0</td>\n",
       "    </tr>\n",
       "    <tr>\n",
       "      <th>300023</th>\n",
       "      <td>0.0</td>\n",
       "      <td>0.0</td>\n",
       "      <td>12.0</td>\n",
       "      <td>1.0</td>\n",
       "    </tr>\n",
       "    <tr>\n",
       "      <th>300025</th>\n",
       "      <td>0.0</td>\n",
       "      <td>0.0</td>\n",
       "      <td>7.0</td>\n",
       "      <td>0.0</td>\n",
       "    </tr>\n",
       "  </tbody>\n",
       "</table>\n",
       "<p>171 rows × 4 columns</p>\n",
       "</div>"
      ],
      "text/plain": [
       "page    Cancel  Cancellation Confirmation  Downgrade  Submit Downgrade\n",
       "userId                                                                \n",
       "2          0.0                        0.0       13.0               0.0\n",
       "3          1.0                        1.0        2.0               0.0\n",
       "4          0.0                        0.0       21.0               0.0\n",
       "6          0.0                        0.0       41.0               0.0\n",
       "9          0.0                        0.0       32.0               1.0\n",
       "...        ...                        ...        ...               ...\n",
       "300020     0.0                        0.0        1.0               0.0\n",
       "300021     0.0                        0.0       17.0               1.0\n",
       "300022     0.0                        0.0        1.0               0.0\n",
       "300023     0.0                        0.0       12.0               1.0\n",
       "300025     0.0                        0.0        7.0               0.0\n",
       "\n",
       "[171 rows x 4 columns]"
      ]
     },
     "execution_count": 101,
     "metadata": {},
     "output_type": "execute_result"
    }
   ],
   "source": [
    "service_change = [\n",
    "    \"Downgrade\",\n",
    "    \"Submit Downgrade\",\n",
    "    \"Cancel\",\n",
    "    \"Cancellation Confirmation\",\n",
    "]\n",
    "\n",
    "\n",
    "service_change_df = (\n",
    "    psdf[[\"page\", \"userId\"]].filter((col(\"page\").isin(service_change))).toPandas()\n",
    ")\n",
    "\n",
    "\n",
    "service_change_df = service_change_df.groupby(\"userId\").value_counts().reset_index()\n",
    "\n",
    "service_change_df = service_change_df.pivot(\n",
    "    index=\"userId\", columns=\"page\", values=\"count\"\n",
    ").fillna(value=0)\n",
    "\n",
    "service_funnel = service_change_df.sum().sort_values(ascending=False)\n",
    "data = dict(stages=service_funnel.keys(), numbers=service_funnel.values)\n",
    "fig = px.funnel(data, x=\"numbers\", y=\"stages\")\n",
    "fig.show()\n",
    "\n",
    "service_change_df"
   ]
  },
  {
   "cell_type": "code",
   "execution_count": null,
   "metadata": {},
   "outputs": [
    {
     "data": {
      "image/png": "[encoded data removed]",
      "text/plain": [
       "<Figure size 800x600 with 2 Axes>"
      ]
     },
     "metadata": {},
     "output_type": "display_data"
    }
   ],
   "source": [
    "# Heatmap to show correlation between features\n",
    "plt.figure(figsize=(8, 6))\n",
    "sns.heatmap(\n",
    "    service_change_df.corr(), annot=True, cmap=\"coolwarm\", fmt=\".2f\", linewidths=0.5\n",
    ")\n",
    "plt.show()"
   ]
  },
  {
   "cell_type": "code",
   "execution_count": null,
   "metadata": {},
   "outputs": [
    {
     "data": {
      "text/html": [
       "<div>\n",
       "<style scoped>\n",
       "    .dataframe tbody tr th:only-of-type {\n",
       "        vertical-align: middle;\n",
       "    }\n",
       "\n",
       "    .dataframe tbody tr th {\n",
       "        vertical-align: top;\n",
       "    }\n",
       "\n",
       "    .dataframe thead th {\n",
       "        text-align: right;\n",
       "    }\n",
       "</style>\n",
       "<table border=\"1\" class=\"dataframe\">\n",
       "  <thead>\n",
       "    <tr style=\"text-align: right;\">\n",
       "      <th></th>\n",
       "      <th>song_plays</th>\n",
       "      <th>count</th>\n",
       "    </tr>\n",
       "  </thead>\n",
       "  <tbody>\n",
       "    <tr>\n",
       "      <th>0</th>\n",
       "      <td>1</td>\n",
       "      <td>5809</td>\n",
       "    </tr>\n",
       "    <tr>\n",
       "      <th>1</th>\n",
       "      <td>2</td>\n",
       "      <td>2616</td>\n",
       "    </tr>\n",
       "    <tr>\n",
       "      <th>2</th>\n",
       "      <td>3</td>\n",
       "      <td>1651</td>\n",
       "    </tr>\n",
       "    <tr>\n",
       "      <th>3</th>\n",
       "      <td>4</td>\n",
       "      <td>1075</td>\n",
       "    </tr>\n",
       "    <tr>\n",
       "      <th>4</th>\n",
       "      <td>5</td>\n",
       "      <td>757</td>\n",
       "    </tr>\n",
       "    <tr>\n",
       "      <th>...</th>\n",
       "      <td>...</td>\n",
       "      <td>...</td>\n",
       "    </tr>\n",
       "    <tr>\n",
       "      <th>67</th>\n",
       "      <td>83</td>\n",
       "      <td>11</td>\n",
       "    </tr>\n",
       "    <tr>\n",
       "      <th>68</th>\n",
       "      <td>103</td>\n",
       "      <td>11</td>\n",
       "    </tr>\n",
       "    <tr>\n",
       "      <th>69</th>\n",
       "      <td>73</td>\n",
       "      <td>11</td>\n",
       "    </tr>\n",
       "    <tr>\n",
       "      <th>70</th>\n",
       "      <td>75</td>\n",
       "      <td>11</td>\n",
       "    </tr>\n",
       "    <tr>\n",
       "      <th>71</th>\n",
       "      <td>68</td>\n",
       "      <td>11</td>\n",
       "    </tr>\n",
       "  </tbody>\n",
       "</table>\n",
       "<p>72 rows × 2 columns</p>\n",
       "</div>"
      ],
      "text/plain": [
       "    song_plays  count\n",
       "0            1   5809\n",
       "1            2   2616\n",
       "2            3   1651\n",
       "3            4   1075\n",
       "4            5    757\n",
       "..         ...    ...\n",
       "67          83     11\n",
       "68         103     11\n",
       "69          73     11\n",
       "70          75     11\n",
       "71          68     11\n",
       "\n",
       "[72 rows x 2 columns]"
      ]
     },
     "execution_count": 19,
     "metadata": {},
     "output_type": "execute_result"
    }
   ],
   "source": [
    "temp_df = psdf[[\"artist\"]].toPandas().dropna().value_counts().reset_index()\n",
    "\n",
    "\n",
    "temp_df = temp_df.rename(columns={\"count\": \"song_plays\"})\n",
    "\n",
    "\n",
    "temp_df = temp_df[\"song_plays\"].value_counts().reset_index()\n",
    "temp_df = temp_df[temp_df[\"count\"] > 10]\n",
    "\n",
    "temp_df"
   ]
  },
  {
   "cell_type": "markdown",
   "metadata": {},
   "source": [
    "# Feature Extraction"
   ]
  },
  {
   "cell_type": "markdown",
   "metadata": {},
   "source": []
  },
  {
   "cell_type": "markdown",
   "metadata": {},
   "source": [
    "## Song Plays Per"
   ]
  },
  {
   "cell_type": "code",
   "execution_count": null,
   "metadata": {},
   "outputs": [
    {
     "name": "stderr",
     "output_type": "stream",
     "text": [
      "                                                                                \r"
     ]
    }
   ],
   "source": [
    "psdf.createOrReplaceTempView(\"user_log_table\")\n",
    "spark.udf.register(\n",
    "    \"get_hour\", lambda x: int(datetime.datetime.fromtimestamp(x / 1000.0).hour)\n",
    ")\n",
    "songs_in_hour = spark.sql(\n",
    "    \"\"\"\n",
    "          SELECT get_hour(ts) AS hour, COUNT(*) as plays_per_hour\n",
    "          FROM user_log_table\n",
    "          WHERE page = \"NextSong\"\n",
    "          GROUP BY hour\n",
    "          ORDER BY cast(hour as int) ASC\n",
    "          \"\"\"\n",
    ")\n",
    "\n",
    "songs_in_hour_df = songs_in_hour.toPandas()"
   ]
  },
  {
   "cell_type": "code",
   "execution_count": null,
   "metadata": {},
   "outputs": [
    {
     "data": {
      "text/plain": [
       "<Axes: >"
      ]
     },
     "execution_count": 21,
     "metadata": {},
     "output_type": "execute_result"
    },
    {
     "data": {
      "image/png": "[encoded data removed]",
      "text/plain": [
       "<Figure size 640x480 with 1 Axes>"
      ]
     },
     "metadata": {},
     "output_type": "display_data"
    }
   ],
   "source": [
    "songs_in_hour_df.plot(kind=\"bar\")"
   ]
  },
  {
   "cell_type": "code",
   "execution_count": null,
   "metadata": {},
   "outputs": [
    {
     "name": "stdout",
     "output_type": "stream",
     "text": [
      "+------+-----+\n",
      "|userId|count|\n",
      "+------+-----+\n",
      "|   148|  398|\n",
      "|   137|  154|\n",
      "|    85| 3616|\n",
      "|    65| 2113|\n",
      "|    53| 1746|\n",
      "|   133|   32|\n",
      "|    78|  254|\n",
      "|    34|   53|\n",
      "|   101| 1797|\n",
      "|   126| 2577|\n",
      "|   115| 1737|\n",
      "|    81| 1974|\n",
      "|    28| 1457|\n",
      "|    76|  212|\n",
      "|    27|  220|\n",
      "|    26|  255|\n",
      "|    44|  429|\n",
      "|   103| 1073|\n",
      "|    12|  867|\n",
      "|    91| 2580|\n",
      "+------+-----+\n",
      "only showing top 20 rows\n",
      "\n"
     ]
    }
   ],
   "source": [
    "songs_listened = psdf.filter(col(\"artist\").isNotNull()).groupBy(col(\"userId\")).count()\n",
    "\n",
    "songs_listened.show()"
   ]
  },
  {
   "cell_type": "code",
   "execution_count": null,
   "metadata": {},
   "outputs": [
    {
     "name": "stderr",
     "output_type": "stream",
     "text": [
      "[Stage 219:==========================================>              (3 + 1) / 4]\r"
     ]
    },
    {
     "name": "stdout",
     "output_type": "stream",
     "text": [
      "+------+-----+-----------+\n",
      "|userId|level|user_cancel|\n",
      "+------+-----+-----------+\n",
      "|     3| paid|          1|\n",
      "|    12| free|          1|\n",
      "|    12| paid|          1|\n",
      "|    17| paid|          1|\n",
      "|    17| free|          1|\n",
      "|    18| paid|          1|\n",
      "|    28| free|          1|\n",
      "|    28| paid|          1|\n",
      "|    29| free|          1|\n",
      "|    29| paid|          1|\n",
      "|    32| free|          1|\n",
      "|    32| paid|          1|\n",
      "|    51| paid|          1|\n",
      "|    53| free|          1|\n",
      "|    53| paid|          1|\n",
      "|    54| paid|          1|\n",
      "|    54| free|          1|\n",
      "|    58| free|          1|\n",
      "|    58| paid|          1|\n",
      "|    70| paid|          1|\n",
      "+------+-----+-----------+\n",
      "only showing top 20 rows\n",
      "\n"
     ]
    },
    {
     "name": "stderr",
     "output_type": "stream",
     "text": [
      "                                                                                \r"
     ]
    }
   ],
   "source": [
    "psdf[[\"userId\", \"user_cancel\"]].filter(col(\"user_cancel\") == 1).createOrReplaceTempView(\n",
    "    \"cancelled_users_lookup\"\n",
    ")\n",
    "query = spark.sql(\n",
    "    \"\"\"\n",
    "    SELECT DISTINCT\n",
    "       ul.userId,\n",
    "       ul.level,\n",
    "       ul.user_cancel\n",
    "    FROM user_log as ul \n",
    "    JOIN\n",
    "       cancelled_users_lookup as cul\n",
    "    ON\n",
    "       cul.userId = ul.userId\n",
    "    ORDER BY\n",
    "       ul.userId ASC\n",
    "\"\"\"\n",
    ")\n",
    "\n",
    "query.show()"
   ]
  },
  {
   "cell_type": "code",
   "execution_count": null,
   "metadata": {},
   "outputs": [
    {
     "data": {
      "image/png": "[encoded data removed]",
      "text/plain": [
       "<Figure size 640x480 with 1 Axes>"
      ]
     },
     "metadata": {},
     "output_type": "display_data"
    }
   ],
   "source": [
    "songs_listened_cancel = spark.sql(\n",
    "    \"\"\"\n",
    "    WITH song_count AS (\n",
    "        SELECT userId\n",
    "        , COUNT(*) AS song_count\n",
    "        FROM user_log_table\n",
    "        WHERE artist IS NOT NULL\n",
    "        GROUP BY userID\n",
    "    )\n",
    "    SELECT DISTINCT\n",
    "        u.userId,\n",
    "        s.song_count\n",
    "        \n",
    "    FROM \n",
    "        user_log_table AS u\n",
    "    JOIN \n",
    "        song_count AS s ON u.userId = s.userId\n",
    "    WHERE \n",
    "        u.page = \"Cancellation Confirmation\"\n",
    "    ORDER BY s.song_count ASC\n",
    "\"\"\"\n",
    ")\n",
    "\n",
    "slc = songs_listened_cancel.toPandas()\n",
    "plt.hist(slc.song_count, bins=int(np.sqrt(len(slc.song_count))))\n",
    "plt.show()"
   ]
  },
  {
   "cell_type": "code",
   "execution_count": null,
   "metadata": {},
   "outputs": [
    {
     "data": {
      "image/png": "[encoded data removed]",
      "text/plain": [
       "<Figure size 640x480 with 1 Axes>"
      ]
     },
     "metadata": {},
     "output_type": "display_data"
    }
   ],
   "source": [
    "psdf.createOrReplaceTempView(\"user_log_table\")\n",
    "songs_listened = spark.sql(\n",
    "    \"\"\"\n",
    "    WITH song_count AS (\n",
    "        SELECT userId, COUNT(*) AS song_count\n",
    "        FROM user_log\n",
    "        WHERE artist IS NOT NULL\n",
    "        GROUP BY userID\n",
    "    )\n",
    "    SELECT DISTINCT\n",
    "        u.userId,\n",
    "        s.song_count\n",
    "        \n",
    "    FROM \n",
    "        user_log AS u\n",
    "    JOIN \n",
    "        song_count AS s ON u.userId = s.userId\n",
    "    WHERE \n",
    "        u.page != \"Cancellation Confirmation\"\n",
    "    ORDER BY s.song_count ASC\n",
    "\"\"\"\n",
    ")\n",
    "\n",
    "sl = songs_listened.toPandas()\n",
    "plt.hist(sl.song_count, bins=int(np.sqrt(len(sl.song_count))))\n",
    "\n",
    "plt.show()"
   ]
  },
  {
   "cell_type": "markdown",
   "metadata": {},
   "source": []
  },
  {
   "cell_type": "code",
   "execution_count": null,
   "metadata": {},
   "outputs": [
    {
     "data": {
      "text/html": [
       "<div>\n",
       "<style scoped>\n",
       "    .dataframe tbody tr th:only-of-type {\n",
       "        vertical-align: middle;\n",
       "    }\n",
       "\n",
       "    .dataframe tbody tr th {\n",
       "        vertical-align: top;\n",
       "    }\n",
       "\n",
       "    .dataframe thead th {\n",
       "        text-align: right;\n",
       "    }\n",
       "</style>\n",
       "<table border=\"1\" class=\"dataframe\">\n",
       "  <thead>\n",
       "    <tr style=\"text-align: right;\">\n",
       "      <th></th>\n",
       "      <th>userId</th>\n",
       "      <th>song_count</th>\n",
       "    </tr>\n",
       "  </thead>\n",
       "  <tbody>\n",
       "    <tr>\n",
       "      <th>0</th>\n",
       "      <td>39</td>\n",
       "      <td>8002</td>\n",
       "    </tr>\n",
       "    <tr>\n",
       "      <th>1</th>\n",
       "      <td>92</td>\n",
       "      <td>5945</td>\n",
       "    </tr>\n",
       "    <tr>\n",
       "      <th>2</th>\n",
       "      <td>140</td>\n",
       "      <td>5664</td>\n",
       "    </tr>\n",
       "    <tr>\n",
       "      <th>3</th>\n",
       "      <td>300011</td>\n",
       "      <td>4619</td>\n",
       "    </tr>\n",
       "    <tr>\n",
       "      <th>4</th>\n",
       "      <td>124</td>\n",
       "      <td>4079</td>\n",
       "    </tr>\n",
       "    <tr>\n",
       "      <th>...</th>\n",
       "      <td>...</td>\n",
       "      <td>...</td>\n",
       "    </tr>\n",
       "    <tr>\n",
       "      <th>220</th>\n",
       "      <td>100024</td>\n",
       "      <td>22</td>\n",
       "    </tr>\n",
       "    <tr>\n",
       "      <th>221</th>\n",
       "      <td>100011</td>\n",
       "      <td>11</td>\n",
       "    </tr>\n",
       "    <tr>\n",
       "      <th>222</th>\n",
       "      <td>125</td>\n",
       "      <td>8</td>\n",
       "    </tr>\n",
       "    <tr>\n",
       "      <th>223</th>\n",
       "      <td>135</td>\n",
       "      <td>6</td>\n",
       "    </tr>\n",
       "    <tr>\n",
       "      <th>224</th>\n",
       "      <td>156</td>\n",
       "      <td>3</td>\n",
       "    </tr>\n",
       "  </tbody>\n",
       "</table>\n",
       "<p>225 rows × 2 columns</p>\n",
       "</div>"
      ],
      "text/plain": [
       "     userId  song_count\n",
       "0        39        8002\n",
       "1        92        5945\n",
       "2       140        5664\n",
       "3    300011        4619\n",
       "4       124        4079\n",
       "..      ...         ...\n",
       "220  100024          22\n",
       "221  100011          11\n",
       "222     125           8\n",
       "223     135           6\n",
       "224     156           3\n",
       "\n",
       "[225 rows x 2 columns]"
      ]
     },
     "execution_count": 27,
     "metadata": {},
     "output_type": "execute_result"
    }
   ],
   "source": [
    "tsl = spark.sql(\n",
    "    \"\"\"\n",
    "    SELECT userId, count(*) as song_count\n",
    "    FROM user_log\n",
    "    WHERE artist IS NOT NULL\n",
    "    GROUP BY userId\n",
    "    ORDER BY song_count DESC\n",
    "\"\"\"\n",
    ").toPandas()\n",
    "tsl  # .song_count.plot(kind='hist' ,bins = 1 + int(np.log2(len(tsl.song_count))))"
   ]
  },
  {
   "cell_type": "markdown",
   "metadata": {},
   "source": [
    "## Total Time Spent\n"
   ]
  },
  {
   "cell_type": "code",
   "execution_count": null,
   "metadata": {},
   "outputs": [
    {
     "data": {
      "text/html": [
       "<div>\n",
       "<style scoped>\n",
       "    .dataframe tbody tr th:only-of-type {\n",
       "        vertical-align: middle;\n",
       "    }\n",
       "\n",
       "    .dataframe tbody tr th {\n",
       "        vertical-align: top;\n",
       "    }\n",
       "\n",
       "    .dataframe thead th {\n",
       "        text-align: right;\n",
       "    }\n",
       "</style>\n",
       "<table border=\"1\" class=\"dataframe\">\n",
       "  <thead>\n",
       "    <tr style=\"text-align: right;\">\n",
       "      <th></th>\n",
       "      <th>userId</th>\n",
       "      <th>sessionId</th>\n",
       "      <th>count</th>\n",
       "    </tr>\n",
       "  </thead>\n",
       "  <tbody>\n",
       "    <tr>\n",
       "      <th>0</th>\n",
       "      <td>2</td>\n",
       "      <td>1</td>\n",
       "      <td>428</td>\n",
       "    </tr>\n",
       "    <tr>\n",
       "      <th>1</th>\n",
       "      <td>2</td>\n",
       "      <td>1639</td>\n",
       "      <td>188</td>\n",
       "    </tr>\n",
       "    <tr>\n",
       "      <th>2</th>\n",
       "      <td>2</td>\n",
       "      <td>1928</td>\n",
       "      <td>102</td>\n",
       "    </tr>\n",
       "    <tr>\n",
       "      <th>3</th>\n",
       "      <td>2</td>\n",
       "      <td>1487</td>\n",
       "      <td>97</td>\n",
       "    </tr>\n",
       "    <tr>\n",
       "      <th>4</th>\n",
       "      <td>2</td>\n",
       "      <td>637</td>\n",
       "      <td>55</td>\n",
       "    </tr>\n",
       "    <tr>\n",
       "      <th>...</th>\n",
       "      <td>...</td>\n",
       "      <td>...</td>\n",
       "      <td>...</td>\n",
       "    </tr>\n",
       "    <tr>\n",
       "      <th>3171</th>\n",
       "      <td>300025</td>\n",
       "      <td>285</td>\n",
       "      <td>15</td>\n",
       "    </tr>\n",
       "    <tr>\n",
       "      <th>3172</th>\n",
       "      <td>300025</td>\n",
       "      <td>234</td>\n",
       "      <td>13</td>\n",
       "    </tr>\n",
       "    <tr>\n",
       "      <th>3173</th>\n",
       "      <td>300025</td>\n",
       "      <td>34</td>\n",
       "      <td>8</td>\n",
       "    </tr>\n",
       "    <tr>\n",
       "      <th>3174</th>\n",
       "      <td>300025</td>\n",
       "      <td>122</td>\n",
       "      <td>8</td>\n",
       "    </tr>\n",
       "    <tr>\n",
       "      <th>3175</th>\n",
       "      <td>300025</td>\n",
       "      <td>400</td>\n",
       "      <td>4</td>\n",
       "    </tr>\n",
       "  </tbody>\n",
       "</table>\n",
       "<p>3176 rows × 3 columns</p>\n",
       "</div>"
      ],
      "text/plain": [
       "      userId  sessionId  count\n",
       "0          2          1    428\n",
       "1          2       1639    188\n",
       "2          2       1928    102\n",
       "3          2       1487     97\n",
       "4          2        637     55\n",
       "...      ...        ...    ...\n",
       "3171  300025        285     15\n",
       "3172  300025        234     13\n",
       "3173  300025         34      8\n",
       "3174  300025        122      8\n",
       "3175  300025        400      4\n",
       "\n",
       "[3176 rows x 3 columns]"
      ]
     },
     "execution_count": 28,
     "metadata": {},
     "output_type": "execute_result"
    }
   ],
   "source": [
    "tts = spark.sql(\n",
    "    \"\"\"\n",
    "                 SELECT userId\n",
    "                 ,sessionId\n",
    "                 FROM user_log\n",
    "                 WHERE userId IS NOT NULL\n",
    "                 \"\"\"\n",
    ").toPandas()\n",
    "\n",
    "\n",
    "tts.groupby(\"userId\").value_counts().reset_index()"
   ]
  },
  {
   "cell_type": "code",
   "execution_count": null,
   "metadata": {},
   "outputs": [
    {
     "data": {
      "text/plain": [
       "userId  page            \n",
       "39      NextSong            8002\n",
       "        Thumbs Up            388\n",
       "        Home                 355\n",
       "        Add to Playlist      240\n",
       "        Roll Advert          128\n",
       "        Logout               124\n",
       "        Add Friend           122\n",
       "        Downgrade             73\n",
       "        Thumbs Down           69\n",
       "        Help                  46\n",
       "        Settings              35\n",
       "        About                 16\n",
       "        Upgrade               14\n",
       "        Error                  7\n",
       "        Save Settings          6\n",
       "        Submit Upgrade         4\n",
       "        Submit Downgrade       3\n",
       "Name: count, dtype: int64"
      ]
     },
     "execution_count": 29,
     "metadata": {},
     "output_type": "execute_result"
    }
   ],
   "source": [
    "psdf[[\"userId\", \"page\"]].filter((col(\"userId\") == 39)).toPandas().value_counts()"
   ]
  },
  {
   "cell_type": "markdown",
   "metadata": {},
   "source": [
    "## Page Interactions\n"
   ]
  },
  {
   "cell_type": "code",
   "execution_count": null,
   "metadata": {},
   "outputs": [
    {
     "data": {
      "text/html": [
       "<div>\n",
       "<style scoped>\n",
       "    .dataframe tbody tr th:only-of-type {\n",
       "        vertical-align: middle;\n",
       "    }\n",
       "\n",
       "    .dataframe tbody tr th {\n",
       "        vertical-align: top;\n",
       "    }\n",
       "\n",
       "    .dataframe thead th {\n",
       "        text-align: right;\n",
       "    }\n",
       "</style>\n",
       "<table border=\"1\" class=\"dataframe\">\n",
       "  <thead>\n",
       "    <tr style=\"text-align: right;\">\n",
       "      <th></th>\n",
       "      <th>userId</th>\n",
       "      <th>count</th>\n",
       "    </tr>\n",
       "  </thead>\n",
       "  <tbody>\n",
       "    <tr>\n",
       "      <th>0</th>\n",
       "      <td>39</td>\n",
       "      <td>819</td>\n",
       "    </tr>\n",
       "    <tr>\n",
       "      <th>1</th>\n",
       "      <td>300011</td>\n",
       "      <td>717</td>\n",
       "    </tr>\n",
       "    <tr>\n",
       "      <th>2</th>\n",
       "      <td>92</td>\n",
       "      <td>655</td>\n",
       "    </tr>\n",
       "    <tr>\n",
       "      <th>3</th>\n",
       "      <td>140</td>\n",
       "      <td>643</td>\n",
       "    </tr>\n",
       "    <tr>\n",
       "      <th>4</th>\n",
       "      <td>300021</td>\n",
       "      <td>568</td>\n",
       "    </tr>\n",
       "    <tr>\n",
       "      <th>...</th>\n",
       "      <td>...</td>\n",
       "      <td>...</td>\n",
       "    </tr>\n",
       "    <tr>\n",
       "      <th>216</th>\n",
       "      <td>100024</td>\n",
       "      <td>5</td>\n",
       "    </tr>\n",
       "    <tr>\n",
       "      <th>217</th>\n",
       "      <td>100017</td>\n",
       "      <td>4</td>\n",
       "    </tr>\n",
       "    <tr>\n",
       "      <th>218</th>\n",
       "      <td>100011</td>\n",
       "      <td>3</td>\n",
       "    </tr>\n",
       "    <tr>\n",
       "      <th>219</th>\n",
       "      <td>200007</td>\n",
       "      <td>3</td>\n",
       "    </tr>\n",
       "    <tr>\n",
       "      <th>220</th>\n",
       "      <td>300003</td>\n",
       "      <td>3</td>\n",
       "    </tr>\n",
       "  </tbody>\n",
       "</table>\n",
       "<p>221 rows × 2 columns</p>\n",
       "</div>"
      ],
      "text/plain": [
       "     userId  count\n",
       "0        39    819\n",
       "1    300011    717\n",
       "2        92    655\n",
       "3       140    643\n",
       "4    300021    568\n",
       "..      ...    ...\n",
       "216  100024      5\n",
       "217  100017      4\n",
       "218  100011      3\n",
       "219  200007      3\n",
       "220  300003      3\n",
       "\n",
       "[221 rows x 2 columns]"
      ]
     },
     "execution_count": 30,
     "metadata": {},
     "output_type": "execute_result"
    }
   ],
   "source": [
    "page_interactions = [\"Thumbs Up\", \"Add to Playlist\", \"Thumbs Down\", \"Add Friend\"]\n",
    "\n",
    "psdf[[\"userId\"]].filter(\n",
    "    col(\"page\").isin(page_interactions) & ~col(\"userID\").isNull()\n",
    ").toPandas().value_counts().reset_index()"
   ]
  },
  {
   "cell_type": "code",
   "execution_count": null,
   "metadata": {},
   "outputs": [
    {
     "data": {
      "text/html": [
       "<div>\n",
       "<style scoped>\n",
       "    .dataframe tbody tr th:only-of-type {\n",
       "        vertical-align: middle;\n",
       "    }\n",
       "\n",
       "    .dataframe tbody tr th {\n",
       "        vertical-align: top;\n",
       "    }\n",
       "\n",
       "    .dataframe thead th {\n",
       "        text-align: right;\n",
       "    }\n",
       "</style>\n",
       "<table border=\"1\" class=\"dataframe\">\n",
       "  <thead>\n",
       "    <tr style=\"text-align: right;\">\n",
       "      <th></th>\n",
       "      <th>userId</th>\n",
       "      <th>count</th>\n",
       "    </tr>\n",
       "  </thead>\n",
       "  <tbody>\n",
       "    <tr>\n",
       "      <th>0</th>\n",
       "      <td>39</td>\n",
       "      <td>53</td>\n",
       "    </tr>\n",
       "    <tr>\n",
       "      <th>1</th>\n",
       "      <td>92</td>\n",
       "      <td>43</td>\n",
       "    </tr>\n",
       "    <tr>\n",
       "      <th>2</th>\n",
       "      <td>140</td>\n",
       "      <td>41</td>\n",
       "    </tr>\n",
       "    <tr>\n",
       "      <th>3</th>\n",
       "      <td>300017</td>\n",
       "      <td>32</td>\n",
       "    </tr>\n",
       "    <tr>\n",
       "      <th>4</th>\n",
       "      <td>300011</td>\n",
       "      <td>32</td>\n",
       "    </tr>\n",
       "    <tr>\n",
       "      <th>...</th>\n",
       "      <td>...</td>\n",
       "      <td>...</td>\n",
       "    </tr>\n",
       "    <tr>\n",
       "      <th>192</th>\n",
       "      <td>47</td>\n",
       "      <td>1</td>\n",
       "    </tr>\n",
       "    <tr>\n",
       "      <th>193</th>\n",
       "      <td>100019</td>\n",
       "      <td>1</td>\n",
       "    </tr>\n",
       "    <tr>\n",
       "      <th>194</th>\n",
       "      <td>123</td>\n",
       "      <td>1</td>\n",
       "    </tr>\n",
       "    <tr>\n",
       "      <th>195</th>\n",
       "      <td>57</td>\n",
       "      <td>1</td>\n",
       "    </tr>\n",
       "    <tr>\n",
       "      <th>196</th>\n",
       "      <td>151</td>\n",
       "      <td>1</td>\n",
       "    </tr>\n",
       "  </tbody>\n",
       "</table>\n",
       "<p>197 rows × 2 columns</p>\n",
       "</div>"
      ],
      "text/plain": [
       "     userId  count\n",
       "0        39     53\n",
       "1        92     43\n",
       "2       140     41\n",
       "3    300017     32\n",
       "4    300011     32\n",
       "..      ...    ...\n",
       "192      47      1\n",
       "193  100019      1\n",
       "194     123      1\n",
       "195      57      1\n",
       "196     151      1\n",
       "\n",
       "[197 rows x 2 columns]"
      ]
     },
     "execution_count": 31,
     "metadata": {},
     "output_type": "execute_result"
    }
   ],
   "source": [
    "page_issues = [\"Help\", \"Error\"]\n",
    "\n",
    "psdf[[\"userId\"]].filter(\n",
    "    col(\"page\").isin(page_issues) & ~col(\"userID\").isNull()\n",
    ").toPandas().value_counts().reset_index()"
   ]
  },
  {
   "cell_type": "markdown",
   "metadata": {},
   "source": [
    "## User Account Level\n",
    "\n",
    "\n",
    "User account level "
   ]
  },
  {
   "cell_type": "code",
   "execution_count": null,
   "metadata": {},
   "outputs": [
    {
     "data": {
      "text/plain": [
       "<Axes: xlabel='level'>"
      ]
     },
     "execution_count": 32,
     "metadata": {},
     "output_type": "execute_result"
    },
    {
     "data": {
      "image/png": "[encoded data removed]",
      "text/plain": [
       "<Figure size 640x480 with 1 Axes>"
      ]
     },
     "metadata": {},
     "output_type": "display_data"
    }
   ],
   "source": [
    "ual = psdf[[\"userId\", \"level\", \"ts\"]].toPandas()\n",
    "\n",
    "ual = ual.sort_values(\"ts\").drop_duplicates(subset=\"userId\", keep=\"first\")\n",
    "\n",
    "\n",
    "ual = ual[[\"userId\", \"level\"]].dropna(subset=\"userId\")\n",
    "\n",
    "\n",
    "ual[[\"level\"]].value_counts().plot(kind=\"bar\")"
   ]
  },
  {
   "cell_type": "code",
   "execution_count": null,
   "metadata": {},
   "outputs": [
    {
     "data": {
      "text/plain": [
       "<Axes: xlabel='level'>"
      ]
     },
     "execution_count": 33,
     "metadata": {},
     "output_type": "execute_result"
    },
    {
     "data": {
      "image/png": "[encoded data removed]",
      "text/plain": [
       "<Figure size 640x480 with 1 Axes>"
      ]
     },
     "metadata": {},
     "output_type": "display_data"
    }
   ],
   "source": [
    "ual = psdf[[\"userId\", \"level\", \"ts\"]].toPandas()\n",
    "\n",
    "ual = ual.sort_values(\"ts\", ascending=False).drop_duplicates(\n",
    "    subset=\"userId\", keep=\"first\"\n",
    ")\n",
    "\n",
    "\n",
    "ual = ual[[\"userId\", \"level\"]].dropna(subset=\"userId\")\n",
    "\n",
    "\n",
    "ual[[\"level\"]].value_counts().plot(kind=\"bar\")"
   ]
  },
  {
   "cell_type": "code",
   "execution_count": null,
   "metadata": {},
   "outputs": [
    {
     "data": {
      "text/plain": [
       "<Axes: xlabel='status'>"
      ]
     },
     "execution_count": 34,
     "metadata": {},
     "output_type": "execute_result"
    },
    {
     "data": {
      "image/png": "[encoded data removed]",
      "text/plain": [
       "<Figure size 640x480 with 1 Axes>"
      ]
     },
     "metadata": {},
     "output_type": "display_data"
    }
   ],
   "source": [
    "status = spark.sql(\n",
    "    \"\"\"\n",
    "    SELECT \n",
    "        status\n",
    "    FROM user_log\n",
    "          \"\"\"\n",
    ").toPandas()\n",
    "\n",
    "status.value_counts().plot(kind=\"bar\")"
   ]
  },
  {
   "cell_type": "code",
   "execution_count": null,
   "metadata": {},
   "outputs": [],
   "source": []
  },
  {
   "cell_type": "markdown",
   "metadata": {},
   "source": [
    "## Time Spent"
   ]
  },
  {
   "cell_type": "code",
   "execution_count": null,
   "metadata": {},
   "outputs": [
    {
     "data": {
      "image/png": "[encoded data removed]",
      "text/plain": [
       "<Figure size 640x480 with 1 Axes>"
      ]
     },
     "metadata": {},
     "output_type": "display_data"
    }
   ],
   "source": [
    "tsl = psdf[[\"length\", \"sessionId\", \"userId\"]].toPandas()\n",
    "\n",
    "avg_session = (\n",
    "    tsl.groupby([\"userId\", \"sessionId\"])\n",
    "    .max()\n",
    "    .reset_index()[[\"userId\", \"length\"]]\n",
    "    .groupby(\"userId\")\n",
    "    .mean()\n",
    "    .round()\n",
    ")\n",
    "plt.hist(x=avg_session.length, bins=int(np.sqrt(len(avg_session.length))))\n",
    "plt.show()"
   ]
  },
  {
   "cell_type": "code",
   "execution_count": null,
   "metadata": {},
   "outputs": [],
   "source": []
  }
 ],
 "metadata": {
  "kernelspec": {
   "display_name": "sparkify_churn",
   "language": "python",
   "name": "python3"
  },
  "language_info": {
   "codemirror_mode": {
    "name": "ipython",
    "version": 3
   },
   "file_extension": ".py",
   "mimetype": "text/x-python",
   "name": "python",
   "nbconvert_exporter": "python",
   "pygments_lexer": "ipython3",
   "version": "3.10.13"
  }
 },
 "nbformat": 4,
 "nbformat_minor": 2
}
