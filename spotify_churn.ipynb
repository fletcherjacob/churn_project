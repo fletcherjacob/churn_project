{
 "cells": [
  {
   "cell_type": "code",
   "execution_count": 3,
   "metadata": {},
   "outputs": [
    {
     "name": "stderr",
     "output_type": "stream",
     "text": [
      "/Users/jacobfletcher/anaconda3/envs/sparkify_churn/lib/python3.10/site-packages/pyspark/pandas/__init__.py:50: UserWarning: 'PYARROW_IGNORE_TIMEZONE' environment variable was not set. It is required to set this environment variable to '1' in both driver and executor sides if you use pyarrow>=2.0.0. pandas-on-Spark will set it for you but it does not work if there is a Spark context already launched.\n",
      "  warnings.warn(\n"
     ]
    }
   ],
   "source": [
    "import pyspark\n",
    "import pandas as pd\n",
    "import numpy as np\n",
    "import pyspark.pandas as ps\n",
    "from pyspark.sql import SparkSession"
   ]
  },
  {
   "cell_type": "code",
   "execution_count": 4,
   "metadata": {},
   "outputs": [
    {
     "name": "stderr",
     "output_type": "stream",
     "text": [
      "23/12/19 00:27:34 WARN Utils: Your hostname, Jacobs-MacBook-Pro.local resolves to a loopback address: 127.0.0.1; using 192.168.4.156 instead (on interface en0)\n",
      "23/12/19 00:27:34 WARN Utils: Set SPARK_LOCAL_IP if you need to bind to another address\n",
      "Setting default log level to \"WARN\".\n",
      "To adjust logging level use sc.setLogLevel(newLevel). For SparkR, use setLogLevel(newLevel).\n",
      "23/12/19 00:27:34 WARN NativeCodeLoader: Unable to load native-hadoop library for your platform... using builtin-java classes where applicable\n"
     ]
    }
   ],
   "source": [
    "# create a Spark session\n",
    "\n",
    "spark = SparkSession \\\n",
    "    .builder \\\n",
    "    .appName(\"Spark Churn\") \\\n",
    "    .getOrCreate()"
   ]
  },
  {
   "cell_type": "code",
   "execution_count": 30,
   "metadata": {},
   "outputs": [],
   "source": [
    "\n",
    "psdf = spark.read.json(\"mini_sparkify_event_data.json\")"
   ]
  },
  {
   "cell_type": "code",
   "execution_count": 46,
   "metadata": {},
   "outputs": [
    {
     "data": {
      "text/html": [
       "<div>\n",
       "<style scoped>\n",
       "    .dataframe tbody tr th:only-of-type {\n",
       "        vertical-align: middle;\n",
       "    }\n",
       "\n",
       "    .dataframe tbody tr th {\n",
       "        vertical-align: top;\n",
       "    }\n",
       "\n",
       "    .dataframe thead th {\n",
       "        text-align: right;\n",
       "    }\n",
       "</style>\n",
       "<table border=\"1\" class=\"dataframe\">\n",
       "  <thead>\n",
       "    <tr style=\"text-align: right;\">\n",
       "      <th></th>\n",
       "      <th>0</th>\n",
       "      <th>1</th>\n",
       "    </tr>\n",
       "  </thead>\n",
       "  <tbody>\n",
       "    <tr>\n",
       "      <th>0</th>\n",
       "      <td>artist</td>\n",
       "      <td>string</td>\n",
       "    </tr>\n",
       "    <tr>\n",
       "      <th>1</th>\n",
       "      <td>auth</td>\n",
       "      <td>string</td>\n",
       "    </tr>\n",
       "    <tr>\n",
       "      <th>2</th>\n",
       "      <td>firstName</td>\n",
       "      <td>string</td>\n",
       "    </tr>\n",
       "    <tr>\n",
       "      <th>3</th>\n",
       "      <td>gender</td>\n",
       "      <td>string</td>\n",
       "    </tr>\n",
       "    <tr>\n",
       "      <th>4</th>\n",
       "      <td>itemInSession</td>\n",
       "      <td>bigint</td>\n",
       "    </tr>\n",
       "    <tr>\n",
       "      <th>5</th>\n",
       "      <td>lastName</td>\n",
       "      <td>string</td>\n",
       "    </tr>\n",
       "    <tr>\n",
       "      <th>6</th>\n",
       "      <td>length</td>\n",
       "      <td>double</td>\n",
       "    </tr>\n",
       "    <tr>\n",
       "      <th>7</th>\n",
       "      <td>level</td>\n",
       "      <td>string</td>\n",
       "    </tr>\n",
       "    <tr>\n",
       "      <th>8</th>\n",
       "      <td>location</td>\n",
       "      <td>string</td>\n",
       "    </tr>\n",
       "    <tr>\n",
       "      <th>9</th>\n",
       "      <td>method</td>\n",
       "      <td>string</td>\n",
       "    </tr>\n",
       "    <tr>\n",
       "      <th>10</th>\n",
       "      <td>page</td>\n",
       "      <td>string</td>\n",
       "    </tr>\n",
       "    <tr>\n",
       "      <th>11</th>\n",
       "      <td>registration</td>\n",
       "      <td>bigint</td>\n",
       "    </tr>\n",
       "    <tr>\n",
       "      <th>12</th>\n",
       "      <td>sessionId</td>\n",
       "      <td>bigint</td>\n",
       "    </tr>\n",
       "    <tr>\n",
       "      <th>13</th>\n",
       "      <td>song</td>\n",
       "      <td>string</td>\n",
       "    </tr>\n",
       "    <tr>\n",
       "      <th>14</th>\n",
       "      <td>status</td>\n",
       "      <td>bigint</td>\n",
       "    </tr>\n",
       "    <tr>\n",
       "      <th>15</th>\n",
       "      <td>ts</td>\n",
       "      <td>bigint</td>\n",
       "    </tr>\n",
       "    <tr>\n",
       "      <th>16</th>\n",
       "      <td>userAgent</td>\n",
       "      <td>string</td>\n",
       "    </tr>\n",
       "    <tr>\n",
       "      <th>17</th>\n",
       "      <td>userId</td>\n",
       "      <td>string</td>\n",
       "    </tr>\n",
       "  </tbody>\n",
       "</table>\n",
       "</div>"
      ],
      "text/plain": [
       "                0       1\n",
       "0          artist  string\n",
       "1            auth  string\n",
       "2       firstName  string\n",
       "3          gender  string\n",
       "4   itemInSession  bigint\n",
       "5        lastName  string\n",
       "6          length  double\n",
       "7           level  string\n",
       "8        location  string\n",
       "9          method  string\n",
       "10           page  string\n",
       "11   registration  bigint\n",
       "12      sessionId  bigint\n",
       "13           song  string\n",
       "14         status  bigint\n",
       "15             ts  bigint\n",
       "16      userAgent  string\n",
       "17         userId  string"
      ]
     },
     "execution_count": 46,
     "metadata": {},
     "output_type": "execute_result"
    }
   ],
   "source": [
    "pd.DataFrame(data=psdf.dtypes)\n"
   ]
  },
  {
   "cell_type": "markdown",
   "metadata": {},
   "source": [
    "### Check Nulls\n"
   ]
  },
  {
   "cell_type": "code",
   "execution_count": 50,
   "metadata": {},
   "outputs": [
    {
     "data": {
      "text/plain": [
       "False"
      ]
     },
     "execution_count": 50,
     "metadata": {},
     "output_type": "execute_result"
    }
   ],
   "source": [
    "ps.isna(psdf)"
   ]
  },
  {
   "cell_type": "code",
   "execution_count": 53,
   "metadata": {},
   "outputs": [
    {
     "name": "stdout",
     "output_type": "stream",
     "text": [
      "+-------+------------------+------------------+--------------------+-----------------+------------------+--------------------+\n",
      "|summary|     itemInSession|            length|        registration|        sessionId|            status|                  ts|\n",
      "+-------+------------------+------------------+--------------------+-----------------+------------------+--------------------+\n",
      "|  count|            286500|            228108|              278154|           286500|            286500|              286500|\n",
      "|   mean|114.41421291448516|249.11718197783478|1.535358834085557...|1041.526554973822|210.05459685863875|1.540956889810471...|\n",
      "| stddev|129.76726201141113| 99.23517921058324|3.2913216163276587E9|726.7762634630808|31.505078488422033| 1.507543960823119E9|\n",
      "|    min|                 0|           0.78322|       1521380675000|                1|               200|       1538352117000|\n",
      "|    max|              1321|        3024.66567|       1543247354000|             2474|               404|       1543799476000|\n",
      "+-------+------------------+------------------+--------------------+-----------------+------------------+--------------------+\n",
      "\n"
     ]
    }
   ],
   "source": [
    "num_cols = [psdf.dtypes[i][0] for i in range(len(psdf.columns)) if psdf.dtypes[i][1] != 'string']\n",
    "obj_cols =  [psdf.dtypes[i][0] for i in range(len(psdf.columns)) if psdf.dtypes[i][1] == 'string']\n",
    "\n",
    "\n",
    "psdf[num_cols].describe().show()"
   ]
  },
  {
   "cell_type": "code",
   "execution_count": 63,
   "metadata": {},
   "outputs": [
    {
     "name": "stdout",
     "output_type": "stream",
     "text": [
      "+--------------------+---------+---------+------+--------+-----+--------------------+------+---------------+--------------------+--------------------+------+\n",
      "|              artist|     auth|firstName|gender|lastName|level|            location|method|           page|                song|           userAgent|userId|\n",
      "+--------------------+---------+---------+------+--------+-----+--------------------+------+---------------+--------------------+--------------------+------+\n",
      "|      Martha Tilston|Logged In|    Colin|     M| Freeman| paid|     Bakersfield, CA|   PUT|       NextSong|           Rockpools|Mozilla/5.0 (Wind...|    30|\n",
      "|    Five Iron Frenzy|Logged In|    Micah|     M|    Long| free|Boston-Cambridge-...|   PUT|       NextSong|              Canada|\"Mozilla/5.0 (Win...|     9|\n",
      "|        Adam Lambert|Logged In|    Colin|     M| Freeman| paid|     Bakersfield, CA|   PUT|       NextSong|   Time For Miracles|Mozilla/5.0 (Wind...|    30|\n",
      "|              Enigma|Logged In|    Micah|     M|    Long| free|Boston-Cambridge-...|   PUT|       NextSong|Knocking On Forbi...|\"Mozilla/5.0 (Win...|     9|\n",
      "|           Daft Punk|Logged In|    Colin|     M| Freeman| paid|     Bakersfield, CA|   PUT|       NextSong|Harder Better Fas...|Mozilla/5.0 (Wind...|    30|\n",
      "|The All-American ...|Logged In|    Micah|     M|    Long| free|Boston-Cambridge-...|   PUT|       NextSong|      Don't Leave Me|\"Mozilla/5.0 (Win...|     9|\n",
      "|The Velvet Underg...|Logged In|    Micah|     M|    Long| free|Boston-Cambridge-...|   PUT|       NextSong|         Run Run Run|\"Mozilla/5.0 (Win...|     9|\n",
      "|        Starflyer 59|Logged In|    Colin|     M| Freeman| paid|     Bakersfield, CA|   PUT|       NextSong|Passengers (Old A...|Mozilla/5.0 (Wind...|    30|\n",
      "|                NULL|Logged In|    Colin|     M| Freeman| paid|     Bakersfield, CA|   PUT|Add to Playlist|                NULL|Mozilla/5.0 (Wind...|    30|\n",
      "|            Frumpies|Logged In|    Colin|     M| Freeman| paid|     Bakersfield, CA|   PUT|       NextSong|          Fuck Kitty|Mozilla/5.0 (Wind...|    30|\n",
      "|        Britt Nicole|Logged In|    Micah|     M|    Long| free|Boston-Cambridge-...|   PUT|       NextSong|   Walk On The Water|\"Mozilla/5.0 (Win...|     9|\n",
      "|                NULL|Logged In|    Micah|     M|    Long| free|Boston-Cambridge-...|   GET|    Roll Advert|                NULL|\"Mozilla/5.0 (Win...|     9|\n",
      "|Edward Sharpe & T...|Logged In|    Colin|     M| Freeman| paid|     Bakersfield, CA|   PUT|       NextSong|                Jade|Mozilla/5.0 (Wind...|    30|\n",
      "|               Tesla|Logged In|    Micah|     M|    Long| free|Boston-Cambridge-...|   PUT|       NextSong|      Gettin' Better|\"Mozilla/5.0 (Win...|     9|\n",
      "|                NULL|Logged In|    Micah|     M|    Long| free|Boston-Cambridge-...|   PUT|      Thumbs Up|                NULL|\"Mozilla/5.0 (Win...|     9|\n",
      "|         Stan Mosley|Logged In|    Colin|     M| Freeman| paid|     Bakersfield, CA|   PUT|       NextSong|   So-Called Friends|Mozilla/5.0 (Wind...|    30|\n",
      "|Florence + The Ma...|Logged In|    Micah|     M|    Long| free|Boston-Cambridge-...|   PUT|       NextSong| You've Got The Love|\"Mozilla/5.0 (Win...|     9|\n",
      "|   Tokyo Police Club|Logged In|  Ashlynn|     F|Williams| free|     Tallahassee, FL|   PUT|       NextSong|Citizens Of Tomorrow|\"Mozilla/5.0 (Mac...|    74|\n",
      "|             Orishas|Logged In|    Colin|     M| Freeman| paid|     Bakersfield, CA|   PUT|       NextSong|           Represent|Mozilla/5.0 (Wind...|    30|\n",
      "|             Ratatat|Logged In|    Micah|     M|    Long| free|Boston-Cambridge-...|   PUT|       NextSong|              Swisha|\"Mozilla/5.0 (Win...|     9|\n",
      "+--------------------+---------+---------+------+--------+-----+--------------------+------+---------------+--------------------+--------------------+------+\n",
      "only showing top 20 rows\n",
      "\n"
     ]
    }
   ],
   "source": [
    "psdf[obj_cols].show()\n"
   ]
  },
  {
   "cell_type": "code",
   "execution_count": 67,
   "metadata": {},
   "outputs": [
    {
     "ename": "TypeError",
     "evalue": "'Column' object is not callable",
     "output_type": "error",
     "traceback": [
      "\u001b[0;31m---------------------------------------------------------------------------\u001b[0m",
      "\u001b[0;31mTypeError\u001b[0m                                 Traceback (most recent call last)",
      "\u001b[1;32m/Users/jacobfletcher/git/churn_project/churn_spark.ipynb Cell 9\u001b[0m line \u001b[0;36m1\n\u001b[0;32m----> <a href='vscode-notebook-cell:/Users/jacobfletcher/git/churn_project/churn_spark.ipynb#X13sZmlsZQ%3D%3D?line=0'>1</a>\u001b[0m psdf[\u001b[39m'\u001b[39;49m\u001b[39martist\u001b[39;49m\u001b[39m'\u001b[39;49m]\u001b[39m.\u001b[39;49mshow()\n",
      "\u001b[0;31mTypeError\u001b[0m: 'Column' object is not callable"
     ]
    }
   ],
   "source": []
  },
  {
   "cell_type": "code",
   "execution_count": null,
   "metadata": {},
   "outputs": [],
   "source": []
  },
  {
   "cell_type": "code",
   "execution_count": null,
   "metadata": {},
   "outputs": [],
   "source": []
  }
 ],
 "metadata": {
  "kernelspec": {
   "display_name": "sparkify_churn",
   "language": "python",
   "name": "python3"
  },
  "language_info": {
   "codemirror_mode": {
    "name": "ipython",
    "version": 3
   },
   "file_extension": ".py",
   "mimetype": "text/x-python",
   "name": "python",
   "nbconvert_exporter": "python",
   "pygments_lexer": "ipython3",
   "version": "3.10.13"
  }
 },
 "nbformat": 4,
 "nbformat_minor": 2
}
