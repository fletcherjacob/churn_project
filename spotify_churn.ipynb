{
 "cells": [
  {
   "cell_type": "code",
   "execution_count": 1,
   "metadata": {},
   "outputs": [],
   "source": [
    "import pandas as pd\n",
    "import numpy as np\n",
    "import matplotlib.pyplot as plt\n",
    "import seaborn as sns\n",
    "import networkx as nx\n",
    "import plotly.express as px\n",
    "\n",
    "import os\n",
    "\n",
    "os.environ[\"PYARROW_IGNORE_TIMEZONE\"] = \"1\"\n",
    "\n",
    "# Used for exporting pandas tables \"pip install dataframe-image\"\n",
    "# import dataframe_image as dfi\n",
    "\n",
    "import datetime\n",
    "from pyspark.sql.functions import col, from_unixtime, date_trunc, udf, lit\n",
    "import pyspark.pandas as ps\n",
    "from pyspark.sql import SparkSession, DataFrame\n",
    "from pyspark.sql.functions import col, count, from_unixtime, date_format\n",
    "from pyspark.sql.types import IntegerType, StringType\n",
    "from pyspark.sql import functions as F\n",
    "from pyspark.sql.window import Window"
   ]
  },
  {
   "cell_type": "code",
   "execution_count": 2,
   "metadata": {},
   "outputs": [],
   "source": [
    "try:\n",
    "    spark.stop()\n",
    "except NameError:\n",
    "    pass"
   ]
  },
  {
   "cell_type": "markdown",
   "metadata": {},
   "source": [
    "### Helper Functions\n",
    "\n",
    "Reusable Functions "
   ]
  },
  {
   "cell_type": "code",
   "execution_count": 3,
   "metadata": {},
   "outputs": [],
   "source": [
    "def save_df_image(df):\n",
    "    \"\"\"\n",
    "    Save DataFrame as an image with a colored table.\n",
    "\n",
    "    Parameters:\n",
    "    - df (pd.DataFrame): The DataFrame to be saved as an image.\n",
    "\n",
    "    Returns:\n",
    "    None\n",
    "    \"\"\"\n",
    "\n",
    "    # Create a figure and axis\n",
    "    fig, ax = plt.subplots(figsize=(8, 6))\n",
    "\n",
    "    # Hide the axes\n",
    "    ax.axis(\"off\")\n",
    "\n",
    "    # Plot the DataFrame as a table with alternating column colors\n",
    "    table = ax.table(\n",
    "        cellText=df.values,\n",
    "        colLabels=df.columns,\n",
    "        loc=\"center\",\n",
    "        cellLoc=\"center\",\n",
    "        colColours=[\"#6EC33C\", \"#913CC3\"] * len(df.columns),\n",
    "    )\n",
    "\n",
    "    # Adjust font size\n",
    "    table.auto_set_font_size(False)\n",
    "    table.set_fontsize(10)\n",
    "\n",
    "    # Save the figure as an image (e.g., PNG)\n",
    "    plt.savefig(\"table_image.png\", bbox_inches=\"tight\", pad_inches=0.5)\n",
    "\n",
    "\n",
    "def style_df(df):\n",
    "    # Set Colors\n",
    "    styles = [\n",
    "        {\n",
    "            \"selector\": \"th.col_heading\",\n",
    "            \"props\": [(\"background-color\", \"#14345a\"), (\"color\", \"white\")],\n",
    "        },\n",
    "        {\n",
    "            \"selector\": \"th.blank\",\n",
    "            \"props\": [(\"background-color\", \"#14345a\"), (\"color\", \"white\")],\n",
    "        },\n",
    "        {\n",
    "            \"selector\": \"tr:nth-child(even)\",\n",
    "            \"props\": [(\"background-color\", \"#002351\"), (\"color\", \"white\")],\n",
    "        },\n",
    "        {\n",
    "            \"selector\": \"tr:nth-child(odd)\",\n",
    "            \"props\": [(\"background-color\", \"#062c54\"), (\"color\", \"white\")],\n",
    "        },\n",
    "    ]\n",
    "\n",
    "    # Apply the styles to the DataFrame\n",
    "    styled_df = df.style.set_table_styles(styles)\n",
    "\n",
    "    return styled_df\n",
    "\n",
    "\n",
    "def flag_rows(df, column_name, check_list, flagged_column_name):\n",
    "    \"\"\"\n",
    "    Flag rows in a PySpark DataFrame based on whether the value in a specified column is in a given list.\n",
    "\n",
    "    Parameters:\n",
    "    - df (pyspark.sql.DataFrame): The PySpark DataFrame to be modified.\n",
    "    - column_name (str): The name of the column to check for values.\n",
    "    - check_list (list): The list of values to check against.\n",
    "    - flagged_column_name (str): The name of the new column to be created for the flags.\n",
    "\n",
    "    Returns:\n",
    "    pyspark.sql.DataFrame: The modified PySpark DataFrame with the new flagged column.\n",
    "\n",
    "    This function takes a PySpark DataFrame, a column name, a list of values, and a flagged column name. It then adds a new column to the DataFrame\n",
    "    that contains a flag (1 or 0) based on whether the values in the specified column are present in the given list.\n",
    "    \"\"\"\n",
    "\n",
    "    def check_list_udf(value):\n",
    "        return 1 if value in check_list else 0\n",
    "\n",
    "    check_list_udf = udf(check_list_udf, IntegerType())\n",
    "\n",
    "    df = df.withColumn(flagged_column_name, check_list_udf(df[column_name]))\n",
    "\n",
    "    return df"
   ]
  },
  {
   "cell_type": "code",
   "execution_count": 4,
   "metadata": {},
   "outputs": [
    {
     "name": "stderr",
     "output_type": "stream",
     "text": [
      "24/01/16 02:18:56 WARN Utils: Your hostname, Jacobs-MacBook-Pro.local resolves to a loopback address: 127.0.0.1; using 192.168.4.156 instead (on interface en0)\n",
      "24/01/16 02:18:56 WARN Utils: Set SPARK_LOCAL_IP if you need to bind to another address\n",
      "Setting default log level to \"WARN\".\n",
      "To adjust logging level use sc.setLogLevel(newLevel). For SparkR, use setLogLevel(newLevel).\n",
      "24/01/16 02:18:57 WARN NativeCodeLoader: Unable to load native-hadoop library for your platform... using builtin-java classes where applicable\n"
     ]
    }
   ],
   "source": [
    "total_physical_cores = 16\n",
    "available_cores_for_spark = total_physical_cores - 2\n",
    "# Create a Spark session with an appropriate app name and executor cores\n",
    "spark = (\n",
    "    SparkSession.builder.appName(\"Sparkify\")\n",
    "    .config(\"spark.driver.memory\", \"12g\")\n",
    "    .config(\"spark.executor.memory\", \"12g\")\n",
    "    .config(\"spark.executor.cores\", available_cores_for_spark)\n",
    "    .getOrCreate()\n",
    ")"
   ]
  },
  {
   "cell_type": "code",
   "execution_count": 5,
   "metadata": {},
   "outputs": [
    {
     "name": "stderr",
     "output_type": "stream",
     "text": [
      "[Stage 0:>                                                        (0 + 12) / 12]\r"
     ]
    },
    {
     "name": "stdout",
     "output_type": "stream",
     "text": [
      "root\n",
      " |-- artist: string (nullable = true)\n",
      " |-- auth: string (nullable = true)\n",
      " |-- firstName: string (nullable = true)\n",
      " |-- gender: string (nullable = true)\n",
      " |-- itemInSession: long (nullable = true)\n",
      " |-- lastName: string (nullable = true)\n",
      " |-- length: double (nullable = true)\n",
      " |-- level: string (nullable = true)\n",
      " |-- location: string (nullable = true)\n",
      " |-- method: string (nullable = true)\n",
      " |-- page: string (nullable = true)\n",
      " |-- registration: long (nullable = true)\n",
      " |-- sessionId: long (nullable = true)\n",
      " |-- song: string (nullable = true)\n",
      " |-- status: long (nullable = true)\n",
      " |-- ts: long (nullable = true)\n",
      " |-- userAgent: string (nullable = true)\n",
      " |-- userId: integer (nullable = true)\n",
      "\n"
     ]
    },
    {
     "name": "stderr",
     "output_type": "stream",
     "text": [
      "                                                                                \r"
     ]
    }
   ],
   "source": [
    "# userId is a string and NULL values shows as empty strings not NULL\n",
    "\n",
    "\n",
    "psdf = spark.read.json(\n",
    "    \"/Users/jacobfletcher/git/churn_project/data/mini_sparkify_event_data.json\"\n",
    ")\n",
    "psdf = psdf.withColumn(\"userId\", col(\"userId\").cast(\"int\"))\n",
    "psdf.printSchema()\n",
    "\n",
    "# Build Temp Table for Future sql queries\n",
    "psdf.createOrReplaceTempView(\"user_log\")"
   ]
  },
  {
   "cell_type": "code",
   "execution_count": 6,
   "metadata": {},
   "outputs": [
    {
     "name": "stderr",
     "output_type": "stream",
     "text": [
      "                                                                                \r"
     ]
    }
   ],
   "source": [
    "psdf.toPandas().to_csv(\"/Users/jacobfletcher/git/churn_project/data/mini_sparkify\")"
   ]
  },
  {
   "cell_type": "code",
   "execution_count": 7,
   "metadata": {},
   "outputs": [
    {
     "data": {
      "text/plain": [
       "286500"
      ]
     },
     "execution_count": 7,
     "metadata": {},
     "output_type": "execute_result"
    }
   ],
   "source": [
    "psdf.count()"
   ]
  },
  {
   "cell_type": "code",
   "execution_count": 8,
   "metadata": {},
   "outputs": [],
   "source": [
    "# Seperate column types\n",
    "num_cols = [\n",
    "    psdf.dtypes[i][0] for i in range(len(psdf.columns)) if psdf.dtypes[i][1] != \"string\"\n",
    "]\n",
    "\n",
    "obj_cols = [\n",
    "    psdf.dtypes[i][0] for i in range(len(psdf.columns)) if psdf.dtypes[i][1] == \"string\"\n",
    "]"
   ]
  },
  {
   "cell_type": "markdown",
   "metadata": {},
   "source": [
    "## Explroing Null Values"
   ]
  },
  {
   "cell_type": "code",
   "execution_count": 9,
   "metadata": {},
   "outputs": [
    {
     "data": {
      "text/html": [
       "<style type=\"text/css\">\n",
       "#T_94c39 th.col_heading {\n",
       "  background-color: #14345a;\n",
       "  color: white;\n",
       "}\n",
       "#T_94c39 th.blank {\n",
       "  background-color: #14345a;\n",
       "  color: white;\n",
       "}\n",
       "#T_94c39 tr:nth-child(even) {\n",
       "  background-color: #002351;\n",
       "  color: white;\n",
       "}\n",
       "#T_94c39 tr:nth-child(odd) {\n",
       "  background-color: #062c54;\n",
       "  color: white;\n",
       "}\n",
       "</style>\n",
       "<table id=\"T_94c39\">\n",
       "  <thead>\n",
       "    <tr>\n",
       "      <th class=\"blank level0\" >&nbsp;</th>\n",
       "      <th id=\"T_94c39_level0_col0\" class=\"col_heading level0 col0\" >Column</th>\n",
       "      <th id=\"T_94c39_level0_col1\" class=\"col_heading level0 col1\" >UniqueCount</th>\n",
       "      <th id=\"T_94c39_level0_col2\" class=\"col_heading level0 col2\" >NullCount</th>\n",
       "      <th id=\"T_94c39_level0_col3\" class=\"col_heading level0 col3\" >Type</th>\n",
       "    </tr>\n",
       "  </thead>\n",
       "  <tbody>\n",
       "    <tr>\n",
       "      <th id=\"T_94c39_level0_row0\" class=\"row_heading level0 row0\" >3</th>\n",
       "      <td id=\"T_94c39_row0_col0\" class=\"data row0 col0\" >gender</td>\n",
       "      <td id=\"T_94c39_row0_col1\" class=\"data row0 col1\" >2</td>\n",
       "      <td id=\"T_94c39_row0_col2\" class=\"data row0 col2\" >8346</td>\n",
       "      <td id=\"T_94c39_row0_col3\" class=\"data row0 col3\" >object</td>\n",
       "    </tr>\n",
       "    <tr>\n",
       "      <th id=\"T_94c39_level0_row1\" class=\"row_heading level0 row1\" >7</th>\n",
       "      <td id=\"T_94c39_row1_col0\" class=\"data row1 col0\" >level</td>\n",
       "      <td id=\"T_94c39_row1_col1\" class=\"data row1 col1\" >2</td>\n",
       "      <td id=\"T_94c39_row1_col2\" class=\"data row1 col2\" >0</td>\n",
       "      <td id=\"T_94c39_row1_col3\" class=\"data row1 col3\" >object</td>\n",
       "    </tr>\n",
       "    <tr>\n",
       "      <th id=\"T_94c39_level0_row2\" class=\"row_heading level0 row2\" >9</th>\n",
       "      <td id=\"T_94c39_row2_col0\" class=\"data row2 col0\" >method</td>\n",
       "      <td id=\"T_94c39_row2_col1\" class=\"data row2 col1\" >2</td>\n",
       "      <td id=\"T_94c39_row2_col2\" class=\"data row2 col2\" >0</td>\n",
       "      <td id=\"T_94c39_row2_col3\" class=\"data row2 col3\" >object</td>\n",
       "    </tr>\n",
       "    <tr>\n",
       "      <th id=\"T_94c39_level0_row3\" class=\"row_heading level0 row3\" >14</th>\n",
       "      <td id=\"T_94c39_row3_col0\" class=\"data row3 col0\" >status</td>\n",
       "      <td id=\"T_94c39_row3_col1\" class=\"data row3 col1\" >3</td>\n",
       "      <td id=\"T_94c39_row3_col2\" class=\"data row3 col2\" >0</td>\n",
       "      <td id=\"T_94c39_row3_col3\" class=\"data row3 col3\" >int64</td>\n",
       "    </tr>\n",
       "    <tr>\n",
       "      <th id=\"T_94c39_level0_row4\" class=\"row_heading level0 row4\" >1</th>\n",
       "      <td id=\"T_94c39_row4_col0\" class=\"data row4 col0\" >auth</td>\n",
       "      <td id=\"T_94c39_row4_col1\" class=\"data row4 col1\" >4</td>\n",
       "      <td id=\"T_94c39_row4_col2\" class=\"data row4 col2\" >0</td>\n",
       "      <td id=\"T_94c39_row4_col3\" class=\"data row4 col3\" >object</td>\n",
       "    </tr>\n",
       "    <tr>\n",
       "      <th id=\"T_94c39_level0_row5\" class=\"row_heading level0 row5\" >10</th>\n",
       "      <td id=\"T_94c39_row5_col0\" class=\"data row5 col0\" >page</td>\n",
       "      <td id=\"T_94c39_row5_col1\" class=\"data row5 col1\" >22</td>\n",
       "      <td id=\"T_94c39_row5_col2\" class=\"data row5 col2\" >0</td>\n",
       "      <td id=\"T_94c39_row5_col3\" class=\"data row5 col3\" >object</td>\n",
       "    </tr>\n",
       "    <tr>\n",
       "      <th id=\"T_94c39_level0_row6\" class=\"row_heading level0 row6\" >16</th>\n",
       "      <td id=\"T_94c39_row6_col0\" class=\"data row6 col0\" >userAgent</td>\n",
       "      <td id=\"T_94c39_row6_col1\" class=\"data row6 col1\" >56</td>\n",
       "      <td id=\"T_94c39_row6_col2\" class=\"data row6 col2\" >8346</td>\n",
       "      <td id=\"T_94c39_row6_col3\" class=\"data row6 col3\" >object</td>\n",
       "    </tr>\n",
       "    <tr>\n",
       "      <th id=\"T_94c39_level0_row7\" class=\"row_heading level0 row7\" >8</th>\n",
       "      <td id=\"T_94c39_row7_col0\" class=\"data row7 col0\" >location</td>\n",
       "      <td id=\"T_94c39_row7_col1\" class=\"data row7 col1\" >114</td>\n",
       "      <td id=\"T_94c39_row7_col2\" class=\"data row7 col2\" >8346</td>\n",
       "      <td id=\"T_94c39_row7_col3\" class=\"data row7 col3\" >object</td>\n",
       "    </tr>\n",
       "    <tr>\n",
       "      <th id=\"T_94c39_level0_row8\" class=\"row_heading level0 row8\" >5</th>\n",
       "      <td id=\"T_94c39_row8_col0\" class=\"data row8 col0\" >lastName</td>\n",
       "      <td id=\"T_94c39_row8_col1\" class=\"data row8 col1\" >173</td>\n",
       "      <td id=\"T_94c39_row8_col2\" class=\"data row8 col2\" >8346</td>\n",
       "      <td id=\"T_94c39_row8_col3\" class=\"data row8 col3\" >object</td>\n",
       "    </tr>\n",
       "    <tr>\n",
       "      <th id=\"T_94c39_level0_row9\" class=\"row_heading level0 row9\" >2</th>\n",
       "      <td id=\"T_94c39_row9_col0\" class=\"data row9 col0\" >firstName</td>\n",
       "      <td id=\"T_94c39_row9_col1\" class=\"data row9 col1\" >189</td>\n",
       "      <td id=\"T_94c39_row9_col2\" class=\"data row9 col2\" >8346</td>\n",
       "      <td id=\"T_94c39_row9_col3\" class=\"data row9 col3\" >object</td>\n",
       "    </tr>\n",
       "    <tr>\n",
       "      <th id=\"T_94c39_level0_row10\" class=\"row_heading level0 row10\" >11</th>\n",
       "      <td id=\"T_94c39_row10_col0\" class=\"data row10 col0\" >registration</td>\n",
       "      <td id=\"T_94c39_row10_col1\" class=\"data row10 col1\" >225</td>\n",
       "      <td id=\"T_94c39_row10_col2\" class=\"data row10 col2\" >8346</td>\n",
       "      <td id=\"T_94c39_row10_col3\" class=\"data row10 col3\" >float64</td>\n",
       "    </tr>\n",
       "    <tr>\n",
       "      <th id=\"T_94c39_level0_row11\" class=\"row_heading level0 row11\" >17</th>\n",
       "      <td id=\"T_94c39_row11_col0\" class=\"data row11 col0\" >userId</td>\n",
       "      <td id=\"T_94c39_row11_col1\" class=\"data row11 col1\" >225</td>\n",
       "      <td id=\"T_94c39_row11_col2\" class=\"data row11 col2\" >8346</td>\n",
       "      <td id=\"T_94c39_row11_col3\" class=\"data row11 col3\" >float64</td>\n",
       "    </tr>\n",
       "    <tr>\n",
       "      <th id=\"T_94c39_level0_row12\" class=\"row_heading level0 row12\" >4</th>\n",
       "      <td id=\"T_94c39_row12_col0\" class=\"data row12 col0\" >itemInSession</td>\n",
       "      <td id=\"T_94c39_row12_col1\" class=\"data row12 col1\" >1322</td>\n",
       "      <td id=\"T_94c39_row12_col2\" class=\"data row12 col2\" >0</td>\n",
       "      <td id=\"T_94c39_row12_col3\" class=\"data row12 col3\" >int64</td>\n",
       "    </tr>\n",
       "    <tr>\n",
       "      <th id=\"T_94c39_level0_row13\" class=\"row_heading level0 row13\" >12</th>\n",
       "      <td id=\"T_94c39_row13_col0\" class=\"data row13 col0\" >sessionId</td>\n",
       "      <td id=\"T_94c39_row13_col1\" class=\"data row13 col1\" >2354</td>\n",
       "      <td id=\"T_94c39_row13_col2\" class=\"data row13 col2\" >0</td>\n",
       "      <td id=\"T_94c39_row13_col3\" class=\"data row13 col3\" >int64</td>\n",
       "    </tr>\n",
       "    <tr>\n",
       "      <th id=\"T_94c39_level0_row14\" class=\"row_heading level0 row14\" >6</th>\n",
       "      <td id=\"T_94c39_row14_col0\" class=\"data row14 col0\" >length</td>\n",
       "      <td id=\"T_94c39_row14_col1\" class=\"data row14 col1\" >14865</td>\n",
       "      <td id=\"T_94c39_row14_col2\" class=\"data row14 col2\" >58392</td>\n",
       "      <td id=\"T_94c39_row14_col3\" class=\"data row14 col3\" >float64</td>\n",
       "    </tr>\n",
       "    <tr>\n",
       "      <th id=\"T_94c39_level0_row15\" class=\"row_heading level0 row15\" >0</th>\n",
       "      <td id=\"T_94c39_row15_col0\" class=\"data row15 col0\" >artist</td>\n",
       "      <td id=\"T_94c39_row15_col1\" class=\"data row15 col1\" >17655</td>\n",
       "      <td id=\"T_94c39_row15_col2\" class=\"data row15 col2\" >58392</td>\n",
       "      <td id=\"T_94c39_row15_col3\" class=\"data row15 col3\" >object</td>\n",
       "    </tr>\n",
       "    <tr>\n",
       "      <th id=\"T_94c39_level0_row16\" class=\"row_heading level0 row16\" >13</th>\n",
       "      <td id=\"T_94c39_row16_col0\" class=\"data row16 col0\" >song</td>\n",
       "      <td id=\"T_94c39_row16_col1\" class=\"data row16 col1\" >58480</td>\n",
       "      <td id=\"T_94c39_row16_col2\" class=\"data row16 col2\" >58392</td>\n",
       "      <td id=\"T_94c39_row16_col3\" class=\"data row16 col3\" >object</td>\n",
       "    </tr>\n",
       "    <tr>\n",
       "      <th id=\"T_94c39_level0_row17\" class=\"row_heading level0 row17\" >15</th>\n",
       "      <td id=\"T_94c39_row17_col0\" class=\"data row17 col0\" >ts</td>\n",
       "      <td id=\"T_94c39_row17_col1\" class=\"data row17 col1\" >277447</td>\n",
       "      <td id=\"T_94c39_row17_col2\" class=\"data row17 col2\" >0</td>\n",
       "      <td id=\"T_94c39_row17_col3\" class=\"data row17 col3\" >int64</td>\n",
       "    </tr>\n",
       "  </tbody>\n",
       "</table>\n"
      ],
      "text/plain": [
       "<pandas.io.formats.style.Styler at 0x1037c05e0>"
      ]
     },
     "execution_count": 9,
     "metadata": {},
     "output_type": "execute_result"
    }
   ],
   "source": [
    "def unique_nulls_count(df):\n",
    "    if isinstance(df, DataFrame):\n",
    "        summary_counts = [\n",
    "            {\n",
    "                \"Column\": c,\n",
    "                \"UniqueCount\": df[[c]].distinct().count(),\n",
    "                \"NullCount\": df[[c]].filter(col(c).isNull()).count(),\n",
    "                \"Type\": df[[c]].dtypes[0][1],\n",
    "            }\n",
    "            for c in df.columns\n",
    "        ]\n",
    "    if isinstance(df, pd.DataFrame):\n",
    "        summary_counts = [\n",
    "            {\n",
    "                \"Column\": c,\n",
    "                \"UniqueCount\": df[c].nunique(),\n",
    "                \"NullCount\": df[c].isnull().sum(),\n",
    "                \"Type\": df[c].dtype,\n",
    "            }\n",
    "            for c in df.columns\n",
    "        ]\n",
    "\n",
    "    # Create a Pandas DataFrame\n",
    "    return pd.DataFrame(summary_counts).sort_values(\"UniqueCount\")\n",
    "\n",
    "\n",
    "# columns_with_nulls = [summary_counts_df.iloc[i][0] for i in range(summary_counts_df.shape[0]) if summary_counts_df.iloc[i][2] > 0]\n",
    "summary_counts_df = unique_nulls_count(psdf.toPandas())\n",
    "# style_df(summary_counts_df.iloc[:9]).export_png(\"summary_counts(part1).png\")\n",
    "# style_df(summary_counts_df.iloc[9:]).export_png(\"summary_counts(part2).png\")\n",
    "style_df(summary_counts_df)"
   ]
  },
  {
   "cell_type": "code",
   "execution_count": 10,
   "metadata": {},
   "outputs": [
    {
     "data": {
      "image/png": "[encoded data removed]",
      "text/plain": [
       "<Figure size 640x480 with 1 Axes>"
      ]
     },
     "metadata": {},
     "output_type": "display_data"
    }
   ],
   "source": [
    "def null_combination_check(df):\n",
    "    \"\"\"\n",
    "    Identify columns with null values and their related columns in a DataFrame.\n",
    "\n",
    "    Parameters:\n",
    "    - df (pyspark.sql.DataFrame or pd.DataFrame): The input DataFrame.\n",
    "\n",
    "    Returns:\n",
    "    dict: A dictionary where keys are columns with null values, and values are lists of related columns.\n",
    "    \"\"\"\n",
    "    if isinstance(df, DataFrame):\n",
    "        df = df.toPandas()\n",
    "\n",
    "    null_relations = {}\n",
    "    for column in df.columns:\n",
    "        rows_with_nulls = df[df[column].isnull()]\n",
    "        related_columns = rows_with_nulls.columns[\n",
    "            rows_with_nulls.isnull().any()\n",
    "        ].tolist()\n",
    "\n",
    "        null_relations[column] = related_columns\n",
    "\n",
    "    return null_relations\n",
    "\n",
    "\n",
    "def null_graph(relationships, ignore_no_relations=False):\n",
    "    \"\"\"\n",
    "    Visualize relationships between entities as a directed graph using NetworkX and Matplotlib.\n",
    "\n",
    "    Parameters:\n",
    "    - relationships (dict): A dictionary representing relationships between entities. Each key is an entity,\n",
    "      and the corresponding value is a list of related entities.\n",
    "    - ignore_no_relations (bool): If True, only entities with at least one relation will be included in the graph.\n",
    "      If False (default), all entities and their relations will be considered.\n",
    "\n",
    "    Returns:\n",
    "    None\n",
    "\n",
    "    This function takes a dictionary of relationships and creates a directed graph using NetworkX.\n",
    "    Nodes in the graph represent entities, and directed edges represent relationships between entities.\n",
    "    The graph is visualized using Matplotlib.\n",
    "    \"\"\"\n",
    "\n",
    "    G = nx.DiGraph()\n",
    "\n",
    "    # Add nodes and edges based on relationships\n",
    "    for entity, related_entities in relationships.items():\n",
    "        if ignore_no_relations and len(related_entities) == 0:\n",
    "            # passes empty entities in loop\n",
    "            continue\n",
    "\n",
    "        G.add_node(entity)\n",
    "        for related_entity in related_entities:\n",
    "            G.add_edge(entity, related_entity)\n",
    "\n",
    "    # Visualization\n",
    "    pos = nx.kamada_kawai_layout(G)\n",
    "    nx.draw(\n",
    "        G,\n",
    "        pos,\n",
    "        with_labels=True,\n",
    "        node_size=700,\n",
    "        node_color=\"skyblue\",\n",
    "        font_size=12,\n",
    "        font_color=\"black\",\n",
    "        arrowsize=10,\n",
    "        edge_color=\"#EEC9BC\",\n",
    "    )\n",
    "    plt.title(\"Null Features Network\")\n",
    "    plt.show()\n",
    "\n",
    "\n",
    "null_graph(null_combination_check(psdf), ignore_no_relations=False)"
   ]
  },
  {
   "cell_type": "code",
   "execution_count": 11,
   "metadata": {},
   "outputs": [
    {
     "name": "stderr",
     "output_type": "stream",
     "text": [
      "/var/folders/zp/9kxj13m57_v23k2hkwd8vz600000gn/T/ipykernel_17882/1063085435.py:28: UserWarning: FigureCanvasAgg is non-interactive, and thus cannot be shown\n",
      "  fig.show()\n"
     ]
    },
    {
     "data": {
      "image/png": "[encoded data removed]",
      "text/plain": [
       "<Figure size 800x600 with 1 Axes>"
      ]
     },
     "metadata": {},
     "output_type": "display_data"
    }
   ],
   "source": [
    "def binary_null_map(df):\n",
    "    \"\"\"\n",
    "    Visualize the binary map of null values in a DataFrame using a heatmap.\n",
    "\n",
    "    Parameters:\n",
    "    - df (pyspark.sql.DataFrame or pd.DataFrame): The input DataFrame.\n",
    "\n",
    "    Returns:\n",
    "    None\n",
    "    \"\"\"\n",
    "\n",
    "    if isinstance(df, DataFrame):\n",
    "        df = df.toPandas()\n",
    "\n",
    "    fig, ax = plt.subplots(figsize=(8, 6))\n",
    "    sns.heatmap(\n",
    "        df.isnull(),\n",
    "        cbar=False,\n",
    "        yticklabels=False,\n",
    "        cmap=[\"#6EC33C\", \"#913CC3\"],\n",
    "        ax=ax,\n",
    "    )\n",
    "\n",
    "    ax.set_xlabel(\"Features\")\n",
    "    ax.set_ylabel(\"Samples\")\n",
    "    ax.set_title(\"Binary Map of Null Values\")\n",
    "\n",
    "    fig.show()\n",
    "\n",
    "\n",
    "binary_null_map(psdf)"
   ]
  },
  {
   "cell_type": "markdown",
   "metadata": {},
   "source": [
    "# Exploring Features"
   ]
  },
  {
   "cell_type": "markdown",
   "metadata": {},
   "source": [
    "## Flag Cancelled Users"
   ]
  },
  {
   "cell_type": "code",
   "execution_count": 12,
   "metadata": {},
   "outputs": [
    {
     "name": "stderr",
     "output_type": "stream",
     "text": [
      "                                                                                \r"
     ]
    },
    {
     "name": "stdout",
     "output_type": "stream",
     "text": [
      "23.01% Users Churned\n"
     ]
    }
   ],
   "source": [
    "cancelled_user_list = (\n",
    "    psdf[[\"userId\"]]\n",
    "    .filter(col(\"page\").isin([\"Cancellation Confirmation\"]))\n",
    "    .distinct()\n",
    "    .toPandas()\n",
    "    .userId.tolist()\n",
    ")\n",
    "# cancelled_user_list = psdf.rdd.map(lambda x: x.userId).collect()\n",
    "\n",
    "psdf = flag_rows(psdf, \"userId\", cancelled_user_list, \"cancel_flag\")\n",
    "\n",
    "\n",
    "# Check that the amount of 'Cancel COnfirmations' are equal to that of the amount of unique userIds that were flagged\n",
    "assert (\n",
    "    psdf[[\"page\"]].filter(col(\"page\") == \"Cancellation Confirmation\").count()\n",
    "    == psdf.filter(col(\"cancel_flag\") == 1).groupBy(\"userId\").count().count()\n",
    ")\n",
    "\n",
    "churn_user_count = (\n",
    "    psdf.filter(col(\"cancel_flag\") == 1).groupBy(\"userId\").count().count()\n",
    ")\n",
    "unique_user_count = psdf.select(\"userId\").distinct().count()\n",
    "\n",
    "print(f\"{round(churn_user_count /unique_user_count,4)*100}% Users Churned\")"
   ]
  },
  {
   "cell_type": "markdown",
   "metadata": {},
   "source": [
    "## Churn By Gender"
   ]
  },
  {
   "cell_type": "code",
   "execution_count": 13,
   "metadata": {},
   "outputs": [
    {
     "data": {
      "image/png": "[encoded data removed]",
      "text/plain": [
       "<Figure size 662.236x600 with 1 Axes>"
      ]
     },
     "metadata": {},
     "output_type": "display_data"
    },
    {
     "name": "stdout",
     "output_type": "stream",
     "text": [
      "  Gender  cancel_flag  count\n",
      "0      M        False     89\n",
      "1      F        False     84\n",
      "2      M         True     32\n",
      "3      F         True     20\n"
     ]
    }
   ],
   "source": [
    "churn_by_gender = (\n",
    "    psdf.dropDuplicates([\"userId\"]).select(\"Gender\", \"cancel_flag\").toPandas().dropna()\n",
    ")\n",
    "churn_by_gender = churn_by_gender.value_counts().reset_index()\n",
    "churn_by_gender[\"cancel_flag\"] = churn_by_gender[\"cancel_flag\"].astype(bool)\n",
    "\n",
    "\n",
    "chart = sns.catplot(\n",
    "    kind=\"bar\",\n",
    "    data=churn_by_gender,\n",
    "    x=\"cancel_flag\",\n",
    "    y=\"count\",\n",
    "    hue=\"Gender\",\n",
    "    errorbar=\"sd\",\n",
    "    palette=\"husl\",\n",
    "    alpha=0.6,\n",
    "    height=6,\n",
    ")\n",
    "\n",
    "chart.despine(left=False)\n",
    "plt.grid(axis=\"y\")\n",
    "plt.show()\n",
    "\n",
    "\n",
    "print(churn_by_gender)"
   ]
  },
  {
   "cell_type": "markdown",
   "metadata": {},
   "source": [
    "## Churn By Location"
   ]
  },
  {
   "cell_type": "code",
   "execution_count": 14,
   "metadata": {},
   "outputs": [
    {
     "name": "stderr",
     "output_type": "stream",
     "text": [
      "                                                                                \r"
     ]
    }
   ],
   "source": [
    "user_by_state = (\n",
    "    psdf.dropDuplicates([\"userId\"])\n",
    "    .select([\"location\", \"cancel_flag\"])\n",
    "    .toPandas()\n",
    "    .dropna()\n",
    ")\n",
    "user_by_state[\"state\"] = user_by_state[\"location\"].str[-2:]\n",
    "user_by_state.drop(columns=\"location\", inplace=True)\n",
    "user_by_state = user_by_state.value_counts().reset_index()\n",
    "\n",
    "\n",
    "user_by_state[[\"state\", \"count\"]].sort_values(by=\"count\", ascending=False).head()\n",
    "\n",
    "\n",
    "def state_heat(df, state_col=\"state\", value_col=\"count\", title=None):\n",
    "    # Two Column DataFRam 1 column with states, the next stae value\n",
    "\n",
    "    states = df[state_col].tolist()\n",
    "    user_counts = df[value_col].to_list()\n",
    "\n",
    "    fig = px.choropleth(\n",
    "        locations=states,\n",
    "        locationmode=\"USA-states\",\n",
    "        color=user_counts,\n",
    "        scope=\"usa\",\n",
    "        title=title,\n",
    "    )\n",
    "\n",
    "    fig.show()\n",
    "\n",
    "\n",
    "cancel_filter = user_by_state[\"cancel_flag\"] == 1\n",
    "noncancel_filter = user_by_state[\"cancel_flag\"] == 0"
   ]
  },
  {
   "cell_type": "code",
   "execution_count": 15,
   "metadata": {},
   "outputs": [
    {
     "data": {
      "application/vnd.plotly.v1+json": {
       "config": {
        "plotlyServerURL": "https://plot.ly"
       },
       "data": [
        {
         "coloraxis": "coloraxis",
         "geo": "geo",
         "hovertemplate": "locations=%{location}<br>color=%{z}<extra></extra>",
         "locationmode": "USA-states",
         "locations": [
          "CA",
          "PA",
          "TX",
          "FL",
          "WI",
          "IL",
          "NH",
          "NC",
          "CT",
          "SC",
          "CA",
          "PA",
          "IN",
          "WV",
          "AZ",
          "WA",
          "AL",
          "MD",
          "NY",
          "GA",
          "VA",
          "FL",
          "NV",
          "MI",
          "MD",
          "NJ",
          "TX",
          "AL",
          "KY",
          "MS",
          "CO",
          "CO",
          "IA",
          "AZ",
          "AR",
          "AK",
          "OH",
          "WA",
          "MA",
          "MI",
          "NC",
          "SC",
          "MT",
          "OR",
          "MO",
          "NY",
          "WI",
          "UT",
          "LA",
          "KS",
          "IN",
          "IL",
          "TN",
          "OK",
          "OH",
          "MT",
          "MS",
          "LA",
          "KY",
          "KS",
          "ID",
          "WV"
         ],
         "name": "",
         "type": "choropleth",
         "z": [
          27,
          13,
          13,
          11,
          9,
          8,
          7,
          7,
          7,
          7,
          6,
          5,
          5,
          5,
          5,
          4,
          4,
          4,
          4,
          4,
          3,
          3,
          3,
          3,
          3,
          3,
          3,
          2,
          2,
          2,
          2,
          2,
          2,
          2,
          2,
          2,
          2,
          2,
          2,
          2,
          2,
          1,
          1,
          1,
          1,
          1,
          1,
          1,
          1,
          1,
          1,
          1,
          1,
          1,
          1,
          1,
          1,
          1,
          1,
          1,
          1,
          1
         ]
        }
       ],
       "layout": {
        "coloraxis": {
         "colorbar": {
          "title": {
           "text": "color"
          }
         },
         "colorscale": [
          [
           0,
           "#0d0887"
          ],
          [
           0.1111111111111111,
           "#46039f"
          ],
          [
           0.2222222222222222,
           "#7201a8"
          ],
          [
           0.3333333333333333,
           "#9c179e"
          ],
          [
           0.4444444444444444,
           "#bd3786"
          ],
          [
           0.5555555555555556,
           "#d8576b"
          ],
          [
           0.6666666666666666,
           "#ed7953"
          ],
          [
           0.7777777777777778,
           "#fb9f3a"
          ],
          [
           0.8888888888888888,
           "#fdca26"
          ],
          [
           1,
           "#f0f921"
          ]
         ]
        },
        "geo": {
         "center": {},
         "domain": {
          "x": [
           0,
           1
          ],
          "y": [
           0,
           1
          ]
         },
         "scope": "usa"
        },
        "legend": {
         "tracegroupgap": 0
        },
        "template": {
         "data": {
          "bar": [
           {
            "error_x": {
             "color": "#2a3f5f"
            },
            "error_y": {
             "color": "#2a3f5f"
            },
            "marker": {
             "line": {
              "color": "#E5ECF6",
              "width": 0.5
             },
             "pattern": {
              "fillmode": "overlay",
              "size": 10,
              "solidity": 0.2
             }
            },
            "type": "bar"
           }
          ],
          "barpolar": [
           {
            "marker": {
             "line": {
              "color": "#E5ECF6",
              "width": 0.5
             },
             "pattern": {
              "fillmode": "overlay",
              "size": 10,
              "solidity": 0.2
             }
            },
            "type": "barpolar"
           }
          ],
          "carpet": [
           {
            "aaxis": {
             "endlinecolor": "#2a3f5f",
             "gridcolor": "white",
             "linecolor": "white",
             "minorgridcolor": "white",
             "startlinecolor": "#2a3f5f"
            },
            "baxis": {
             "endlinecolor": "#2a3f5f",
             "gridcolor": "white",
             "linecolor": "white",
             "minorgridcolor": "white",
             "startlinecolor": "#2a3f5f"
            },
            "type": "carpet"
           }
          ],
          "choropleth": [
           {
            "colorbar": {
             "outlinewidth": 0,
             "ticks": ""
            },
            "type": "choropleth"
           }
          ],
          "contour": [
           {
            "colorbar": {
             "outlinewidth": 0,
             "ticks": ""
            },
            "colorscale": [
             [
              0,
              "#0d0887"
             ],
             [
              0.1111111111111111,
              "#46039f"
             ],
             [
              0.2222222222222222,
              "#7201a8"
             ],
             [
              0.3333333333333333,
              "#9c179e"
             ],
             [
              0.4444444444444444,
              "#bd3786"
             ],
             [
              0.5555555555555556,
              "#d8576b"
             ],
             [
              0.6666666666666666,
              "#ed7953"
             ],
             [
              0.7777777777777778,
              "#fb9f3a"
             ],
             [
              0.8888888888888888,
              "#fdca26"
             ],
             [
              1,
              "#f0f921"
             ]
            ],
            "type": "contour"
           }
          ],
          "contourcarpet": [
           {
            "colorbar": {
             "outlinewidth": 0,
             "ticks": ""
            },
            "type": "contourcarpet"
           }
          ],
          "heatmap": [
           {
            "colorbar": {
             "outlinewidth": 0,
             "ticks": ""
            },
            "colorscale": [
             [
              0,
              "#0d0887"
             ],
             [
              0.1111111111111111,
              "#46039f"
             ],
             [
              0.2222222222222222,
              "#7201a8"
             ],
             [
              0.3333333333333333,
              "#9c179e"
             ],
             [
              0.4444444444444444,
              "#bd3786"
             ],
             [
              0.5555555555555556,
              "#d8576b"
             ],
             [
              0.6666666666666666,
              "#ed7953"
             ],
             [
              0.7777777777777778,
              "#fb9f3a"
             ],
             [
              0.8888888888888888,
              "#fdca26"
             ],
             [
              1,
              "#f0f921"
             ]
            ],
            "type": "heatmap"
           }
          ],
          "heatmapgl": [
           {
            "colorbar": {
             "outlinewidth": 0,
             "ticks": ""
            },
            "colorscale": [
             [
              0,
              "#0d0887"
             ],
             [
              0.1111111111111111,
              "#46039f"
             ],
             [
              0.2222222222222222,
              "#7201a8"
             ],
             [
              0.3333333333333333,
              "#9c179e"
             ],
             [
              0.4444444444444444,
              "#bd3786"
             ],
             [
              0.5555555555555556,
              "#d8576b"
             ],
             [
              0.6666666666666666,
              "#ed7953"
             ],
             [
              0.7777777777777778,
              "#fb9f3a"
             ],
             [
              0.8888888888888888,
              "#fdca26"
             ],
             [
              1,
              "#f0f921"
             ]
            ],
            "type": "heatmapgl"
           }
          ],
          "histogram": [
           {
            "marker": {
             "pattern": {
              "fillmode": "overlay",
              "size": 10,
              "solidity": 0.2
             }
            },
            "type": "histogram"
           }
          ],
          "histogram2d": [
           {
            "colorbar": {
             "outlinewidth": 0,
             "ticks": ""
            },
            "colorscale": [
             [
              0,
              "#0d0887"
             ],
             [
              0.1111111111111111,
              "#46039f"
             ],
             [
              0.2222222222222222,
              "#7201a8"
             ],
             [
              0.3333333333333333,
              "#9c179e"
             ],
             [
              0.4444444444444444,
              "#bd3786"
             ],
             [
              0.5555555555555556,
              "#d8576b"
             ],
             [
              0.6666666666666666,
              "#ed7953"
             ],
             [
              0.7777777777777778,
              "#fb9f3a"
             ],
             [
              0.8888888888888888,
              "#fdca26"
             ],
             [
              1,
              "#f0f921"
             ]
            ],
            "type": "histogram2d"
           }
          ],
          "histogram2dcontour": [
           {
            "colorbar": {
             "outlinewidth": 0,
             "ticks": ""
            },
            "colorscale": [
             [
              0,
              "#0d0887"
             ],
             [
              0.1111111111111111,
              "#46039f"
             ],
             [
              0.2222222222222222,
              "#7201a8"
             ],
             [
              0.3333333333333333,
              "#9c179e"
             ],
             [
              0.4444444444444444,
              "#bd3786"
             ],
             [
              0.5555555555555556,
              "#d8576b"
             ],
             [
              0.6666666666666666,
              "#ed7953"
             ],
             [
              0.7777777777777778,
              "#fb9f3a"
             ],
             [
              0.8888888888888888,
              "#fdca26"
             ],
             [
              1,
              "#f0f921"
             ]
            ],
            "type": "histogram2dcontour"
           }
          ],
          "mesh3d": [
           {
            "colorbar": {
             "outlinewidth": 0,
             "ticks": ""
            },
            "type": "mesh3d"
           }
          ],
          "parcoords": [
           {
            "line": {
             "colorbar": {
              "outlinewidth": 0,
              "ticks": ""
             }
            },
            "type": "parcoords"
           }
          ],
          "pie": [
           {
            "automargin": true,
            "type": "pie"
           }
          ],
          "scatter": [
           {
            "fillpattern": {
             "fillmode": "overlay",
             "size": 10,
             "solidity": 0.2
            },
            "type": "scatter"
           }
          ],
          "scatter3d": [
           {
            "line": {
             "colorbar": {
              "outlinewidth": 0,
              "ticks": ""
             }
            },
            "marker": {
             "colorbar": {
              "outlinewidth": 0,
              "ticks": ""
             }
            },
            "type": "scatter3d"
           }
          ],
          "scattercarpet": [
           {
            "marker": {
             "colorbar": {
              "outlinewidth": 0,
              "ticks": ""
             }
            },
            "type": "scattercarpet"
           }
          ],
          "scattergeo": [
           {
            "marker": {
             "colorbar": {
              "outlinewidth": 0,
              "ticks": ""
             }
            },
            "type": "scattergeo"
           }
          ],
          "scattergl": [
           {
            "marker": {
             "colorbar": {
              "outlinewidth": 0,
              "ticks": ""
             }
            },
            "type": "scattergl"
           }
          ],
          "scattermapbox": [
           {
            "marker": {
             "colorbar": {
              "outlinewidth": 0,
              "ticks": ""
             }
            },
            "type": "scattermapbox"
           }
          ],
          "scatterpolar": [
           {
            "marker": {
             "colorbar": {
              "outlinewidth": 0,
              "ticks": ""
             }
            },
            "type": "scatterpolar"
           }
          ],
          "scatterpolargl": [
           {
            "marker": {
             "colorbar": {
              "outlinewidth": 0,
              "ticks": ""
             }
            },
            "type": "scatterpolargl"
           }
          ],
          "scatterternary": [
           {
            "marker": {
             "colorbar": {
              "outlinewidth": 0,
              "ticks": ""
             }
            },
            "type": "scatterternary"
           }
          ],
          "surface": [
           {
            "colorbar": {
             "outlinewidth": 0,
             "ticks": ""
            },
            "colorscale": [
             [
              0,
              "#0d0887"
             ],
             [
              0.1111111111111111,
              "#46039f"
             ],
             [
              0.2222222222222222,
              "#7201a8"
             ],
             [
              0.3333333333333333,
              "#9c179e"
             ],
             [
              0.4444444444444444,
              "#bd3786"
             ],
             [
              0.5555555555555556,
              "#d8576b"
             ],
             [
              0.6666666666666666,
              "#ed7953"
             ],
             [
              0.7777777777777778,
              "#fb9f3a"
             ],
             [
              0.8888888888888888,
              "#fdca26"
             ],
             [
              1,
              "#f0f921"
             ]
            ],
            "type": "surface"
           }
          ],
          "table": [
           {
            "cells": {
             "fill": {
              "color": "#EBF0F8"
             },
             "line": {
              "color": "white"
             }
            },
            "header": {
             "fill": {
              "color": "#C8D4E3"
             },
             "line": {
              "color": "white"
             }
            },
            "type": "table"
           }
          ]
         },
         "layout": {
          "annotationdefaults": {
           "arrowcolor": "#2a3f5f",
           "arrowhead": 0,
           "arrowwidth": 1
          },
          "autotypenumbers": "strict",
          "coloraxis": {
           "colorbar": {
            "outlinewidth": 0,
            "ticks": ""
           }
          },
          "colorscale": {
           "diverging": [
            [
             0,
             "#8e0152"
            ],
            [
             0.1,
             "#c51b7d"
            ],
            [
             0.2,
             "#de77ae"
            ],
            [
             0.3,
             "#f1b6da"
            ],
            [
             0.4,
             "#fde0ef"
            ],
            [
             0.5,
             "#f7f7f7"
            ],
            [
             0.6,
             "#e6f5d0"
            ],
            [
             0.7,
             "#b8e186"
            ],
            [
             0.8,
             "#7fbc41"
            ],
            [
             0.9,
             "#4d9221"
            ],
            [
             1,
             "#276419"
            ]
           ],
           "sequential": [
            [
             0,
             "#0d0887"
            ],
            [
             0.1111111111111111,
             "#46039f"
            ],
            [
             0.2222222222222222,
             "#7201a8"
            ],
            [
             0.3333333333333333,
             "#9c179e"
            ],
            [
             0.4444444444444444,
             "#bd3786"
            ],
            [
             0.5555555555555556,
             "#d8576b"
            ],
            [
             0.6666666666666666,
             "#ed7953"
            ],
            [
             0.7777777777777778,
             "#fb9f3a"
            ],
            [
             0.8888888888888888,
             "#fdca26"
            ],
            [
             1,
             "#f0f921"
            ]
           ],
           "sequentialminus": [
            [
             0,
             "#0d0887"
            ],
            [
             0.1111111111111111,
             "#46039f"
            ],
            [
             0.2222222222222222,
             "#7201a8"
            ],
            [
             0.3333333333333333,
             "#9c179e"
            ],
            [
             0.4444444444444444,
             "#bd3786"
            ],
            [
             0.5555555555555556,
             "#d8576b"
            ],
            [
             0.6666666666666666,
             "#ed7953"
            ],
            [
             0.7777777777777778,
             "#fb9f3a"
            ],
            [
             0.8888888888888888,
             "#fdca26"
            ],
            [
             1,
             "#f0f921"
            ]
           ]
          },
          "colorway": [
           "#636efa",
           "#EF553B",
           "#00cc96",
           "#ab63fa",
           "#FFA15A",
           "#19d3f3",
           "#FF6692",
           "#B6E880",
           "#FF97FF",
           "#FECB52"
          ],
          "font": {
           "color": "#2a3f5f"
          },
          "geo": {
           "bgcolor": "white",
           "lakecolor": "white",
           "landcolor": "#E5ECF6",
           "showlakes": true,
           "showland": true,
           "subunitcolor": "white"
          },
          "hoverlabel": {
           "align": "left"
          },
          "hovermode": "closest",
          "mapbox": {
           "style": "light"
          },
          "paper_bgcolor": "white",
          "plot_bgcolor": "#E5ECF6",
          "polar": {
           "angularaxis": {
            "gridcolor": "white",
            "linecolor": "white",
            "ticks": ""
           },
           "bgcolor": "#E5ECF6",
           "radialaxis": {
            "gridcolor": "white",
            "linecolor": "white",
            "ticks": ""
           }
          },
          "scene": {
           "xaxis": {
            "backgroundcolor": "#E5ECF6",
            "gridcolor": "white",
            "gridwidth": 2,
            "linecolor": "white",
            "showbackground": true,
            "ticks": "",
            "zerolinecolor": "white"
           },
           "yaxis": {
            "backgroundcolor": "#E5ECF6",
            "gridcolor": "white",
            "gridwidth": 2,
            "linecolor": "white",
            "showbackground": true,
            "ticks": "",
            "zerolinecolor": "white"
           },
           "zaxis": {
            "backgroundcolor": "#E5ECF6",
            "gridcolor": "white",
            "gridwidth": 2,
            "linecolor": "white",
            "showbackground": true,
            "ticks": "",
            "zerolinecolor": "white"
           }
          },
          "shapedefaults": {
           "line": {
            "color": "#2a3f5f"
           }
          },
          "ternary": {
           "aaxis": {
            "gridcolor": "white",
            "linecolor": "white",
            "ticks": ""
           },
           "baxis": {
            "gridcolor": "white",
            "linecolor": "white",
            "ticks": ""
           },
           "bgcolor": "#E5ECF6",
           "caxis": {
            "gridcolor": "white",
            "linecolor": "white",
            "ticks": ""
           }
          },
          "title": {
           "x": 0.05
          },
          "xaxis": {
           "automargin": true,
           "gridcolor": "white",
           "linecolor": "white",
           "ticks": "",
           "title": {
            "standoff": 15
           },
           "zerolinecolor": "white",
           "zerolinewidth": 2
          },
          "yaxis": {
           "automargin": true,
           "gridcolor": "white",
           "linecolor": "white",
           "ticks": "",
           "title": {
            "standoff": 15
           },
           "zerolinecolor": "white",
           "zerolinewidth": 2
          }
         }
        },
        "title": {
         "text": "Users By State"
        }
       }
      }
     },
     "metadata": {},
     "output_type": "display_data"
    }
   ],
   "source": [
    "state_heat(user_by_state, title=\"Users By State\")"
   ]
  },
  {
   "cell_type": "code",
   "execution_count": 16,
   "metadata": {},
   "outputs": [
    {
     "data": {
      "application/vnd.plotly.v1+json": {
       "config": {
        "plotlyServerURL": "https://plot.ly"
       },
       "data": [
        {
         "coloraxis": "coloraxis",
         "geo": "geo",
         "hovertemplate": "locations=%{location}<br>color=%{z}<extra></extra>",
         "locationmode": "USA-states",
         "locations": [
          "CA",
          "PA",
          "FL",
          "MI",
          "MD",
          "TX",
          "AL",
          "KY",
          "MS",
          "CO",
          "AZ",
          "AR",
          "OH",
          "WA",
          "NC",
          "SC",
          "MT",
          "OR",
          "MO",
          "NY",
          "WI",
          "LA",
          "KS",
          "IN",
          "IL",
          "WV"
         ],
         "name": "",
         "type": "choropleth",
         "z": [
          6,
          5,
          3,
          3,
          3,
          3,
          2,
          2,
          2,
          2,
          2,
          2,
          2,
          2,
          2,
          1,
          1,
          1,
          1,
          1,
          1,
          1,
          1,
          1,
          1,
          1
         ]
        }
       ],
       "layout": {
        "coloraxis": {
         "colorbar": {
          "title": {
           "text": "color"
          }
         },
         "colorscale": [
          [
           0,
           "#0d0887"
          ],
          [
           0.1111111111111111,
           "#46039f"
          ],
          [
           0.2222222222222222,
           "#7201a8"
          ],
          [
           0.3333333333333333,
           "#9c179e"
          ],
          [
           0.4444444444444444,
           "#bd3786"
          ],
          [
           0.5555555555555556,
           "#d8576b"
          ],
          [
           0.6666666666666666,
           "#ed7953"
          ],
          [
           0.7777777777777778,
           "#fb9f3a"
          ],
          [
           0.8888888888888888,
           "#fdca26"
          ],
          [
           1,
           "#f0f921"
          ]
         ]
        },
        "geo": {
         "center": {},
         "domain": {
          "x": [
           0,
           1
          ],
          "y": [
           0,
           1
          ]
         },
         "scope": "usa"
        },
        "legend": {
         "tracegroupgap": 0
        },
        "template": {
         "data": {
          "bar": [
           {
            "error_x": {
             "color": "#2a3f5f"
            },
            "error_y": {
             "color": "#2a3f5f"
            },
            "marker": {
             "line": {
              "color": "#E5ECF6",
              "width": 0.5
             },
             "pattern": {
              "fillmode": "overlay",
              "size": 10,
              "solidity": 0.2
             }
            },
            "type": "bar"
           }
          ],
          "barpolar": [
           {
            "marker": {
             "line": {
              "color": "#E5ECF6",
              "width": 0.5
             },
             "pattern": {
              "fillmode": "overlay",
              "size": 10,
              "solidity": 0.2
             }
            },
            "type": "barpolar"
           }
          ],
          "carpet": [
           {
            "aaxis": {
             "endlinecolor": "#2a3f5f",
             "gridcolor": "white",
             "linecolor": "white",
             "minorgridcolor": "white",
             "startlinecolor": "#2a3f5f"
            },
            "baxis": {
             "endlinecolor": "#2a3f5f",
             "gridcolor": "white",
             "linecolor": "white",
             "minorgridcolor": "white",
             "startlinecolor": "#2a3f5f"
            },
            "type": "carpet"
           }
          ],
          "choropleth": [
           {
            "colorbar": {
             "outlinewidth": 0,
             "ticks": ""
            },
            "type": "choropleth"
           }
          ],
          "contour": [
           {
            "colorbar": {
             "outlinewidth": 0,
             "ticks": ""
            },
            "colorscale": [
             [
              0,
              "#0d0887"
             ],
             [
              0.1111111111111111,
              "#46039f"
             ],
             [
              0.2222222222222222,
              "#7201a8"
             ],
             [
              0.3333333333333333,
              "#9c179e"
             ],
             [
              0.4444444444444444,
              "#bd3786"
             ],
             [
              0.5555555555555556,
              "#d8576b"
             ],
             [
              0.6666666666666666,
              "#ed7953"
             ],
             [
              0.7777777777777778,
              "#fb9f3a"
             ],
             [
              0.8888888888888888,
              "#fdca26"
             ],
             [
              1,
              "#f0f921"
             ]
            ],
            "type": "contour"
           }
          ],
          "contourcarpet": [
           {
            "colorbar": {
             "outlinewidth": 0,
             "ticks": ""
            },
            "type": "contourcarpet"
           }
          ],
          "heatmap": [
           {
            "colorbar": {
             "outlinewidth": 0,
             "ticks": ""
            },
            "colorscale": [
             [
              0,
              "#0d0887"
             ],
             [
              0.1111111111111111,
              "#46039f"
             ],
             [
              0.2222222222222222,
              "#7201a8"
             ],
             [
              0.3333333333333333,
              "#9c179e"
             ],
             [
              0.4444444444444444,
              "#bd3786"
             ],
             [
              0.5555555555555556,
              "#d8576b"
             ],
             [
              0.6666666666666666,
              "#ed7953"
             ],
             [
              0.7777777777777778,
              "#fb9f3a"
             ],
             [
              0.8888888888888888,
              "#fdca26"
             ],
             [
              1,
              "#f0f921"
             ]
            ],
            "type": "heatmap"
           }
          ],
          "heatmapgl": [
           {
            "colorbar": {
             "outlinewidth": 0,
             "ticks": ""
            },
            "colorscale": [
             [
              0,
              "#0d0887"
             ],
             [
              0.1111111111111111,
              "#46039f"
             ],
             [
              0.2222222222222222,
              "#7201a8"
             ],
             [
              0.3333333333333333,
              "#9c179e"
             ],
             [
              0.4444444444444444,
              "#bd3786"
             ],
             [
              0.5555555555555556,
              "#d8576b"
             ],
             [
              0.6666666666666666,
              "#ed7953"
             ],
             [
              0.7777777777777778,
              "#fb9f3a"
             ],
             [
              0.8888888888888888,
              "#fdca26"
             ],
             [
              1,
              "#f0f921"
             ]
            ],
            "type": "heatmapgl"
           }
          ],
          "histogram": [
           {
            "marker": {
             "pattern": {
              "fillmode": "overlay",
              "size": 10,
              "solidity": 0.2
             }
            },
            "type": "histogram"
           }
          ],
          "histogram2d": [
           {
            "colorbar": {
             "outlinewidth": 0,
             "ticks": ""
            },
            "colorscale": [
             [
              0,
              "#0d0887"
             ],
             [
              0.1111111111111111,
              "#46039f"
             ],
             [
              0.2222222222222222,
              "#7201a8"
             ],
             [
              0.3333333333333333,
              "#9c179e"
             ],
             [
              0.4444444444444444,
              "#bd3786"
             ],
             [
              0.5555555555555556,
              "#d8576b"
             ],
             [
              0.6666666666666666,
              "#ed7953"
             ],
             [
              0.7777777777777778,
              "#fb9f3a"
             ],
             [
              0.8888888888888888,
              "#fdca26"
             ],
             [
              1,
              "#f0f921"
             ]
            ],
            "type": "histogram2d"
           }
          ],
          "histogram2dcontour": [
           {
            "colorbar": {
             "outlinewidth": 0,
             "ticks": ""
            },
            "colorscale": [
             [
              0,
              "#0d0887"
             ],
             [
              0.1111111111111111,
              "#46039f"
             ],
             [
              0.2222222222222222,
              "#7201a8"
             ],
             [
              0.3333333333333333,
              "#9c179e"
             ],
             [
              0.4444444444444444,
              "#bd3786"
             ],
             [
              0.5555555555555556,
              "#d8576b"
             ],
             [
              0.6666666666666666,
              "#ed7953"
             ],
             [
              0.7777777777777778,
              "#fb9f3a"
             ],
             [
              0.8888888888888888,
              "#fdca26"
             ],
             [
              1,
              "#f0f921"
             ]
            ],
            "type": "histogram2dcontour"
           }
          ],
          "mesh3d": [
           {
            "colorbar": {
             "outlinewidth": 0,
             "ticks": ""
            },
            "type": "mesh3d"
           }
          ],
          "parcoords": [
           {
            "line": {
             "colorbar": {
              "outlinewidth": 0,
              "ticks": ""
             }
            },
            "type": "parcoords"
           }
          ],
          "pie": [
           {
            "automargin": true,
            "type": "pie"
           }
          ],
          "scatter": [
           {
            "fillpattern": {
             "fillmode": "overlay",
             "size": 10,
             "solidity": 0.2
            },
            "type": "scatter"
           }
          ],
          "scatter3d": [
           {
            "line": {
             "colorbar": {
              "outlinewidth": 0,
              "ticks": ""
             }
            },
            "marker": {
             "colorbar": {
              "outlinewidth": 0,
              "ticks": ""
             }
            },
            "type": "scatter3d"
           }
          ],
          "scattercarpet": [
           {
            "marker": {
             "colorbar": {
              "outlinewidth": 0,
              "ticks": ""
             }
            },
            "type": "scattercarpet"
           }
          ],
          "scattergeo": [
           {
            "marker": {
             "colorbar": {
              "outlinewidth": 0,
              "ticks": ""
             }
            },
            "type": "scattergeo"
           }
          ],
          "scattergl": [
           {
            "marker": {
             "colorbar": {
              "outlinewidth": 0,
              "ticks": ""
             }
            },
            "type": "scattergl"
           }
          ],
          "scattermapbox": [
           {
            "marker": {
             "colorbar": {
              "outlinewidth": 0,
              "ticks": ""
             }
            },
            "type": "scattermapbox"
           }
          ],
          "scatterpolar": [
           {
            "marker": {
             "colorbar": {
              "outlinewidth": 0,
              "ticks": ""
             }
            },
            "type": "scatterpolar"
           }
          ],
          "scatterpolargl": [
           {
            "marker": {
             "colorbar": {
              "outlinewidth": 0,
              "ticks": ""
             }
            },
            "type": "scatterpolargl"
           }
          ],
          "scatterternary": [
           {
            "marker": {
             "colorbar": {
              "outlinewidth": 0,
              "ticks": ""
             }
            },
            "type": "scatterternary"
           }
          ],
          "surface": [
           {
            "colorbar": {
             "outlinewidth": 0,
             "ticks": ""
            },
            "colorscale": [
             [
              0,
              "#0d0887"
             ],
             [
              0.1111111111111111,
              "#46039f"
             ],
             [
              0.2222222222222222,
              "#7201a8"
             ],
             [
              0.3333333333333333,
              "#9c179e"
             ],
             [
              0.4444444444444444,
              "#bd3786"
             ],
             [
              0.5555555555555556,
              "#d8576b"
             ],
             [
              0.6666666666666666,
              "#ed7953"
             ],
             [
              0.7777777777777778,
              "#fb9f3a"
             ],
             [
              0.8888888888888888,
              "#fdca26"
             ],
             [
              1,
              "#f0f921"
             ]
            ],
            "type": "surface"
           }
          ],
          "table": [
           {
            "cells": {
             "fill": {
              "color": "#EBF0F8"
             },
             "line": {
              "color": "white"
             }
            },
            "header": {
             "fill": {
              "color": "#C8D4E3"
             },
             "line": {
              "color": "white"
             }
            },
            "type": "table"
           }
          ]
         },
         "layout": {
          "annotationdefaults": {
           "arrowcolor": "#2a3f5f",
           "arrowhead": 0,
           "arrowwidth": 1
          },
          "autotypenumbers": "strict",
          "coloraxis": {
           "colorbar": {
            "outlinewidth": 0,
            "ticks": ""
           }
          },
          "colorscale": {
           "diverging": [
            [
             0,
             "#8e0152"
            ],
            [
             0.1,
             "#c51b7d"
            ],
            [
             0.2,
             "#de77ae"
            ],
            [
             0.3,
             "#f1b6da"
            ],
            [
             0.4,
             "#fde0ef"
            ],
            [
             0.5,
             "#f7f7f7"
            ],
            [
             0.6,
             "#e6f5d0"
            ],
            [
             0.7,
             "#b8e186"
            ],
            [
             0.8,
             "#7fbc41"
            ],
            [
             0.9,
             "#4d9221"
            ],
            [
             1,
             "#276419"
            ]
           ],
           "sequential": [
            [
             0,
             "#0d0887"
            ],
            [
             0.1111111111111111,
             "#46039f"
            ],
            [
             0.2222222222222222,
             "#7201a8"
            ],
            [
             0.3333333333333333,
             "#9c179e"
            ],
            [
             0.4444444444444444,
             "#bd3786"
            ],
            [
             0.5555555555555556,
             "#d8576b"
            ],
            [
             0.6666666666666666,
             "#ed7953"
            ],
            [
             0.7777777777777778,
             "#fb9f3a"
            ],
            [
             0.8888888888888888,
             "#fdca26"
            ],
            [
             1,
             "#f0f921"
            ]
           ],
           "sequentialminus": [
            [
             0,
             "#0d0887"
            ],
            [
             0.1111111111111111,
             "#46039f"
            ],
            [
             0.2222222222222222,
             "#7201a8"
            ],
            [
             0.3333333333333333,
             "#9c179e"
            ],
            [
             0.4444444444444444,
             "#bd3786"
            ],
            [
             0.5555555555555556,
             "#d8576b"
            ],
            [
             0.6666666666666666,
             "#ed7953"
            ],
            [
             0.7777777777777778,
             "#fb9f3a"
            ],
            [
             0.8888888888888888,
             "#fdca26"
            ],
            [
             1,
             "#f0f921"
            ]
           ]
          },
          "colorway": [
           "#636efa",
           "#EF553B",
           "#00cc96",
           "#ab63fa",
           "#FFA15A",
           "#19d3f3",
           "#FF6692",
           "#B6E880",
           "#FF97FF",
           "#FECB52"
          ],
          "font": {
           "color": "#2a3f5f"
          },
          "geo": {
           "bgcolor": "white",
           "lakecolor": "white",
           "landcolor": "#E5ECF6",
           "showlakes": true,
           "showland": true,
           "subunitcolor": "white"
          },
          "hoverlabel": {
           "align": "left"
          },
          "hovermode": "closest",
          "mapbox": {
           "style": "light"
          },
          "paper_bgcolor": "white",
          "plot_bgcolor": "#E5ECF6",
          "polar": {
           "angularaxis": {
            "gridcolor": "white",
            "linecolor": "white",
            "ticks": ""
           },
           "bgcolor": "#E5ECF6",
           "radialaxis": {
            "gridcolor": "white",
            "linecolor": "white",
            "ticks": ""
           }
          },
          "scene": {
           "xaxis": {
            "backgroundcolor": "#E5ECF6",
            "gridcolor": "white",
            "gridwidth": 2,
            "linecolor": "white",
            "showbackground": true,
            "ticks": "",
            "zerolinecolor": "white"
           },
           "yaxis": {
            "backgroundcolor": "#E5ECF6",
            "gridcolor": "white",
            "gridwidth": 2,
            "linecolor": "white",
            "showbackground": true,
            "ticks": "",
            "zerolinecolor": "white"
           },
           "zaxis": {
            "backgroundcolor": "#E5ECF6",
            "gridcolor": "white",
            "gridwidth": 2,
            "linecolor": "white",
            "showbackground": true,
            "ticks": "",
            "zerolinecolor": "white"
           }
          },
          "shapedefaults": {
           "line": {
            "color": "#2a3f5f"
           }
          },
          "ternary": {
           "aaxis": {
            "gridcolor": "white",
            "linecolor": "white",
            "ticks": ""
           },
           "baxis": {
            "gridcolor": "white",
            "linecolor": "white",
            "ticks": ""
           },
           "bgcolor": "#E5ECF6",
           "caxis": {
            "gridcolor": "white",
            "linecolor": "white",
            "ticks": ""
           }
          },
          "title": {
           "x": 0.05
          },
          "xaxis": {
           "automargin": true,
           "gridcolor": "white",
           "linecolor": "white",
           "ticks": "",
           "title": {
            "standoff": 15
           },
           "zerolinecolor": "white",
           "zerolinewidth": 2
          },
          "yaxis": {
           "automargin": true,
           "gridcolor": "white",
           "linecolor": "white",
           "ticks": "",
           "title": {
            "standoff": 15
           },
           "zerolinecolor": "white",
           "zerolinewidth": 2
          }
         }
        },
        "title": {
         "text": "Cancelled Users By State"
        }
       }
      }
     },
     "metadata": {},
     "output_type": "display_data"
    }
   ],
   "source": [
    "state_heat(user_by_state[cancel_filter], title=\"Cancelled Users By State\")"
   ]
  },
  {
   "cell_type": "code",
   "execution_count": 17,
   "metadata": {},
   "outputs": [
    {
     "data": {
      "application/vnd.plotly.v1+json": {
       "config": {
        "plotlyServerURL": "https://plot.ly"
       },
       "data": [
        {
         "coloraxis": "coloraxis",
         "geo": "geo",
         "hovertemplate": "locations=%{location}<br>color=%{z}<extra></extra>",
         "locationmode": "USA-states",
         "locations": [
          "CA",
          "PA",
          "TX",
          "FL",
          "WI",
          "IL",
          "NH",
          "NC",
          "CT",
          "SC",
          "IN",
          "WV",
          "AZ",
          "WA",
          "AL",
          "MD",
          "NY",
          "GA",
          "VA",
          "NV",
          "NJ",
          "CO",
          "IA",
          "AK",
          "MA",
          "MI",
          "UT",
          "TN",
          "OK",
          "OH",
          "MT",
          "MS",
          "LA",
          "KY",
          "KS",
          "ID"
         ],
         "name": "",
         "type": "choropleth",
         "z": [
          27,
          13,
          13,
          11,
          9,
          8,
          7,
          7,
          7,
          7,
          5,
          5,
          5,
          4,
          4,
          4,
          4,
          4,
          3,
          3,
          3,
          2,
          2,
          2,
          2,
          2,
          1,
          1,
          1,
          1,
          1,
          1,
          1,
          1,
          1,
          1
         ]
        }
       ],
       "layout": {
        "coloraxis": {
         "colorbar": {
          "title": {
           "text": "color"
          }
         },
         "colorscale": [
          [
           0,
           "#0d0887"
          ],
          [
           0.1111111111111111,
           "#46039f"
          ],
          [
           0.2222222222222222,
           "#7201a8"
          ],
          [
           0.3333333333333333,
           "#9c179e"
          ],
          [
           0.4444444444444444,
           "#bd3786"
          ],
          [
           0.5555555555555556,
           "#d8576b"
          ],
          [
           0.6666666666666666,
           "#ed7953"
          ],
          [
           0.7777777777777778,
           "#fb9f3a"
          ],
          [
           0.8888888888888888,
           "#fdca26"
          ],
          [
           1,
           "#f0f921"
          ]
         ]
        },
        "geo": {
         "center": {},
         "domain": {
          "x": [
           0,
           1
          ],
          "y": [
           0,
           1
          ]
         },
         "scope": "usa"
        },
        "legend": {
         "tracegroupgap": 0
        },
        "template": {
         "data": {
          "bar": [
           {
            "error_x": {
             "color": "#2a3f5f"
            },
            "error_y": {
             "color": "#2a3f5f"
            },
            "marker": {
             "line": {
              "color": "#E5ECF6",
              "width": 0.5
             },
             "pattern": {
              "fillmode": "overlay",
              "size": 10,
              "solidity": 0.2
             }
            },
            "type": "bar"
           }
          ],
          "barpolar": [
           {
            "marker": {
             "line": {
              "color": "#E5ECF6",
              "width": 0.5
             },
             "pattern": {
              "fillmode": "overlay",
              "size": 10,
              "solidity": 0.2
             }
            },
            "type": "barpolar"
           }
          ],
          "carpet": [
           {
            "aaxis": {
             "endlinecolor": "#2a3f5f",
             "gridcolor": "white",
             "linecolor": "white",
             "minorgridcolor": "white",
             "startlinecolor": "#2a3f5f"
            },
            "baxis": {
             "endlinecolor": "#2a3f5f",
             "gridcolor": "white",
             "linecolor": "white",
             "minorgridcolor": "white",
             "startlinecolor": "#2a3f5f"
            },
            "type": "carpet"
           }
          ],
          "choropleth": [
           {
            "colorbar": {
             "outlinewidth": 0,
             "ticks": ""
            },
            "type": "choropleth"
           }
          ],
          "contour": [
           {
            "colorbar": {
             "outlinewidth": 0,
             "ticks": ""
            },
            "colorscale": [
             [
              0,
              "#0d0887"
             ],
             [
              0.1111111111111111,
              "#46039f"
             ],
             [
              0.2222222222222222,
              "#7201a8"
             ],
             [
              0.3333333333333333,
              "#9c179e"
             ],
             [
              0.4444444444444444,
              "#bd3786"
             ],
             [
              0.5555555555555556,
              "#d8576b"
             ],
             [
              0.6666666666666666,
              "#ed7953"
             ],
             [
              0.7777777777777778,
              "#fb9f3a"
             ],
             [
              0.8888888888888888,
              "#fdca26"
             ],
             [
              1,
              "#f0f921"
             ]
            ],
            "type": "contour"
           }
          ],
          "contourcarpet": [
           {
            "colorbar": {
             "outlinewidth": 0,
             "ticks": ""
            },
            "type": "contourcarpet"
           }
          ],
          "heatmap": [
           {
            "colorbar": {
             "outlinewidth": 0,
             "ticks": ""
            },
            "colorscale": [
             [
              0,
              "#0d0887"
             ],
             [
              0.1111111111111111,
              "#46039f"
             ],
             [
              0.2222222222222222,
              "#7201a8"
             ],
             [
              0.3333333333333333,
              "#9c179e"
             ],
             [
              0.4444444444444444,
              "#bd3786"
             ],
             [
              0.5555555555555556,
              "#d8576b"
             ],
             [
              0.6666666666666666,
              "#ed7953"
             ],
             [
              0.7777777777777778,
              "#fb9f3a"
             ],
             [
              0.8888888888888888,
              "#fdca26"
             ],
             [
              1,
              "#f0f921"
             ]
            ],
            "type": "heatmap"
           }
          ],
          "heatmapgl": [
           {
            "colorbar": {
             "outlinewidth": 0,
             "ticks": ""
            },
            "colorscale": [
             [
              0,
              "#0d0887"
             ],
             [
              0.1111111111111111,
              "#46039f"
             ],
             [
              0.2222222222222222,
              "#7201a8"
             ],
             [
              0.3333333333333333,
              "#9c179e"
             ],
             [
              0.4444444444444444,
              "#bd3786"
             ],
             [
              0.5555555555555556,
              "#d8576b"
             ],
             [
              0.6666666666666666,
              "#ed7953"
             ],
             [
              0.7777777777777778,
              "#fb9f3a"
             ],
             [
              0.8888888888888888,
              "#fdca26"
             ],
             [
              1,
              "#f0f921"
             ]
            ],
            "type": "heatmapgl"
           }
          ],
          "histogram": [
           {
            "marker": {
             "pattern": {
              "fillmode": "overlay",
              "size": 10,
              "solidity": 0.2
             }
            },
            "type": "histogram"
           }
          ],
          "histogram2d": [
           {
            "colorbar": {
             "outlinewidth": 0,
             "ticks": ""
            },
            "colorscale": [
             [
              0,
              "#0d0887"
             ],
             [
              0.1111111111111111,
              "#46039f"
             ],
             [
              0.2222222222222222,
              "#7201a8"
             ],
             [
              0.3333333333333333,
              "#9c179e"
             ],
             [
              0.4444444444444444,
              "#bd3786"
             ],
             [
              0.5555555555555556,
              "#d8576b"
             ],
             [
              0.6666666666666666,
              "#ed7953"
             ],
             [
              0.7777777777777778,
              "#fb9f3a"
             ],
             [
              0.8888888888888888,
              "#fdca26"
             ],
             [
              1,
              "#f0f921"
             ]
            ],
            "type": "histogram2d"
           }
          ],
          "histogram2dcontour": [
           {
            "colorbar": {
             "outlinewidth": 0,
             "ticks": ""
            },
            "colorscale": [
             [
              0,
              "#0d0887"
             ],
             [
              0.1111111111111111,
              "#46039f"
             ],
             [
              0.2222222222222222,
              "#7201a8"
             ],
             [
              0.3333333333333333,
              "#9c179e"
             ],
             [
              0.4444444444444444,
              "#bd3786"
             ],
             [
              0.5555555555555556,
              "#d8576b"
             ],
             [
              0.6666666666666666,
              "#ed7953"
             ],
             [
              0.7777777777777778,
              "#fb9f3a"
             ],
             [
              0.8888888888888888,
              "#fdca26"
             ],
             [
              1,
              "#f0f921"
             ]
            ],
            "type": "histogram2dcontour"
           }
          ],
          "mesh3d": [
           {
            "colorbar": {
             "outlinewidth": 0,
             "ticks": ""
            },
            "type": "mesh3d"
           }
          ],
          "parcoords": [
           {
            "line": {
             "colorbar": {
              "outlinewidth": 0,
              "ticks": ""
             }
            },
            "type": "parcoords"
           }
          ],
          "pie": [
           {
            "automargin": true,
            "type": "pie"
           }
          ],
          "scatter": [
           {
            "fillpattern": {
             "fillmode": "overlay",
             "size": 10,
             "solidity": 0.2
            },
            "type": "scatter"
           }
          ],
          "scatter3d": [
           {
            "line": {
             "colorbar": {
              "outlinewidth": 0,
              "ticks": ""
             }
            },
            "marker": {
             "colorbar": {
              "outlinewidth": 0,
              "ticks": ""
             }
            },
            "type": "scatter3d"
           }
          ],
          "scattercarpet": [
           {
            "marker": {
             "colorbar": {
              "outlinewidth": 0,
              "ticks": ""
             }
            },
            "type": "scattercarpet"
           }
          ],
          "scattergeo": [
           {
            "marker": {
             "colorbar": {
              "outlinewidth": 0,
              "ticks": ""
             }
            },
            "type": "scattergeo"
           }
          ],
          "scattergl": [
           {
            "marker": {
             "colorbar": {
              "outlinewidth": 0,
              "ticks": ""
             }
            },
            "type": "scattergl"
           }
          ],
          "scattermapbox": [
           {
            "marker": {
             "colorbar": {
              "outlinewidth": 0,
              "ticks": ""
             }
            },
            "type": "scattermapbox"
           }
          ],
          "scatterpolar": [
           {
            "marker": {
             "colorbar": {
              "outlinewidth": 0,
              "ticks": ""
             }
            },
            "type": "scatterpolar"
           }
          ],
          "scatterpolargl": [
           {
            "marker": {
             "colorbar": {
              "outlinewidth": 0,
              "ticks": ""
             }
            },
            "type": "scatterpolargl"
           }
          ],
          "scatterternary": [
           {
            "marker": {
             "colorbar": {
              "outlinewidth": 0,
              "ticks": ""
             }
            },
            "type": "scatterternary"
           }
          ],
          "surface": [
           {
            "colorbar": {
             "outlinewidth": 0,
             "ticks": ""
            },
            "colorscale": [
             [
              0,
              "#0d0887"
             ],
             [
              0.1111111111111111,
              "#46039f"
             ],
             [
              0.2222222222222222,
              "#7201a8"
             ],
             [
              0.3333333333333333,
              "#9c179e"
             ],
             [
              0.4444444444444444,
              "#bd3786"
             ],
             [
              0.5555555555555556,
              "#d8576b"
             ],
             [
              0.6666666666666666,
              "#ed7953"
             ],
             [
              0.7777777777777778,
              "#fb9f3a"
             ],
             [
              0.8888888888888888,
              "#fdca26"
             ],
             [
              1,
              "#f0f921"
             ]
            ],
            "type": "surface"
           }
          ],
          "table": [
           {
            "cells": {
             "fill": {
              "color": "#EBF0F8"
             },
             "line": {
              "color": "white"
             }
            },
            "header": {
             "fill": {
              "color": "#C8D4E3"
             },
             "line": {
              "color": "white"
             }
            },
            "type": "table"
           }
          ]
         },
         "layout": {
          "annotationdefaults": {
           "arrowcolor": "#2a3f5f",
           "arrowhead": 0,
           "arrowwidth": 1
          },
          "autotypenumbers": "strict",
          "coloraxis": {
           "colorbar": {
            "outlinewidth": 0,
            "ticks": ""
           }
          },
          "colorscale": {
           "diverging": [
            [
             0,
             "#8e0152"
            ],
            [
             0.1,
             "#c51b7d"
            ],
            [
             0.2,
             "#de77ae"
            ],
            [
             0.3,
             "#f1b6da"
            ],
            [
             0.4,
             "#fde0ef"
            ],
            [
             0.5,
             "#f7f7f7"
            ],
            [
             0.6,
             "#e6f5d0"
            ],
            [
             0.7,
             "#b8e186"
            ],
            [
             0.8,
             "#7fbc41"
            ],
            [
             0.9,
             "#4d9221"
            ],
            [
             1,
             "#276419"
            ]
           ],
           "sequential": [
            [
             0,
             "#0d0887"
            ],
            [
             0.1111111111111111,
             "#46039f"
            ],
            [
             0.2222222222222222,
             "#7201a8"
            ],
            [
             0.3333333333333333,
             "#9c179e"
            ],
            [
             0.4444444444444444,
             "#bd3786"
            ],
            [
             0.5555555555555556,
             "#d8576b"
            ],
            [
             0.6666666666666666,
             "#ed7953"
            ],
            [
             0.7777777777777778,
             "#fb9f3a"
            ],
            [
             0.8888888888888888,
             "#fdca26"
            ],
            [
             1,
             "#f0f921"
            ]
           ],
           "sequentialminus": [
            [
             0,
             "#0d0887"
            ],
            [
             0.1111111111111111,
             "#46039f"
            ],
            [
             0.2222222222222222,
             "#7201a8"
            ],
            [
             0.3333333333333333,
             "#9c179e"
            ],
            [
             0.4444444444444444,
             "#bd3786"
            ],
            [
             0.5555555555555556,
             "#d8576b"
            ],
            [
             0.6666666666666666,
             "#ed7953"
            ],
            [
             0.7777777777777778,
             "#fb9f3a"
            ],
            [
             0.8888888888888888,
             "#fdca26"
            ],
            [
             1,
             "#f0f921"
            ]
           ]
          },
          "colorway": [
           "#636efa",
           "#EF553B",
           "#00cc96",
           "#ab63fa",
           "#FFA15A",
           "#19d3f3",
           "#FF6692",
           "#B6E880",
           "#FF97FF",
           "#FECB52"
          ],
          "font": {
           "color": "#2a3f5f"
          },
          "geo": {
           "bgcolor": "white",
           "lakecolor": "white",
           "landcolor": "#E5ECF6",
           "showlakes": true,
           "showland": true,
           "subunitcolor": "white"
          },
          "hoverlabel": {
           "align": "left"
          },
          "hovermode": "closest",
          "mapbox": {
           "style": "light"
          },
          "paper_bgcolor": "white",
          "plot_bgcolor": "#E5ECF6",
          "polar": {
           "angularaxis": {
            "gridcolor": "white",
            "linecolor": "white",
            "ticks": ""
           },
           "bgcolor": "#E5ECF6",
           "radialaxis": {
            "gridcolor": "white",
            "linecolor": "white",
            "ticks": ""
           }
          },
          "scene": {
           "xaxis": {
            "backgroundcolor": "#E5ECF6",
            "gridcolor": "white",
            "gridwidth": 2,
            "linecolor": "white",
            "showbackground": true,
            "ticks": "",
            "zerolinecolor": "white"
           },
           "yaxis": {
            "backgroundcolor": "#E5ECF6",
            "gridcolor": "white",
            "gridwidth": 2,
            "linecolor": "white",
            "showbackground": true,
            "ticks": "",
            "zerolinecolor": "white"
           },
           "zaxis": {
            "backgroundcolor": "#E5ECF6",
            "gridcolor": "white",
            "gridwidth": 2,
            "linecolor": "white",
            "showbackground": true,
            "ticks": "",
            "zerolinecolor": "white"
           }
          },
          "shapedefaults": {
           "line": {
            "color": "#2a3f5f"
           }
          },
          "ternary": {
           "aaxis": {
            "gridcolor": "white",
            "linecolor": "white",
            "ticks": ""
           },
           "baxis": {
            "gridcolor": "white",
            "linecolor": "white",
            "ticks": ""
           },
           "bgcolor": "#E5ECF6",
           "caxis": {
            "gridcolor": "white",
            "linecolor": "white",
            "ticks": ""
           }
          },
          "title": {
           "x": 0.05
          },
          "xaxis": {
           "automargin": true,
           "gridcolor": "white",
           "linecolor": "white",
           "ticks": "",
           "title": {
            "standoff": 15
           },
           "zerolinecolor": "white",
           "zerolinewidth": 2
          },
          "yaxis": {
           "automargin": true,
           "gridcolor": "white",
           "linecolor": "white",
           "ticks": "",
           "title": {
            "standoff": 15
           },
           "zerolinecolor": "white",
           "zerolinewidth": 2
          }
         }
        },
        "title": {
         "text": "Non-Cancelled Users by State"
        }
       }
      }
     },
     "metadata": {},
     "output_type": "display_data"
    }
   ],
   "source": [
    "state_heat(user_by_state[noncancel_filter], title=\"Non-Cancelled Users by State\")"
   ]
  },
  {
   "cell_type": "markdown",
   "metadata": {},
   "source": [
    "user_by_state"
   ]
  },
  {
   "cell_type": "code",
   "execution_count": 18,
   "metadata": {},
   "outputs": [
    {
     "data": {
      "text/html": [
       "<div>\n",
       "<style scoped>\n",
       "    .dataframe tbody tr th:only-of-type {\n",
       "        vertical-align: middle;\n",
       "    }\n",
       "\n",
       "    .dataframe tbody tr th {\n",
       "        vertical-align: top;\n",
       "    }\n",
       "\n",
       "    .dataframe thead th {\n",
       "        text-align: right;\n",
       "    }\n",
       "</style>\n",
       "<table border=\"1\" class=\"dataframe\">\n",
       "  <thead>\n",
       "    <tr style=\"text-align: right;\">\n",
       "      <th></th>\n",
       "      <th>total_count</th>\n",
       "      <th>cancellation_count</th>\n",
       "      <th>churn_percentage</th>\n",
       "    </tr>\n",
       "  </thead>\n",
       "  <tbody>\n",
       "    <tr>\n",
       "      <th>count</th>\n",
       "      <td>39.000000</td>\n",
       "      <td>39.000000</td>\n",
       "      <td>39.000000</td>\n",
       "    </tr>\n",
       "    <tr>\n",
       "      <th>mean</th>\n",
       "      <td>5.769231</td>\n",
       "      <td>1.333333</td>\n",
       "      <td>2.564103</td>\n",
       "    </tr>\n",
       "    <tr>\n",
       "      <th>std</th>\n",
       "      <td>6.076103</td>\n",
       "      <td>1.401753</td>\n",
       "      <td>2.695679</td>\n",
       "    </tr>\n",
       "    <tr>\n",
       "      <th>min</th>\n",
       "      <td>1.000000</td>\n",
       "      <td>0.000000</td>\n",
       "      <td>0.000000</td>\n",
       "    </tr>\n",
       "    <tr>\n",
       "      <th>25%</th>\n",
       "      <td>2.000000</td>\n",
       "      <td>0.000000</td>\n",
       "      <td>0.000000</td>\n",
       "    </tr>\n",
       "    <tr>\n",
       "      <th>50%</th>\n",
       "      <td>4.000000</td>\n",
       "      <td>1.000000</td>\n",
       "      <td>1.923077</td>\n",
       "    </tr>\n",
       "    <tr>\n",
       "      <th>75%</th>\n",
       "      <td>7.000000</td>\n",
       "      <td>2.000000</td>\n",
       "      <td>3.846154</td>\n",
       "    </tr>\n",
       "    <tr>\n",
       "      <th>max</th>\n",
       "      <td>33.000000</td>\n",
       "      <td>6.000000</td>\n",
       "      <td>11.538462</td>\n",
       "    </tr>\n",
       "  </tbody>\n",
       "</table>\n",
       "</div>"
      ],
      "text/plain": [
       "       total_count  cancellation_count  churn_percentage\n",
       "count    39.000000           39.000000         39.000000\n",
       "mean      5.769231            1.333333          2.564103\n",
       "std       6.076103            1.401753          2.695679\n",
       "min       1.000000            0.000000          0.000000\n",
       "25%       2.000000            0.000000          0.000000\n",
       "50%       4.000000            1.000000          1.923077\n",
       "75%       7.000000            2.000000          3.846154\n",
       "max      33.000000            6.000000         11.538462"
      ]
     },
     "execution_count": 18,
     "metadata": {},
     "output_type": "execute_result"
    }
   ],
   "source": [
    "# Calculate Churn Pecentage By State\n",
    "def churn_by_state(df):\n",
    "    grouped_df = df.groupby(\"state\")[\"count\"].agg(\n",
    "        total_count=\"sum\",\n",
    "        cancellation_count=lambda x: (x * df.loc[x.index, \"cancel_flag\"]).sum(),\n",
    "    )\n",
    "    grouped_df[\"churn_percentage\"] = (\n",
    "        grouped_df[\"cancellation_count\"] / grouped_df[\"cancellation_count\"].sum()\n",
    "    ) * 100\n",
    "    return grouped_df\n",
    "\n",
    "\n",
    "churn_by_state_df = churn_by_state(user_by_state)\n",
    "\n",
    "churn_by_state_df.sort_values(\"churn_percentage\", ascending=False).describe()"
   ]
  },
  {
   "cell_type": "code",
   "execution_count": 19,
   "metadata": {},
   "outputs": [
    {
     "data": {
      "application/vnd.plotly.v1+json": {
       "config": {
        "plotlyServerURL": "https://plot.ly"
       },
       "data": [
        {
         "coloraxis": "coloraxis",
         "geo": "geo",
         "hovertemplate": "locations=%{location}<br>color=%{z}<extra></extra>",
         "locationmode": "USA-states",
         "locations": [
          "AK",
          "AL",
          "AR",
          "AZ",
          "CA",
          "CO",
          "CT",
          "FL",
          "GA",
          "IA",
          "ID",
          "IL",
          "IN",
          "KS",
          "KY",
          "LA",
          "MA",
          "MD",
          "MI",
          "MO",
          "MS",
          "MT",
          "NC",
          "NH",
          "NJ",
          "NV",
          "NY",
          "OH",
          "OK",
          "OR",
          "PA",
          "SC",
          "TN",
          "TX",
          "UT",
          "VA",
          "WA",
          "WI",
          "WV"
         ],
         "name": "",
         "type": "choropleth",
         "z": [
          0,
          3.8461538461538463,
          3.8461538461538463,
          3.8461538461538463,
          11.538461538461538,
          3.8461538461538463,
          0,
          5.769230769230769,
          0,
          0,
          0,
          1.9230769230769231,
          1.9230769230769231,
          1.9230769230769231,
          3.8461538461538463,
          1.9230769230769231,
          0,
          5.769230769230769,
          5.769230769230769,
          1.9230769230769231,
          3.8461538461538463,
          1.9230769230769231,
          3.8461538461538463,
          0,
          0,
          0,
          1.9230769230769231,
          3.8461538461538463,
          0,
          1.9230769230769231,
          9.615384615384617,
          1.9230769230769231,
          0,
          5.769230769230769,
          0,
          0,
          3.8461538461538463,
          1.9230769230769231,
          1.9230769230769231
         ]
        }
       ],
       "layout": {
        "coloraxis": {
         "colorbar": {
          "title": {
           "text": "color"
          }
         },
         "colorscale": [
          [
           0,
           "#0d0887"
          ],
          [
           0.1111111111111111,
           "#46039f"
          ],
          [
           0.2222222222222222,
           "#7201a8"
          ],
          [
           0.3333333333333333,
           "#9c179e"
          ],
          [
           0.4444444444444444,
           "#bd3786"
          ],
          [
           0.5555555555555556,
           "#d8576b"
          ],
          [
           0.6666666666666666,
           "#ed7953"
          ],
          [
           0.7777777777777778,
           "#fb9f3a"
          ],
          [
           0.8888888888888888,
           "#fdca26"
          ],
          [
           1,
           "#f0f921"
          ]
         ]
        },
        "geo": {
         "center": {},
         "domain": {
          "x": [
           0,
           1
          ],
          "y": [
           0,
           1
          ]
         },
         "scope": "usa"
        },
        "legend": {
         "tracegroupgap": 0
        },
        "template": {
         "data": {
          "bar": [
           {
            "error_x": {
             "color": "#2a3f5f"
            },
            "error_y": {
             "color": "#2a3f5f"
            },
            "marker": {
             "line": {
              "color": "#E5ECF6",
              "width": 0.5
             },
             "pattern": {
              "fillmode": "overlay",
              "size": 10,
              "solidity": 0.2
             }
            },
            "type": "bar"
           }
          ],
          "barpolar": [
           {
            "marker": {
             "line": {
              "color": "#E5ECF6",
              "width": 0.5
             },
             "pattern": {
              "fillmode": "overlay",
              "size": 10,
              "solidity": 0.2
             }
            },
            "type": "barpolar"
           }
          ],
          "carpet": [
           {
            "aaxis": {
             "endlinecolor": "#2a3f5f",
             "gridcolor": "white",
             "linecolor": "white",
             "minorgridcolor": "white",
             "startlinecolor": "#2a3f5f"
            },
            "baxis": {
             "endlinecolor": "#2a3f5f",
             "gridcolor": "white",
             "linecolor": "white",
             "minorgridcolor": "white",
             "startlinecolor": "#2a3f5f"
            },
            "type": "carpet"
           }
          ],
          "choropleth": [
           {
            "colorbar": {
             "outlinewidth": 0,
             "ticks": ""
            },
            "type": "choropleth"
           }
          ],
          "contour": [
           {
            "colorbar": {
             "outlinewidth": 0,
             "ticks": ""
            },
            "colorscale": [
             [
              0,
              "#0d0887"
             ],
             [
              0.1111111111111111,
              "#46039f"
             ],
             [
              0.2222222222222222,
              "#7201a8"
             ],
             [
              0.3333333333333333,
              "#9c179e"
             ],
             [
              0.4444444444444444,
              "#bd3786"
             ],
             [
              0.5555555555555556,
              "#d8576b"
             ],
             [
              0.6666666666666666,
              "#ed7953"
             ],
             [
              0.7777777777777778,
              "#fb9f3a"
             ],
             [
              0.8888888888888888,
              "#fdca26"
             ],
             [
              1,
              "#f0f921"
             ]
            ],
            "type": "contour"
           }
          ],
          "contourcarpet": [
           {
            "colorbar": {
             "outlinewidth": 0,
             "ticks": ""
            },
            "type": "contourcarpet"
           }
          ],
          "heatmap": [
           {
            "colorbar": {
             "outlinewidth": 0,
             "ticks": ""
            },
            "colorscale": [
             [
              0,
              "#0d0887"
             ],
             [
              0.1111111111111111,
              "#46039f"
             ],
             [
              0.2222222222222222,
              "#7201a8"
             ],
             [
              0.3333333333333333,
              "#9c179e"
             ],
             [
              0.4444444444444444,
              "#bd3786"
             ],
             [
              0.5555555555555556,
              "#d8576b"
             ],
             [
              0.6666666666666666,
              "#ed7953"
             ],
             [
              0.7777777777777778,
              "#fb9f3a"
             ],
             [
              0.8888888888888888,
              "#fdca26"
             ],
             [
              1,
              "#f0f921"
             ]
            ],
            "type": "heatmap"
           }
          ],
          "heatmapgl": [
           {
            "colorbar": {
             "outlinewidth": 0,
             "ticks": ""
            },
            "colorscale": [
             [
              0,
              "#0d0887"
             ],
             [
              0.1111111111111111,
              "#46039f"
             ],
             [
              0.2222222222222222,
              "#7201a8"
             ],
             [
              0.3333333333333333,
              "#9c179e"
             ],
             [
              0.4444444444444444,
              "#bd3786"
             ],
             [
              0.5555555555555556,
              "#d8576b"
             ],
             [
              0.6666666666666666,
              "#ed7953"
             ],
             [
              0.7777777777777778,
              "#fb9f3a"
             ],
             [
              0.8888888888888888,
              "#fdca26"
             ],
             [
              1,
              "#f0f921"
             ]
            ],
            "type": "heatmapgl"
           }
          ],
          "histogram": [
           {
            "marker": {
             "pattern": {
              "fillmode": "overlay",
              "size": 10,
              "solidity": 0.2
             }
            },
            "type": "histogram"
           }
          ],
          "histogram2d": [
           {
            "colorbar": {
             "outlinewidth": 0,
             "ticks": ""
            },
            "colorscale": [
             [
              0,
              "#0d0887"
             ],
             [
              0.1111111111111111,
              "#46039f"
             ],
             [
              0.2222222222222222,
              "#7201a8"
             ],
             [
              0.3333333333333333,
              "#9c179e"
             ],
             [
              0.4444444444444444,
              "#bd3786"
             ],
             [
              0.5555555555555556,
              "#d8576b"
             ],
             [
              0.6666666666666666,
              "#ed7953"
             ],
             [
              0.7777777777777778,
              "#fb9f3a"
             ],
             [
              0.8888888888888888,
              "#fdca26"
             ],
             [
              1,
              "#f0f921"
             ]
            ],
            "type": "histogram2d"
           }
          ],
          "histogram2dcontour": [
           {
            "colorbar": {
             "outlinewidth": 0,
             "ticks": ""
            },
            "colorscale": [
             [
              0,
              "#0d0887"
             ],
             [
              0.1111111111111111,
              "#46039f"
             ],
             [
              0.2222222222222222,
              "#7201a8"
             ],
             [
              0.3333333333333333,
              "#9c179e"
             ],
             [
              0.4444444444444444,
              "#bd3786"
             ],
             [
              0.5555555555555556,
              "#d8576b"
             ],
             [
              0.6666666666666666,
              "#ed7953"
             ],
             [
              0.7777777777777778,
              "#fb9f3a"
             ],
             [
              0.8888888888888888,
              "#fdca26"
             ],
             [
              1,
              "#f0f921"
             ]
            ],
            "type": "histogram2dcontour"
           }
          ],
          "mesh3d": [
           {
            "colorbar": {
             "outlinewidth": 0,
             "ticks": ""
            },
            "type": "mesh3d"
           }
          ],
          "parcoords": [
           {
            "line": {
             "colorbar": {
              "outlinewidth": 0,
              "ticks": ""
             }
            },
            "type": "parcoords"
           }
          ],
          "pie": [
           {
            "automargin": true,
            "type": "pie"
           }
          ],
          "scatter": [
           {
            "fillpattern": {
             "fillmode": "overlay",
             "size": 10,
             "solidity": 0.2
            },
            "type": "scatter"
           }
          ],
          "scatter3d": [
           {
            "line": {
             "colorbar": {
              "outlinewidth": 0,
              "ticks": ""
             }
            },
            "marker": {
             "colorbar": {
              "outlinewidth": 0,
              "ticks": ""
             }
            },
            "type": "scatter3d"
           }
          ],
          "scattercarpet": [
           {
            "marker": {
             "colorbar": {
              "outlinewidth": 0,
              "ticks": ""
             }
            },
            "type": "scattercarpet"
           }
          ],
          "scattergeo": [
           {
            "marker": {
             "colorbar": {
              "outlinewidth": 0,
              "ticks": ""
             }
            },
            "type": "scattergeo"
           }
          ],
          "scattergl": [
           {
            "marker": {
             "colorbar": {
              "outlinewidth": 0,
              "ticks": ""
             }
            },
            "type": "scattergl"
           }
          ],
          "scattermapbox": [
           {
            "marker": {
             "colorbar": {
              "outlinewidth": 0,
              "ticks": ""
             }
            },
            "type": "scattermapbox"
           }
          ],
          "scatterpolar": [
           {
            "marker": {
             "colorbar": {
              "outlinewidth": 0,
              "ticks": ""
             }
            },
            "type": "scatterpolar"
           }
          ],
          "scatterpolargl": [
           {
            "marker": {
             "colorbar": {
              "outlinewidth": 0,
              "ticks": ""
             }
            },
            "type": "scatterpolargl"
           }
          ],
          "scatterternary": [
           {
            "marker": {
             "colorbar": {
              "outlinewidth": 0,
              "ticks": ""
             }
            },
            "type": "scatterternary"
           }
          ],
          "surface": [
           {
            "colorbar": {
             "outlinewidth": 0,
             "ticks": ""
            },
            "colorscale": [
             [
              0,
              "#0d0887"
             ],
             [
              0.1111111111111111,
              "#46039f"
             ],
             [
              0.2222222222222222,
              "#7201a8"
             ],
             [
              0.3333333333333333,
              "#9c179e"
             ],
             [
              0.4444444444444444,
              "#bd3786"
             ],
             [
              0.5555555555555556,
              "#d8576b"
             ],
             [
              0.6666666666666666,
              "#ed7953"
             ],
             [
              0.7777777777777778,
              "#fb9f3a"
             ],
             [
              0.8888888888888888,
              "#fdca26"
             ],
             [
              1,
              "#f0f921"
             ]
            ],
            "type": "surface"
           }
          ],
          "table": [
           {
            "cells": {
             "fill": {
              "color": "#EBF0F8"
             },
             "line": {
              "color": "white"
             }
            },
            "header": {
             "fill": {
              "color": "#C8D4E3"
             },
             "line": {
              "color": "white"
             }
            },
            "type": "table"
           }
          ]
         },
         "layout": {
          "annotationdefaults": {
           "arrowcolor": "#2a3f5f",
           "arrowhead": 0,
           "arrowwidth": 1
          },
          "autotypenumbers": "strict",
          "coloraxis": {
           "colorbar": {
            "outlinewidth": 0,
            "ticks": ""
           }
          },
          "colorscale": {
           "diverging": [
            [
             0,
             "#8e0152"
            ],
            [
             0.1,
             "#c51b7d"
            ],
            [
             0.2,
             "#de77ae"
            ],
            [
             0.3,
             "#f1b6da"
            ],
            [
             0.4,
             "#fde0ef"
            ],
            [
             0.5,
             "#f7f7f7"
            ],
            [
             0.6,
             "#e6f5d0"
            ],
            [
             0.7,
             "#b8e186"
            ],
            [
             0.8,
             "#7fbc41"
            ],
            [
             0.9,
             "#4d9221"
            ],
            [
             1,
             "#276419"
            ]
           ],
           "sequential": [
            [
             0,
             "#0d0887"
            ],
            [
             0.1111111111111111,
             "#46039f"
            ],
            [
             0.2222222222222222,
             "#7201a8"
            ],
            [
             0.3333333333333333,
             "#9c179e"
            ],
            [
             0.4444444444444444,
             "#bd3786"
            ],
            [
             0.5555555555555556,
             "#d8576b"
            ],
            [
             0.6666666666666666,
             "#ed7953"
            ],
            [
             0.7777777777777778,
             "#fb9f3a"
            ],
            [
             0.8888888888888888,
             "#fdca26"
            ],
            [
             1,
             "#f0f921"
            ]
           ],
           "sequentialminus": [
            [
             0,
             "#0d0887"
            ],
            [
             0.1111111111111111,
             "#46039f"
            ],
            [
             0.2222222222222222,
             "#7201a8"
            ],
            [
             0.3333333333333333,
             "#9c179e"
            ],
            [
             0.4444444444444444,
             "#bd3786"
            ],
            [
             0.5555555555555556,
             "#d8576b"
            ],
            [
             0.6666666666666666,
             "#ed7953"
            ],
            [
             0.7777777777777778,
             "#fb9f3a"
            ],
            [
             0.8888888888888888,
             "#fdca26"
            ],
            [
             1,
             "#f0f921"
            ]
           ]
          },
          "colorway": [
           "#636efa",
           "#EF553B",
           "#00cc96",
           "#ab63fa",
           "#FFA15A",
           "#19d3f3",
           "#FF6692",
           "#B6E880",
           "#FF97FF",
           "#FECB52"
          ],
          "font": {
           "color": "#2a3f5f"
          },
          "geo": {
           "bgcolor": "white",
           "lakecolor": "white",
           "landcolor": "#E5ECF6",
           "showlakes": true,
           "showland": true,
           "subunitcolor": "white"
          },
          "hoverlabel": {
           "align": "left"
          },
          "hovermode": "closest",
          "mapbox": {
           "style": "light"
          },
          "paper_bgcolor": "white",
          "plot_bgcolor": "#E5ECF6",
          "polar": {
           "angularaxis": {
            "gridcolor": "white",
            "linecolor": "white",
            "ticks": ""
           },
           "bgcolor": "#E5ECF6",
           "radialaxis": {
            "gridcolor": "white",
            "linecolor": "white",
            "ticks": ""
           }
          },
          "scene": {
           "xaxis": {
            "backgroundcolor": "#E5ECF6",
            "gridcolor": "white",
            "gridwidth": 2,
            "linecolor": "white",
            "showbackground": true,
            "ticks": "",
            "zerolinecolor": "white"
           },
           "yaxis": {
            "backgroundcolor": "#E5ECF6",
            "gridcolor": "white",
            "gridwidth": 2,
            "linecolor": "white",
            "showbackground": true,
            "ticks": "",
            "zerolinecolor": "white"
           },
           "zaxis": {
            "backgroundcolor": "#E5ECF6",
            "gridcolor": "white",
            "gridwidth": 2,
            "linecolor": "white",
            "showbackground": true,
            "ticks": "",
            "zerolinecolor": "white"
           }
          },
          "shapedefaults": {
           "line": {
            "color": "#2a3f5f"
           }
          },
          "ternary": {
           "aaxis": {
            "gridcolor": "white",
            "linecolor": "white",
            "ticks": ""
           },
           "baxis": {
            "gridcolor": "white",
            "linecolor": "white",
            "ticks": ""
           },
           "bgcolor": "#E5ECF6",
           "caxis": {
            "gridcolor": "white",
            "linecolor": "white",
            "ticks": ""
           }
          },
          "title": {
           "x": 0.05
          },
          "xaxis": {
           "automargin": true,
           "gridcolor": "white",
           "linecolor": "white",
           "ticks": "",
           "title": {
            "standoff": 15
           },
           "zerolinecolor": "white",
           "zerolinewidth": 2
          },
          "yaxis": {
           "automargin": true,
           "gridcolor": "white",
           "linecolor": "white",
           "ticks": "",
           "title": {
            "standoff": 15
           },
           "zerolinecolor": "white",
           "zerolinewidth": 2
          }
         }
        },
        "title": {
         "text": "Churn Percentage By State"
        }
       }
      }
     },
     "metadata": {},
     "output_type": "display_data"
    }
   ],
   "source": [
    "state_heat(\n",
    "    churn_by_state_df.reset_index(),\n",
    "    value_col=\"churn_percentage\",\n",
    "    title=\"Churn Percentage By State\",\n",
    ")"
   ]
  },
  {
   "cell_type": "code",
   "execution_count": 20,
   "metadata": {},
   "outputs": [],
   "source": [
    "assert (\n",
    "    user_by_state[[\"state\", \"count\"]].groupby(\"state\").sum()[\"count\"].tolist()\n",
    "    == churn_by_state(user_by_state)[\"total_count\"].tolist()\n",
    ")"
   ]
  },
  {
   "cell_type": "markdown",
   "metadata": {},
   "source": [
    "## Churn By Browser"
   ]
  },
  {
   "cell_type": "code",
   "execution_count": 27,
   "metadata": {},
   "outputs": [
    {
     "name": "stderr",
     "output_type": "stream",
     "text": [
      "[Stage 49:>                                                       (0 + 12) / 12]\r"
     ]
    },
    {
     "name": "stdout",
     "output_type": "stream",
     "text": [
      "+-------------+--------+\n",
      "|      browser|  device|\n",
      "+-------------+--------+\n",
      "|Mobile Safari|     iOS|\n",
      "|       Chrome|Mac OS X|\n",
      "|       Chrome|   Linux|\n",
      "|      Firefox|   Linux|\n",
      "|           IE| Windows|\n",
      "|       Chrome| Windows|\n",
      "|      Firefox|Mac OS X|\n",
      "|       Safari|Mac OS X|\n",
      "|        Other|   Other|\n",
      "|      Firefox| Windows|\n",
      "|      Firefox|  Ubuntu|\n",
      "+-------------+--------+\n",
      "\n"
     ]
    },
    {
     "name": "stderr",
     "output_type": "stream",
     "text": [
      "                                                                                \r"
     ]
    }
   ],
   "source": [
    "from pyspark.sql.functions import udf\n",
    "from pyspark.sql.types import StringType\n",
    "\n",
    "\n",
    "def ua_check(sdf):\n",
    "    from ua_parser import user_agent_parser\n",
    "\n",
    "    def device_check(ua):\n",
    "        if ua:\n",
    "            ua = ua.replace(\"\\\\\", \"\")\n",
    "            parsed_string = user_agent_parser.Parse(ua)\n",
    "            return parsed_string[\"os\"][\"family\"]\n",
    "        else:\n",
    "            return \"Other\"\n",
    "\n",
    "    def browser_check(ua):\n",
    "        if ua:\n",
    "            ua = ua.replace(\"\\\\\", \"\")\n",
    "            parsed_string = user_agent_parser.Parse(ua)\n",
    "            return parsed_string[\"user_agent\"][\"family\"]\n",
    "        else:\n",
    "            return \"Other\"\n",
    "\n",
    "    device_check_udf = udf(device_check, StringType())\n",
    "    browse_brand_udf = udf(browser_check, StringType())\n",
    "\n",
    "    sdf = sdf.withColumn(\"device\", device_check_udf (sdf[\"userAgent\"]))\n",
    "    sdf = sdf.withColumn(\"browser\", browse_brand_udf(sdf[\"userAgent\"]))\n",
    "\n",
    "    return sdf\n",
    "\n",
    "\n",
    "psdf = ua_check(psdf)\n",
    "\n",
    "psdf[[\"browser\", \"device\"]].distinct().show()"
   ]
  },
  {
   "cell_type": "code",
   "execution_count": 49,
   "metadata": {},
   "outputs": [
    {
     "name": "stderr",
     "output_type": "stream",
     "text": [
      "                                                                                \r"
     ]
    },
    {
     "data": {
      "image/png": "[encoded data removed]",
      "text/plain": [
       "<Figure size 640x480 with 1 Axes>"
      ]
     },
     "metadata": {},
     "output_type": "display_data"
    }
   ],
   "source": [
    "browser_device_cancel = psdf[[\"browser\", \"device\", \"cancel_flag\"]].toPandas()\n",
    "\n",
    "\n",
    "browser_device_cancel = browser_device_cancel.value_counts().reset_index()\n",
    "\n",
    "\n",
    "sns.barplot(data=browser_device_cancel, x=\"browser\", y=\"count\", hue=\"cancel_flag\")\n",
    "plt.show()"
   ]
  },
  {
   "cell_type": "code",
   "execution_count": 50,
   "metadata": {},
   "outputs": [
    {
     "data": {
      "text/plain": [
       "<Axes: xlabel='device', ylabel='count'>"
      ]
     },
     "execution_count": 50,
     "metadata": {},
     "output_type": "execute_result"
    },
    {
     "data": {
      "image/png": "[encoded data removed]",
      "text/plain": [
       "<Figure size 640x480 with 1 Axes>"
      ]
     },
     "metadata": {},
     "output_type": "display_data"
    }
   ],
   "source": [
    "sns.barplot(data=browser_device_cancel, x='device', y='count', hue='cancel_flag')"
   ]
  },
  {
   "cell_type": "code",
   "execution_count": null,
   "metadata": {},
   "outputs": [],
   "source": []
  },
  {
   "cell_type": "markdown",
   "metadata": {},
   "source": [
    "## Pages"
   ]
  },
  {
   "cell_type": "code",
   "execution_count": null,
   "metadata": {},
   "outputs": [],
   "source": [
    "cancel_pages_df = (\n",
    "    psdf.filter(col(\"cancel_flag\") == 1)\n",
    "    .groupBy(\"page\")\n",
    "    .count()\n",
    "    .orderBy(col(\"count\").desc())\n",
    "    .toPandas()\n",
    ")\n",
    "\n",
    "non_cancel_pages_df = (\n",
    "    psdf.filter(col(\"cancel_flag\") == 0)\n",
    "    .groupBy(\"page\")\n",
    "    .count()\n",
    "    .orderBy(col(\"count\").desc())\n",
    "    .toPandas()\n",
    ")\n",
    "\n",
    "\n",
    "pages_df = pd.merge(cancel_pages_df, non_cancel_pages_df, on=\"page\")\n",
    "\n",
    "pages_df.rename(\n",
    "    columns={\"count_x\": \"cancelled\", \"count_y\": \"not_cancelled\"}, inplace=True\n",
    ")\n",
    "\n",
    "\n",
    "pages_df[\"total\"] = pages_df[\"cancelled\"] + pages_df[\"not_cancelled\"]\n",
    "pages_df[\"percentage_from_cancelled\"] = pages_df[\"cancelled\"] / pages_df[\"total\"]\n",
    "\n",
    "pages_df"
   ]
  },
  {
   "cell_type": "code",
   "execution_count": null,
   "metadata": {},
   "outputs": [],
   "source": [
    "sum_user_page_counts = (\n",
    "    psdf.dropna(subset=\"userId\")\n",
    "    .select([\"page\", \"cancel_flag\", \"userId\", \"level\"])\n",
    "    .toPandas()\n",
    ")\n",
    "\n",
    "sum_user_page_counts_df = (\n",
    "    sum_user_page_counts.groupby([\"cancel_flag\", \"userId\", \"level\"])\n",
    "    .agg(sum_page_visits=(\"page\", \"count\"))\n",
    "    .reset_index()\n",
    ")\n",
    "\n",
    "avg_user_page_counts = (\n",
    "    sum_user_page_counts_df.groupby([\"cancel_flag\", \"level\"])\n",
    "    .agg(mean_page_visits=(\"sum_page_visits\", \"mean\"))\n",
    "    .reset_index()\n",
    ")\n",
    "\n",
    "avg_user_page_counts\n",
    "chart = sns.catplot(\n",
    "    kind=\"bar\",\n",
    "    data=avg_user_page_counts,\n",
    "    x=\"level\",\n",
    "    y=\"mean_page_visits\",\n",
    "    hue=\"cancel_flag\",\n",
    "    errorbar=\"sd\",\n",
    "    palette=\"husl\",\n",
    "    alpha=0.6,\n",
    "    height=6,\n",
    ")\n",
    "\n",
    "chart.despine(left=False)\n",
    "plt.grid(axis=\"y\")\n",
    "plt.title(\"Total Page Visits by Cancelled User \")\n",
    "plt.show()"
   ]
  },
  {
   "cell_type": "code",
   "execution_count": null,
   "metadata": {},
   "outputs": [],
   "source": [
    "sum_user_page_counts = (\n",
    "    psdf.dropna(subset=\"userId\")\n",
    "    .filter(col(\"page\") == \"NextSong\")\n",
    "    .select([\"page\", \"cancel_flag\", \"userId\", \"level\"])\n",
    "    .toPandas()\n",
    ")\n",
    "\n",
    "sum_user_page_counts_df = (\n",
    "    sum_user_page_counts.groupby([\"cancel_flag\", \"userId\", \"level\"])\n",
    "    .agg(sum_page_visits=(\"page\", \"count\"))\n",
    "    .reset_index()\n",
    ")\n",
    "\n",
    "avg_user_page_counts = (\n",
    "    sum_user_page_counts_df.groupby([\"cancel_flag\", \"level\"])\n",
    "    .agg(mean_page_visits=(\"sum_page_visits\", \"mean\"))\n",
    "    .reset_index()\n",
    ")\n",
    "\n",
    "avg_user_page_counts\n",
    "chart = sns.catplot(\n",
    "    kind=\"bar\",\n",
    "    data=avg_user_page_counts,\n",
    "    x=\"level\",\n",
    "    y=\"mean_page_visits\",\n",
    "    hue=\"cancel_flag\",\n",
    "    errorbar=\"sd\",\n",
    "    palette=\"husl\",\n",
    "    alpha=0.6,\n",
    "    height=6,\n",
    ")\n",
    "\n",
    "chart.despine(left=False)\n",
    "plt.grid(axis=\"y\")\n",
    "plt.title(\"Total Page Visits by Cancelled User \")\n",
    "plt.show()"
   ]
  },
  {
   "cell_type": "code",
   "execution_count": null,
   "metadata": {},
   "outputs": [],
   "source": [
    "thumbs = [\"Thumbs Up\", \"Thumbs Down\"]\n",
    "sum_user_thumbs = (\n",
    "    psdf.dropna(subset=\"userId\")\n",
    "    .filter(col(\"page\").isin(thumbs))\n",
    "    .select([\"page\", \"cancel_flag\", \"userId\", \"level\"])\n",
    "    .toPandas()\n",
    ")\n",
    "\n",
    "sum_user_thumbs_counts = (\n",
    "    sum_user_thumbs.groupby([\"cancel_flag\", \"userId\", \"level\"])\n",
    "    .agg(sum_thumbs_interactions=(\"page\", \"count\"))\n",
    "    .reset_index()\n",
    ")\n",
    "\n",
    "avg_user_thumbs_counts = (\n",
    "    sum_user_thumbs_counts.groupby([\"cancel_flag\", \"level\"])\n",
    "    .agg(mean_thumbs_interactions=(\"sum_thumbs_interactions\", \"mean\"))\n",
    "    .reset_index()\n",
    ")\n",
    "\n",
    "chart = sns.catplot(\n",
    "    kind=\"bar\",\n",
    "    data=avg_user_thumbs_counts,\n",
    "    x=\"level\",\n",
    "    y=\"mean_thumbs_interactions\",\n",
    "    hue=\"cancel_flag\",\n",
    "    errorbar=\"sd\",\n",
    "    palette=\"husl\",\n",
    "    alpha=0.6,\n",
    "    height=6,\n",
    ")\n",
    "\n",
    "chart.despine(left=False)\n",
    "plt.grid(axis=\"y\")\n",
    "plt.title(\"Total Page Visits by Cancelled User \")\n",
    "plt.show()"
   ]
  },
  {
   "cell_type": "code",
   "execution_count": null,
   "metadata": {},
   "outputs": [],
   "source": [
    "round(avg_user_thumbs_counts)"
   ]
  },
  {
   "cell_type": "markdown",
   "metadata": {},
   "source": [
    "### Unique Counts of Upgrades/Downgrades\n"
   ]
  },
  {
   "cell_type": "code",
   "execution_count": null,
   "metadata": {},
   "outputs": [],
   "source": [
    "service_change = [\n",
    "    \"Downgrade\",\n",
    "    \"Upgrade\",\n",
    "    \"Submit Upgrade\",\n",
    "    \"Submit Downgrade\",\n",
    "    \"Cancel\",\n",
    "    \"Cancellation Confirmation\",\n",
    "]\n",
    "\n",
    "\n",
    "service_change_df = style_df(\n",
    "    psdf[[\"page\", \"cancel_flag\"]]\n",
    "    .filter(col(\"page\").isin(service_change))\n",
    "    .groupBy(\"page\")\n",
    "    .count()\n",
    "    .sort(\"count\", ascending=False)\n",
    "    .toPandas()\n",
    ")\n",
    "\n",
    "# service_change_df.export_png(\"service_change.png\")-\n",
    "service_change_df"
   ]
  },
  {
   "cell_type": "code",
   "execution_count": null,
   "metadata": {},
   "outputs": [],
   "source": [
    "service_change = [\n",
    "    \"Downgrade\",\n",
    "    \"Submit Downgrade\",\n",
    "    \"Cancel\",\n",
    "    \"Cancellation Confirmation\",\n",
    "]\n",
    "\n",
    "\n",
    "service_change_df = (\n",
    "    psdf[[\"page\", \"userId\", \"cancel_flag\"]]\n",
    "    .filter(col(\"page\").isin(service_change))\n",
    "    .toPandas()\n",
    ")\n",
    "\n",
    "service_change_df = service_change_df.groupby(\"userId\").value_counts().reset_index()\n",
    "\n",
    "service_change_df = service_change_df.pivot(\n",
    "    index=\"userId\", columns=\"page\", values=\"count\"\n",
    ").fillna(value=0)\n",
    "\n",
    "\n",
    "# service_change_df[service_change_df['Cancellation Confirmation'] > 0].sum()\n",
    "\n",
    "print(service_change_df)"
   ]
  },
  {
   "cell_type": "code",
   "execution_count": null,
   "metadata": {},
   "outputs": [],
   "source": [
    "service_change_df[service_change_df[\"Submit Downgrade\"] == 1].sort_values(\n",
    "    \"Downgrade\", ascending=False\n",
    ")"
   ]
  },
  {
   "cell_type": "code",
   "execution_count": null,
   "metadata": {},
   "outputs": [],
   "source": [
    "service_change_df"
   ]
  },
  {
   "cell_type": "code",
   "execution_count": null,
   "metadata": {},
   "outputs": [],
   "source": [
    "service_change = [\n",
    "    \"Downgrade\",\n",
    "    \"Submit Downgrade\",\n",
    "    \"Cancel\",\n",
    "    \"Cancellation Confirmation\",\n",
    "]\n",
    "\n",
    "service_change_df = psdf.select(\"page\").distinct().toPandas()\n",
    "service_change_s = service_change_df.squeeze().tolist()\n",
    "\n",
    "service_change_df = (\n",
    "    psdf[[\"page\", \"userId\"]].filter((col(\"page\").isin(service_change))).toPandas()\n",
    ")\n",
    "\n",
    "\n",
    "service_change_df = service_change_df.groupby(\"userId\").value_counts().reset_index()\n",
    "\n",
    "service_change_df = service_change_df.pivot(\n",
    "    index=\"userId\", columns=\"page\", values=\"count\"\n",
    ").fillna(value=0)\n",
    "\n",
    "service_funnel = service_change_df.sum().sort_values(ascending=False)\n",
    "data = dict(stages=service_funnel.keys(), numbers=service_funnel.values)\n",
    "fig = px.funnel(data, x=\"numbers\", y=\"stages\")\n",
    "fig.show()\n",
    "\n",
    "service_change_df"
   ]
  },
  {
   "cell_type": "code",
   "execution_count": null,
   "metadata": {},
   "outputs": [],
   "source": [
    "# Heatmap to show correlation between pages\n",
    "plt.figure(figsize=(8, 6))\n",
    "sns.heatmap(\n",
    "    service_change_df.corr(), annot=True, cmap=\"coolwarm\", fmt=\".2f\", linewidths=0.5\n",
    ")\n",
    "plt.title(\"Downgrade/Cancel Page Correalations\")\n",
    "plt.show()"
   ]
  },
  {
   "cell_type": "code",
   "execution_count": null,
   "metadata": {},
   "outputs": [],
   "source": [
    "temp_df = psdf[[\"artist\"]].toPandas().dropna().value_counts().reset_index()\n",
    "\n",
    "\n",
    "temp_df = temp_df.rename(columns={\"count\": \"song_plays\"})\n",
    "\n",
    "\n",
    "temp_df = temp_df[\"song_plays\"].value_counts().reset_index()\n",
    "temp_df = temp_df[temp_df[\"count\"] > 10]\n",
    "\n",
    "temp_df"
   ]
  },
  {
   "cell_type": "markdown",
   "metadata": {},
   "source": []
  },
  {
   "cell_type": "markdown",
   "metadata": {},
   "source": [
    "## Song Plays Per"
   ]
  },
  {
   "cell_type": "code",
   "execution_count": null,
   "metadata": {},
   "outputs": [],
   "source": [
    "def get_hour(value):\n",
    "    return int(datetime.datetime.fromtimestamp(value / 1000.0).hour)\n",
    "\n",
    "\n",
    "def get_day_of_week(value):\n",
    "    return datetime.datetime.fromtimestamp(value / 1000.0).strftime(\"%A\")\n",
    "\n",
    "\n",
    "get_hour_udf = udf(get_hour, IntegerType())\n",
    "get_day_of_week_udf = udf(get_day_of_week, StringType())\n",
    "\n",
    "psdf = psdf.withColumn(\"hour_of_day\", get_hour_udf(\"ts\"))\n",
    "psdf = psdf.withColumn(\"day_of_week\", get_day_of_week_udf(\"ts\"))"
   ]
  },
  {
   "cell_type": "code",
   "execution_count": null,
   "metadata": {},
   "outputs": [],
   "source": [
    "times_df = (\n",
    "    psdf.dropna(subset=\"userId\")\n",
    "    .filter(col(\"page\") == \"NextSong\")\n",
    "    .select([\"hour_of_day\", \"day_of_week\", \"userId\", \"cancel_flag\"])\n",
    "    .toPandas()\n",
    ")"
   ]
  },
  {
   "cell_type": "code",
   "execution_count": null,
   "metadata": {},
   "outputs": [],
   "source": [
    "sum_day_counts_df = (\n",
    "    times_df.groupby([\"cancel_flag\", \"userId\", \"day_of_week\"])\n",
    "    .agg(sum_page_visits=(\"day_of_week\", \"count\"))\n",
    "    .reset_index()\n",
    ")\n",
    "\n",
    "\n",
    "avg_user_day_song_counts = (\n",
    "    sum_day_counts_df.groupby([\"cancel_flag\", \"day_of_week\"])\n",
    "    .agg(mean_song_listens=(\"sum_page_visits\", \"mean\"))\n",
    "    .reset_index()\n",
    ")\n",
    "\n",
    "weekday_order = [\n",
    "    \"Monday\",\n",
    "    \"Tuesday\",\n",
    "    \"Wednesday\",\n",
    "    \"Thursday\",\n",
    "    \"Friday\",\n",
    "    \"Saturday\",\n",
    "    \"Sunday\",\n",
    "]\n",
    "pd.Categorical(\n",
    "    avg_user_day_song_counts[\"day_of_week\"], categories=weekday_order, ordered=True\n",
    ")\n",
    "\n",
    "\n",
    "sns.barplot(\n",
    "    data=avg_user_day_song_counts,\n",
    "    y=\"mean_song_listens\",\n",
    "    x=\"day_of_week\",\n",
    "    hue=\"cancel_flag\",\n",
    ")\n",
    "plt.show()"
   ]
  },
  {
   "cell_type": "code",
   "execution_count": null,
   "metadata": {},
   "outputs": [],
   "source": [
    "avg_user_day_song_counts"
   ]
  },
  {
   "cell_type": "code",
   "execution_count": null,
   "metadata": {},
   "outputs": [],
   "source": [
    "times_df.groupby([\"cancel_flag\", \"userId\", \"hour_of_day\"]).agg(\n",
    "    sum_hourly_plays=(\"hour_of_day\", \"count\")\n",
    ").reset_index()"
   ]
  },
  {
   "cell_type": "code",
   "execution_count": null,
   "metadata": {},
   "outputs": [],
   "source": [
    "(\n",
    "    times_df.groupby([\"cancel_flag\", \"userId\", \"hour_of_day\"])\n",
    "    .agg(sum_hourly_plays=(\"hour_of_day\", \"count\"))\n",
    "    .reset_index()\n",
    ")"
   ]
  },
  {
   "cell_type": "code",
   "execution_count": null,
   "metadata": {},
   "outputs": [],
   "source": [
    "sum_user_hourly_listens = (\n",
    "    times_df.groupby([\"cancel_flag\", \"userId\", \"hour_of_day\"])\n",
    "    .agg(sum_hourly_listens=(\"hour_of_day\", \"count\"))\n",
    "    .reset_index()\n",
    ")\n",
    "\n",
    "\n",
    "avg_user_hourly_listens = (\n",
    "    sum_user_hourly_listens.groupby([\"cancel_flag\", \"hour_of_day\"])\n",
    "    .agg(mean_hourly_listens=(\"sum_hourly_listens\", \"mean\"))\n",
    "    .reset_index()\n",
    ")\n",
    "\n",
    "\n",
    "sns.barplot(\n",
    "    data=avg_user_hourly_listens,\n",
    "    y=\"mean_hourly_listens\",\n",
    "    x=\"hour_of_day\",\n",
    "    hue=\"cancel_flag\",\n",
    ")"
   ]
  },
  {
   "cell_type": "code",
   "execution_count": null,
   "metadata": {},
   "outputs": [],
   "source": [
    "song_listens = (\n",
    "    psdf.dropna(subset=\"artist\")\n",
    "    .filter(col(\"page\") == \"NextSong\")\n",
    "    .select([\"hour_of_day\", \"day_of_week\", \"cancel_flag\"])\n",
    "    .toPandas()\n",
    "    .value_counts()\n",
    "    .reset_index()\n",
    ")\n",
    "\n",
    "avg_user_hourly_listens_by_day = (\n",
    "    song_listens.groupby([\"day_of_week\", \"hour_of_day\"])\n",
    "    .agg(mean_hourly_listens=(\"count\", \"mean\"))\n",
    "    .reset_index()\n",
    ")\n",
    "\n",
    "\n",
    "sns.relplot(\n",
    "    data=song_listens,\n",
    "    y=\"count\",\n",
    "    x=\"hour_of_day\",\n",
    "    hue=\"day_of_week\",\n",
    "    kind=\"scatter\",\n",
    "    style=\"cancel_flag\",  # You can explore other kinds like 'line' or 'lineplot'\n",
    ")"
   ]
  },
  {
   "cell_type": "code",
   "execution_count": null,
   "metadata": {},
   "outputs": [],
   "source": [
    "songs_listened = psdf.filter(col(\"artist\").isNotNull()).groupBy(col(\"userId\")).count()\n",
    "\n",
    "songs_listened.show()"
   ]
  },
  {
   "cell_type": "markdown",
   "metadata": {},
   "source": [
    "## Page Interactions\n"
   ]
  },
  {
   "cell_type": "code",
   "execution_count": null,
   "metadata": {},
   "outputs": [],
   "source": [
    "page_interactions = [\"Thumbs Up\", \"Add to Playlist\", \"Thumbs Down\", \"Add Friend\"]\n",
    "\n",
    "psdf[[\"userId\"]].filter(\n",
    "    col(\"page\").isin(page_interactions) & ~col(\"userID\").isNull()\n",
    ").toPandas().value_counts().reset_index()"
   ]
  },
  {
   "cell_type": "code",
   "execution_count": null,
   "metadata": {},
   "outputs": [],
   "source": [
    "asddadas"
   ]
  },
  {
   "cell_type": "code",
   "execution_count": null,
   "metadata": {},
   "outputs": [],
   "source": [
    "asddadas"
   ]
  },
  {
   "cell_type": "code",
   "execution_count": null,
   "metadata": {},
   "outputs": [],
   "source": [
    "page_issues = [\"Help\", \"Error\"]\n",
    "\n",
    "psdf[[\"userId\"]].filter(\n",
    "    col(\"page\").isin(page_issues) & ~col(\"userID\").isNull()\n",
    ").toPandas().value_counts().reset_index()"
   ]
  },
  {
   "cell_type": "markdown",
   "metadata": {},
   "source": [
    "# Feature Engineering"
   ]
  },
  {
   "cell_type": "markdown",
   "metadata": {},
   "source": [
    "### Approach\n",
    "<b>Features To Build </b>\n",
    "- Total Songs Listened To\n",
    "- App Page Interactions\n",
    "    - Thumbs Up\n",
    "    - Thumbs Down\n",
    "    - Add Friend\n",
    "    - Add to playlist\n",
    "- Help Page Interactions/Error Page Interactions\n",
    "\n",
    "\n",
    "<b> Key Points </b>\n",
    "- The Feature dataframe will be created based on the userId\n",
    "- Transformations will need to maximize Pyspark capabilities"
   ]
  },
  {
   "cell_type": "code",
   "execution_count": null,
   "metadata": {},
   "outputs": [],
   "source": [
    "clean_psdf.columns"
   ]
  },
  {
   "cell_type": "code",
   "execution_count": null,
   "metadata": {},
   "outputs": [],
   "source": [
    "clean_psdf = psdf.dropna(subset=\"userId\")\n",
    "clean_psdf.createOrReplaceTempView(\"cleaned_user_log\")\n",
    "unique_users = clean_psdf[[\"userId\"]].distinct()\n",
    "\n",
    "clean_psdf = clean_psdf.withColumn(\"ts\", (col(\"ts\") / 1000).cast(\"timestamp\"))\n",
    "\n",
    "# Apply date_format function\n",
    "clean_psdf = clean_psdf.withColumn(\"date\", date_format(col(\"ts\"), \"yyyy-MM-dd\"))\n",
    "\n",
    "# clean_psdf = clean_psdf.withColumn(\"ts\", from_unixtime(col(\"ts\") / 1000))  # Assuming ts is in milliseconds\n",
    "# clean_psdf = psdf.withColumn(\"date\", date_format(col(\"ts\"), \"yyyy-MM-dd\"))"
   ]
  },
  {
   "cell_type": "code",
   "execution_count": null,
   "metadata": {},
   "outputs": [],
   "source": [
    "def handle_missing_users(\n",
    "    sdf: DataFrame, unique_users: DataFrame, fill_value=lit(0)\n",
    ") -> DataFrame:\n",
    "    \"\"\"\n",
    "    Handle missing users in a PySpark DataFrame.\n",
    "\n",
    "    Parameters:\n",
    "    - sdf (DataFrame): PySpark DataFrame representing user data. Should have columns 'userId' and 'featur_name'.\n",
    "    - unique_users (DataFrame): PySpark DataFrame with unique user information.\n",
    "\n",
    "    Returns:\n",
    "    - DataFrame: Updated PySpark DataFrame with filled missing users.\n",
    "    \"\"\"\n",
    "\n",
    "    sdf_user_count = sdf.count()\n",
    "\n",
    "    unique_count = unique_users.count()\n",
    "\n",
    "    if sdf_user_count != unique_count:\n",
    "        print(f\"Missing Values: {unique_count - sdf_user_count}\")\n",
    "        missing_users = unique_users.select(\"userId\").subtract(sdf.select(\"userId\"))\n",
    "        # Since the sdf is only two we rename the column based on sdf's second column\n",
    "        missing_users_sdf = missing_users.withColumn(sdf.columns[1], fill_value)\n",
    "        filled_missing_users = sdf.union(missing_users_sdf)\n",
    "\n",
    "        return filled_missing_users\n",
    "    else:\n",
    "        return sdf"
   ]
  },
  {
   "cell_type": "markdown",
   "metadata": {},
   "source": [
    "## Build Features"
   ]
  },
  {
   "cell_type": "markdown",
   "metadata": {},
   "source": [
    "### Song Counts"
   ]
  },
  {
   "cell_type": "code",
   "execution_count": null,
   "metadata": {},
   "outputs": [],
   "source": [
    "song_counts = (\n",
    "    clean_psdf[[\"userId\", \"artist\"]].dropna(subset=\"artist\").groupBy(\"userId\").count()\n",
    ")\n",
    "song_counts = song_counts.withColumnRenamed(\"count\", \"song_counts\")\n",
    "\n",
    "song_counts = handle_missing_users(song_counts, unique_users)"
   ]
  },
  {
   "cell_type": "code",
   "execution_count": null,
   "metadata": {},
   "outputs": [],
   "source": []
  },
  {
   "cell_type": "markdown",
   "metadata": {},
   "source": [
    "### Distinct Artist"
   ]
  },
  {
   "cell_type": "code",
   "execution_count": null,
   "metadata": {},
   "outputs": [],
   "source": [
    "distinct_artist = (\n",
    "    clean_psdf.filter(clean_psdf[\"artist\"].isNotNull())\n",
    "    .groupBy(\"userId\")\n",
    "    .agg(F.countDistinct(\"artist\").alias(\"distinct_artist\"))\n",
    ")\n",
    "\n",
    "distinct_artist = handle_missing_users(distinct_artist, unique_users)"
   ]
  },
  {
   "cell_type": "markdown",
   "metadata": {},
   "source": [
    "### User Level"
   ]
  },
  {
   "cell_type": "code",
   "execution_count": null,
   "metadata": {},
   "outputs": [],
   "source": [
    "user_level = (\n",
    "    clean_psdf[[\"userId\", \"level\", \"ts\"]]\n",
    "    .orderBy(\"ts\", ascending=False)\n",
    "    .dropDuplicates(subset=[\"userId\"])\n",
    "    .select(\"userId\", \"level\")\n",
    ")\n",
    "\n",
    "level_flag_udf = udf(lambda x: 1 if x == \"paid\" else 0, IntegerType())\n",
    "\n",
    "# one-hot encode\n",
    "user_level = user_level.withColumn(\n",
    "    \"level_flag\", level_flag_udf(user_level[\"level\"])\n",
    ").select(\"userId\", \"level_flag\")\n",
    "\n",
    "user_level = handle_missing_users(user_level, unique_users)"
   ]
  },
  {
   "cell_type": "markdown",
   "metadata": {},
   "source": [
    "### Positive App Usage"
   ]
  },
  {
   "cell_type": "code",
   "execution_count": null,
   "metadata": {},
   "outputs": [],
   "source": [
    "positive_usage_list = [\"Thumbs Up\", \"Thumbs Down\", \"Add Friend\", \"Add to playlist\"]\n",
    "\n",
    "positive_usage = (\n",
    "    clean_psdf[[\"userId\", \"page\"]]\n",
    "    .filter(col(\"page\").isin(positive_usage_list))\n",
    "    .groupBy(\"userId\")\n",
    "    .count()\n",
    ")\n",
    "\n",
    "positive_usage = positive_usage.withColumnRenamed(\"count\", \"pos_interactions\")\n",
    "\n",
    "positive_usage = handle_missing_users(positive_usage, unique_users)"
   ]
  },
  {
   "cell_type": "markdown",
   "metadata": {},
   "source": [
    "### Negative Interactions"
   ]
  },
  {
   "cell_type": "code",
   "execution_count": null,
   "metadata": {},
   "outputs": [],
   "source": [
    "neg_interactions_list = [\"Error\", \"Help\"]\n",
    "\n",
    "neg_interactions = (\n",
    "    clean_psdf[[\"userId\", \"page\"]]\n",
    "    .filter(col(\"page\").isin(neg_interactions_list))\n",
    "    .groupBy(\"userId\")\n",
    "    .count()\n",
    ")\n",
    "\n",
    "neg_interactions = neg_interactions.withColumnRenamed(\"count\", \"neg_interactions\")\n",
    "\n",
    "\n",
    "neg_interactions = handle_missing_users(neg_interactions, unique_users)"
   ]
  },
  {
   "cell_type": "markdown",
   "metadata": {},
   "source": [
    "### Unique Locations"
   ]
  },
  {
   "cell_type": "code",
   "execution_count": null,
   "metadata": {},
   "outputs": [],
   "source": [
    "unique_locations = (\n",
    "    clean_psdf.filter(clean_psdf[\"location\"].isNotNull())\n",
    "    .groupBy(\"userId\")\n",
    "    .agg(F.countDistinct(\"location\").alias(\"unique_locations\"))\n",
    ")\n",
    "\n",
    "\n",
    "unique_locations = handle_missing_users(unique_locations, unique_users)"
   ]
  },
  {
   "cell_type": "markdown",
   "metadata": {},
   "source": [
    "### Avg Daily Listens"
   ]
  },
  {
   "cell_type": "code",
   "execution_count": null,
   "metadata": {},
   "outputs": [],
   "source": [
    "# Calculate the average daily listens per user\n",
    "average_daily_listens = (\n",
    "    clean_psdf.dropna(subset=\"artist\")\n",
    "    .groupBy(\"userId\", \"date\")\n",
    "    .agg(count(\"artist\").alias(\"daily_listens\"))\n",
    ")\n",
    "average_daily_listens = average_daily_listens.groupBy(\"userId\").agg(\n",
    "    {\"daily_listens\": \"avg\"}\n",
    ")\n",
    "\n",
    "average_daily_listens = handle_missing_users(average_daily_listens, unique_users)"
   ]
  },
  {
   "cell_type": "markdown",
   "metadata": {},
   "source": [
    "### Page Counts"
   ]
  },
  {
   "cell_type": "code",
   "execution_count": null,
   "metadata": {},
   "outputs": [],
   "source": [
    "page_filter = [\"Cancel\", \"Cancellation Confirmation\", \"NextSong\"]\n",
    "page_count_df = (\n",
    "    clean_psdf[[\"userId\", \"page\"]]\n",
    "    .filter(~col(\"page\").isin(page_filter))\n",
    "    .toPandas()\n",
    "    .groupby(\"userId\")\n",
    "    .value_counts()\n",
    "    .reset_index()\n",
    "    .pivot(columns=\"page\", values=\"count\", index=\"userId\")\n",
    "    .fillna(int(0))\n",
    ")\n",
    "\n",
    "\n",
    "page_count_corr = page_count_df.corr()\n",
    "\n",
    "sns.heatmap(\n",
    "    page_count_corr,\n",
    "    annot=False,\n",
    "    cmap=\"coolwarm\",\n",
    "    fmt=\".2f\",\n",
    "    linewidths=0.5,\n",
    ")\n",
    "\n",
    "page_count = spark.createDataFrame(page_count_df.reset_index())"
   ]
  },
  {
   "cell_type": "markdown",
   "metadata": {},
   "source": [
    "### Sessions"
   ]
  },
  {
   "cell_type": "code",
   "execution_count": null,
   "metadata": {},
   "outputs": [],
   "source": [
    "from pyspark.sql.functions import countDistinct\n",
    "\n",
    "clean_psdf.groupBy(\"userId\").agg(\n",
    "    countDistinct(\"sessionId\").alias(\"sessionCount\")\n",
    ").show()"
   ]
  },
  {
   "cell_type": "markdown",
   "metadata": {},
   "source": [
    "### Label"
   ]
  },
  {
   "cell_type": "code",
   "execution_count": null,
   "metadata": {},
   "outputs": [],
   "source": [
    "clean_psdf[[\"userId\", \"page\"]].filter(\n",
    "    col(\"page\").isin([\"Cancellation Confirmation\"])\n",
    ").distinct().show()"
   ]
  },
  {
   "cell_type": "code",
   "execution_count": null,
   "metadata": {},
   "outputs": [],
   "source": [
    "labels = (\n",
    "    clean_psdf[[\"userId\", \"page\"]]\n",
    "    .filter(col(\"page\").isin([\"Cancellation Confirmation\", \"Cancel\"]))\n",
    "    .drop_duplicates([\"userId\"])\n",
    ")\n",
    "\n",
    "\n",
    "labels = labels.withColumn(\"label\", lit(1))\n",
    "labels_df = labels.drop(\"page\")\n",
    "\n",
    "labels_df = handle_missing_users(labels_df, unique_users)"
   ]
  },
  {
   "cell_type": "code",
   "execution_count": null,
   "metadata": {},
   "outputs": [],
   "source": [
    "labels = (\n",
    "    clean_psdf[[\"userId\", \"page\"]]\n",
    "    .filter(col(\"page\").isin([\"Cancellation Confirmation\", \"Cancel\"]))\n",
    "    .drop_duplicates([\"userId\"])\n",
    ")\n",
    "\n",
    "\n",
    "labels = labels.withColumn(\"label\", lit(1))\n",
    "labels_df = labels.drop(\"page\")\n",
    "\n",
    "labels_df = handle_missing_users(labels_df, unique_users)\n",
    "\n",
    "labels_df.show()"
   ]
  },
  {
   "cell_type": "code",
   "execution_count": null,
   "metadata": {},
   "outputs": [],
   "source": [
    "dfs = [\n",
    "    # song_counts,\n",
    "    # song_listened_mean,\n",
    "    average_daily_listens,\n",
    "    user_level,\n",
    "    positive_usage,\n",
    "    neg_interactions,\n",
    "    unique_locations,\n",
    "    distinct_artist,\n",
    "    page_count,\n",
    "]\n",
    "\n",
    "joined_features = labels_df\n",
    "for df in dfs:\n",
    "    joined_features = joined_features.join(df, \"userId\", \"outer\")"
   ]
  },
  {
   "cell_type": "markdown",
   "metadata": {},
   "source": [
    "### Export Features For Model Testing"
   ]
  },
  {
   "cell_type": "code",
   "execution_count": null,
   "metadata": {},
   "outputs": [],
   "source": [
    "joined_features.dropDuplicates().drop(\"userId\").toPandas().to_csv(\n",
    "    \"mini_selected_features.csv\"\n",
    ")"
   ]
  },
  {
   "cell_type": "markdown",
   "metadata": {},
   "source": [
    "### Feature Correalations"
   ]
  },
  {
   "cell_type": "code",
   "execution_count": null,
   "metadata": {},
   "outputs": [],
   "source": [
    "joined_features_df = joined_features.toPandas().drop(labels=\"userId\", axis=1)\n",
    "# joined_features_df = joined_features_df.drop(\n",
    "#     labels=[\"song_counts\", \"unique_locations\"], axis=1\n",
    "# )\n",
    "\n",
    "correlation_matrix = joined_features_df.corr()\n",
    "\n",
    "joined_features_df\n",
    "plt.figure(figsize=(8, 6))\n",
    "sns.heatmap(correlation_matrix, annot=False, cmap=\"coolwarm\", fmt=\".2f\", linewidths=0.5)\n",
    "plt.title(\"Extracted Feature Correalations\")\n",
    "plt.show()"
   ]
  },
  {
   "cell_type": "code",
   "execution_count": null,
   "metadata": {},
   "outputs": [],
   "source": [
    "from itertools import combinations\n",
    "\n",
    "# Filter correlations greater than 0.8 (adjust the threshold as needed)\n",
    "highly_correlated_pairs = []\n",
    "\n",
    "# Iterate over all combinations of column pairs\n",
    "for col1, col2 in combinations(correlation_matrix.columns, 2):\n",
    "    if correlation_matrix[col1][col2] > 0.8:\n",
    "        highly_correlated_pairs.append((col1, col2, correlation_matrix[col1][col2]))\n",
    "\n",
    "# Print or use the filtered pairs\n",
    "print(\"Highly Correlated Pairs:\")\n",
    "\n",
    "\n",
    "print(pd.DataFrame(data=highly_correlated_pairs).sort_values(by=0))"
   ]
  },
  {
   "cell_type": "code",
   "execution_count": null,
   "metadata": {},
   "outputs": [],
   "source": [
    "pandas_df = joined_features.toPandas()\n",
    "\n",
    "for column in pandas_df.columns:\n",
    "    plt.figure(figsize=(8, 6))\n",
    "    sns.boxplot(x=pandas_df[column])\n",
    "    plt.title(f\"Distribution of {column}\")\n",
    "    plt.xlabel(column)\n",
    "    plt.show()"
   ]
  },
  {
   "cell_type": "code",
   "execution_count": null,
   "metadata": {},
   "outputs": [],
   "source": [
    "from sklearn.decomposition import PCA\n",
    "\n",
    "from sklearn.preprocessing import StandardScaler\n",
    "\n",
    "df = joined_features_df.drop_duplicates().fillna(0).copy()\n",
    "\n",
    "Y = df[\"label\"]\n",
    "X = df.iloc[:, 1:]"
   ]
  },
  {
   "cell_type": "code",
   "execution_count": null,
   "metadata": {},
   "outputs": [],
   "source": [
    "scaler = StandardScaler()\n",
    "X = scaler.fit_transform(X)\n",
    "pca = PCA()\n",
    "X = pca.fit_transform(X)\n",
    "pca.get_covariance()\n",
    "explained_variance = pca.explained_variance_ratio_"
   ]
  },
  {
   "cell_type": "code",
   "execution_count": null,
   "metadata": {},
   "outputs": [],
   "source": [
    "with plt.style.context(\"dark_background\"):\n",
    "    plt.figure(figsize=(6, 4))\n",
    "    plt.bar(\n",
    "        range(len(explained_variance)),\n",
    "        explained_variance,\n",
    "        alpha=0.5,\n",
    "        align=\"center\",\n",
    "        label=\"individual explained variance\",\n",
    "    )\n",
    "    plt.xlabel(\"Principal components\")\n",
    "    plt.ylabel(\"Explained variance ratio\")\n",
    "    plt.legend()\n",
    "    plt.tight_layout()"
   ]
  },
  {
   "cell_type": "code",
   "execution_count": null,
   "metadata": {},
   "outputs": [],
   "source": [
    "with plt.style.context(\"dark_background\"):\n",
    "    plt.figure(figsize=(6, 4))\n",
    "    plt.bar(\n",
    "        range(6), explained_variance[:6], alpha=0.5, align=\"center\"\n",
    "    )  # , label='individual explained variance' )\n",
    "    plt.xlabel(\"Principal components\")\n",
    "    plt.ylabel(\"Explained variance ratio\")\n",
    "    plt.legend()\n",
    "    plt.tight_layout()"
   ]
  },
  {
   "cell_type": "code",
   "execution_count": null,
   "metadata": {},
   "outputs": [],
   "source": [
    "clean_psdf[[\"location\", \"userId\"]]"
   ]
  },
  {
   "cell_type": "code",
   "execution_count": null,
   "metadata": {},
   "outputs": [],
   "source": [
    "ex = 12\n",
    "str(ex) + \"g\""
   ]
  }
 ],
 "metadata": {
  "kernelspec": {
   "display_name": "sparkify_churn",
   "language": "python",
   "name": "python3"
  },
  "language_info": {
   "codemirror_mode": {
    "name": "ipython",
    "version": 3
   },
   "file_extension": ".py",
   "mimetype": "text/x-python",
   "name": "python",
   "nbconvert_exporter": "python",
   "pygments_lexer": "ipython3",
   "version": "3.10.13"
  }
 },
 "nbformat": 4,
 "nbformat_minor": 2
}
