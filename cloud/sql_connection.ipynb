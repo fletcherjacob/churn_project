{
 "cells": [
  {
   "cell_type": "code",
   "execution_count": 10,
   "metadata": {},
   "outputs": [],
   "source": [
    "import psycopg2\n",
    "from  decouple import Config,RepositoryEnv\n",
    "\n"
   ]
  },
  {
   "cell_type": "markdown",
   "metadata": {},
   "source": [
    "Set Up in you .env file \n",
    "\n",
    "\n",
    ".env \n",
    "DB_NAME=your_database_name\n",
    "\n",
    "DB_USER=your_username\n",
    "DB_PASSWORD=your_password\n",
    "DB_HOST=your_host\n",
    "DB_PORT=your_port"
   ]
  },
  {
   "cell_type": "code",
   "execution_count": 27,
   "metadata": {},
   "outputs": [],
   "source": [
    "\n",
    "config = Config(RepositoryEnv(\".env\"))"
   ]
  },
  {
   "cell_type": "code",
   "execution_count": 28,
   "metadata": {},
   "outputs": [],
   "source": [
    "def get_database_credentials():\n",
    "    return {\n",
    "        \"dbname\": config(\"DB_NAME\"),\n",
    "        \"user\": config(\"DB_USER\"),\n",
    "        \"password\": config(\"DB_PASSWORD\"),\n",
    "        \"host\": config(\"DB_HOST\"),\n",
    "        \"port\": config(\"DB_PORT\"),\n",
    "    }\n",
    "\n",
    "\n",
    "def connect_to_postgres():\n",
    "    try:\n",
    "        credentials = get_database_credentials()\n",
    "\n",
    "        # Establish a connection to the PostgreSQL database\n",
    "        connection = psycopg2.connect(**credentials)\n",
    "\n",
    "        # Create a cursor object to interact with the database\n",
    "        cursor = connection.cursor()\n",
    "\n",
    "        # Example: Execute a simple query\n",
    "        cursor.execute(\"SELECT version();\")\n",
    "        version = cursor.fetchone()\n",
    "        print(\"Connected to PostgreSQL. Server version:\", version)\n",
    "\n",
    "        # Don't forget to close the cursor and connection when done\n",
    "        cursor.close()\n",
    "        connection.close()\n",
    "\n",
    "    except psycopg2.Error as e:\n",
    "        print(\"Error connecting to PostgreSQL:\", e)"
   ]
  },
  {
   "cell_type": "code",
   "execution_count": 29,
   "metadata": {},
   "outputs": [
    {
     "name": "stdout",
     "output_type": "stream",
     "text": [
      "Connected to PostgreSQL. Server version: ('PostgreSQL 15.4 on x86_64-pc-linux-gnu, compiled by gcc (GCC) 7.3.1 20180712 (Red Hat 7.3.1-12), 64-bit',)\n"
     ]
    }
   ],
   "source": [
    "connect_to_postgres()"
   ]
  },
  {
   "cell_type": "code",
   "execution_count": 26,
   "metadata": {},
   "outputs": [
    {
     "data": {
      "text/plain": [
       "'spark-spotify-database'"
      ]
     },
     "execution_count": 26,
     "metadata": {},
     "output_type": "execute_result"
    }
   ],
   "source": [
    "config(\"DB_NAME\")"
   ]
  },
  {
   "cell_type": "code",
   "execution_count": null,
   "metadata": {},
   "outputs": [],
   "source": []
  }
 ],
 "metadata": {
  "kernelspec": {
   "display_name": "sparkify_churn",
   "language": "python",
   "name": "python3"
  },
  "language_info": {
   "codemirror_mode": {
    "name": "ipython",
    "version": 3
   },
   "file_extension": ".py",
   "mimetype": "text/x-python",
   "name": "python",
   "nbconvert_exporter": "python",
   "pygments_lexer": "ipython3",
   "version": "3.10.13"
  }
 },
 "nbformat": 4,
 "nbformat_minor": 2
}
