{
 "cells": [
  {
   "cell_type": "code",
   "execution_count": null,
   "metadata": {},
   "outputs": [],
   "source": [
    "import psycopg2\n",
    "import pandas as pd\n",
    "from  decouple import Config,RepositoryEnv\n",
    "\n",
    "config = Config(RepositoryEnv(\"../.env\"))"
   ]
  },
  {
   "cell_type": "markdown",
   "metadata": {},
   "source": [
    "**.env File Structure:**\n",
    "```ini\n",
    "DB_NAME=your_database_name\n",
    "DB_USER=your_username\n",
    "DB_PASSWORD=your_password\n",
    "DB_HOST=your_host\n",
    "DB_PORT=your_port"
   ]
  },
  {
   "cell_type": "code",
   "execution_count": null,
   "metadata": {},
   "outputs": [],
   "source": [
    "def get_database_credentials():\n",
    "    return {\n",
    "        \"dbname\": config(\"DB_NAME\"),\n",
    "        \"user\": config(\"DB_USER\"),\n",
    "        \"password\": config(\"DB_PASSWORD\"),\n",
    "        \"host\": config(\"DB_HOST\"),\n",
    "        \"port\": config(\"DB_PORT\"),\n",
    "    }\n",
    "\n",
    "\n",
    "def connect_to_postgres():\n",
    "    try:\n",
    "        credentials = get_database_credentials()\n",
    "\n",
    "        # Establish a connection to the PostgreSQL database\n",
    "        connection = psycopg2.connect(**credentials)\n",
    "\n",
    "        # Create a cursor object to interact with the database\n",
    "        cursor = connection.cursor()\n",
    "\n",
    "        # Example: Execute a simple query\n",
    "        cursor.execute(\"SELECT version();\")\n",
    "        version = cursor.fetchone()\n",
    "        print(\"Connected to PostgreSQL. Server version:\", version)\n",
    "\n",
    "        return cursor,connection\n",
    "\n",
    "        # Don't forget to close the cursor and connection when done\n",
    "\n",
    "\n",
    "    except psycopg2.Error as e:\n",
    "        print(\"Error connecting to PostgreSQL:\", e)"
   ]
  },
  {
   "cell_type": "code",
   "execution_count": null,
   "metadata": {},
   "outputs": [],
   "source": [
    "cursor, connection = connect_to_postgres()"
   ]
  },
  {
   "cell_type": "code",
   "execution_count": null,
   "metadata": {},
   "outputs": [],
   "source": [
    "query = \"select * from user_logs limit 10 ;\"\n",
    "\n",
    "\n",
    "connection.execute(query)"
   ]
  },
  {
   "cell_type": "markdown",
   "metadata": {},
   "source": [
    "### Close Connection"
   ]
  },
  {
   "cell_type": "code",
   "execution_count": null,
   "metadata": {},
   "outputs": [],
   "source": [
    "cursor.close()\n",
    "connection.close()"
   ]
  }
 ],
 "metadata": {
  "kernelspec": {
   "display_name": "sparkify_churn",
   "language": "python",
   "name": "python3"
  },
  "language_info": {
   "codemirror_mode": {
    "name": "ipython",
    "version": 3
   },
   "file_extension": ".py",
   "mimetype": "text/x-python",
   "name": "python",
   "nbconvert_exporter": "python",
   "pygments_lexer": "ipython3",
   "version": "3.10.13"
  }
 },
 "nbformat": 4,
 "nbformat_minor": 2
}
