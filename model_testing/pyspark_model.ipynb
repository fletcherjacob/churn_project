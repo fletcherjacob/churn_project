{
 "cells": [
  {
   "cell_type": "code",
   "execution_count": 2,
   "metadata": {},
   "outputs": [
    {
     "name": "stdout",
     "output_type": "stream",
     "text": [
      "local variable 'spark' referenced before assignment\n"
     ]
    },
    {
     "name": "stderr",
     "output_type": "stream",
     "text": [
      "24/01/19 15:43:32 WARN Utils: Your hostname, Jacobs-MacBook-Pro.local resolves to a loopback address: 127.0.0.1; using 192.168.4.156 instead (on interface en0)\n",
      "24/01/19 15:43:32 WARN Utils: Set SPARK_LOCAL_IP if you need to bind to another address\n",
      "Setting default log level to \"WARN\".\n",
      "To adjust logging level use sc.setLogLevel(newLevel). For SparkR, use setLogLevel(newLevel).\n",
      "24/01/19 15:43:33 WARN NativeCodeLoader: Unable to load native-hadoop library for your platform... using builtin-java classes where applicable\n",
      "24/01/19 15:43:33 WARN Utils: Service 'SparkUI' could not bind on port 4040. Attempting port 4041.\n",
      "24/01/19 15:43:33 WARN Utils: Service 'SparkUI' could not bind on port 4041. Attempting port 4042.\n"
     ]
    }
   ],
   "source": [
    "from pyspark.ml.classification import LogisticRegression\n",
    "from pyspark.sql import SparkSession, DataFrame\n",
    "from pyspark.ml.linalg import Vectors\n",
    "from pyspark.ml.feature import VectorAssembler, MinMaxScaler\n",
    "from pyspark.sql.functions import col,corr\n",
    "from pyspark.sql.types import IntegerType\n",
    "import  pyspark.sql.functions as F\n",
    "from pyspark.sql.functions import col, count,when\n"
   ]
  },
  {
   "cell_type": "markdown",
   "metadata": {},
   "source": [
    "## Spark Session"
   ]
  },
  {
   "cell_type": "code",
   "execution_count": null,
   "metadata": {},
   "outputs": [],
   "source": [
    "\n",
    "\n",
    "def create_spark_session(app_name=\"Sparkify\", default_settings = True ,  total_physical_cores=16,driver_memory = 8,executor_memory = 8):\n",
    "# Calculate available cores for Spark\n",
    "    try:\n",
    "        spark.shutdown()\n",
    "    except  Exception as e:\n",
    "        print(e)\n",
    "\n",
    "    if default_settings == False:\n",
    "        total_physical_cores = input(\" Available Cores\")\n",
    "        driver_memory =  input(\" Driver Memory Allowance\")\n",
    "        executor_memory = input(\"Executor Memory Allowance\")\n",
    "\n",
    "    available_cores_for_spark =int( total_physical_cores - 2)\n",
    "    # Configure Spark session\n",
    "    spark = (\n",
    "        SparkSession.builder.appName(app_name)\n",
    "        .config(\"spark.driver.memory\", str(int(driver_memory)) + \"g\")\n",
    "        .config(\"spark.executor.memory\", str(int(executor_memory)) + \"g\")\n",
    "        .config(\"spark.executor.cores\", available_cores_for_spark)\n",
    "        .getOrCreate()\n",
    "    )\n",
    "\n",
    "    return  spark\n",
    "\n",
    "spark = create_spark_session()"
   ]
  },
  {
   "cell_type": "markdown",
   "metadata": {},
   "source": [
    "## Data Load"
   ]
  },
  {
   "cell_type": "code",
   "execution_count": 24,
   "metadata": {},
   "outputs": [
    {
     "name": "stdout",
     "output_type": "stream",
     "text": [
      "root\n",
      " |-- label: double (nullable = true)\n",
      " |-- count: double (nullable = true)\n",
      " |-- avg_daily_listens: double (nullable = true)\n",
      " |-- level_flag: double (nullable = true)\n",
      " |-- pos_interactions: double (nullable = true)\n",
      " |-- neg_interactions: double (nullable = true)\n",
      " |-- distinct_artist: double (nullable = true)\n",
      " |-- About: double (nullable = true)\n",
      " |-- Add Friend: double (nullable = true)\n",
      " |-- Add to Playlist: double (nullable = true)\n",
      " |-- Downgrade: double (nullable = true)\n",
      " |-- Error: double (nullable = true)\n",
      " |-- Help: double (nullable = true)\n",
      " |-- Home: double (nullable = true)\n",
      " |-- Login: double (nullable = true)\n",
      " |-- Logout: double (nullable = true)\n",
      " |-- Register: double (nullable = true)\n",
      " |-- Roll Advert: double (nullable = true)\n",
      " |-- Save Settings: double (nullable = true)\n",
      " |-- Settings: double (nullable = true)\n",
      " |-- Submit Downgrade: double (nullable = true)\n",
      " |-- Submit Registration: double (nullable = true)\n",
      " |-- Submit Upgrade: double (nullable = true)\n",
      " |-- Thumbs Down: double (nullable = true)\n",
      " |-- Thumbs Up: double (nullable = true)\n",
      " |-- Upgrade: double (nullable = true)\n",
      " |-- device_iOS: double (nullable = true)\n",
      " |-- device_Linux: double (nullable = true)\n",
      " |-- device_Other: double (nullable = true)\n",
      " |-- device_Ubuntu: double (nullable = true)\n",
      " |-- device_Mac OS X: double (nullable = true)\n",
      " |-- device_Windows: double (nullable = true)\n",
      " |-- browser_Firefox: double (nullable = true)\n",
      " |-- browser_Safari: double (nullable = true)\n",
      " |-- browser_Other: double (nullable = true)\n",
      " |-- browser_Chromium: double (nullable = true)\n",
      " |-- browser_Google: double (nullable = true)\n",
      " |-- browser_Mobile Safari: double (nullable = true)\n",
      " |-- browser_IE: double (nullable = true)\n",
      " |-- browser_Chrome: double (nullable = true)\n",
      "\n"
     ]
    }
   ],
   "source": [
    "# Read CSV file into DataFrame\n",
    "file_path =\"../data/lg_all_features.csv\"\n",
    "df = spark.read.option(\"header\",\"True\").csv(file_path)\n",
    "# Drop the \"userID\" column\n",
    "df = df.drop(\"userID\")\n",
    "df = df.drop(\"_c0\")\n",
    "\n",
    "df = df.select(*(col(c).cast(\"double\").alias(c) for c in df.columns))\n",
    "\n",
    "df.printSchema()"
   ]
  },
  {
   "cell_type": "markdown",
   "metadata": {},
   "source": [
    "## Null Verification"
   ]
  },
  {
   "cell_type": "code",
   "execution_count": 25,
   "metadata": {},
   "outputs": [
    {
     "data": {
      "text/plain": [
       "[]"
      ]
     },
     "execution_count": 25,
     "metadata": {},
     "output_type": "execute_result"
    }
   ],
   "source": [
    "\n",
    "null_values = df.select([count(when(col(c).isNull(), c)).alias(c) for c in df.columns])\n",
    "selected_columns = [column for column in null_values.columns if null_values.select(column).first()[0] > 1]\n",
    "null_values.select(*selected_columns).columns"
   ]
  },
  {
   "cell_type": "markdown",
   "metadata": {},
   "source": [
    "## MinMax Scaling"
   ]
  },
  {
   "cell_type": "code",
   "execution_count": 26,
   "metadata": {},
   "outputs": [
    {
     "name": "stdout",
     "output_type": "stream",
     "text": [
      "+-----+--------------------+\n",
      "|label|     scaled_features|\n",
      "+-----+--------------------+\n",
      "|  1.0|[0.09025015468929...|\n",
      "|  1.0|[0.09025015468929...|\n",
      "|  1.0|[0.09025015468929...|\n",
      "|  0.0|[0.09025015468929...|\n",
      "|  0.0|[0.09025015468929...|\n",
      "|  0.0|[0.09025015468929...|\n",
      "|  0.0|[0.09025015468929...|\n",
      "|  0.0|[0.09025015468929...|\n",
      "|  0.0|[0.09025015468929...|\n",
      "|  0.0|[0.09025015468929...|\n",
      "|  0.0|[0.09025015468929...|\n",
      "|  0.0|[0.09025015468929...|\n",
      "|  0.0|[0.09025015468929...|\n",
      "|  0.0|[0.09025015468929...|\n",
      "|  0.0|[0.09025015468929...|\n",
      "|  0.0|[0.09025015468929...|\n",
      "|  0.0|[0.09025015468929...|\n",
      "|  0.0|[0.09025015468929...|\n",
      "|  0.0|[0.09025015468929...|\n",
      "|  0.0|[0.09025015468929...|\n",
      "+-----+--------------------+\n",
      "only showing top 20 rows\n",
      "\n"
     ]
    }
   ],
   "source": [
    "def minMaxScalar(df,label):\n",
    "    df_without_label = df.drop(label)\n",
    "    # Get the list of numeric columns\n",
    "    numeric_columns = [col_name for col_name, data_type in df_without_label .dtypes if data_type in [\"int\", \"double\"]]\n",
    "\n",
    "    # Assemble features into a vector column\n",
    "    assembler = VectorAssembler(inputCols=numeric_columns, outputCol=\"features\")\n",
    "    assembled_data = assembler.transform(df_without_label )\n",
    "\n",
    "    # Check if the vector dimension is larger than zero\n",
    "    if assembled_data.first()[\"features\"].size == 0:\n",
    "        raise ValueError(\"Vector dimension is zero. Please check your input data.\")\n",
    "\n",
    "    # Apply Min-Max scaling\n",
    "    scaler = MinMaxScaler(inputCol=\"features\", outputCol=\"scaled_features\")\n",
    "    scaler_model = scaler.fit(assembled_data)\n",
    "    scaled_data = scaler_model.transform(assembled_data)\n",
    "\n",
    "    return scaled_data\n",
    "\n",
    "scaled_features = minMaxScalar(df,\"label\")\n",
    "\n",
    "scaled_data = df[['label']].join(scaled_features.select(\"scaled_features\"), how='inner')\n",
    "scaled_data.show()     "
   ]
  },
  {
   "cell_type": "markdown",
   "metadata": {},
   "source": [
    "## Pyspark ML Logistic Regression"
   ]
  },
  {
   "cell_type": "code",
   "execution_count": 27,
   "metadata": {},
   "outputs": [
    {
     "name": "stderr",
     "output_type": "stream",
     "text": [
      "[Stage 461:>                                                        (0 + 1) / 1]\r"
     ]
    }
   ],
   "source": [
    "from pyspark.ml.regression import LinearRegression\n",
    "from pyspark.ml.classification import LogisticRegression\n",
    "from pyspark.ml.evaluation import MulticlassClassificationEvaluator\n",
    "\n",
    "lr = LogisticRegression(featuresCol=\"scaled_features\", labelCol=\"label\", family=\"binomial\")\n",
    "\n",
    "# Fit the model\n",
    "lr_model = lr.fit(scaled_data)\n",
    "\n",
    "# Make predictions\n",
    "predictions = lr_model.transform(scaled_data)\n",
    "\n",
    "\n",
    "evaluator = MulticlassClassificationEvaluator(labelCol=\"label\", predictionCol=\"prediction\", metricName=\"f1\")\n",
    "f1_score = evaluator.evaluate(predictions)\n",
    "\n",
    "accuracy = predictions.filter(predictions.label == predictions.prediction).count() / float(predictions.count())\n",
    "\n",
    "print(\"F1 Score: {:.4f}\".format(f1_score))\n",
    "print(\"Accuracy: {:.4f}\".format(accuracy))"
   ]
  },
  {
   "cell_type": "code",
   "execution_count": null,
   "metadata": {},
   "outputs": [],
   "source": []
  }
 ],
 "metadata": {
  "kernelspec": {
   "display_name": "sparkify_churn",
   "language": "python",
   "name": "python3"
  },
  "language_info": {
   "codemirror_mode": {
    "name": "ipython",
    "version": 3
   },
   "file_extension": ".py",
   "mimetype": "text/x-python",
   "name": "python",
   "nbconvert_exporter": "python",
   "pygments_lexer": "ipython3",
   "version": "3.10.13"
  }
 },
 "nbformat": 4,
 "nbformat_minor": 2
}
